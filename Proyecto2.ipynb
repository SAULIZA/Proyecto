{
  "nbformat": 4,
  "nbformat_minor": 0,
  "metadata": {
    "colab": {
      "provenance": [],
      "authorship_tag": "ABX9TyOJdIzArCPzgr2tvqQqyzHJ",
      "include_colab_link": true
    },
    "kernelspec": {
      "name": "python3",
      "display_name": "Python 3"
    },
    "language_info": {
      "name": "python"
    }
  },
  "cells": [
    {
      "cell_type": "markdown",
      "metadata": {
        "id": "view-in-github",
        "colab_type": "text"
      },
      "source": [
        "<a href=\"https://colab.research.google.com/github/SAULIZA/Proyecto/blob/main/Proyecto2.ipynb\" target=\"_parent\"><img src=\"https://colab.research.google.com/assets/colab-badge.svg\" alt=\"Open In Colab\"/></a>"
      ]
    },
    {
      "cell_type": "markdown",
      "source": [
        "# Proyecto2 - Parte1(base)\n",
        "El segundo proyecto tendrá más libertad que el primero. Esto es porque queremos que tengan un proyecto en sus portafolios que les interese o se relacione con la industria en la que quieren trabajar.\n",
        "\n",
        "La tarea para esta semana es proponer dos posibles conjuntos de datos que les gustaría trabajar para el proyecto 2.  \n",
        "\n",
        "Escogerán el conjunto de datos de primera opción, y un conjunto de datos de reserva en caso de que el primero propuesto no se apruebe.  \n",
        "\n",
        "Estos datos pueden proceder de cualquier fuente y ser sobre cualquier tema con estas limitaciones:"
      ],
      "metadata": {
        "id": "mIw8klUBsbbu"
      }
    },
    {
      "cell_type": "markdown",
      "source": [
        "* los datos deben estar disponibles para su uso (es su responsabilidad garantizar que la licencia indique que pueden utilizarlos)\n",
        "* los datos deben ser adecuados para un ambiente profesional\n",
        "* los datos NO deben contener información personal\n",
        "* los datos NO deben ser de un conjunto de datos usados en alguna tarea o clase del curso"
      ],
      "metadata": {
        "id": "Nvlrw0QjsrzV"
      }
    },
    {
      "cell_type": "markdown",
      "source": [
        "Asegúrense de seleccionar un conjunto de datos con el que sea razonable trabajar en el tiempo que nos queda. Piensen qué preguntas podrían responder con el conjunto de datos que seleccionen. \n",
        "\n",
        "Deben proponer dos conjuntos de datos que tengan cada uno un componente de aprendizaje supervisado. Pueden elegir un problema de regresión o clasificación para cada conjunto de datos propuesto.  "
      ],
      "metadata": {
        "id": "OtJdjFO2s7Ot"
      }
    },
    {
      "cell_type": "markdown",
      "source": [
        "**Para esta tarea:**\n",
        "\n",
        "Creen un cuaderno de Colab donde hayan subido y mostrado el .head() de cada uno de los conjuntos de datos.  Para cada uno de los conjuntos de datos propuestos, respondan las siguientes preguntas:"
      ],
      "metadata": {
        "id": "IHACp2zMs_kW"
      }
    },
    {
      "cell_type": "markdown",
      "source": [
        "## Conjunto de datos 1: defunción fetal y nacimientos"
      ],
      "metadata": {
        "id": "CzyLdx6HyU7-"
      }
    },
    {
      "cell_type": "code",
      "source": [
        "from google.colab import drive\n",
        "drive.mount(\"/content/drive\")"
      ],
      "metadata": {
        "colab": {
          "base_uri": "https://localhost:8080/"
        },
        "id": "sgTzU55H03rG",
        "outputId": "f9a36687-d312-4546-be0e-9b50191aef2b"
      },
      "execution_count": 1,
      "outputs": [
        {
          "output_type": "stream",
          "name": "stdout",
          "text": [
            "Drive already mounted at /content/drive; to attempt to forcibly remount, call drive.mount(\"/content/drive\", force_remount=True).\n"
          ]
        }
      ]
    },
    {
      "cell_type": "code",
      "execution_count": 2,
      "metadata": {
        "id": "uXNM4_XdsTng"
      },
      "outputs": [],
      "source": [
        "import pandas as pd"
      ]
    },
    {
      "cell_type": "markdown",
      "source": [
        "### 1) Fuente de datos"
      ],
      "metadata": {
        "id": "RtYmR3s2_sjV"
      }
    },
    {
      "cell_type": "markdown",
      "source": [
        "* La fuente de los datos del censo fueron adquiridas del INEC Ecuador en cifras (https://www.ecuadorencifras.gob.ec/base-de-datos-censo-de-poblacion-y-vivienda/)"
      ],
      "metadata": {
        "id": "Pb2YdPYx5qWG"
      }
    },
    {
      "cell_type": "code",
      "source": [
        "#Datos defunciones fetales\n",
        "df1_1 = pd.read_csv(\"/content/drive/MyDrive/Codificación de Dojo/Proyecto2/defuncion_fetal/fetales_2005.dat\",sep='\\t')\n",
        "df1_2 = pd.read_csv(\"/content/drive/MyDrive/Codificación de Dojo/Proyecto2/defuncion_fetal/fetales_2006.dat\",sep='\\t')\n",
        "df1_3 = pd.read_csv(\"/content/drive/MyDrive/Codificación de Dojo/Proyecto2/defuncion_fetal/fetales_2007.dat\",sep='\\t')\n",
        "df1_4 = pd.read_csv(\"/content/drive/MyDrive/Codificación de Dojo/Proyecto2/defuncion_fetal/EDF2008NIVNAC.dat\",sep='\\t')\n",
        "df1_5 = pd.read_csv(\"/content/drive/MyDrive/Codificación de Dojo/Proyecto2/defuncion_fetal/EDF2009NIVNAC.dat\",sep='\\t')\n",
        "df1_6 = pd.read_csv(\"/content/drive/MyDrive/Codificación de Dojo/Proyecto2/defuncion_fetal/EDF2010.dat\",sep='\\t')"
      ],
      "metadata": {
        "id": "fIdzt3MKE9p1"
      },
      "execution_count": 27,
      "outputs": []
    },
    {
      "cell_type": "code",
      "source": [
        "#Unión de datos de las defunciones fetales\n",
        "df_defunciones = pd.concat([df1_1, df1_2, df1_3, df1_4, df1_5,df1_6])"
      ],
      "metadata": {
        "id": "OXqHUJWW9pzt"
      },
      "execution_count": 28,
      "outputs": []
    },
    {
      "cell_type": "code",
      "source": [
        "df_defunciones.head() #informacion del conjunto de datos de defunción fetal"
      ],
      "metadata": {
        "colab": {
          "base_uri": "https://localhost:8080/",
          "height": 299
        },
        "id": "oyP1oF8H-NtX",
        "outputId": "63aeb51f-1f75-4b69-cc62-9cf131ae2fad"
      },
      "execution_count": 33,
      "outputs": [
        {
          "output_type": "execute_result",
          "data": {
            "text/plain": [
              "  COD_APL_  COD_PROV  COD_CANT  COD_PARR  COD_ANIO  MES_REGI  ACT_INSC  \\\n",
              "0      EDF         1         1        50      2005         1         1   \n",
              "1      EDF         1         1        50      2005         1         2   \n",
              "2      EDF         1         1        50      2005         1         3   \n",
              "3      EDF         1         1        50      2005         1         4   \n",
              "4      EDF         1         1        50      2005         1         5   \n",
              "\n",
              "   COD_SEXO  ANIO_OCU  MES_OCUR  ...  COD_TIP_  COD_SOL_  REGIONF  GEDADA  \\\n",
              "0         1      2005         1  ...       NaN       NaN      NaN     NaN   \n",
              "1         1      2005         1  ...       NaN       NaN      NaN     NaN   \n",
              "2         1      2005         1  ...       NaN       NaN      NaN     NaN   \n",
              "3         1      2005         1  ...       NaN       NaN      NaN     NaN   \n",
              "4         1      2005         1  ...       NaN       NaN      NaN     NaN   \n",
              "\n",
              "   GSEMGEST  COD_APL  COD_ASI  V23_A V27_A  V29_A  \n",
              "0       NaN      NaN      NaN    NaN   NaN    NaN  \n",
              "1       NaN      NaN      NaN    NaN   NaN    NaN  \n",
              "2       NaN      NaN      NaN    NaN   NaN    NaN  \n",
              "3       NaN      NaN      NaN    NaN   NaN    NaN  \n",
              "4       NaN      NaN      NaN    NaN   NaN    NaN  \n",
              "\n",
              "[5 rows x 44 columns]"
            ],
            "text/html": [
              "\n",
              "  <div id=\"df-695d6bc6-ce05-46fa-8fae-7effe4a32a0d\">\n",
              "    <div class=\"colab-df-container\">\n",
              "      <div>\n",
              "<style scoped>\n",
              "    .dataframe tbody tr th:only-of-type {\n",
              "        vertical-align: middle;\n",
              "    }\n",
              "\n",
              "    .dataframe tbody tr th {\n",
              "        vertical-align: top;\n",
              "    }\n",
              "\n",
              "    .dataframe thead th {\n",
              "        text-align: right;\n",
              "    }\n",
              "</style>\n",
              "<table border=\"1\" class=\"dataframe\">\n",
              "  <thead>\n",
              "    <tr style=\"text-align: right;\">\n",
              "      <th></th>\n",
              "      <th>COD_APL_</th>\n",
              "      <th>COD_PROV</th>\n",
              "      <th>COD_CANT</th>\n",
              "      <th>COD_PARR</th>\n",
              "      <th>COD_ANIO</th>\n",
              "      <th>MES_REGI</th>\n",
              "      <th>ACT_INSC</th>\n",
              "      <th>COD_SEXO</th>\n",
              "      <th>ANIO_OCU</th>\n",
              "      <th>MES_OCUR</th>\n",
              "      <th>...</th>\n",
              "      <th>COD_TIP_</th>\n",
              "      <th>COD_SOL_</th>\n",
              "      <th>REGIONF</th>\n",
              "      <th>GEDADA</th>\n",
              "      <th>GSEMGEST</th>\n",
              "      <th>COD_APL</th>\n",
              "      <th>COD_ASI</th>\n",
              "      <th>V23_A</th>\n",
              "      <th>V27_A</th>\n",
              "      <th>V29_A</th>\n",
              "    </tr>\n",
              "  </thead>\n",
              "  <tbody>\n",
              "    <tr>\n",
              "      <th>0</th>\n",
              "      <td>EDF</td>\n",
              "      <td>1</td>\n",
              "      <td>1</td>\n",
              "      <td>50</td>\n",
              "      <td>2005</td>\n",
              "      <td>1</td>\n",
              "      <td>1</td>\n",
              "      <td>1</td>\n",
              "      <td>2005</td>\n",
              "      <td>1</td>\n",
              "      <td>...</td>\n",
              "      <td>NaN</td>\n",
              "      <td>NaN</td>\n",
              "      <td>NaN</td>\n",
              "      <td>NaN</td>\n",
              "      <td>NaN</td>\n",
              "      <td>NaN</td>\n",
              "      <td>NaN</td>\n",
              "      <td>NaN</td>\n",
              "      <td>NaN</td>\n",
              "      <td>NaN</td>\n",
              "    </tr>\n",
              "    <tr>\n",
              "      <th>1</th>\n",
              "      <td>EDF</td>\n",
              "      <td>1</td>\n",
              "      <td>1</td>\n",
              "      <td>50</td>\n",
              "      <td>2005</td>\n",
              "      <td>1</td>\n",
              "      <td>2</td>\n",
              "      <td>1</td>\n",
              "      <td>2005</td>\n",
              "      <td>1</td>\n",
              "      <td>...</td>\n",
              "      <td>NaN</td>\n",
              "      <td>NaN</td>\n",
              "      <td>NaN</td>\n",
              "      <td>NaN</td>\n",
              "      <td>NaN</td>\n",
              "      <td>NaN</td>\n",
              "      <td>NaN</td>\n",
              "      <td>NaN</td>\n",
              "      <td>NaN</td>\n",
              "      <td>NaN</td>\n",
              "    </tr>\n",
              "    <tr>\n",
              "      <th>2</th>\n",
              "      <td>EDF</td>\n",
              "      <td>1</td>\n",
              "      <td>1</td>\n",
              "      <td>50</td>\n",
              "      <td>2005</td>\n",
              "      <td>1</td>\n",
              "      <td>3</td>\n",
              "      <td>1</td>\n",
              "      <td>2005</td>\n",
              "      <td>1</td>\n",
              "      <td>...</td>\n",
              "      <td>NaN</td>\n",
              "      <td>NaN</td>\n",
              "      <td>NaN</td>\n",
              "      <td>NaN</td>\n",
              "      <td>NaN</td>\n",
              "      <td>NaN</td>\n",
              "      <td>NaN</td>\n",
              "      <td>NaN</td>\n",
              "      <td>NaN</td>\n",
              "      <td>NaN</td>\n",
              "    </tr>\n",
              "    <tr>\n",
              "      <th>3</th>\n",
              "      <td>EDF</td>\n",
              "      <td>1</td>\n",
              "      <td>1</td>\n",
              "      <td>50</td>\n",
              "      <td>2005</td>\n",
              "      <td>1</td>\n",
              "      <td>4</td>\n",
              "      <td>1</td>\n",
              "      <td>2005</td>\n",
              "      <td>1</td>\n",
              "      <td>...</td>\n",
              "      <td>NaN</td>\n",
              "      <td>NaN</td>\n",
              "      <td>NaN</td>\n",
              "      <td>NaN</td>\n",
              "      <td>NaN</td>\n",
              "      <td>NaN</td>\n",
              "      <td>NaN</td>\n",
              "      <td>NaN</td>\n",
              "      <td>NaN</td>\n",
              "      <td>NaN</td>\n",
              "    </tr>\n",
              "    <tr>\n",
              "      <th>4</th>\n",
              "      <td>EDF</td>\n",
              "      <td>1</td>\n",
              "      <td>1</td>\n",
              "      <td>50</td>\n",
              "      <td>2005</td>\n",
              "      <td>1</td>\n",
              "      <td>5</td>\n",
              "      <td>1</td>\n",
              "      <td>2005</td>\n",
              "      <td>1</td>\n",
              "      <td>...</td>\n",
              "      <td>NaN</td>\n",
              "      <td>NaN</td>\n",
              "      <td>NaN</td>\n",
              "      <td>NaN</td>\n",
              "      <td>NaN</td>\n",
              "      <td>NaN</td>\n",
              "      <td>NaN</td>\n",
              "      <td>NaN</td>\n",
              "      <td>NaN</td>\n",
              "      <td>NaN</td>\n",
              "    </tr>\n",
              "  </tbody>\n",
              "</table>\n",
              "<p>5 rows × 44 columns</p>\n",
              "</div>\n",
              "      <button class=\"colab-df-convert\" onclick=\"convertToInteractive('df-695d6bc6-ce05-46fa-8fae-7effe4a32a0d')\"\n",
              "              title=\"Convert this dataframe to an interactive table.\"\n",
              "              style=\"display:none;\">\n",
              "        \n",
              "  <svg xmlns=\"http://www.w3.org/2000/svg\" height=\"24px\"viewBox=\"0 0 24 24\"\n",
              "       width=\"24px\">\n",
              "    <path d=\"M0 0h24v24H0V0z\" fill=\"none\"/>\n",
              "    <path d=\"M18.56 5.44l.94 2.06.94-2.06 2.06-.94-2.06-.94-.94-2.06-.94 2.06-2.06.94zm-11 1L8.5 8.5l.94-2.06 2.06-.94-2.06-.94L8.5 2.5l-.94 2.06-2.06.94zm10 10l.94 2.06.94-2.06 2.06-.94-2.06-.94-.94-2.06-.94 2.06-2.06.94z\"/><path d=\"M17.41 7.96l-1.37-1.37c-.4-.4-.92-.59-1.43-.59-.52 0-1.04.2-1.43.59L10.3 9.45l-7.72 7.72c-.78.78-.78 2.05 0 2.83L4 21.41c.39.39.9.59 1.41.59.51 0 1.02-.2 1.41-.59l7.78-7.78 2.81-2.81c.8-.78.8-2.07 0-2.86zM5.41 20L4 18.59l7.72-7.72 1.47 1.35L5.41 20z\"/>\n",
              "  </svg>\n",
              "      </button>\n",
              "      \n",
              "  <style>\n",
              "    .colab-df-container {\n",
              "      display:flex;\n",
              "      flex-wrap:wrap;\n",
              "      gap: 12px;\n",
              "    }\n",
              "\n",
              "    .colab-df-convert {\n",
              "      background-color: #E8F0FE;\n",
              "      border: none;\n",
              "      border-radius: 50%;\n",
              "      cursor: pointer;\n",
              "      display: none;\n",
              "      fill: #1967D2;\n",
              "      height: 32px;\n",
              "      padding: 0 0 0 0;\n",
              "      width: 32px;\n",
              "    }\n",
              "\n",
              "    .colab-df-convert:hover {\n",
              "      background-color: #E2EBFA;\n",
              "      box-shadow: 0px 1px 2px rgba(60, 64, 67, 0.3), 0px 1px 3px 1px rgba(60, 64, 67, 0.15);\n",
              "      fill: #174EA6;\n",
              "    }\n",
              "\n",
              "    [theme=dark] .colab-df-convert {\n",
              "      background-color: #3B4455;\n",
              "      fill: #D2E3FC;\n",
              "    }\n",
              "\n",
              "    [theme=dark] .colab-df-convert:hover {\n",
              "      background-color: #434B5C;\n",
              "      box-shadow: 0px 1px 3px 1px rgba(0, 0, 0, 0.15);\n",
              "      filter: drop-shadow(0px 1px 2px rgba(0, 0, 0, 0.3));\n",
              "      fill: #FFFFFF;\n",
              "    }\n",
              "  </style>\n",
              "\n",
              "      <script>\n",
              "        const buttonEl =\n",
              "          document.querySelector('#df-695d6bc6-ce05-46fa-8fae-7effe4a32a0d button.colab-df-convert');\n",
              "        buttonEl.style.display =\n",
              "          google.colab.kernel.accessAllowed ? 'block' : 'none';\n",
              "\n",
              "        async function convertToInteractive(key) {\n",
              "          const element = document.querySelector('#df-695d6bc6-ce05-46fa-8fae-7effe4a32a0d');\n",
              "          const dataTable =\n",
              "            await google.colab.kernel.invokeFunction('convertToInteractive',\n",
              "                                                     [key], {});\n",
              "          if (!dataTable) return;\n",
              "\n",
              "          const docLinkHtml = 'Like what you see? Visit the ' +\n",
              "            '<a target=\"_blank\" href=https://colab.research.google.com/notebooks/data_table.ipynb>data table notebook</a>'\n",
              "            + ' to learn more about interactive tables.';\n",
              "          element.innerHTML = '';\n",
              "          dataTable['output_type'] = 'display_data';\n",
              "          await google.colab.output.renderOutput(dataTable, element);\n",
              "          const docLink = document.createElement('div');\n",
              "          docLink.innerHTML = docLinkHtml;\n",
              "          element.appendChild(docLink);\n",
              "        }\n",
              "      </script>\n",
              "    </div>\n",
              "  </div>\n",
              "  "
            ]
          },
          "metadata": {},
          "execution_count": 33
        }
      ]
    },
    {
      "cell_type": "code",
      "source": [
        "#datos nacimientos\n",
        "df1_1n = pd.read_csv(\"/content/drive/MyDrive/Codificación de Dojo/Proyecto2/nacimientos/nacimientos_2005.dat\",sep='\\t')\n",
        "df1_2n = pd.read_csv(\"/content/drive/MyDrive/Codificación de Dojo/Proyecto2/nacimientos/nacimientos_2006.dat\",sep='\\t')\n",
        "df1_3n = pd.read_csv(\"/content/drive/MyDrive/Codificación de Dojo/Proyecto2/nacimientos/nacimientos_2007.dat\",sep='\\t')\n",
        "df1_4n = pd.read_csv(\"/content/drive/MyDrive/Codificación de Dojo/Proyecto2/nacimientos/ena2008n.dat\",sep='\\t')\n",
        "df1_5n = pd.read_csv(\"/content/drive/MyDrive/Codificación de Dojo/Proyecto2/nacimientos/Nacimientos_2009_SPSS.dat\",sep='\\t')\n",
        "df1_6n = pd.read_csv(\"/content/drive/MyDrive/Codificación de Dojo/Proyecto2/nacimientos/Base_Nacidos_Vivos_año_2010.dat\",sep='\\t')"
      ],
      "metadata": {
        "colab": {
          "base_uri": "https://localhost:8080/"
        },
        "id": "ZN_T8FfJ-i3W",
        "outputId": "4aa6338d-168c-47c3-8122-5e6797f60cbc"
      },
      "execution_count": 30,
      "outputs": [
        {
          "output_type": "stream",
          "name": "stderr",
          "text": [
            "<ipython-input-30-154b624cf57a>:2: DtypeWarning: Columns (18,19,20,21,22,23,24,29,32) have mixed types. Specify dtype option on import or set low_memory=False.\n",
            "  df1_2n = pd.read_csv(\"/content/drive/MyDrive/Codificación de Dojo/Proyecto2/nacimientos/nacimientos_2006.dat\",sep='\\t')\n",
            "<ipython-input-30-154b624cf57a>:4: DtypeWarning: Columns (16,17,18,19,20,21,22,23,24,25,26,27,28,29,30,32,34) have mixed types. Specify dtype option on import or set low_memory=False.\n",
            "  df1_4n = pd.read_csv(\"/content/drive/MyDrive/Codificación de Dojo/Proyecto2/nacimientos/ena2008n.dat\",sep='\\t')\n"
          ]
        }
      ]
    },
    {
      "cell_type": "code",
      "source": [
        "#Unión de datos de nacimientos\n",
        "df_nacimientos = pd.concat([df1_1n, df1_2n, df1_3n, df1_4n, df1_5n,df1_6n])"
      ],
      "metadata": {
        "id": "SGbIXNH7_ILF"
      },
      "execution_count": 31,
      "outputs": []
    },
    {
      "cell_type": "code",
      "source": [
        "df_nacimientos.head()"
      ],
      "metadata": {
        "colab": {
          "base_uri": "https://localhost:8080/",
          "height": 299
        },
        "id": "tk_MgRnG_ORl",
        "outputId": "2177dbe7-1621-44fa-9176-193e329dc661"
      },
      "execution_count": 34,
      "outputs": [
        {
          "output_type": "execute_result",
          "data": {
            "text/plain": [
              "  ENCUESTA  REG_INSC  PRO_INSC  CAN_INSC  PAR_INSC  ANO_INSC  MES_INSC  \\\n",
              "0      NVI       5.0       1.0       1.0      50.0    2005.0       1.0   \n",
              "1      NVI       5.0       1.0       1.0      50.0    2005.0       1.0   \n",
              "2      NVI       5.0       1.0       1.0      50.0    2005.0       1.0   \n",
              "3      NVI       5.0       1.0       1.0      50.0    2005.0       1.0   \n",
              "4      NVI       5.0       1.0       1.0      50.0    2005.0       1.0   \n",
              "\n",
              "   ACTA_INS  OFI_INSC  COD_SEXO  ... PAR_INS MES_INS OFICINA LUGAR_OC  \\\n",
              "0         1       1.0       2.0  ...     NaN     NaN     NaN      NaN   \n",
              "1         2       1.0       1.0  ...     NaN     NaN     NaN      NaN   \n",
              "2         3       1.0       1.0  ...     NaN     NaN     NaN      NaN   \n",
              "3         4       1.0       2.0  ...     NaN     NaN     NaN      NaN   \n",
              "4         5       1.0       1.0  ...     NaN     NaN     NaN      NaN   \n",
              "\n",
              "   TIPO_NAC  HIJ_VIVO HIJ_VIVM HIJ_NACM EST_CIVI SABE_LEE  \n",
              "0       NaN       NaN      NaN      NaN      NaN      NaN  \n",
              "1       NaN       NaN      NaN      NaN      NaN      NaN  \n",
              "2       NaN       NaN      NaN      NaN      NaN      NaN  \n",
              "3       NaN       NaN      NaN      NaN      NaN      NaN  \n",
              "4       NaN       NaN      NaN      NaN      NaN      NaN  \n",
              "\n",
              "[5 rows x 61 columns]"
            ],
            "text/html": [
              "\n",
              "  <div id=\"df-800d6622-05ca-4774-ae2a-c25320734a87\">\n",
              "    <div class=\"colab-df-container\">\n",
              "      <div>\n",
              "<style scoped>\n",
              "    .dataframe tbody tr th:only-of-type {\n",
              "        vertical-align: middle;\n",
              "    }\n",
              "\n",
              "    .dataframe tbody tr th {\n",
              "        vertical-align: top;\n",
              "    }\n",
              "\n",
              "    .dataframe thead th {\n",
              "        text-align: right;\n",
              "    }\n",
              "</style>\n",
              "<table border=\"1\" class=\"dataframe\">\n",
              "  <thead>\n",
              "    <tr style=\"text-align: right;\">\n",
              "      <th></th>\n",
              "      <th>ENCUESTA</th>\n",
              "      <th>REG_INSC</th>\n",
              "      <th>PRO_INSC</th>\n",
              "      <th>CAN_INSC</th>\n",
              "      <th>PAR_INSC</th>\n",
              "      <th>ANO_INSC</th>\n",
              "      <th>MES_INSC</th>\n",
              "      <th>ACTA_INS</th>\n",
              "      <th>OFI_INSC</th>\n",
              "      <th>COD_SEXO</th>\n",
              "      <th>...</th>\n",
              "      <th>PAR_INS</th>\n",
              "      <th>MES_INS</th>\n",
              "      <th>OFICINA</th>\n",
              "      <th>LUGAR_OC</th>\n",
              "      <th>TIPO_NAC</th>\n",
              "      <th>HIJ_VIVO</th>\n",
              "      <th>HIJ_VIVM</th>\n",
              "      <th>HIJ_NACM</th>\n",
              "      <th>EST_CIVI</th>\n",
              "      <th>SABE_LEE</th>\n",
              "    </tr>\n",
              "  </thead>\n",
              "  <tbody>\n",
              "    <tr>\n",
              "      <th>0</th>\n",
              "      <td>NVI</td>\n",
              "      <td>5.0</td>\n",
              "      <td>1.0</td>\n",
              "      <td>1.0</td>\n",
              "      <td>50.0</td>\n",
              "      <td>2005.0</td>\n",
              "      <td>1.0</td>\n",
              "      <td>1</td>\n",
              "      <td>1.0</td>\n",
              "      <td>2.0</td>\n",
              "      <td>...</td>\n",
              "      <td>NaN</td>\n",
              "      <td>NaN</td>\n",
              "      <td>NaN</td>\n",
              "      <td>NaN</td>\n",
              "      <td>NaN</td>\n",
              "      <td>NaN</td>\n",
              "      <td>NaN</td>\n",
              "      <td>NaN</td>\n",
              "      <td>NaN</td>\n",
              "      <td>NaN</td>\n",
              "    </tr>\n",
              "    <tr>\n",
              "      <th>1</th>\n",
              "      <td>NVI</td>\n",
              "      <td>5.0</td>\n",
              "      <td>1.0</td>\n",
              "      <td>1.0</td>\n",
              "      <td>50.0</td>\n",
              "      <td>2005.0</td>\n",
              "      <td>1.0</td>\n",
              "      <td>2</td>\n",
              "      <td>1.0</td>\n",
              "      <td>1.0</td>\n",
              "      <td>...</td>\n",
              "      <td>NaN</td>\n",
              "      <td>NaN</td>\n",
              "      <td>NaN</td>\n",
              "      <td>NaN</td>\n",
              "      <td>NaN</td>\n",
              "      <td>NaN</td>\n",
              "      <td>NaN</td>\n",
              "      <td>NaN</td>\n",
              "      <td>NaN</td>\n",
              "      <td>NaN</td>\n",
              "    </tr>\n",
              "    <tr>\n",
              "      <th>2</th>\n",
              "      <td>NVI</td>\n",
              "      <td>5.0</td>\n",
              "      <td>1.0</td>\n",
              "      <td>1.0</td>\n",
              "      <td>50.0</td>\n",
              "      <td>2005.0</td>\n",
              "      <td>1.0</td>\n",
              "      <td>3</td>\n",
              "      <td>1.0</td>\n",
              "      <td>1.0</td>\n",
              "      <td>...</td>\n",
              "      <td>NaN</td>\n",
              "      <td>NaN</td>\n",
              "      <td>NaN</td>\n",
              "      <td>NaN</td>\n",
              "      <td>NaN</td>\n",
              "      <td>NaN</td>\n",
              "      <td>NaN</td>\n",
              "      <td>NaN</td>\n",
              "      <td>NaN</td>\n",
              "      <td>NaN</td>\n",
              "    </tr>\n",
              "    <tr>\n",
              "      <th>3</th>\n",
              "      <td>NVI</td>\n",
              "      <td>5.0</td>\n",
              "      <td>1.0</td>\n",
              "      <td>1.0</td>\n",
              "      <td>50.0</td>\n",
              "      <td>2005.0</td>\n",
              "      <td>1.0</td>\n",
              "      <td>4</td>\n",
              "      <td>1.0</td>\n",
              "      <td>2.0</td>\n",
              "      <td>...</td>\n",
              "      <td>NaN</td>\n",
              "      <td>NaN</td>\n",
              "      <td>NaN</td>\n",
              "      <td>NaN</td>\n",
              "      <td>NaN</td>\n",
              "      <td>NaN</td>\n",
              "      <td>NaN</td>\n",
              "      <td>NaN</td>\n",
              "      <td>NaN</td>\n",
              "      <td>NaN</td>\n",
              "    </tr>\n",
              "    <tr>\n",
              "      <th>4</th>\n",
              "      <td>NVI</td>\n",
              "      <td>5.0</td>\n",
              "      <td>1.0</td>\n",
              "      <td>1.0</td>\n",
              "      <td>50.0</td>\n",
              "      <td>2005.0</td>\n",
              "      <td>1.0</td>\n",
              "      <td>5</td>\n",
              "      <td>1.0</td>\n",
              "      <td>1.0</td>\n",
              "      <td>...</td>\n",
              "      <td>NaN</td>\n",
              "      <td>NaN</td>\n",
              "      <td>NaN</td>\n",
              "      <td>NaN</td>\n",
              "      <td>NaN</td>\n",
              "      <td>NaN</td>\n",
              "      <td>NaN</td>\n",
              "      <td>NaN</td>\n",
              "      <td>NaN</td>\n",
              "      <td>NaN</td>\n",
              "    </tr>\n",
              "  </tbody>\n",
              "</table>\n",
              "<p>5 rows × 61 columns</p>\n",
              "</div>\n",
              "      <button class=\"colab-df-convert\" onclick=\"convertToInteractive('df-800d6622-05ca-4774-ae2a-c25320734a87')\"\n",
              "              title=\"Convert this dataframe to an interactive table.\"\n",
              "              style=\"display:none;\">\n",
              "        \n",
              "  <svg xmlns=\"http://www.w3.org/2000/svg\" height=\"24px\"viewBox=\"0 0 24 24\"\n",
              "       width=\"24px\">\n",
              "    <path d=\"M0 0h24v24H0V0z\" fill=\"none\"/>\n",
              "    <path d=\"M18.56 5.44l.94 2.06.94-2.06 2.06-.94-2.06-.94-.94-2.06-.94 2.06-2.06.94zm-11 1L8.5 8.5l.94-2.06 2.06-.94-2.06-.94L8.5 2.5l-.94 2.06-2.06.94zm10 10l.94 2.06.94-2.06 2.06-.94-2.06-.94-.94-2.06-.94 2.06-2.06.94z\"/><path d=\"M17.41 7.96l-1.37-1.37c-.4-.4-.92-.59-1.43-.59-.52 0-1.04.2-1.43.59L10.3 9.45l-7.72 7.72c-.78.78-.78 2.05 0 2.83L4 21.41c.39.39.9.59 1.41.59.51 0 1.02-.2 1.41-.59l7.78-7.78 2.81-2.81c.8-.78.8-2.07 0-2.86zM5.41 20L4 18.59l7.72-7.72 1.47 1.35L5.41 20z\"/>\n",
              "  </svg>\n",
              "      </button>\n",
              "      \n",
              "  <style>\n",
              "    .colab-df-container {\n",
              "      display:flex;\n",
              "      flex-wrap:wrap;\n",
              "      gap: 12px;\n",
              "    }\n",
              "\n",
              "    .colab-df-convert {\n",
              "      background-color: #E8F0FE;\n",
              "      border: none;\n",
              "      border-radius: 50%;\n",
              "      cursor: pointer;\n",
              "      display: none;\n",
              "      fill: #1967D2;\n",
              "      height: 32px;\n",
              "      padding: 0 0 0 0;\n",
              "      width: 32px;\n",
              "    }\n",
              "\n",
              "    .colab-df-convert:hover {\n",
              "      background-color: #E2EBFA;\n",
              "      box-shadow: 0px 1px 2px rgba(60, 64, 67, 0.3), 0px 1px 3px 1px rgba(60, 64, 67, 0.15);\n",
              "      fill: #174EA6;\n",
              "    }\n",
              "\n",
              "    [theme=dark] .colab-df-convert {\n",
              "      background-color: #3B4455;\n",
              "      fill: #D2E3FC;\n",
              "    }\n",
              "\n",
              "    [theme=dark] .colab-df-convert:hover {\n",
              "      background-color: #434B5C;\n",
              "      box-shadow: 0px 1px 3px 1px rgba(0, 0, 0, 0.15);\n",
              "      filter: drop-shadow(0px 1px 2px rgba(0, 0, 0, 0.3));\n",
              "      fill: #FFFFFF;\n",
              "    }\n",
              "  </style>\n",
              "\n",
              "      <script>\n",
              "        const buttonEl =\n",
              "          document.querySelector('#df-800d6622-05ca-4774-ae2a-c25320734a87 button.colab-df-convert');\n",
              "        buttonEl.style.display =\n",
              "          google.colab.kernel.accessAllowed ? 'block' : 'none';\n",
              "\n",
              "        async function convertToInteractive(key) {\n",
              "          const element = document.querySelector('#df-800d6622-05ca-4774-ae2a-c25320734a87');\n",
              "          const dataTable =\n",
              "            await google.colab.kernel.invokeFunction('convertToInteractive',\n",
              "                                                     [key], {});\n",
              "          if (!dataTable) return;\n",
              "\n",
              "          const docLinkHtml = 'Like what you see? Visit the ' +\n",
              "            '<a target=\"_blank\" href=https://colab.research.google.com/notebooks/data_table.ipynb>data table notebook</a>'\n",
              "            + ' to learn more about interactive tables.';\n",
              "          element.innerHTML = '';\n",
              "          dataTable['output_type'] = 'display_data';\n",
              "          await google.colab.output.renderOutput(dataTable, element);\n",
              "          const docLink = document.createElement('div');\n",
              "          docLink.innerHTML = docLinkHtml;\n",
              "          element.appendChild(docLink);\n",
              "        }\n",
              "      </script>\n",
              "    </div>\n",
              "  </div>\n",
              "  "
            ]
          },
          "metadata": {},
          "execution_count": 34
        }
      ]
    },
    {
      "cell_type": "markdown",
      "source": [
        "### 2) Breve descripción de datos "
      ],
      "metadata": {
        "id": "wSa8lCum_2yX"
      }
    },
    {
      "cell_type": "markdown",
      "source": [
        "Los datos presentados dan información a cerca de nacimientos y defunciones fetales en el Ecuador, desde el año 2005 hasta el año 2010."
      ],
      "metadata": {
        "id": "dL6GfL-ZAJY2"
      }
    },
    {
      "cell_type": "markdown",
      "source": [
        "### 3) ¿Cuál es el objetivo?"
      ],
      "metadata": {
        "id": "VMpzy-WrAYru"
      }
    },
    {
      "cell_type": "markdown",
      "source": [
        "El objetivo es unir características de la madre y su entorno que se encuentran en los datos de defunción y nacimiento, para luego predecir el nacimiento o no de un ser humano en el Ecuador. Así como también encontrar datos reelevantes, como regiones con mayor tasa de defunciones, principales causas de defunciones, relación defunción con el entorno y estado de la madre."
      ],
      "metadata": {
        "id": "MOGbu5zVAbF1"
      }
    },
    {
      "cell_type": "markdown",
      "source": [
        "### 4) ¿Este es un problema de clasificación o regresión?"
      ],
      "metadata": {
        "id": "Atzk1h2OBHs9"
      }
    },
    {
      "cell_type": "markdown",
      "source": [
        "Es un problema de clasificación"
      ],
      "metadata": {
        "id": "nqkyQT48BKv9"
      }
    },
    {
      "cell_type": "markdown",
      "source": [
        "### 5) ¿Cuántas características hay?"
      ],
      "metadata": {
        "id": "n3j3sI3nBNJd"
      }
    },
    {
      "cell_type": "markdown",
      "source": [
        "Los datos de defunciones tienen 44 características y los datos de nacimientos tienen 61 columnas. Para cumplir con el objetivo debemos encontrar columnas en común entre los dos datos, por lo tanto el número de características es alrededor de 44."
      ],
      "metadata": {
        "id": "IOtxn8pcBRyt"
      }
    },
    {
      "cell_type": "markdown",
      "source": [
        "## 6) ¿Cuántas filas de datos hay?"
      ],
      "metadata": {
        "id": "PEnXYHadBpqG"
      }
    },
    {
      "cell_type": "code",
      "source": [
        "df_defunciones.shape"
      ],
      "metadata": {
        "colab": {
          "base_uri": "https://localhost:8080/"
        },
        "id": "P1rDv9WcBsfu",
        "outputId": "b7cd88db-2ea7-4a2e-9a5d-0cec22400f5f"
      },
      "execution_count": 37,
      "outputs": [
        {
          "output_type": "execute_result",
          "data": {
            "text/plain": [
              "(12108, 44)"
            ]
          },
          "metadata": {},
          "execution_count": 37
        }
      ]
    },
    {
      "cell_type": "code",
      "source": [
        "df_nacimientos.shape"
      ],
      "metadata": {
        "colab": {
          "base_uri": "https://localhost:8080/"
        },
        "id": "rK3hjaEUB042",
        "outputId": "5dd23ae7-1c49-478d-b228-5b992fcc4ac0"
      },
      "execution_count": 38,
      "outputs": [
        {
          "output_type": "execute_result",
          "data": {
            "text/plain": [
              "(2116461, 61)"
            ]
          },
          "metadata": {},
          "execution_count": 38
        }
      ]
    },
    {
      "cell_type": "markdown",
      "source": [
        "Debido a que uniremos los datos tanto de defunciones como de nacimientos el número total de defunciones es de 2128569 filas."
      ],
      "metadata": {
        "id": "Ux-z2lbWCIWd"
      }
    },
    {
      "cell_type": "markdown",
      "source": [
        "## 7) ¿Qué retos, si es que hay alguno, prevén en la limpieza, exploración o modelización con este conjunto de datos?"
      ],
      "metadata": {
        "id": "JP0JvGArCKjl"
      }
    },
    {
      "cell_type": "markdown",
      "source": [
        "Los retos son primero la unión de ambos datos, de defunción y nacimientos. Debemos encontrar columnas en común. Además debemos hacer un reemplazo de los códigos que se encuentran en la data con la información real, por ejemplo: en la columna de provincia hay códigos que deben ser reemplazados por la provincia a la que hace referencia el código."
      ],
      "metadata": {
        "id": "6aih8RKdCOXN"
      }
    },
    {
      "cell_type": "markdown",
      "source": [
        "## Conjunto de datos 2 (matrimonio-divorcios)"
      ],
      "metadata": {
        "id": "tRxFaX6YC1ee"
      }
    },
    {
      "cell_type": "markdown",
      "source": [
        "## 1) Fuente de datos"
      ],
      "metadata": {
        "id": "yJ6EdgcUDBBe"
      }
    },
    {
      "cell_type": "markdown",
      "source": [
        "Los datos de matrimonio y divorcios fueron adquiridos del inec dotados por el banco de información estadistica (https://aplicaciones3.ecuadorencifras.gob.ec/sbi-war/)"
      ],
      "metadata": {
        "id": "tsn0INUIDD_m"
      }
    },
    {
      "cell_type": "code",
      "source": [
        "#datos matrimonio\n",
        "df1_1m = pd.read_csv(\"/content/drive/MyDrive/Codificación de Dojo/Proyecto2/matrimonio/matrimonios_2005.dat\",sep='\\t')\n",
        "df1_2m = pd.read_csv(\"/content/drive/MyDrive/Codificación de Dojo/Proyecto2/matrimonio/matrimonios_2006.dat\",sep='\\t')\n",
        "df1_3m = pd.read_csv(\"/content/drive/MyDrive/Codificación de Dojo/Proyecto2/matrimonio/matrimonios_2007.dat\",sep='\\t')\n",
        "df1_4m = pd.read_csv(\"/content/drive/MyDrive/Codificación de Dojo/Proyecto2/matrimonio/MAT_2008.dat\",sep='\\t')\n",
        "df1_5m = pd.read_csv(\"/content/drive/MyDrive/Codificación de Dojo/Proyecto2/matrimonio/MAT_2009.dat\",sep='\\t')\n",
        "df1_6m = pd.read_csv(\"/content/drive/MyDrive/Codificación de Dojo/Proyecto2/matrimonio/MAT_2010_SPSS.dat\",sep='\\t')"
      ],
      "metadata": {
        "id": "iAnwTtqoDeGO"
      },
      "execution_count": 39,
      "outputs": []
    },
    {
      "cell_type": "code",
      "source": [
        "#Unión de datos de nacimientos\n",
        "df_matrimonio = pd.concat([df1_1m, df1_2m, df1_3m, df1_4m, df1_5m,df1_6m])"
      ],
      "metadata": {
        "id": "Fb9BfpEUE2hO"
      },
      "execution_count": 40,
      "outputs": []
    },
    {
      "cell_type": "code",
      "source": [
        "df_matrimonio.head()"
      ],
      "metadata": {
        "colab": {
          "base_uri": "https://localhost:8080/",
          "height": 299
        },
        "id": "shZ_lDnuE9H9",
        "outputId": "fdf994c1-e08b-4cb8-8680-cb74482db8af"
      },
      "execution_count": 41,
      "outputs": [
        {
          "output_type": "execute_result",
          "data": {
            "text/plain": [
              "  CODI  PROV  CANT  PARR  ANIO  MES  ACTA  OFICINA  NHIJ_REC  EDAD_HOM  ...  \\\n",
              "0  MAT     1     1    50  2005    1     1        1         0        24  ...   \n",
              "1  MAT     1     1    50  2005    1     2        1         2        28  ...   \n",
              "2  MAT     1     1    50  2005    1     3        1         0        19  ...   \n",
              "3  MAT     1     1    50  2005    1     4        1         0        55  ...   \n",
              "4  MAT     1     1    50  2005    1     5        1         0        20  ...   \n",
              "\n",
              "   PARRHABH  EDAD_MUJ  NMATANTM  ESTCIVIM  NAC_MUJ  NIVELMUJ  PROVHABM  \\\n",
              "0        55        23         0         1        1         3         1   \n",
              "1        50        23         0         1        1         2         1   \n",
              "2        50        25         0         1        1         3         1   \n",
              "3         0        18         0         1        1         3         1   \n",
              "4        50        20         0         1        1         2         1   \n",
              "\n",
              "   CANTHABM  PARRHABM  CODENC  \n",
              "0         1        70     NaN  \n",
              "1         1        50     NaN  \n",
              "2         1        50     NaN  \n",
              "3         3        50     NaN  \n",
              "4         1        50     NaN  \n",
              "\n",
              "[5 rows x 26 columns]"
            ],
            "text/html": [
              "\n",
              "  <div id=\"df-0d45e729-3a9b-4676-90ab-1f46128815d1\">\n",
              "    <div class=\"colab-df-container\">\n",
              "      <div>\n",
              "<style scoped>\n",
              "    .dataframe tbody tr th:only-of-type {\n",
              "        vertical-align: middle;\n",
              "    }\n",
              "\n",
              "    .dataframe tbody tr th {\n",
              "        vertical-align: top;\n",
              "    }\n",
              "\n",
              "    .dataframe thead th {\n",
              "        text-align: right;\n",
              "    }\n",
              "</style>\n",
              "<table border=\"1\" class=\"dataframe\">\n",
              "  <thead>\n",
              "    <tr style=\"text-align: right;\">\n",
              "      <th></th>\n",
              "      <th>CODI</th>\n",
              "      <th>PROV</th>\n",
              "      <th>CANT</th>\n",
              "      <th>PARR</th>\n",
              "      <th>ANIO</th>\n",
              "      <th>MES</th>\n",
              "      <th>ACTA</th>\n",
              "      <th>OFICINA</th>\n",
              "      <th>NHIJ_REC</th>\n",
              "      <th>EDAD_HOM</th>\n",
              "      <th>...</th>\n",
              "      <th>PARRHABH</th>\n",
              "      <th>EDAD_MUJ</th>\n",
              "      <th>NMATANTM</th>\n",
              "      <th>ESTCIVIM</th>\n",
              "      <th>NAC_MUJ</th>\n",
              "      <th>NIVELMUJ</th>\n",
              "      <th>PROVHABM</th>\n",
              "      <th>CANTHABM</th>\n",
              "      <th>PARRHABM</th>\n",
              "      <th>CODENC</th>\n",
              "    </tr>\n",
              "  </thead>\n",
              "  <tbody>\n",
              "    <tr>\n",
              "      <th>0</th>\n",
              "      <td>MAT</td>\n",
              "      <td>1</td>\n",
              "      <td>1</td>\n",
              "      <td>50</td>\n",
              "      <td>2005</td>\n",
              "      <td>1</td>\n",
              "      <td>1</td>\n",
              "      <td>1</td>\n",
              "      <td>0</td>\n",
              "      <td>24</td>\n",
              "      <td>...</td>\n",
              "      <td>55</td>\n",
              "      <td>23</td>\n",
              "      <td>0</td>\n",
              "      <td>1</td>\n",
              "      <td>1</td>\n",
              "      <td>3</td>\n",
              "      <td>1</td>\n",
              "      <td>1</td>\n",
              "      <td>70</td>\n",
              "      <td>NaN</td>\n",
              "    </tr>\n",
              "    <tr>\n",
              "      <th>1</th>\n",
              "      <td>MAT</td>\n",
              "      <td>1</td>\n",
              "      <td>1</td>\n",
              "      <td>50</td>\n",
              "      <td>2005</td>\n",
              "      <td>1</td>\n",
              "      <td>2</td>\n",
              "      <td>1</td>\n",
              "      <td>2</td>\n",
              "      <td>28</td>\n",
              "      <td>...</td>\n",
              "      <td>50</td>\n",
              "      <td>23</td>\n",
              "      <td>0</td>\n",
              "      <td>1</td>\n",
              "      <td>1</td>\n",
              "      <td>2</td>\n",
              "      <td>1</td>\n",
              "      <td>1</td>\n",
              "      <td>50</td>\n",
              "      <td>NaN</td>\n",
              "    </tr>\n",
              "    <tr>\n",
              "      <th>2</th>\n",
              "      <td>MAT</td>\n",
              "      <td>1</td>\n",
              "      <td>1</td>\n",
              "      <td>50</td>\n",
              "      <td>2005</td>\n",
              "      <td>1</td>\n",
              "      <td>3</td>\n",
              "      <td>1</td>\n",
              "      <td>0</td>\n",
              "      <td>19</td>\n",
              "      <td>...</td>\n",
              "      <td>50</td>\n",
              "      <td>25</td>\n",
              "      <td>0</td>\n",
              "      <td>1</td>\n",
              "      <td>1</td>\n",
              "      <td>3</td>\n",
              "      <td>1</td>\n",
              "      <td>1</td>\n",
              "      <td>50</td>\n",
              "      <td>NaN</td>\n",
              "    </tr>\n",
              "    <tr>\n",
              "      <th>3</th>\n",
              "      <td>MAT</td>\n",
              "      <td>1</td>\n",
              "      <td>1</td>\n",
              "      <td>50</td>\n",
              "      <td>2005</td>\n",
              "      <td>1</td>\n",
              "      <td>4</td>\n",
              "      <td>1</td>\n",
              "      <td>0</td>\n",
              "      <td>55</td>\n",
              "      <td>...</td>\n",
              "      <td>0</td>\n",
              "      <td>18</td>\n",
              "      <td>0</td>\n",
              "      <td>1</td>\n",
              "      <td>1</td>\n",
              "      <td>3</td>\n",
              "      <td>1</td>\n",
              "      <td>3</td>\n",
              "      <td>50</td>\n",
              "      <td>NaN</td>\n",
              "    </tr>\n",
              "    <tr>\n",
              "      <th>4</th>\n",
              "      <td>MAT</td>\n",
              "      <td>1</td>\n",
              "      <td>1</td>\n",
              "      <td>50</td>\n",
              "      <td>2005</td>\n",
              "      <td>1</td>\n",
              "      <td>5</td>\n",
              "      <td>1</td>\n",
              "      <td>0</td>\n",
              "      <td>20</td>\n",
              "      <td>...</td>\n",
              "      <td>50</td>\n",
              "      <td>20</td>\n",
              "      <td>0</td>\n",
              "      <td>1</td>\n",
              "      <td>1</td>\n",
              "      <td>2</td>\n",
              "      <td>1</td>\n",
              "      <td>1</td>\n",
              "      <td>50</td>\n",
              "      <td>NaN</td>\n",
              "    </tr>\n",
              "  </tbody>\n",
              "</table>\n",
              "<p>5 rows × 26 columns</p>\n",
              "</div>\n",
              "      <button class=\"colab-df-convert\" onclick=\"convertToInteractive('df-0d45e729-3a9b-4676-90ab-1f46128815d1')\"\n",
              "              title=\"Convert this dataframe to an interactive table.\"\n",
              "              style=\"display:none;\">\n",
              "        \n",
              "  <svg xmlns=\"http://www.w3.org/2000/svg\" height=\"24px\"viewBox=\"0 0 24 24\"\n",
              "       width=\"24px\">\n",
              "    <path d=\"M0 0h24v24H0V0z\" fill=\"none\"/>\n",
              "    <path d=\"M18.56 5.44l.94 2.06.94-2.06 2.06-.94-2.06-.94-.94-2.06-.94 2.06-2.06.94zm-11 1L8.5 8.5l.94-2.06 2.06-.94-2.06-.94L8.5 2.5l-.94 2.06-2.06.94zm10 10l.94 2.06.94-2.06 2.06-.94-2.06-.94-.94-2.06-.94 2.06-2.06.94z\"/><path d=\"M17.41 7.96l-1.37-1.37c-.4-.4-.92-.59-1.43-.59-.52 0-1.04.2-1.43.59L10.3 9.45l-7.72 7.72c-.78.78-.78 2.05 0 2.83L4 21.41c.39.39.9.59 1.41.59.51 0 1.02-.2 1.41-.59l7.78-7.78 2.81-2.81c.8-.78.8-2.07 0-2.86zM5.41 20L4 18.59l7.72-7.72 1.47 1.35L5.41 20z\"/>\n",
              "  </svg>\n",
              "      </button>\n",
              "      \n",
              "  <style>\n",
              "    .colab-df-container {\n",
              "      display:flex;\n",
              "      flex-wrap:wrap;\n",
              "      gap: 12px;\n",
              "    }\n",
              "\n",
              "    .colab-df-convert {\n",
              "      background-color: #E8F0FE;\n",
              "      border: none;\n",
              "      border-radius: 50%;\n",
              "      cursor: pointer;\n",
              "      display: none;\n",
              "      fill: #1967D2;\n",
              "      height: 32px;\n",
              "      padding: 0 0 0 0;\n",
              "      width: 32px;\n",
              "    }\n",
              "\n",
              "    .colab-df-convert:hover {\n",
              "      background-color: #E2EBFA;\n",
              "      box-shadow: 0px 1px 2px rgba(60, 64, 67, 0.3), 0px 1px 3px 1px rgba(60, 64, 67, 0.15);\n",
              "      fill: #174EA6;\n",
              "    }\n",
              "\n",
              "    [theme=dark] .colab-df-convert {\n",
              "      background-color: #3B4455;\n",
              "      fill: #D2E3FC;\n",
              "    }\n",
              "\n",
              "    [theme=dark] .colab-df-convert:hover {\n",
              "      background-color: #434B5C;\n",
              "      box-shadow: 0px 1px 3px 1px rgba(0, 0, 0, 0.15);\n",
              "      filter: drop-shadow(0px 1px 2px rgba(0, 0, 0, 0.3));\n",
              "      fill: #FFFFFF;\n",
              "    }\n",
              "  </style>\n",
              "\n",
              "      <script>\n",
              "        const buttonEl =\n",
              "          document.querySelector('#df-0d45e729-3a9b-4676-90ab-1f46128815d1 button.colab-df-convert');\n",
              "        buttonEl.style.display =\n",
              "          google.colab.kernel.accessAllowed ? 'block' : 'none';\n",
              "\n",
              "        async function convertToInteractive(key) {\n",
              "          const element = document.querySelector('#df-0d45e729-3a9b-4676-90ab-1f46128815d1');\n",
              "          const dataTable =\n",
              "            await google.colab.kernel.invokeFunction('convertToInteractive',\n",
              "                                                     [key], {});\n",
              "          if (!dataTable) return;\n",
              "\n",
              "          const docLinkHtml = 'Like what you see? Visit the ' +\n",
              "            '<a target=\"_blank\" href=https://colab.research.google.com/notebooks/data_table.ipynb>data table notebook</a>'\n",
              "            + ' to learn more about interactive tables.';\n",
              "          element.innerHTML = '';\n",
              "          dataTable['output_type'] = 'display_data';\n",
              "          await google.colab.output.renderOutput(dataTable, element);\n",
              "          const docLink = document.createElement('div');\n",
              "          docLink.innerHTML = docLinkHtml;\n",
              "          element.appendChild(docLink);\n",
              "        }\n",
              "      </script>\n",
              "    </div>\n",
              "  </div>\n",
              "  "
            ]
          },
          "metadata": {},
          "execution_count": 41
        }
      ]
    },
    {
      "cell_type": "code",
      "source": [
        "#datos divorcio\n",
        "df1_1d = pd.read_csv(\"/content/drive/MyDrive/Codificación de Dojo/Proyecto2/divorcio/divorcios_2005.dat\",sep='\\t')\n",
        "df1_2d = pd.read_csv(\"/content/drive/MyDrive/Codificación de Dojo/Proyecto2/divorcio/divorcios_2006.dat\",sep='\\t')\n",
        "df1_3d = pd.read_csv(\"/content/drive/MyDrive/Codificación de Dojo/Proyecto2/divorcio/divorcios_2007.dat\",sep='\\t')\n",
        "df1_4d = pd.read_csv(\"/content/drive/MyDrive/Codificación de Dojo/Proyecto2/divorcio/DIV_2008.dat\",sep='\\t')\n",
        "df1_5d = pd.read_csv(\"/content/drive/MyDrive/Codificación de Dojo/Proyecto2/divorcio/DIV_2009.dat\",sep='\\t')\n",
        "df1_6d = pd.read_csv(\"/content/drive/MyDrive/Codificación de Dojo/Proyecto2/divorcio/DIV_2010_SPSS.dat\",sep='\\t')"
      ],
      "metadata": {
        "id": "R4DOBwzeFNQ1"
      },
      "execution_count": 42,
      "outputs": []
    },
    {
      "cell_type": "code",
      "source": [
        "#Unión de datos de nacimientos\n",
        "df_divorcio = pd.concat([df1_1d, df1_2d, df1_3d, df1_4d, df1_5d,df1_6d])"
      ],
      "metadata": {
        "id": "Vu6-ZgdkFT_t"
      },
      "execution_count": 43,
      "outputs": []
    },
    {
      "cell_type": "code",
      "source": [
        "df_divorcio.head()"
      ],
      "metadata": {
        "colab": {
          "base_uri": "https://localhost:8080/",
          "height": 299
        },
        "id": "g8UuHLuVFsu9",
        "outputId": "06dc59b6-8e56-4a85-a1c8-243a569e8200"
      },
      "execution_count": 44,
      "outputs": [
        {
          "output_type": "execute_result",
          "data": {
            "text/plain": [
              "   CODANIO  CODMES  PROV  CANT  PARR  OFICINA  ACTA  ANIODIV  MESDIV  ANIOMAT  \\\n",
              "0     2005      10     9     1    50        1  1734     2005       1     1969   \n",
              "1     2005      12     9     1    50        1  2208     2005       1     2004   \n",
              "2     2005       5    17     1    50        1   808     2005       3     1991   \n",
              "3     2005       4    17     1    50        1   643     2005       3     1978   \n",
              "4     2005       7    17     1    50        1  1348     2005       4     2001   \n",
              "\n",
              "   ...  CANTHABH  PARRHABH  EDADM  HIJOM  INSTM  TRABAJAM  PROVHABM  CANTHABM  \\\n",
              "0  ...         1        50     50      0      9       9.0         9         1   \n",
              "1  ...         1        50     22      0      9       9.0         9         1   \n",
              "2  ...         1        50     49      0      5       9.0        17         1   \n",
              "3  ...         1        50     48      0      6       9.0        17         1   \n",
              "4  ...         1        50     34      0      6       9.0        17         1   \n",
              "\n",
              "   PARRHABM  CODI  \n",
              "0        50   NaN  \n",
              "1        50   NaN  \n",
              "2        50   NaN  \n",
              "3        50   NaN  \n",
              "4        50   NaN  \n",
              "\n",
              "[5 rows x 27 columns]"
            ],
            "text/html": [
              "\n",
              "  <div id=\"df-f78d3e8a-4f35-4925-89e6-0bbfc36c66ff\">\n",
              "    <div class=\"colab-df-container\">\n",
              "      <div>\n",
              "<style scoped>\n",
              "    .dataframe tbody tr th:only-of-type {\n",
              "        vertical-align: middle;\n",
              "    }\n",
              "\n",
              "    .dataframe tbody tr th {\n",
              "        vertical-align: top;\n",
              "    }\n",
              "\n",
              "    .dataframe thead th {\n",
              "        text-align: right;\n",
              "    }\n",
              "</style>\n",
              "<table border=\"1\" class=\"dataframe\">\n",
              "  <thead>\n",
              "    <tr style=\"text-align: right;\">\n",
              "      <th></th>\n",
              "      <th>CODANIO</th>\n",
              "      <th>CODMES</th>\n",
              "      <th>PROV</th>\n",
              "      <th>CANT</th>\n",
              "      <th>PARR</th>\n",
              "      <th>OFICINA</th>\n",
              "      <th>ACTA</th>\n",
              "      <th>ANIODIV</th>\n",
              "      <th>MESDIV</th>\n",
              "      <th>ANIOMAT</th>\n",
              "      <th>...</th>\n",
              "      <th>CANTHABH</th>\n",
              "      <th>PARRHABH</th>\n",
              "      <th>EDADM</th>\n",
              "      <th>HIJOM</th>\n",
              "      <th>INSTM</th>\n",
              "      <th>TRABAJAM</th>\n",
              "      <th>PROVHABM</th>\n",
              "      <th>CANTHABM</th>\n",
              "      <th>PARRHABM</th>\n",
              "      <th>CODI</th>\n",
              "    </tr>\n",
              "  </thead>\n",
              "  <tbody>\n",
              "    <tr>\n",
              "      <th>0</th>\n",
              "      <td>2005</td>\n",
              "      <td>10</td>\n",
              "      <td>9</td>\n",
              "      <td>1</td>\n",
              "      <td>50</td>\n",
              "      <td>1</td>\n",
              "      <td>1734</td>\n",
              "      <td>2005</td>\n",
              "      <td>1</td>\n",
              "      <td>1969</td>\n",
              "      <td>...</td>\n",
              "      <td>1</td>\n",
              "      <td>50</td>\n",
              "      <td>50</td>\n",
              "      <td>0</td>\n",
              "      <td>9</td>\n",
              "      <td>9.0</td>\n",
              "      <td>9</td>\n",
              "      <td>1</td>\n",
              "      <td>50</td>\n",
              "      <td>NaN</td>\n",
              "    </tr>\n",
              "    <tr>\n",
              "      <th>1</th>\n",
              "      <td>2005</td>\n",
              "      <td>12</td>\n",
              "      <td>9</td>\n",
              "      <td>1</td>\n",
              "      <td>50</td>\n",
              "      <td>1</td>\n",
              "      <td>2208</td>\n",
              "      <td>2005</td>\n",
              "      <td>1</td>\n",
              "      <td>2004</td>\n",
              "      <td>...</td>\n",
              "      <td>1</td>\n",
              "      <td>50</td>\n",
              "      <td>22</td>\n",
              "      <td>0</td>\n",
              "      <td>9</td>\n",
              "      <td>9.0</td>\n",
              "      <td>9</td>\n",
              "      <td>1</td>\n",
              "      <td>50</td>\n",
              "      <td>NaN</td>\n",
              "    </tr>\n",
              "    <tr>\n",
              "      <th>2</th>\n",
              "      <td>2005</td>\n",
              "      <td>5</td>\n",
              "      <td>17</td>\n",
              "      <td>1</td>\n",
              "      <td>50</td>\n",
              "      <td>1</td>\n",
              "      <td>808</td>\n",
              "      <td>2005</td>\n",
              "      <td>3</td>\n",
              "      <td>1991</td>\n",
              "      <td>...</td>\n",
              "      <td>1</td>\n",
              "      <td>50</td>\n",
              "      <td>49</td>\n",
              "      <td>0</td>\n",
              "      <td>5</td>\n",
              "      <td>9.0</td>\n",
              "      <td>17</td>\n",
              "      <td>1</td>\n",
              "      <td>50</td>\n",
              "      <td>NaN</td>\n",
              "    </tr>\n",
              "    <tr>\n",
              "      <th>3</th>\n",
              "      <td>2005</td>\n",
              "      <td>4</td>\n",
              "      <td>17</td>\n",
              "      <td>1</td>\n",
              "      <td>50</td>\n",
              "      <td>1</td>\n",
              "      <td>643</td>\n",
              "      <td>2005</td>\n",
              "      <td>3</td>\n",
              "      <td>1978</td>\n",
              "      <td>...</td>\n",
              "      <td>1</td>\n",
              "      <td>50</td>\n",
              "      <td>48</td>\n",
              "      <td>0</td>\n",
              "      <td>6</td>\n",
              "      <td>9.0</td>\n",
              "      <td>17</td>\n",
              "      <td>1</td>\n",
              "      <td>50</td>\n",
              "      <td>NaN</td>\n",
              "    </tr>\n",
              "    <tr>\n",
              "      <th>4</th>\n",
              "      <td>2005</td>\n",
              "      <td>7</td>\n",
              "      <td>17</td>\n",
              "      <td>1</td>\n",
              "      <td>50</td>\n",
              "      <td>1</td>\n",
              "      <td>1348</td>\n",
              "      <td>2005</td>\n",
              "      <td>4</td>\n",
              "      <td>2001</td>\n",
              "      <td>...</td>\n",
              "      <td>1</td>\n",
              "      <td>50</td>\n",
              "      <td>34</td>\n",
              "      <td>0</td>\n",
              "      <td>6</td>\n",
              "      <td>9.0</td>\n",
              "      <td>17</td>\n",
              "      <td>1</td>\n",
              "      <td>50</td>\n",
              "      <td>NaN</td>\n",
              "    </tr>\n",
              "  </tbody>\n",
              "</table>\n",
              "<p>5 rows × 27 columns</p>\n",
              "</div>\n",
              "      <button class=\"colab-df-convert\" onclick=\"convertToInteractive('df-f78d3e8a-4f35-4925-89e6-0bbfc36c66ff')\"\n",
              "              title=\"Convert this dataframe to an interactive table.\"\n",
              "              style=\"display:none;\">\n",
              "        \n",
              "  <svg xmlns=\"http://www.w3.org/2000/svg\" height=\"24px\"viewBox=\"0 0 24 24\"\n",
              "       width=\"24px\">\n",
              "    <path d=\"M0 0h24v24H0V0z\" fill=\"none\"/>\n",
              "    <path d=\"M18.56 5.44l.94 2.06.94-2.06 2.06-.94-2.06-.94-.94-2.06-.94 2.06-2.06.94zm-11 1L8.5 8.5l.94-2.06 2.06-.94-2.06-.94L8.5 2.5l-.94 2.06-2.06.94zm10 10l.94 2.06.94-2.06 2.06-.94-2.06-.94-.94-2.06-.94 2.06-2.06.94z\"/><path d=\"M17.41 7.96l-1.37-1.37c-.4-.4-.92-.59-1.43-.59-.52 0-1.04.2-1.43.59L10.3 9.45l-7.72 7.72c-.78.78-.78 2.05 0 2.83L4 21.41c.39.39.9.59 1.41.59.51 0 1.02-.2 1.41-.59l7.78-7.78 2.81-2.81c.8-.78.8-2.07 0-2.86zM5.41 20L4 18.59l7.72-7.72 1.47 1.35L5.41 20z\"/>\n",
              "  </svg>\n",
              "      </button>\n",
              "      \n",
              "  <style>\n",
              "    .colab-df-container {\n",
              "      display:flex;\n",
              "      flex-wrap:wrap;\n",
              "      gap: 12px;\n",
              "    }\n",
              "\n",
              "    .colab-df-convert {\n",
              "      background-color: #E8F0FE;\n",
              "      border: none;\n",
              "      border-radius: 50%;\n",
              "      cursor: pointer;\n",
              "      display: none;\n",
              "      fill: #1967D2;\n",
              "      height: 32px;\n",
              "      padding: 0 0 0 0;\n",
              "      width: 32px;\n",
              "    }\n",
              "\n",
              "    .colab-df-convert:hover {\n",
              "      background-color: #E2EBFA;\n",
              "      box-shadow: 0px 1px 2px rgba(60, 64, 67, 0.3), 0px 1px 3px 1px rgba(60, 64, 67, 0.15);\n",
              "      fill: #174EA6;\n",
              "    }\n",
              "\n",
              "    [theme=dark] .colab-df-convert {\n",
              "      background-color: #3B4455;\n",
              "      fill: #D2E3FC;\n",
              "    }\n",
              "\n",
              "    [theme=dark] .colab-df-convert:hover {\n",
              "      background-color: #434B5C;\n",
              "      box-shadow: 0px 1px 3px 1px rgba(0, 0, 0, 0.15);\n",
              "      filter: drop-shadow(0px 1px 2px rgba(0, 0, 0, 0.3));\n",
              "      fill: #FFFFFF;\n",
              "    }\n",
              "  </style>\n",
              "\n",
              "      <script>\n",
              "        const buttonEl =\n",
              "          document.querySelector('#df-f78d3e8a-4f35-4925-89e6-0bbfc36c66ff button.colab-df-convert');\n",
              "        buttonEl.style.display =\n",
              "          google.colab.kernel.accessAllowed ? 'block' : 'none';\n",
              "\n",
              "        async function convertToInteractive(key) {\n",
              "          const element = document.querySelector('#df-f78d3e8a-4f35-4925-89e6-0bbfc36c66ff');\n",
              "          const dataTable =\n",
              "            await google.colab.kernel.invokeFunction('convertToInteractive',\n",
              "                                                     [key], {});\n",
              "          if (!dataTable) return;\n",
              "\n",
              "          const docLinkHtml = 'Like what you see? Visit the ' +\n",
              "            '<a target=\"_blank\" href=https://colab.research.google.com/notebooks/data_table.ipynb>data table notebook</a>'\n",
              "            + ' to learn more about interactive tables.';\n",
              "          element.innerHTML = '';\n",
              "          dataTable['output_type'] = 'display_data';\n",
              "          await google.colab.output.renderOutput(dataTable, element);\n",
              "          const docLink = document.createElement('div');\n",
              "          docLink.innerHTML = docLinkHtml;\n",
              "          element.appendChild(docLink);\n",
              "        }\n",
              "      </script>\n",
              "    </div>\n",
              "  </div>\n",
              "  "
            ]
          },
          "metadata": {},
          "execution_count": 44
        }
      ]
    },
    {
      "cell_type": "markdown",
      "source": [
        "### 2. Breve descripción de datos:\n",
        "\n",
        "La base de datos presentada contiene información sobre matrimonios y divorcios en Ecuador."
      ],
      "metadata": {
        "id": "Y3aT9qi16CJW"
      }
    },
    {
      "cell_type": "markdown",
      "source": [
        "### 3) ¿Cuál es el objetivo?\n",
        "\n",
        "El objetivo es predecir el divocio, y sus principales causas tomando en cuenta el lugar y algunas características de una persona."
      ],
      "metadata": {
        "id": "uNIGtcygF8P-"
      }
    },
    {
      "cell_type": "markdown",
      "source": [
        "### 4) ¿Este es un problema de clasificación o regresión?\n",
        "\n",
        "Es un problema de regresión."
      ],
      "metadata": {
        "id": "pfTZ7TwS8OKv"
      }
    },
    {
      "cell_type": "markdown",
      "source": [
        "### 5) ¿Cuántas características hay?\n",
        "\n",
        "Tenemos 36 características"
      ],
      "metadata": {
        "id": "fvKBsR_c8Tcf"
      }
    },
    {
      "cell_type": "markdown",
      "source": [
        "### 6) ¿Cuántas filas de datos hay?\n"
      ],
      "metadata": {
        "id": "FY4t4wxA8iMP"
      }
    },
    {
      "cell_type": "code",
      "source": [
        "df_matrimonio.shape"
      ],
      "metadata": {
        "colab": {
          "base_uri": "https://localhost:8080/"
        },
        "id": "Lb0cweFo8pXf",
        "outputId": "134976bb-cf06-413d-b86f-f2d184cea76c"
      },
      "execution_count": 45,
      "outputs": [
        {
          "output_type": "execute_result",
          "data": {
            "text/plain": [
              "(444848, 26)"
            ]
          },
          "metadata": {},
          "execution_count": 45
        }
      ]
    },
    {
      "cell_type": "code",
      "source": [
        "df_divorcio.shape"
      ],
      "metadata": {
        "colab": {
          "base_uri": "https://localhost:8080/"
        },
        "id": "zSvKOSE0840X",
        "outputId": "f7132f80-a7d9-4f45-94a4-aa9d3c291a7b"
      },
      "execution_count": 46,
      "outputs": [
        {
          "output_type": "execute_result",
          "data": {
            "text/plain": [
              "(93107, 27)"
            ]
          },
          "metadata": {},
          "execution_count": 46
        }
      ]
    },
    {
      "cell_type": "markdown",
      "source": [
        "Hay 537951 filas"
      ],
      "metadata": {
        "id": "YhzocojGGhje"
      }
    },
    {
      "cell_type": "markdown",
      "source": [
        "### 7) ¿Qué retos, si es que hay alguno, prevén en la limpieza, exploración o modelización con este conjunto de datos?"
      ],
      "metadata": {
        "id": "fhJrAz2FGtrG"
      }
    },
    {
      "cell_type": "markdown",
      "source": [
        "Los retos son encontrar las variables correctas y la unión de datos de matrimonio y divorcio."
      ],
      "metadata": {
        "id": "m8HTnahwGw01"
      }
    }
  ]
}