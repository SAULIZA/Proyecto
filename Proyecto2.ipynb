{
  "nbformat": 4,
  "nbformat_minor": 0,
  "metadata": {
    "colab": {
      "provenance": [],
      "authorship_tag": "ABX9TyMLV40QRt7vcmYK/X/Ixs04",
      "include_colab_link": true
    },
    "kernelspec": {
      "name": "python3",
      "display_name": "Python 3"
    },
    "language_info": {
      "name": "python"
    }
  },
  "cells": [
    {
      "cell_type": "markdown",
      "metadata": {
        "id": "view-in-github",
        "colab_type": "text"
      },
      "source": [
        "<a href=\"https://colab.research.google.com/github/SAULIZA/Proyecto/blob/main/Proyecto2.ipynb\" target=\"_parent\"><img src=\"https://colab.research.google.com/assets/colab-badge.svg\" alt=\"Open In Colab\"/></a>"
      ]
    },
    {
      "cell_type": "markdown",
      "source": [
        "# Proyecto2 - Parte1(base)\n",
        "El segundo proyecto tendrá más libertad que el primero. Esto es porque queremos que tengan un proyecto en sus portafolios que les interese o se relacione con la industria en la que quieren trabajar.\n",
        "\n",
        "La tarea para esta semana es proponer dos posibles conjuntos de datos que les gustaría trabajar para el proyecto 2.  \n",
        "\n",
        "Escogerán el conjunto de datos de primera opción, y un conjunto de datos de reserva en caso de que el primero propuesto no se apruebe.  \n",
        "\n",
        "Estos datos pueden proceder de cualquier fuente y ser sobre cualquier tema con estas limitaciones:"
      ],
      "metadata": {
        "id": "mIw8klUBsbbu"
      }
    },
    {
      "cell_type": "markdown",
      "source": [
        "* los datos deben estar disponibles para su uso (es su responsabilidad garantizar que la licencia indique que pueden utilizarlos)\n",
        "* los datos deben ser adecuados para un ambiente profesional\n",
        "* los datos NO deben contener información personal\n",
        "* los datos NO deben ser de un conjunto de datos usados en alguna tarea o clase del curso"
      ],
      "metadata": {
        "id": "Nvlrw0QjsrzV"
      }
    },
    {
      "cell_type": "markdown",
      "source": [
        "Asegúrense de seleccionar un conjunto de datos con el que sea razonable trabajar en el tiempo que nos queda. Piensen qué preguntas podrían responder con el conjunto de datos que seleccionen. \n",
        "\n",
        "Deben proponer dos conjuntos de datos que tengan cada uno un componente de aprendizaje supervisado. Pueden elegir un problema de regresión o clasificación para cada conjunto de datos propuesto.  "
      ],
      "metadata": {
        "id": "OtJdjFO2s7Ot"
      }
    },
    {
      "cell_type": "markdown",
      "source": [
        "**Para esta tarea:**\n",
        "\n",
        "Creen un cuaderno de Colab donde hayan subido y mostrado el .head() de cada uno de los conjuntos de datos.  Para cada uno de los conjuntos de datos propuestos, respondan las siguientes preguntas:"
      ],
      "metadata": {
        "id": "IHACp2zMs_kW"
      }
    },
    {
      "cell_type": "markdown",
      "source": [
        "## Conjunto de datos 1:"
      ],
      "metadata": {
        "id": "CzyLdx6HyU7-"
      }
    },
    {
      "cell_type": "markdown",
      "source": [
        "**Datos meteorológicos de la ciudad de Quito**"
      ],
      "metadata": {
        "id": "oIHQYW0vybsW"
      }
    },
    {
      "cell_type": "code",
      "source": [
        "from google.colab import drive\n",
        "drive.mount(\"/content/drive\")"
      ],
      "metadata": {
        "colab": {
          "base_uri": "https://localhost:8080/"
        },
        "id": "sgTzU55H03rG",
        "outputId": "619ae8c2-2211-4e19-ce12-63f0222e3164"
      },
      "execution_count": 3,
      "outputs": [
        {
          "output_type": "stream",
          "name": "stdout",
          "text": [
            "Mounted at /content/drive\n"
          ]
        }
      ]
    },
    {
      "cell_type": "code",
      "execution_count": 1,
      "metadata": {
        "id": "uXNM4_XdsTng"
      },
      "outputs": [],
      "source": [
        "import pandas as pd"
      ]
    },
    {
      "cell_type": "markdown",
      "source": [
        "1. Fuente de datos\n",
        "* La fuente de los datos meteorológicos de la ciudad de Quito provienen de la página web de la secretaría del ambiente de Quito (http://www.quitoambiente.gob.ec/index.php/politicas-y-planeacion-ambiental/red-de-monitoreo)"
      ],
      "metadata": {
        "id": "Pb2YdPYx5qWG"
      }
    },
    {
      "cell_type": "code",
      "source": [
        "df_co = pd.read_excel(\"/content/drive/MyDrive/Codificación de Dojo/Proyecto2/datos meteorológicos/CO.xlsx\")\n",
        "#df_dir = pd.read_excel(\"/content/drive/MyDrive/Codificación de Dojo/Proyecto2/datos meteorológicos/DIR.xlsx\")\n",
        "df_hum = pd.read_excel(\"/content/drive/MyDrive/Codificación de Dojo/Proyecto2/datos meteorológicos/HUM.xlsx\")\n",
        "df_iuv = pd.read_excel(\"/content/drive/MyDrive/Codificación de Dojo/Proyecto2/datos meteorológicos/IUV.xls\")\n",
        "df_llu = pd.read_excel(\"/content/drive/MyDrive/Codificación de Dojo/Proyecto2/datos meteorológicos/LLU.xlsx\")\n",
        "df_no2 = pd.read_excel(\"/content/drive/MyDrive/Codificación de Dojo/Proyecto2/datos meteorológicos/NO2.xlsx\")\n",
        "df_o3 = pd.read_excel(\"/content/drive/MyDrive/Codificación de Dojo/Proyecto2/datos meteorológicos/O3.xlsx\")\n",
        "df_pm10 = pd.read_excel(\"/content/drive/MyDrive/Codificación de Dojo/Proyecto2/datos meteorológicos/PM10.xlsx\")\n",
        "df_pm2_5 = pd.read_excel(\"/content/drive/MyDrive/Codificación de Dojo/Proyecto2/datos meteorológicos/PM2.5.xlsx\")\n",
        "df_pre = pd.read_excel(\"/content/drive/MyDrive/Codificación de Dojo/Proyecto2/datos meteorológicos/PRE.xlsx\")\n",
        "df_rs = pd.read_excel(\"/content/drive/MyDrive/Codificación de Dojo/Proyecto2/datos meteorológicos/RS.xlsx\")\n",
        "df_s02 = pd.read_excel(\"/content/drive/MyDrive/Codificación de Dojo/Proyecto2/datos meteorológicos/SO2.xlsx\")\n",
        "df_tmp = pd.read_excel(\"/content/drive/MyDrive/Codificación de Dojo/Proyecto2/datos meteorológicos/TMP.xlsx\")\n",
        "df_vel = pd.read_excel(\"/content/drive/MyDrive/Codificación de Dojo/Proyecto2/datos meteorológicos/VEL.xlsx\")"
      ],
      "metadata": {
        "id": "ysIjXm4k1KrN"
      },
      "execution_count": 5,
      "outputs": []
    },
    {
      "cell_type": "markdown",
      "source": [
        "2. Breve descripción de datos:\n",
        "* Se tienen datos meteorológicos de la ciudad de quito, de diversos sectores de la ciudad. Cada conjunto de datos contiene un parámetro específico, como por ejemplo df_iuv, contiene datos de índice ultravioleta medidos en distintos sectores de la ciudad desde el año 2004 hasta la actualidad."
      ],
      "metadata": {
        "id": "Y3aT9qi16CJW"
      }
    },
    {
      "cell_type": "code",
      "source": [
        "df_co.head()"
      ],
      "metadata": {
        "colab": {
          "base_uri": "https://localhost:8080/",
          "height": 443
        },
        "id": "ZVkM3OtE3963",
        "outputId": "11649374-2f7b-41b7-c13d-42d72ef4c1d8"
      },
      "execution_count": 6,
      "outputs": [
        {
          "output_type": "execute_result",
          "data": {
            "text/plain": [
              "            Unnamed: 0 BELISARIO CARAPUNGO CENTRO COTOCOLLAO EL CAMAL GUAMANI  \\\n",
              "0      FECHA \\ UNIDAD      mg/m3     mg/m3  mg/m3      mg/m3    mg/m3   mg/m3   \n",
              "1  2004-01-01 00:00:00      7.42       NaN   4.33        NaN     3.96     NaN   \n",
              "2  2004-01-01 01:00:00      7.96       NaN   4.45        NaN     3.49     NaN   \n",
              "3  2004-01-01 02:00:00      8.42       NaN   3.53        NaN     1.78     NaN   \n",
              "4  2004-01-01 03:00:00      9.06       NaN   3.36        NaN     1.29     NaN   \n",
              "\n",
              "  LOS CHILLOS TUMBACO CONDADO TURUBAMBA CHILLOGALLO  \n",
              "0       mg/m3   mg/m3   mg/m3     mg/m3       mg/m3  \n",
              "1         NaN     NaN    3.49       4.3         NaN  \n",
              "2         NaN     NaN    3.73      4.01         NaN  \n",
              "3         NaN     NaN    5.36      3.75         NaN  \n",
              "4         NaN     NaN    4.42      3.23         NaN  "
            ],
            "text/html": [
              "\n",
              "  <div id=\"df-e1e85ed9-3a8d-4d3b-830f-ca6d24ed2391\">\n",
              "    <div class=\"colab-df-container\">\n",
              "      <div>\n",
              "<style scoped>\n",
              "    .dataframe tbody tr th:only-of-type {\n",
              "        vertical-align: middle;\n",
              "    }\n",
              "\n",
              "    .dataframe tbody tr th {\n",
              "        vertical-align: top;\n",
              "    }\n",
              "\n",
              "    .dataframe thead th {\n",
              "        text-align: right;\n",
              "    }\n",
              "</style>\n",
              "<table border=\"1\" class=\"dataframe\">\n",
              "  <thead>\n",
              "    <tr style=\"text-align: right;\">\n",
              "      <th></th>\n",
              "      <th>Unnamed: 0</th>\n",
              "      <th>BELISARIO</th>\n",
              "      <th>CARAPUNGO</th>\n",
              "      <th>CENTRO</th>\n",
              "      <th>COTOCOLLAO</th>\n",
              "      <th>EL CAMAL</th>\n",
              "      <th>GUAMANI</th>\n",
              "      <th>LOS CHILLOS</th>\n",
              "      <th>TUMBACO</th>\n",
              "      <th>CONDADO</th>\n",
              "      <th>TURUBAMBA</th>\n",
              "      <th>CHILLOGALLO</th>\n",
              "    </tr>\n",
              "  </thead>\n",
              "  <tbody>\n",
              "    <tr>\n",
              "      <th>0</th>\n",
              "      <td>FECHA \\ UNIDAD</td>\n",
              "      <td>mg/m3</td>\n",
              "      <td>mg/m3</td>\n",
              "      <td>mg/m3</td>\n",
              "      <td>mg/m3</td>\n",
              "      <td>mg/m3</td>\n",
              "      <td>mg/m3</td>\n",
              "      <td>mg/m3</td>\n",
              "      <td>mg/m3</td>\n",
              "      <td>mg/m3</td>\n",
              "      <td>mg/m3</td>\n",
              "      <td>mg/m3</td>\n",
              "    </tr>\n",
              "    <tr>\n",
              "      <th>1</th>\n",
              "      <td>2004-01-01 00:00:00</td>\n",
              "      <td>7.42</td>\n",
              "      <td>NaN</td>\n",
              "      <td>4.33</td>\n",
              "      <td>NaN</td>\n",
              "      <td>3.96</td>\n",
              "      <td>NaN</td>\n",
              "      <td>NaN</td>\n",
              "      <td>NaN</td>\n",
              "      <td>3.49</td>\n",
              "      <td>4.3</td>\n",
              "      <td>NaN</td>\n",
              "    </tr>\n",
              "    <tr>\n",
              "      <th>2</th>\n",
              "      <td>2004-01-01 01:00:00</td>\n",
              "      <td>7.96</td>\n",
              "      <td>NaN</td>\n",
              "      <td>4.45</td>\n",
              "      <td>NaN</td>\n",
              "      <td>3.49</td>\n",
              "      <td>NaN</td>\n",
              "      <td>NaN</td>\n",
              "      <td>NaN</td>\n",
              "      <td>3.73</td>\n",
              "      <td>4.01</td>\n",
              "      <td>NaN</td>\n",
              "    </tr>\n",
              "    <tr>\n",
              "      <th>3</th>\n",
              "      <td>2004-01-01 02:00:00</td>\n",
              "      <td>8.42</td>\n",
              "      <td>NaN</td>\n",
              "      <td>3.53</td>\n",
              "      <td>NaN</td>\n",
              "      <td>1.78</td>\n",
              "      <td>NaN</td>\n",
              "      <td>NaN</td>\n",
              "      <td>NaN</td>\n",
              "      <td>5.36</td>\n",
              "      <td>3.75</td>\n",
              "      <td>NaN</td>\n",
              "    </tr>\n",
              "    <tr>\n",
              "      <th>4</th>\n",
              "      <td>2004-01-01 03:00:00</td>\n",
              "      <td>9.06</td>\n",
              "      <td>NaN</td>\n",
              "      <td>3.36</td>\n",
              "      <td>NaN</td>\n",
              "      <td>1.29</td>\n",
              "      <td>NaN</td>\n",
              "      <td>NaN</td>\n",
              "      <td>NaN</td>\n",
              "      <td>4.42</td>\n",
              "      <td>3.23</td>\n",
              "      <td>NaN</td>\n",
              "    </tr>\n",
              "  </tbody>\n",
              "</table>\n",
              "</div>\n",
              "      <button class=\"colab-df-convert\" onclick=\"convertToInteractive('df-e1e85ed9-3a8d-4d3b-830f-ca6d24ed2391')\"\n",
              "              title=\"Convert this dataframe to an interactive table.\"\n",
              "              style=\"display:none;\">\n",
              "        \n",
              "  <svg xmlns=\"http://www.w3.org/2000/svg\" height=\"24px\"viewBox=\"0 0 24 24\"\n",
              "       width=\"24px\">\n",
              "    <path d=\"M0 0h24v24H0V0z\" fill=\"none\"/>\n",
              "    <path d=\"M18.56 5.44l.94 2.06.94-2.06 2.06-.94-2.06-.94-.94-2.06-.94 2.06-2.06.94zm-11 1L8.5 8.5l.94-2.06 2.06-.94-2.06-.94L8.5 2.5l-.94 2.06-2.06.94zm10 10l.94 2.06.94-2.06 2.06-.94-2.06-.94-.94-2.06-.94 2.06-2.06.94z\"/><path d=\"M17.41 7.96l-1.37-1.37c-.4-.4-.92-.59-1.43-.59-.52 0-1.04.2-1.43.59L10.3 9.45l-7.72 7.72c-.78.78-.78 2.05 0 2.83L4 21.41c.39.39.9.59 1.41.59.51 0 1.02-.2 1.41-.59l7.78-7.78 2.81-2.81c.8-.78.8-2.07 0-2.86zM5.41 20L4 18.59l7.72-7.72 1.47 1.35L5.41 20z\"/>\n",
              "  </svg>\n",
              "      </button>\n",
              "      \n",
              "  <style>\n",
              "    .colab-df-container {\n",
              "      display:flex;\n",
              "      flex-wrap:wrap;\n",
              "      gap: 12px;\n",
              "    }\n",
              "\n",
              "    .colab-df-convert {\n",
              "      background-color: #E8F0FE;\n",
              "      border: none;\n",
              "      border-radius: 50%;\n",
              "      cursor: pointer;\n",
              "      display: none;\n",
              "      fill: #1967D2;\n",
              "      height: 32px;\n",
              "      padding: 0 0 0 0;\n",
              "      width: 32px;\n",
              "    }\n",
              "\n",
              "    .colab-df-convert:hover {\n",
              "      background-color: #E2EBFA;\n",
              "      box-shadow: 0px 1px 2px rgba(60, 64, 67, 0.3), 0px 1px 3px 1px rgba(60, 64, 67, 0.15);\n",
              "      fill: #174EA6;\n",
              "    }\n",
              "\n",
              "    [theme=dark] .colab-df-convert {\n",
              "      background-color: #3B4455;\n",
              "      fill: #D2E3FC;\n",
              "    }\n",
              "\n",
              "    [theme=dark] .colab-df-convert:hover {\n",
              "      background-color: #434B5C;\n",
              "      box-shadow: 0px 1px 3px 1px rgba(0, 0, 0, 0.15);\n",
              "      filter: drop-shadow(0px 1px 2px rgba(0, 0, 0, 0.3));\n",
              "      fill: #FFFFFF;\n",
              "    }\n",
              "  </style>\n",
              "\n",
              "      <script>\n",
              "        const buttonEl =\n",
              "          document.querySelector('#df-e1e85ed9-3a8d-4d3b-830f-ca6d24ed2391 button.colab-df-convert');\n",
              "        buttonEl.style.display =\n",
              "          google.colab.kernel.accessAllowed ? 'block' : 'none';\n",
              "\n",
              "        async function convertToInteractive(key) {\n",
              "          const element = document.querySelector('#df-e1e85ed9-3a8d-4d3b-830f-ca6d24ed2391');\n",
              "          const dataTable =\n",
              "            await google.colab.kernel.invokeFunction('convertToInteractive',\n",
              "                                                     [key], {});\n",
              "          if (!dataTable) return;\n",
              "\n",
              "          const docLinkHtml = 'Like what you see? Visit the ' +\n",
              "            '<a target=\"_blank\" href=https://colab.research.google.com/notebooks/data_table.ipynb>data table notebook</a>'\n",
              "            + ' to learn more about interactive tables.';\n",
              "          element.innerHTML = '';\n",
              "          dataTable['output_type'] = 'display_data';\n",
              "          await google.colab.output.renderOutput(dataTable, element);\n",
              "          const docLink = document.createElement('div');\n",
              "          docLink.innerHTML = docLinkHtml;\n",
              "          element.appendChild(docLink);\n",
              "        }\n",
              "      </script>\n",
              "    </div>\n",
              "  </div>\n",
              "  "
            ]
          },
          "metadata": {},
          "execution_count": 6
        }
      ]
    },
    {
      "cell_type": "code",
      "source": [
        "df_hum.head()"
      ],
      "metadata": {
        "colab": {
          "base_uri": "https://localhost:8080/",
          "height": 354
        },
        "id": "wEwxPVSz5P3H",
        "outputId": "25ee3473-4fd6-488f-f4b2-7914af84614f"
      },
      "execution_count": 7,
      "outputs": [
        {
          "output_type": "execute_result",
          "data": {
            "text/plain": [
              "            Unnamed: 0 Belisario Carapungo Centro Cotocollao ElCamal Guamaní  \\\n",
              "0       FECHA \\ UNIDAD         %         %      %          %       %       %   \n",
              "1  2004-01-01 00:00:00     98.06     74.78    NaN      98.49   76.89     NaN   \n",
              "2  2004-01-01 01:00:00     98.47     72.42    NaN        100   75.94     NaN   \n",
              "3  2004-01-01 02:00:00     98.65     74.43    NaN        100   76.08     NaN   \n",
              "4  2004-01-01 03:00:00     99.03     76.16    NaN        100   78.94     NaN   \n",
              "\n",
              "  LosChillos SanAntonio Tumbaco  \n",
              "0          %          %       %  \n",
              "1      93.17        NaN   98.56  \n",
              "2      94.62        NaN   99.61  \n",
              "3      97.13        NaN   99.14  \n",
              "4        100        NaN   98.45  "
            ],
            "text/html": [
              "\n",
              "  <div id=\"df-a3d45ce5-1253-4df2-8426-49c534ddf944\">\n",
              "    <div class=\"colab-df-container\">\n",
              "      <div>\n",
              "<style scoped>\n",
              "    .dataframe tbody tr th:only-of-type {\n",
              "        vertical-align: middle;\n",
              "    }\n",
              "\n",
              "    .dataframe tbody tr th {\n",
              "        vertical-align: top;\n",
              "    }\n",
              "\n",
              "    .dataframe thead th {\n",
              "        text-align: right;\n",
              "    }\n",
              "</style>\n",
              "<table border=\"1\" class=\"dataframe\">\n",
              "  <thead>\n",
              "    <tr style=\"text-align: right;\">\n",
              "      <th></th>\n",
              "      <th>Unnamed: 0</th>\n",
              "      <th>Belisario</th>\n",
              "      <th>Carapungo</th>\n",
              "      <th>Centro</th>\n",
              "      <th>Cotocollao</th>\n",
              "      <th>ElCamal</th>\n",
              "      <th>Guamaní</th>\n",
              "      <th>LosChillos</th>\n",
              "      <th>SanAntonio</th>\n",
              "      <th>Tumbaco</th>\n",
              "    </tr>\n",
              "  </thead>\n",
              "  <tbody>\n",
              "    <tr>\n",
              "      <th>0</th>\n",
              "      <td>FECHA \\ UNIDAD</td>\n",
              "      <td>%</td>\n",
              "      <td>%</td>\n",
              "      <td>%</td>\n",
              "      <td>%</td>\n",
              "      <td>%</td>\n",
              "      <td>%</td>\n",
              "      <td>%</td>\n",
              "      <td>%</td>\n",
              "      <td>%</td>\n",
              "    </tr>\n",
              "    <tr>\n",
              "      <th>1</th>\n",
              "      <td>2004-01-01 00:00:00</td>\n",
              "      <td>98.06</td>\n",
              "      <td>74.78</td>\n",
              "      <td>NaN</td>\n",
              "      <td>98.49</td>\n",
              "      <td>76.89</td>\n",
              "      <td>NaN</td>\n",
              "      <td>93.17</td>\n",
              "      <td>NaN</td>\n",
              "      <td>98.56</td>\n",
              "    </tr>\n",
              "    <tr>\n",
              "      <th>2</th>\n",
              "      <td>2004-01-01 01:00:00</td>\n",
              "      <td>98.47</td>\n",
              "      <td>72.42</td>\n",
              "      <td>NaN</td>\n",
              "      <td>100</td>\n",
              "      <td>75.94</td>\n",
              "      <td>NaN</td>\n",
              "      <td>94.62</td>\n",
              "      <td>NaN</td>\n",
              "      <td>99.61</td>\n",
              "    </tr>\n",
              "    <tr>\n",
              "      <th>3</th>\n",
              "      <td>2004-01-01 02:00:00</td>\n",
              "      <td>98.65</td>\n",
              "      <td>74.43</td>\n",
              "      <td>NaN</td>\n",
              "      <td>100</td>\n",
              "      <td>76.08</td>\n",
              "      <td>NaN</td>\n",
              "      <td>97.13</td>\n",
              "      <td>NaN</td>\n",
              "      <td>99.14</td>\n",
              "    </tr>\n",
              "    <tr>\n",
              "      <th>4</th>\n",
              "      <td>2004-01-01 03:00:00</td>\n",
              "      <td>99.03</td>\n",
              "      <td>76.16</td>\n",
              "      <td>NaN</td>\n",
              "      <td>100</td>\n",
              "      <td>78.94</td>\n",
              "      <td>NaN</td>\n",
              "      <td>100</td>\n",
              "      <td>NaN</td>\n",
              "      <td>98.45</td>\n",
              "    </tr>\n",
              "  </tbody>\n",
              "</table>\n",
              "</div>\n",
              "      <button class=\"colab-df-convert\" onclick=\"convertToInteractive('df-a3d45ce5-1253-4df2-8426-49c534ddf944')\"\n",
              "              title=\"Convert this dataframe to an interactive table.\"\n",
              "              style=\"display:none;\">\n",
              "        \n",
              "  <svg xmlns=\"http://www.w3.org/2000/svg\" height=\"24px\"viewBox=\"0 0 24 24\"\n",
              "       width=\"24px\">\n",
              "    <path d=\"M0 0h24v24H0V0z\" fill=\"none\"/>\n",
              "    <path d=\"M18.56 5.44l.94 2.06.94-2.06 2.06-.94-2.06-.94-.94-2.06-.94 2.06-2.06.94zm-11 1L8.5 8.5l.94-2.06 2.06-.94-2.06-.94L8.5 2.5l-.94 2.06-2.06.94zm10 10l.94 2.06.94-2.06 2.06-.94-2.06-.94-.94-2.06-.94 2.06-2.06.94z\"/><path d=\"M17.41 7.96l-1.37-1.37c-.4-.4-.92-.59-1.43-.59-.52 0-1.04.2-1.43.59L10.3 9.45l-7.72 7.72c-.78.78-.78 2.05 0 2.83L4 21.41c.39.39.9.59 1.41.59.51 0 1.02-.2 1.41-.59l7.78-7.78 2.81-2.81c.8-.78.8-2.07 0-2.86zM5.41 20L4 18.59l7.72-7.72 1.47 1.35L5.41 20z\"/>\n",
              "  </svg>\n",
              "      </button>\n",
              "      \n",
              "  <style>\n",
              "    .colab-df-container {\n",
              "      display:flex;\n",
              "      flex-wrap:wrap;\n",
              "      gap: 12px;\n",
              "    }\n",
              "\n",
              "    .colab-df-convert {\n",
              "      background-color: #E8F0FE;\n",
              "      border: none;\n",
              "      border-radius: 50%;\n",
              "      cursor: pointer;\n",
              "      display: none;\n",
              "      fill: #1967D2;\n",
              "      height: 32px;\n",
              "      padding: 0 0 0 0;\n",
              "      width: 32px;\n",
              "    }\n",
              "\n",
              "    .colab-df-convert:hover {\n",
              "      background-color: #E2EBFA;\n",
              "      box-shadow: 0px 1px 2px rgba(60, 64, 67, 0.3), 0px 1px 3px 1px rgba(60, 64, 67, 0.15);\n",
              "      fill: #174EA6;\n",
              "    }\n",
              "\n",
              "    [theme=dark] .colab-df-convert {\n",
              "      background-color: #3B4455;\n",
              "      fill: #D2E3FC;\n",
              "    }\n",
              "\n",
              "    [theme=dark] .colab-df-convert:hover {\n",
              "      background-color: #434B5C;\n",
              "      box-shadow: 0px 1px 3px 1px rgba(0, 0, 0, 0.15);\n",
              "      filter: drop-shadow(0px 1px 2px rgba(0, 0, 0, 0.3));\n",
              "      fill: #FFFFFF;\n",
              "    }\n",
              "  </style>\n",
              "\n",
              "      <script>\n",
              "        const buttonEl =\n",
              "          document.querySelector('#df-a3d45ce5-1253-4df2-8426-49c534ddf944 button.colab-df-convert');\n",
              "        buttonEl.style.display =\n",
              "          google.colab.kernel.accessAllowed ? 'block' : 'none';\n",
              "\n",
              "        async function convertToInteractive(key) {\n",
              "          const element = document.querySelector('#df-a3d45ce5-1253-4df2-8426-49c534ddf944');\n",
              "          const dataTable =\n",
              "            await google.colab.kernel.invokeFunction('convertToInteractive',\n",
              "                                                     [key], {});\n",
              "          if (!dataTable) return;\n",
              "\n",
              "          const docLinkHtml = 'Like what you see? Visit the ' +\n",
              "            '<a target=\"_blank\" href=https://colab.research.google.com/notebooks/data_table.ipynb>data table notebook</a>'\n",
              "            + ' to learn more about interactive tables.';\n",
              "          element.innerHTML = '';\n",
              "          dataTable['output_type'] = 'display_data';\n",
              "          await google.colab.output.renderOutput(dataTable, element);\n",
              "          const docLink = document.createElement('div');\n",
              "          docLink.innerHTML = docLinkHtml;\n",
              "          element.appendChild(docLink);\n",
              "        }\n",
              "      </script>\n",
              "    </div>\n",
              "  </div>\n",
              "  "
            ]
          },
          "metadata": {},
          "execution_count": 7
        }
      ]
    },
    {
      "cell_type": "code",
      "source": [
        "df_iuv.head()"
      ],
      "metadata": {
        "colab": {
          "base_uri": "https://localhost:8080/",
          "height": 206
        },
        "id": "v529vVKb5WK2",
        "outputId": "88edc02d-13ad-48c7-fab4-488299fbc4ce"
      },
      "execution_count": 8,
      "outputs": [
        {
          "output_type": "execute_result",
          "data": {
            "text/plain": [
              "            Unnamed: 0 Centro Cotocollao Guamani Jipijapa\n",
              "0       FECHA \\ UNIDAD    IUV        IUV     IUV      IUV\n",
              "1  2017-08-01 00:00:00    NaN          0       0      NaN\n",
              "2  2017-08-01 01:00:00    NaN          0       0      NaN\n",
              "3  2017-08-01 02:00:00    NaN          0       0      NaN\n",
              "4  2017-08-01 03:00:00    NaN          0       0      NaN"
            ],
            "text/html": [
              "\n",
              "  <div id=\"df-97d9dd1d-cf5b-44ac-917d-c82d37063431\">\n",
              "    <div class=\"colab-df-container\">\n",
              "      <div>\n",
              "<style scoped>\n",
              "    .dataframe tbody tr th:only-of-type {\n",
              "        vertical-align: middle;\n",
              "    }\n",
              "\n",
              "    .dataframe tbody tr th {\n",
              "        vertical-align: top;\n",
              "    }\n",
              "\n",
              "    .dataframe thead th {\n",
              "        text-align: right;\n",
              "    }\n",
              "</style>\n",
              "<table border=\"1\" class=\"dataframe\">\n",
              "  <thead>\n",
              "    <tr style=\"text-align: right;\">\n",
              "      <th></th>\n",
              "      <th>Unnamed: 0</th>\n",
              "      <th>Centro</th>\n",
              "      <th>Cotocollao</th>\n",
              "      <th>Guamani</th>\n",
              "      <th>Jipijapa</th>\n",
              "    </tr>\n",
              "  </thead>\n",
              "  <tbody>\n",
              "    <tr>\n",
              "      <th>0</th>\n",
              "      <td>FECHA \\ UNIDAD</td>\n",
              "      <td>IUV</td>\n",
              "      <td>IUV</td>\n",
              "      <td>IUV</td>\n",
              "      <td>IUV</td>\n",
              "    </tr>\n",
              "    <tr>\n",
              "      <th>1</th>\n",
              "      <td>2017-08-01 00:00:00</td>\n",
              "      <td>NaN</td>\n",
              "      <td>0</td>\n",
              "      <td>0</td>\n",
              "      <td>NaN</td>\n",
              "    </tr>\n",
              "    <tr>\n",
              "      <th>2</th>\n",
              "      <td>2017-08-01 01:00:00</td>\n",
              "      <td>NaN</td>\n",
              "      <td>0</td>\n",
              "      <td>0</td>\n",
              "      <td>NaN</td>\n",
              "    </tr>\n",
              "    <tr>\n",
              "      <th>3</th>\n",
              "      <td>2017-08-01 02:00:00</td>\n",
              "      <td>NaN</td>\n",
              "      <td>0</td>\n",
              "      <td>0</td>\n",
              "      <td>NaN</td>\n",
              "    </tr>\n",
              "    <tr>\n",
              "      <th>4</th>\n",
              "      <td>2017-08-01 03:00:00</td>\n",
              "      <td>NaN</td>\n",
              "      <td>0</td>\n",
              "      <td>0</td>\n",
              "      <td>NaN</td>\n",
              "    </tr>\n",
              "  </tbody>\n",
              "</table>\n",
              "</div>\n",
              "      <button class=\"colab-df-convert\" onclick=\"convertToInteractive('df-97d9dd1d-cf5b-44ac-917d-c82d37063431')\"\n",
              "              title=\"Convert this dataframe to an interactive table.\"\n",
              "              style=\"display:none;\">\n",
              "        \n",
              "  <svg xmlns=\"http://www.w3.org/2000/svg\" height=\"24px\"viewBox=\"0 0 24 24\"\n",
              "       width=\"24px\">\n",
              "    <path d=\"M0 0h24v24H0V0z\" fill=\"none\"/>\n",
              "    <path d=\"M18.56 5.44l.94 2.06.94-2.06 2.06-.94-2.06-.94-.94-2.06-.94 2.06-2.06.94zm-11 1L8.5 8.5l.94-2.06 2.06-.94-2.06-.94L8.5 2.5l-.94 2.06-2.06.94zm10 10l.94 2.06.94-2.06 2.06-.94-2.06-.94-.94-2.06-.94 2.06-2.06.94z\"/><path d=\"M17.41 7.96l-1.37-1.37c-.4-.4-.92-.59-1.43-.59-.52 0-1.04.2-1.43.59L10.3 9.45l-7.72 7.72c-.78.78-.78 2.05 0 2.83L4 21.41c.39.39.9.59 1.41.59.51 0 1.02-.2 1.41-.59l7.78-7.78 2.81-2.81c.8-.78.8-2.07 0-2.86zM5.41 20L4 18.59l7.72-7.72 1.47 1.35L5.41 20z\"/>\n",
              "  </svg>\n",
              "      </button>\n",
              "      \n",
              "  <style>\n",
              "    .colab-df-container {\n",
              "      display:flex;\n",
              "      flex-wrap:wrap;\n",
              "      gap: 12px;\n",
              "    }\n",
              "\n",
              "    .colab-df-convert {\n",
              "      background-color: #E8F0FE;\n",
              "      border: none;\n",
              "      border-radius: 50%;\n",
              "      cursor: pointer;\n",
              "      display: none;\n",
              "      fill: #1967D2;\n",
              "      height: 32px;\n",
              "      padding: 0 0 0 0;\n",
              "      width: 32px;\n",
              "    }\n",
              "\n",
              "    .colab-df-convert:hover {\n",
              "      background-color: #E2EBFA;\n",
              "      box-shadow: 0px 1px 2px rgba(60, 64, 67, 0.3), 0px 1px 3px 1px rgba(60, 64, 67, 0.15);\n",
              "      fill: #174EA6;\n",
              "    }\n",
              "\n",
              "    [theme=dark] .colab-df-convert {\n",
              "      background-color: #3B4455;\n",
              "      fill: #D2E3FC;\n",
              "    }\n",
              "\n",
              "    [theme=dark] .colab-df-convert:hover {\n",
              "      background-color: #434B5C;\n",
              "      box-shadow: 0px 1px 3px 1px rgba(0, 0, 0, 0.15);\n",
              "      filter: drop-shadow(0px 1px 2px rgba(0, 0, 0, 0.3));\n",
              "      fill: #FFFFFF;\n",
              "    }\n",
              "  </style>\n",
              "\n",
              "      <script>\n",
              "        const buttonEl =\n",
              "          document.querySelector('#df-97d9dd1d-cf5b-44ac-917d-c82d37063431 button.colab-df-convert');\n",
              "        buttonEl.style.display =\n",
              "          google.colab.kernel.accessAllowed ? 'block' : 'none';\n",
              "\n",
              "        async function convertToInteractive(key) {\n",
              "          const element = document.querySelector('#df-97d9dd1d-cf5b-44ac-917d-c82d37063431');\n",
              "          const dataTable =\n",
              "            await google.colab.kernel.invokeFunction('convertToInteractive',\n",
              "                                                     [key], {});\n",
              "          if (!dataTable) return;\n",
              "\n",
              "          const docLinkHtml = 'Like what you see? Visit the ' +\n",
              "            '<a target=\"_blank\" href=https://colab.research.google.com/notebooks/data_table.ipynb>data table notebook</a>'\n",
              "            + ' to learn more about interactive tables.';\n",
              "          element.innerHTML = '';\n",
              "          dataTable['output_type'] = 'display_data';\n",
              "          await google.colab.output.renderOutput(dataTable, element);\n",
              "          const docLink = document.createElement('div');\n",
              "          docLink.innerHTML = docLinkHtml;\n",
              "          element.appendChild(docLink);\n",
              "        }\n",
              "      </script>\n",
              "    </div>\n",
              "  </div>\n",
              "  "
            ]
          },
          "metadata": {},
          "execution_count": 8
        }
      ]
    },
    {
      "cell_type": "code",
      "source": [
        "df_s02.head()"
      ],
      "metadata": {
        "colab": {
          "base_uri": "https://localhost:8080/",
          "height": 443
        },
        "id": "QBjUwnKk5dTW",
        "outputId": "4e563236-7d30-4c05-d9ca-c1d9d9d89ff5"
      },
      "execution_count": 9,
      "outputs": [
        {
          "output_type": "execute_result",
          "data": {
            "text/plain": [
              "            Unnamed: 0 BELISARIO CARAPUNGO CENTRO COTOCOLLAO EL CAMAL GUAMANI  \\\n",
              "0       Fecha \\ Unidad     ug/m3     ug/m3  ug/m3      ug/m3    ug/m3   ug/m3   \n",
              "1  2004-01-01 00:00:00       NaN       NaN   9.58        NaN      NaN     NaN   \n",
              "2  2004-01-01 01:00:00       NaN       NaN   9.43        NaN      NaN     NaN   \n",
              "3  2004-01-01 02:00:00       NaN       NaN   7.49        NaN      NaN     NaN   \n",
              "4  2004-01-01 03:00:00       NaN       NaN   5.31        NaN      NaN     NaN   \n",
              "\n",
              "  LOS CHILLOS TUMBACO CONDADO TURUBAMBA CHILLOGALLO  \n",
              "0       ug/m3   ug/m3   ug/m3     ug/m3       ug/m3  \n",
              "1         NaN     NaN   42.14     39.43         NaN  \n",
              "2         NaN     NaN    66.1     21.11         NaN  \n",
              "3         NaN     NaN   68.52     10.49         NaN  \n",
              "4         NaN     NaN   57.62      6.23         NaN  "
            ],
            "text/html": [
              "\n",
              "  <div id=\"df-2991ec80-1fe2-4b7e-a2b9-fa356787e818\">\n",
              "    <div class=\"colab-df-container\">\n",
              "      <div>\n",
              "<style scoped>\n",
              "    .dataframe tbody tr th:only-of-type {\n",
              "        vertical-align: middle;\n",
              "    }\n",
              "\n",
              "    .dataframe tbody tr th {\n",
              "        vertical-align: top;\n",
              "    }\n",
              "\n",
              "    .dataframe thead th {\n",
              "        text-align: right;\n",
              "    }\n",
              "</style>\n",
              "<table border=\"1\" class=\"dataframe\">\n",
              "  <thead>\n",
              "    <tr style=\"text-align: right;\">\n",
              "      <th></th>\n",
              "      <th>Unnamed: 0</th>\n",
              "      <th>BELISARIO</th>\n",
              "      <th>CARAPUNGO</th>\n",
              "      <th>CENTRO</th>\n",
              "      <th>COTOCOLLAO</th>\n",
              "      <th>EL CAMAL</th>\n",
              "      <th>GUAMANI</th>\n",
              "      <th>LOS CHILLOS</th>\n",
              "      <th>TUMBACO</th>\n",
              "      <th>CONDADO</th>\n",
              "      <th>TURUBAMBA</th>\n",
              "      <th>CHILLOGALLO</th>\n",
              "    </tr>\n",
              "  </thead>\n",
              "  <tbody>\n",
              "    <tr>\n",
              "      <th>0</th>\n",
              "      <td>Fecha \\ Unidad</td>\n",
              "      <td>ug/m3</td>\n",
              "      <td>ug/m3</td>\n",
              "      <td>ug/m3</td>\n",
              "      <td>ug/m3</td>\n",
              "      <td>ug/m3</td>\n",
              "      <td>ug/m3</td>\n",
              "      <td>ug/m3</td>\n",
              "      <td>ug/m3</td>\n",
              "      <td>ug/m3</td>\n",
              "      <td>ug/m3</td>\n",
              "      <td>ug/m3</td>\n",
              "    </tr>\n",
              "    <tr>\n",
              "      <th>1</th>\n",
              "      <td>2004-01-01 00:00:00</td>\n",
              "      <td>NaN</td>\n",
              "      <td>NaN</td>\n",
              "      <td>9.58</td>\n",
              "      <td>NaN</td>\n",
              "      <td>NaN</td>\n",
              "      <td>NaN</td>\n",
              "      <td>NaN</td>\n",
              "      <td>NaN</td>\n",
              "      <td>42.14</td>\n",
              "      <td>39.43</td>\n",
              "      <td>NaN</td>\n",
              "    </tr>\n",
              "    <tr>\n",
              "      <th>2</th>\n",
              "      <td>2004-01-01 01:00:00</td>\n",
              "      <td>NaN</td>\n",
              "      <td>NaN</td>\n",
              "      <td>9.43</td>\n",
              "      <td>NaN</td>\n",
              "      <td>NaN</td>\n",
              "      <td>NaN</td>\n",
              "      <td>NaN</td>\n",
              "      <td>NaN</td>\n",
              "      <td>66.1</td>\n",
              "      <td>21.11</td>\n",
              "      <td>NaN</td>\n",
              "    </tr>\n",
              "    <tr>\n",
              "      <th>3</th>\n",
              "      <td>2004-01-01 02:00:00</td>\n",
              "      <td>NaN</td>\n",
              "      <td>NaN</td>\n",
              "      <td>7.49</td>\n",
              "      <td>NaN</td>\n",
              "      <td>NaN</td>\n",
              "      <td>NaN</td>\n",
              "      <td>NaN</td>\n",
              "      <td>NaN</td>\n",
              "      <td>68.52</td>\n",
              "      <td>10.49</td>\n",
              "      <td>NaN</td>\n",
              "    </tr>\n",
              "    <tr>\n",
              "      <th>4</th>\n",
              "      <td>2004-01-01 03:00:00</td>\n",
              "      <td>NaN</td>\n",
              "      <td>NaN</td>\n",
              "      <td>5.31</td>\n",
              "      <td>NaN</td>\n",
              "      <td>NaN</td>\n",
              "      <td>NaN</td>\n",
              "      <td>NaN</td>\n",
              "      <td>NaN</td>\n",
              "      <td>57.62</td>\n",
              "      <td>6.23</td>\n",
              "      <td>NaN</td>\n",
              "    </tr>\n",
              "  </tbody>\n",
              "</table>\n",
              "</div>\n",
              "      <button class=\"colab-df-convert\" onclick=\"convertToInteractive('df-2991ec80-1fe2-4b7e-a2b9-fa356787e818')\"\n",
              "              title=\"Convert this dataframe to an interactive table.\"\n",
              "              style=\"display:none;\">\n",
              "        \n",
              "  <svg xmlns=\"http://www.w3.org/2000/svg\" height=\"24px\"viewBox=\"0 0 24 24\"\n",
              "       width=\"24px\">\n",
              "    <path d=\"M0 0h24v24H0V0z\" fill=\"none\"/>\n",
              "    <path d=\"M18.56 5.44l.94 2.06.94-2.06 2.06-.94-2.06-.94-.94-2.06-.94 2.06-2.06.94zm-11 1L8.5 8.5l.94-2.06 2.06-.94-2.06-.94L8.5 2.5l-.94 2.06-2.06.94zm10 10l.94 2.06.94-2.06 2.06-.94-2.06-.94-.94-2.06-.94 2.06-2.06.94z\"/><path d=\"M17.41 7.96l-1.37-1.37c-.4-.4-.92-.59-1.43-.59-.52 0-1.04.2-1.43.59L10.3 9.45l-7.72 7.72c-.78.78-.78 2.05 0 2.83L4 21.41c.39.39.9.59 1.41.59.51 0 1.02-.2 1.41-.59l7.78-7.78 2.81-2.81c.8-.78.8-2.07 0-2.86zM5.41 20L4 18.59l7.72-7.72 1.47 1.35L5.41 20z\"/>\n",
              "  </svg>\n",
              "      </button>\n",
              "      \n",
              "  <style>\n",
              "    .colab-df-container {\n",
              "      display:flex;\n",
              "      flex-wrap:wrap;\n",
              "      gap: 12px;\n",
              "    }\n",
              "\n",
              "    .colab-df-convert {\n",
              "      background-color: #E8F0FE;\n",
              "      border: none;\n",
              "      border-radius: 50%;\n",
              "      cursor: pointer;\n",
              "      display: none;\n",
              "      fill: #1967D2;\n",
              "      height: 32px;\n",
              "      padding: 0 0 0 0;\n",
              "      width: 32px;\n",
              "    }\n",
              "\n",
              "    .colab-df-convert:hover {\n",
              "      background-color: #E2EBFA;\n",
              "      box-shadow: 0px 1px 2px rgba(60, 64, 67, 0.3), 0px 1px 3px 1px rgba(60, 64, 67, 0.15);\n",
              "      fill: #174EA6;\n",
              "    }\n",
              "\n",
              "    [theme=dark] .colab-df-convert {\n",
              "      background-color: #3B4455;\n",
              "      fill: #D2E3FC;\n",
              "    }\n",
              "\n",
              "    [theme=dark] .colab-df-convert:hover {\n",
              "      background-color: #434B5C;\n",
              "      box-shadow: 0px 1px 3px 1px rgba(0, 0, 0, 0.15);\n",
              "      filter: drop-shadow(0px 1px 2px rgba(0, 0, 0, 0.3));\n",
              "      fill: #FFFFFF;\n",
              "    }\n",
              "  </style>\n",
              "\n",
              "      <script>\n",
              "        const buttonEl =\n",
              "          document.querySelector('#df-2991ec80-1fe2-4b7e-a2b9-fa356787e818 button.colab-df-convert');\n",
              "        buttonEl.style.display =\n",
              "          google.colab.kernel.accessAllowed ? 'block' : 'none';\n",
              "\n",
              "        async function convertToInteractive(key) {\n",
              "          const element = document.querySelector('#df-2991ec80-1fe2-4b7e-a2b9-fa356787e818');\n",
              "          const dataTable =\n",
              "            await google.colab.kernel.invokeFunction('convertToInteractive',\n",
              "                                                     [key], {});\n",
              "          if (!dataTable) return;\n",
              "\n",
              "          const docLinkHtml = 'Like what you see? Visit the ' +\n",
              "            '<a target=\"_blank\" href=https://colab.research.google.com/notebooks/data_table.ipynb>data table notebook</a>'\n",
              "            + ' to learn more about interactive tables.';\n",
              "          element.innerHTML = '';\n",
              "          dataTable['output_type'] = 'display_data';\n",
              "          await google.colab.output.renderOutput(dataTable, element);\n",
              "          const docLink = document.createElement('div');\n",
              "          docLink.innerHTML = docLinkHtml;\n",
              "          element.appendChild(docLink);\n",
              "        }\n",
              "      </script>\n",
              "    </div>\n",
              "  </div>\n",
              "  "
            ]
          },
          "metadata": {},
          "execution_count": 9
        }
      ]
    },
    {
      "cell_type": "code",
      "source": [
        "df_tmp.head()"
      ],
      "metadata": {
        "colab": {
          "base_uri": "https://localhost:8080/",
          "height": 443
        },
        "id": "G7H-gysi5hy-",
        "outputId": "448d630c-41b4-4572-f4ac-51bf9d008b9e"
      },
      "execution_count": 10,
      "outputs": [
        {
          "output_type": "execute_result",
          "data": {
            "text/plain": [
              "            Unnamed: 0 Belisario Carapungo Centro Cotocollao ElCamal Guamaní  \\\n",
              "0       Fecha \\ Unidad        °C        °C     °C         °C      °C      °C   \n",
              "1  2004-01-01 00:00:00      9.93     12.73    NaN      10.41   12.57     NaN   \n",
              "2  2004-01-01 01:00:00      9.14     12.58    NaN       9.76   12.16     NaN   \n",
              "3  2004-01-01 02:00:00      8.71     12.12    NaN       9.49   11.87     NaN   \n",
              "4  2004-01-01 03:00:00      8.63     11.94    NaN       9.44   11.38     NaN   \n",
              "\n",
              "  LosChillos SanAntonio Tumbaco  Unnamed: 10  Unnamed: 11  Unnamed: 12  \\\n",
              "0         °C         °C      °C          NaN          NaN          NaN   \n",
              "1       9.95        NaN   12.36          NaN          NaN          NaN   \n",
              "2       8.77        NaN   11.87          NaN          NaN          NaN   \n",
              "3       8.35        NaN   11.82          NaN          NaN          NaN   \n",
              "4       8.01        NaN   11.62          NaN          NaN          NaN   \n",
              "\n",
              "  Unnamed: 13  \n",
              "0         NaN  \n",
              "1         NaN  \n",
              "2         NaN  \n",
              "3         NaN  \n",
              "4         NaN  "
            ],
            "text/html": [
              "\n",
              "  <div id=\"df-2e28f8f2-73cf-4485-9e70-9ffbdbea4037\">\n",
              "    <div class=\"colab-df-container\">\n",
              "      <div>\n",
              "<style scoped>\n",
              "    .dataframe tbody tr th:only-of-type {\n",
              "        vertical-align: middle;\n",
              "    }\n",
              "\n",
              "    .dataframe tbody tr th {\n",
              "        vertical-align: top;\n",
              "    }\n",
              "\n",
              "    .dataframe thead th {\n",
              "        text-align: right;\n",
              "    }\n",
              "</style>\n",
              "<table border=\"1\" class=\"dataframe\">\n",
              "  <thead>\n",
              "    <tr style=\"text-align: right;\">\n",
              "      <th></th>\n",
              "      <th>Unnamed: 0</th>\n",
              "      <th>Belisario</th>\n",
              "      <th>Carapungo</th>\n",
              "      <th>Centro</th>\n",
              "      <th>Cotocollao</th>\n",
              "      <th>ElCamal</th>\n",
              "      <th>Guamaní</th>\n",
              "      <th>LosChillos</th>\n",
              "      <th>SanAntonio</th>\n",
              "      <th>Tumbaco</th>\n",
              "      <th>Unnamed: 10</th>\n",
              "      <th>Unnamed: 11</th>\n",
              "      <th>Unnamed: 12</th>\n",
              "      <th>Unnamed: 13</th>\n",
              "    </tr>\n",
              "  </thead>\n",
              "  <tbody>\n",
              "    <tr>\n",
              "      <th>0</th>\n",
              "      <td>Fecha \\ Unidad</td>\n",
              "      <td>°C</td>\n",
              "      <td>°C</td>\n",
              "      <td>°C</td>\n",
              "      <td>°C</td>\n",
              "      <td>°C</td>\n",
              "      <td>°C</td>\n",
              "      <td>°C</td>\n",
              "      <td>°C</td>\n",
              "      <td>°C</td>\n",
              "      <td>NaN</td>\n",
              "      <td>NaN</td>\n",
              "      <td>NaN</td>\n",
              "      <td>NaN</td>\n",
              "    </tr>\n",
              "    <tr>\n",
              "      <th>1</th>\n",
              "      <td>2004-01-01 00:00:00</td>\n",
              "      <td>9.93</td>\n",
              "      <td>12.73</td>\n",
              "      <td>NaN</td>\n",
              "      <td>10.41</td>\n",
              "      <td>12.57</td>\n",
              "      <td>NaN</td>\n",
              "      <td>9.95</td>\n",
              "      <td>NaN</td>\n",
              "      <td>12.36</td>\n",
              "      <td>NaN</td>\n",
              "      <td>NaN</td>\n",
              "      <td>NaN</td>\n",
              "      <td>NaN</td>\n",
              "    </tr>\n",
              "    <tr>\n",
              "      <th>2</th>\n",
              "      <td>2004-01-01 01:00:00</td>\n",
              "      <td>9.14</td>\n",
              "      <td>12.58</td>\n",
              "      <td>NaN</td>\n",
              "      <td>9.76</td>\n",
              "      <td>12.16</td>\n",
              "      <td>NaN</td>\n",
              "      <td>8.77</td>\n",
              "      <td>NaN</td>\n",
              "      <td>11.87</td>\n",
              "      <td>NaN</td>\n",
              "      <td>NaN</td>\n",
              "      <td>NaN</td>\n",
              "      <td>NaN</td>\n",
              "    </tr>\n",
              "    <tr>\n",
              "      <th>3</th>\n",
              "      <td>2004-01-01 02:00:00</td>\n",
              "      <td>8.71</td>\n",
              "      <td>12.12</td>\n",
              "      <td>NaN</td>\n",
              "      <td>9.49</td>\n",
              "      <td>11.87</td>\n",
              "      <td>NaN</td>\n",
              "      <td>8.35</td>\n",
              "      <td>NaN</td>\n",
              "      <td>11.82</td>\n",
              "      <td>NaN</td>\n",
              "      <td>NaN</td>\n",
              "      <td>NaN</td>\n",
              "      <td>NaN</td>\n",
              "    </tr>\n",
              "    <tr>\n",
              "      <th>4</th>\n",
              "      <td>2004-01-01 03:00:00</td>\n",
              "      <td>8.63</td>\n",
              "      <td>11.94</td>\n",
              "      <td>NaN</td>\n",
              "      <td>9.44</td>\n",
              "      <td>11.38</td>\n",
              "      <td>NaN</td>\n",
              "      <td>8.01</td>\n",
              "      <td>NaN</td>\n",
              "      <td>11.62</td>\n",
              "      <td>NaN</td>\n",
              "      <td>NaN</td>\n",
              "      <td>NaN</td>\n",
              "      <td>NaN</td>\n",
              "    </tr>\n",
              "  </tbody>\n",
              "</table>\n",
              "</div>\n",
              "      <button class=\"colab-df-convert\" onclick=\"convertToInteractive('df-2e28f8f2-73cf-4485-9e70-9ffbdbea4037')\"\n",
              "              title=\"Convert this dataframe to an interactive table.\"\n",
              "              style=\"display:none;\">\n",
              "        \n",
              "  <svg xmlns=\"http://www.w3.org/2000/svg\" height=\"24px\"viewBox=\"0 0 24 24\"\n",
              "       width=\"24px\">\n",
              "    <path d=\"M0 0h24v24H0V0z\" fill=\"none\"/>\n",
              "    <path d=\"M18.56 5.44l.94 2.06.94-2.06 2.06-.94-2.06-.94-.94-2.06-.94 2.06-2.06.94zm-11 1L8.5 8.5l.94-2.06 2.06-.94-2.06-.94L8.5 2.5l-.94 2.06-2.06.94zm10 10l.94 2.06.94-2.06 2.06-.94-2.06-.94-.94-2.06-.94 2.06-2.06.94z\"/><path d=\"M17.41 7.96l-1.37-1.37c-.4-.4-.92-.59-1.43-.59-.52 0-1.04.2-1.43.59L10.3 9.45l-7.72 7.72c-.78.78-.78 2.05 0 2.83L4 21.41c.39.39.9.59 1.41.59.51 0 1.02-.2 1.41-.59l7.78-7.78 2.81-2.81c.8-.78.8-2.07 0-2.86zM5.41 20L4 18.59l7.72-7.72 1.47 1.35L5.41 20z\"/>\n",
              "  </svg>\n",
              "      </button>\n",
              "      \n",
              "  <style>\n",
              "    .colab-df-container {\n",
              "      display:flex;\n",
              "      flex-wrap:wrap;\n",
              "      gap: 12px;\n",
              "    }\n",
              "\n",
              "    .colab-df-convert {\n",
              "      background-color: #E8F0FE;\n",
              "      border: none;\n",
              "      border-radius: 50%;\n",
              "      cursor: pointer;\n",
              "      display: none;\n",
              "      fill: #1967D2;\n",
              "      height: 32px;\n",
              "      padding: 0 0 0 0;\n",
              "      width: 32px;\n",
              "    }\n",
              "\n",
              "    .colab-df-convert:hover {\n",
              "      background-color: #E2EBFA;\n",
              "      box-shadow: 0px 1px 2px rgba(60, 64, 67, 0.3), 0px 1px 3px 1px rgba(60, 64, 67, 0.15);\n",
              "      fill: #174EA6;\n",
              "    }\n",
              "\n",
              "    [theme=dark] .colab-df-convert {\n",
              "      background-color: #3B4455;\n",
              "      fill: #D2E3FC;\n",
              "    }\n",
              "\n",
              "    [theme=dark] .colab-df-convert:hover {\n",
              "      background-color: #434B5C;\n",
              "      box-shadow: 0px 1px 3px 1px rgba(0, 0, 0, 0.15);\n",
              "      filter: drop-shadow(0px 1px 2px rgba(0, 0, 0, 0.3));\n",
              "      fill: #FFFFFF;\n",
              "    }\n",
              "  </style>\n",
              "\n",
              "      <script>\n",
              "        const buttonEl =\n",
              "          document.querySelector('#df-2e28f8f2-73cf-4485-9e70-9ffbdbea4037 button.colab-df-convert');\n",
              "        buttonEl.style.display =\n",
              "          google.colab.kernel.accessAllowed ? 'block' : 'none';\n",
              "\n",
              "        async function convertToInteractive(key) {\n",
              "          const element = document.querySelector('#df-2e28f8f2-73cf-4485-9e70-9ffbdbea4037');\n",
              "          const dataTable =\n",
              "            await google.colab.kernel.invokeFunction('convertToInteractive',\n",
              "                                                     [key], {});\n",
              "          if (!dataTable) return;\n",
              "\n",
              "          const docLinkHtml = 'Like what you see? Visit the ' +\n",
              "            '<a target=\"_blank\" href=https://colab.research.google.com/notebooks/data_table.ipynb>data table notebook</a>'\n",
              "            + ' to learn more about interactive tables.';\n",
              "          element.innerHTML = '';\n",
              "          dataTable['output_type'] = 'display_data';\n",
              "          await google.colab.output.renderOutput(dataTable, element);\n",
              "          const docLink = document.createElement('div');\n",
              "          docLink.innerHTML = docLinkHtml;\n",
              "          element.appendChild(docLink);\n",
              "        }\n",
              "      </script>\n",
              "    </div>\n",
              "  </div>\n",
              "  "
            ]
          },
          "metadata": {},
          "execution_count": 10
        }
      ]
    },
    {
      "cell_type": "markdown",
      "source": [
        "3. ¿Cuál es el objetivo?\n",
        "* El objetivo es usar los datos meteorológicos de Quito para, encontrar como ha ido variando los distintos parámetros meteorológicos con el tiempo. Averiguar que tan predecible es el clima de Quito si sabemos algunos parámetros de antemano. Averiguar la magnitud y variación del calentamiento global en los últimos 20 años en la ciudad. Así mismo podríamos averiguar si la contaminación en la ciudad incrementa con el tiempo, y cuales son los sectores más afectados. Estos serían algunos estudios que podríamos hacer."
      ],
      "metadata": {
        "id": "4GURpxUw6rtv"
      }
    },
    {
      "cell_type": "markdown",
      "source": [
        "4. ¿Este es un problema de clasificación o regresión?\n",
        "* Es un problema de regresión."
      ],
      "metadata": {
        "id": "pfTZ7TwS8OKv"
      }
    },
    {
      "cell_type": "markdown",
      "source": [
        "5. ¿Cuántas características hay?\n",
        "Tenemos 14 características, probablemente se reduzca a 13 ya que df_dir (dirección del viento) no sería de mucha utilidad."
      ],
      "metadata": {
        "id": "fvKBsR_c8Tcf"
      }
    },
    {
      "cell_type": "markdown",
      "source": [
        "6. ¿Cuántas filas de datos hay?\n"
      ],
      "metadata": {
        "id": "FY4t4wxA8iMP"
      }
    },
    {
      "cell_type": "code",
      "source": [
        "df_co.shape"
      ],
      "metadata": {
        "colab": {
          "base_uri": "https://localhost:8080/"
        },
        "id": "Lb0cweFo8pXf",
        "outputId": "1753ec4c-b05d-44e1-e97a-c64c9de0386e"
      },
      "execution_count": 12,
      "outputs": [
        {
          "output_type": "execute_result",
          "data": {
            "text/plain": [
              "(167305, 12)"
            ]
          },
          "metadata": {},
          "execution_count": 12
        }
      ]
    },
    {
      "cell_type": "code",
      "source": [
        "df_hum.shape"
      ],
      "metadata": {
        "colab": {
          "base_uri": "https://localhost:8080/"
        },
        "id": "zSvKOSE0840X",
        "outputId": "a7625b5f-8f9c-4614-ffeb-b5de47212619"
      },
      "execution_count": 13,
      "outputs": [
        {
          "output_type": "execute_result",
          "data": {
            "text/plain": [
              "(167305, 10)"
            ]
          },
          "metadata": {},
          "execution_count": 13
        }
      ]
    },
    {
      "cell_type": "code",
      "source": [
        "df_iuv.shape"
      ],
      "metadata": {
        "colab": {
          "base_uri": "https://localhost:8080/"
        },
        "id": "2ka7G69z88OP",
        "outputId": "de4e1bc7-1c93-4efa-f11e-395dbd2894a6"
      },
      "execution_count": 14,
      "outputs": [
        {
          "output_type": "execute_result",
          "data": {
            "text/plain": [
              "(48241, 5)"
            ]
          },
          "metadata": {},
          "execution_count": 14
        }
      ]
    },
    {
      "cell_type": "code",
      "source": [
        "df_pre.shape"
      ],
      "metadata": {
        "colab": {
          "base_uri": "https://localhost:8080/"
        },
        "id": "LFDC4rgD9Abf",
        "outputId": "03d1dbba-06dc-4b78-d7af-264a5f2acd68"
      },
      "execution_count": 15,
      "outputs": [
        {
          "output_type": "execute_result",
          "data": {
            "text/plain": [
              "(167305, 10)"
            ]
          },
          "metadata": {},
          "execution_count": 15
        }
      ]
    },
    {
      "cell_type": "markdown",
      "source": [
        "El número de filas depende del parámetros, en algunos casos son de 167305 filas y otros 48241 filas, depende del intervalo de tiempo de registro de los distintos parámetros."
      ],
      "metadata": {
        "id": "mSQ3GShX9FA2"
      }
    },
    {
      "cell_type": "markdown",
      "source": [
        "7. ¿Qué retos, si es que hay alguno, prevén en la limpieza, exploración o modelización con este conjunto de datos?"
      ],
      "metadata": {
        "id": "LA1hPDM59Zp2"
      }
    },
    {
      "cell_type": "code",
      "source": [
        "df_co.info()"
      ],
      "metadata": {
        "colab": {
          "base_uri": "https://localhost:8080/"
        },
        "id": "AUbGYZkR9dHu",
        "outputId": "e006ea4e-8f5c-45a1-c286-5b282da8508a"
      },
      "execution_count": 17,
      "outputs": [
        {
          "output_type": "stream",
          "name": "stdout",
          "text": [
            "<class 'pandas.core.frame.DataFrame'>\n",
            "RangeIndex: 167305 entries, 0 to 167304\n",
            "Data columns (total 12 columns):\n",
            " #   Column       Non-Null Count   Dtype \n",
            "---  ------       --------------   ----- \n",
            " 0   Unnamed: 0   167305 non-null  object\n",
            " 1   BELISARIO    162741 non-null  object\n",
            " 2   CARAPUNGO    153184 non-null  object\n",
            " 3   CENTRO       160146 non-null  object\n",
            " 4   COTOCOLLAO   153173 non-null  object\n",
            " 5   EL CAMAL     142986 non-null  object\n",
            " 6   GUAMANI      152237 non-null  object\n",
            " 7   LOS CHILLOS  76540 non-null   object\n",
            " 8   TUMBACO      30155 non-null   object\n",
            " 9   CONDADO      9703 non-null    object\n",
            " 10  TURUBAMBA    9870 non-null    object\n",
            " 11  CHILLOGALLO  1 non-null       object\n",
            "dtypes: object(12)\n",
            "memory usage: 15.3+ MB\n"
          ]
        }
      ]
    },
    {
      "cell_type": "code",
      "source": [
        "df_pre.info()"
      ],
      "metadata": {
        "colab": {
          "base_uri": "https://localhost:8080/"
        },
        "id": "MMx5jqLj9uPG",
        "outputId": "8b9847bd-1d4a-4d5b-a1e7-56eb689ea189"
      },
      "execution_count": 18,
      "outputs": [
        {
          "output_type": "stream",
          "name": "stdout",
          "text": [
            "<class 'pandas.core.frame.DataFrame'>\n",
            "RangeIndex: 167305 entries, 0 to 167304\n",
            "Data columns (total 10 columns):\n",
            " #   Column      Non-Null Count   Dtype \n",
            "---  ------      --------------   ----- \n",
            " 0   Unnamed: 0  167305 non-null  object\n",
            " 1   Belisario   164929 non-null  object\n",
            " 2   Carapungo   163173 non-null  object\n",
            " 3   Centro      36141 non-null   object\n",
            " 4   Cotocollao  164453 non-null  object\n",
            " 5   ElCamal     144771 non-null  object\n",
            " 6   Guamaní     52137 non-null   object\n",
            " 7   LosChillos  164485 non-null  object\n",
            " 8   SanAntonio  50861 non-null   object\n",
            " 9   Tumbaco     161065 non-null  object\n",
            "dtypes: object(10)\n",
            "memory usage: 12.8+ MB\n"
          ]
        }
      ]
    },
    {
      "cell_type": "code",
      "source": [
        "df_iuv.info()"
      ],
      "metadata": {
        "colab": {
          "base_uri": "https://localhost:8080/"
        },
        "id": "yFrKzwZ990D2",
        "outputId": "06a22dec-f85c-4083-f522-98a17d1cc5c8"
      },
      "execution_count": 19,
      "outputs": [
        {
          "output_type": "stream",
          "name": "stdout",
          "text": [
            "<class 'pandas.core.frame.DataFrame'>\n",
            "RangeIndex: 48241 entries, 0 to 48240\n",
            "Data columns (total 5 columns):\n",
            " #   Column      Non-Null Count  Dtype \n",
            "---  ------      --------------  ----- \n",
            " 0   Unnamed: 0  48241 non-null  object\n",
            " 1   Centro      36573 non-null  object\n",
            " 2   Cotocollao  40330 non-null  object\n",
            " 3   Guamani     25326 non-null  object\n",
            " 4   Jipijapa    35425 non-null  object\n",
            "dtypes: object(5)\n",
            "memory usage: 1.8+ MB\n"
          ]
        }
      ]
    },
    {
      "cell_type": "markdown",
      "source": [
        "En la limpieza de datos nos enfrentamos a celdas vacías y que los parámetros no tienen registros en todos los sectores de la ciudad, más bien el regitro de los parámetros depende del lugar, hay lugares que no tienen registros de ciertos parámetros."
      ],
      "metadata": {
        "id": "mpGGmcD294fe"
      }
    },
    {
      "cell_type": "markdown",
      "source": [
        "## Conjunto de datos 2\n",
        "**Ventas y compras mensualmente**"
      ],
      "metadata": {
        "id": "a9I5p-5q-dof"
      }
    },
    {
      "cell_type": "markdown",
      "source": [
        "1. Fuente de datos\n",
        "* Los datos de ventas y compras mensualmente, por provincia y actividad económica provienen de los datasets del sri (https://www.sri.gob.ec/datasets)"
      ],
      "metadata": {
        "id": "XzV1D-wsOlzY"
      }
    },
    {
      "cell_type": "markdown",
      "source": [
        "2. Breve descripción de datos\n",
        "* Los datos de ventas y compras, son datos de empresas registradas en el SRI. Los datos se encuentran en archivos por año, en este caso se presentan los datos del año 2017."
      ],
      "metadata": {
        "id": "AlixcuDOPTgo"
      }
    },
    {
      "cell_type": "code",
      "source": [
        "df_ventas = pd.read_csv(\"/content/drive/MyDrive/Codificación de Dojo/Proyecto2/ventas_sri/sri_ventas_2017.csv\", sep=\";\",encoding='ISO-8859-1')"
      ],
      "metadata": {
        "id": "LL11yaw-X937"
      },
      "execution_count": 44,
      "outputs": []
    },
    {
      "cell_type": "code",
      "source": [
        "df_ventas.head()"
      ],
      "metadata": {
        "colab": {
          "base_uri": "https://localhost:8080/",
          "height": 305
        },
        "id": "MrMCh6fvYWw4",
        "outputId": "8d426ace-7e40-4c8b-c673-a37b0b13d830"
      },
      "execution_count": 45,
      "outputs": [
        {
          "output_type": "execute_result",
          "data": {
            "text/plain": [
              "    AÑO  MES CODIGO_SECTOR_N1   PROVINCIA      CANTON Ventas netas tarifa 12%  \\\n",
              "0  2017   11                C   PICHINCHA       QUITO            674109759,63   \n",
              "1  2017    8                C      MANABI  PORTOVIEJO              3531004,05   \n",
              "2  2017    5                L  TUNGURAHUA      AMBATO               3375473,7   \n",
              "3  2017   11                P      GUAYAS   GUAYAQUIL              4001576,28   \n",
              "4  2017    1                G      MANABI  PEDERNALES              2779580,87   \n",
              "\n",
              "  Ventas netas tarifa 0% EXPORTACIONES Compras netas tarifa 12%  \\\n",
              "0           157733836,78   48962950,83             293915481,96   \n",
              "1             1817252,77     931147,88               2894980,12   \n",
              "2             1275353,35             0               1726147,81   \n",
              "3            34262278,02             0              16130416,09   \n",
              "4             3359265,24    1356437,73               3092834,67   \n",
              "\n",
              "  Compras netas tarifa 0% IMPORTACIONES COMPRAS_RISE TOTAL_COMPRAS  \\\n",
              "0            126863353,05  229887459,47   1848572,32  663526526,28   \n",
              "1              1779175,07      15828,28     72562,35    4762545,82   \n",
              "2               512450,62       8830,71     22338,29    2269767,43   \n",
              "3              4974618,79      28440,65    170121,94   21303887,37   \n",
              "4              4144722,44       94202,1     35147,97    7366907,18   \n",
              "\n",
              "   TOTAL_VENTAS  \n",
              "0  880806547,24  \n",
              "1     6279404,7  \n",
              "2    4650827,05  \n",
              "3    38263854,3  \n",
              "4    7495283,84  "
            ],
            "text/html": [
              "\n",
              "  <div id=\"df-447c478f-952e-420e-91aa-896833c32b4f\">\n",
              "    <div class=\"colab-df-container\">\n",
              "      <div>\n",
              "<style scoped>\n",
              "    .dataframe tbody tr th:only-of-type {\n",
              "        vertical-align: middle;\n",
              "    }\n",
              "\n",
              "    .dataframe tbody tr th {\n",
              "        vertical-align: top;\n",
              "    }\n",
              "\n",
              "    .dataframe thead th {\n",
              "        text-align: right;\n",
              "    }\n",
              "</style>\n",
              "<table border=\"1\" class=\"dataframe\">\n",
              "  <thead>\n",
              "    <tr style=\"text-align: right;\">\n",
              "      <th></th>\n",
              "      <th>AÑO</th>\n",
              "      <th>MES</th>\n",
              "      <th>CODIGO_SECTOR_N1</th>\n",
              "      <th>PROVINCIA</th>\n",
              "      <th>CANTON</th>\n",
              "      <th>Ventas netas tarifa 12%</th>\n",
              "      <th>Ventas netas tarifa 0%</th>\n",
              "      <th>EXPORTACIONES</th>\n",
              "      <th>Compras netas tarifa 12%</th>\n",
              "      <th>Compras netas tarifa 0%</th>\n",
              "      <th>IMPORTACIONES</th>\n",
              "      <th>COMPRAS_RISE</th>\n",
              "      <th>TOTAL_COMPRAS</th>\n",
              "      <th>TOTAL_VENTAS</th>\n",
              "    </tr>\n",
              "  </thead>\n",
              "  <tbody>\n",
              "    <tr>\n",
              "      <th>0</th>\n",
              "      <td>2017</td>\n",
              "      <td>11</td>\n",
              "      <td>C</td>\n",
              "      <td>PICHINCHA</td>\n",
              "      <td>QUITO</td>\n",
              "      <td>674109759,63</td>\n",
              "      <td>157733836,78</td>\n",
              "      <td>48962950,83</td>\n",
              "      <td>293915481,96</td>\n",
              "      <td>126863353,05</td>\n",
              "      <td>229887459,47</td>\n",
              "      <td>1848572,32</td>\n",
              "      <td>663526526,28</td>\n",
              "      <td>880806547,24</td>\n",
              "    </tr>\n",
              "    <tr>\n",
              "      <th>1</th>\n",
              "      <td>2017</td>\n",
              "      <td>8</td>\n",
              "      <td>C</td>\n",
              "      <td>MANABI</td>\n",
              "      <td>PORTOVIEJO</td>\n",
              "      <td>3531004,05</td>\n",
              "      <td>1817252,77</td>\n",
              "      <td>931147,88</td>\n",
              "      <td>2894980,12</td>\n",
              "      <td>1779175,07</td>\n",
              "      <td>15828,28</td>\n",
              "      <td>72562,35</td>\n",
              "      <td>4762545,82</td>\n",
              "      <td>6279404,7</td>\n",
              "    </tr>\n",
              "    <tr>\n",
              "      <th>2</th>\n",
              "      <td>2017</td>\n",
              "      <td>5</td>\n",
              "      <td>L</td>\n",
              "      <td>TUNGURAHUA</td>\n",
              "      <td>AMBATO</td>\n",
              "      <td>3375473,7</td>\n",
              "      <td>1275353,35</td>\n",
              "      <td>0</td>\n",
              "      <td>1726147,81</td>\n",
              "      <td>512450,62</td>\n",
              "      <td>8830,71</td>\n",
              "      <td>22338,29</td>\n",
              "      <td>2269767,43</td>\n",
              "      <td>4650827,05</td>\n",
              "    </tr>\n",
              "    <tr>\n",
              "      <th>3</th>\n",
              "      <td>2017</td>\n",
              "      <td>11</td>\n",
              "      <td>P</td>\n",
              "      <td>GUAYAS</td>\n",
              "      <td>GUAYAQUIL</td>\n",
              "      <td>4001576,28</td>\n",
              "      <td>34262278,02</td>\n",
              "      <td>0</td>\n",
              "      <td>16130416,09</td>\n",
              "      <td>4974618,79</td>\n",
              "      <td>28440,65</td>\n",
              "      <td>170121,94</td>\n",
              "      <td>21303887,37</td>\n",
              "      <td>38263854,3</td>\n",
              "    </tr>\n",
              "    <tr>\n",
              "      <th>4</th>\n",
              "      <td>2017</td>\n",
              "      <td>1</td>\n",
              "      <td>G</td>\n",
              "      <td>MANABI</td>\n",
              "      <td>PEDERNALES</td>\n",
              "      <td>2779580,87</td>\n",
              "      <td>3359265,24</td>\n",
              "      <td>1356437,73</td>\n",
              "      <td>3092834,67</td>\n",
              "      <td>4144722,44</td>\n",
              "      <td>94202,1</td>\n",
              "      <td>35147,97</td>\n",
              "      <td>7366907,18</td>\n",
              "      <td>7495283,84</td>\n",
              "    </tr>\n",
              "  </tbody>\n",
              "</table>\n",
              "</div>\n",
              "      <button class=\"colab-df-convert\" onclick=\"convertToInteractive('df-447c478f-952e-420e-91aa-896833c32b4f')\"\n",
              "              title=\"Convert this dataframe to an interactive table.\"\n",
              "              style=\"display:none;\">\n",
              "        \n",
              "  <svg xmlns=\"http://www.w3.org/2000/svg\" height=\"24px\"viewBox=\"0 0 24 24\"\n",
              "       width=\"24px\">\n",
              "    <path d=\"M0 0h24v24H0V0z\" fill=\"none\"/>\n",
              "    <path d=\"M18.56 5.44l.94 2.06.94-2.06 2.06-.94-2.06-.94-.94-2.06-.94 2.06-2.06.94zm-11 1L8.5 8.5l.94-2.06 2.06-.94-2.06-.94L8.5 2.5l-.94 2.06-2.06.94zm10 10l.94 2.06.94-2.06 2.06-.94-2.06-.94-.94-2.06-.94 2.06-2.06.94z\"/><path d=\"M17.41 7.96l-1.37-1.37c-.4-.4-.92-.59-1.43-.59-.52 0-1.04.2-1.43.59L10.3 9.45l-7.72 7.72c-.78.78-.78 2.05 0 2.83L4 21.41c.39.39.9.59 1.41.59.51 0 1.02-.2 1.41-.59l7.78-7.78 2.81-2.81c.8-.78.8-2.07 0-2.86zM5.41 20L4 18.59l7.72-7.72 1.47 1.35L5.41 20z\"/>\n",
              "  </svg>\n",
              "      </button>\n",
              "      \n",
              "  <style>\n",
              "    .colab-df-container {\n",
              "      display:flex;\n",
              "      flex-wrap:wrap;\n",
              "      gap: 12px;\n",
              "    }\n",
              "\n",
              "    .colab-df-convert {\n",
              "      background-color: #E8F0FE;\n",
              "      border: none;\n",
              "      border-radius: 50%;\n",
              "      cursor: pointer;\n",
              "      display: none;\n",
              "      fill: #1967D2;\n",
              "      height: 32px;\n",
              "      padding: 0 0 0 0;\n",
              "      width: 32px;\n",
              "    }\n",
              "\n",
              "    .colab-df-convert:hover {\n",
              "      background-color: #E2EBFA;\n",
              "      box-shadow: 0px 1px 2px rgba(60, 64, 67, 0.3), 0px 1px 3px 1px rgba(60, 64, 67, 0.15);\n",
              "      fill: #174EA6;\n",
              "    }\n",
              "\n",
              "    [theme=dark] .colab-df-convert {\n",
              "      background-color: #3B4455;\n",
              "      fill: #D2E3FC;\n",
              "    }\n",
              "\n",
              "    [theme=dark] .colab-df-convert:hover {\n",
              "      background-color: #434B5C;\n",
              "      box-shadow: 0px 1px 3px 1px rgba(0, 0, 0, 0.15);\n",
              "      filter: drop-shadow(0px 1px 2px rgba(0, 0, 0, 0.3));\n",
              "      fill: #FFFFFF;\n",
              "    }\n",
              "  </style>\n",
              "\n",
              "      <script>\n",
              "        const buttonEl =\n",
              "          document.querySelector('#df-447c478f-952e-420e-91aa-896833c32b4f button.colab-df-convert');\n",
              "        buttonEl.style.display =\n",
              "          google.colab.kernel.accessAllowed ? 'block' : 'none';\n",
              "\n",
              "        async function convertToInteractive(key) {\n",
              "          const element = document.querySelector('#df-447c478f-952e-420e-91aa-896833c32b4f');\n",
              "          const dataTable =\n",
              "            await google.colab.kernel.invokeFunction('convertToInteractive',\n",
              "                                                     [key], {});\n",
              "          if (!dataTable) return;\n",
              "\n",
              "          const docLinkHtml = 'Like what you see? Visit the ' +\n",
              "            '<a target=\"_blank\" href=https://colab.research.google.com/notebooks/data_table.ipynb>data table notebook</a>'\n",
              "            + ' to learn more about interactive tables.';\n",
              "          element.innerHTML = '';\n",
              "          dataTable['output_type'] = 'display_data';\n",
              "          await google.colab.output.renderOutput(dataTable, element);\n",
              "          const docLink = document.createElement('div');\n",
              "          docLink.innerHTML = docLinkHtml;\n",
              "          element.appendChild(docLink);\n",
              "        }\n",
              "      </script>\n",
              "    </div>\n",
              "  </div>\n",
              "  "
            ]
          },
          "metadata": {},
          "execution_count": 45
        }
      ]
    },
    {
      "cell_type": "markdown",
      "source": [
        "3. ¿Cuál es el objetivo?\n",
        "* El objetivo es predecir el total de ventas de las distintas empresas conociendo algúnas características como las compras, exportaciones, importaciones entre otras variables."
      ],
      "metadata": {
        "id": "SAbb5wOkPu2_"
      }
    },
    {
      "cell_type": "markdown",
      "source": [
        "4. ¿Este es un problema de clasificación o regresión?\n",
        "* Este es un problema de regresión"
      ],
      "metadata": {
        "id": "8RWQbwo6aBxp"
      }
    },
    {
      "cell_type": "markdown",
      "source": [
        "5. ¿Cuántas características hay?\n",
        "* Hay 13 características"
      ],
      "metadata": {
        "id": "Xxzf1L5AaNwA"
      }
    },
    {
      "cell_type": "code",
      "source": [
        "df_ventas.info()"
      ],
      "metadata": {
        "colab": {
          "base_uri": "https://localhost:8080/"
        },
        "id": "1z_D7dmdaJqA",
        "outputId": "32bd83d0-98b3-4271-a7b2-4cc423d594dd"
      },
      "execution_count": 46,
      "outputs": [
        {
          "output_type": "stream",
          "name": "stdout",
          "text": [
            "<class 'pandas.core.frame.DataFrame'>\n",
            "RangeIndex: 50313 entries, 0 to 50312\n",
            "Data columns (total 14 columns):\n",
            " #   Column                    Non-Null Count  Dtype \n",
            "---  ------                    --------------  ----- \n",
            " 0   AÑO                       50313 non-null  int64 \n",
            " 1   MES                       50313 non-null  int64 \n",
            " 2   CODIGO_SECTOR_N1          50313 non-null  object\n",
            " 3   PROVINCIA                 50313 non-null  object\n",
            " 4   CANTON                    50313 non-null  object\n",
            " 5   Ventas netas tarifa 12%   50313 non-null  object\n",
            " 6   Ventas netas tarifa 0%    50313 non-null  object\n",
            " 7   EXPORTACIONES             42568 non-null  object\n",
            " 8   Compras netas tarifa 12%  50313 non-null  object\n",
            " 9   Compras netas tarifa 0%   50313 non-null  object\n",
            " 10  IMPORTACIONES             42568 non-null  object\n",
            " 11  COMPRAS_RISE              50313 non-null  object\n",
            " 12  TOTAL_COMPRAS             50313 non-null  object\n",
            " 13  TOTAL_VENTAS              50313 non-null  object\n",
            "dtypes: int64(2), object(12)\n",
            "memory usage: 5.4+ MB\n"
          ]
        }
      ]
    },
    {
      "cell_type": "markdown",
      "source": [
        "6. ¿Cuántas filas de datos hay?\n",
        "* Hay 50313 filas\n"
      ],
      "metadata": {
        "id": "HKqG64MKaXKA"
      }
    },
    {
      "cell_type": "markdown",
      "source": [
        "7. ¿Qué retos, si es que hay alguno, prevén en la limpieza, exploración o modelización con este conjunto de datos?\n",
        "* El reto más grande en la limpieza de datos son las celdas vacias que se encuentran en dos columnas."
      ],
      "metadata": {
        "id": "aXLj__bKahNB"
      }
    }
  ]
}