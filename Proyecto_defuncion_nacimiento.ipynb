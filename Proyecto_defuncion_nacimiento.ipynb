{
  "nbformat": 4,
  "nbformat_minor": 0,
  "metadata": {
    "colab": {
      "provenance": [],
      "authorship_tag": "ABX9TyM1s9YlWxmondQPgc9iGkiN",
      "include_colab_link": true
    },
    "kernelspec": {
      "name": "python3",
      "display_name": "Python 3"
    },
    "language_info": {
      "name": "python"
    }
  },
  "cells": [
    {
      "cell_type": "markdown",
      "metadata": {
        "id": "view-in-github",
        "colab_type": "text"
      },
      "source": [
        "<a href=\"https://colab.research.google.com/github/SAULIZA/Proyecto/blob/main/Proyecto_defuncion_nacimiento.ipynb\" target=\"_parent\"><img src=\"https://colab.research.google.com/assets/colab-badge.svg\" alt=\"Open In Colab\"/></a>"
      ]
    },
    {
      "cell_type": "markdown",
      "source": [
        "# Proyecto 2: Defunción fetal y nacimientos\n",
        "* Realizado por: Saúl Iza\n",
        "* Fecha de elaborración: 08/04/2023\n",
        "* Fecha de modificación: 08/04/2023 "
      ],
      "metadata": {
        "id": "CzyLdx6HyU7-"
      }
    },
    {
      "cell_type": "code",
      "source": [
        "from google.colab import drive\n",
        "drive.mount(\"/content/drive\")"
      ],
      "metadata": {
        "colab": {
          "base_uri": "https://localhost:8080/",
          "height": 0
        },
        "id": "sgTzU55H03rG",
        "outputId": "82b7f888-71b0-43c8-ce54-f4dd7a971723"
      },
      "execution_count": 1,
      "outputs": [
        {
          "output_type": "stream",
          "name": "stdout",
          "text": [
            "Mounted at /content/drive\n"
          ]
        }
      ]
    },
    {
      "cell_type": "code",
      "source": [
        "!pip install pyreadstat"
      ],
      "metadata": {
        "colab": {
          "base_uri": "https://localhost:8080/",
          "height": 0
        },
        "id": "o-0Zzreq1ygI",
        "outputId": "8f73acdd-c673-422d-c321-b26526a550ec"
      },
      "execution_count": 2,
      "outputs": [
        {
          "output_type": "stream",
          "name": "stdout",
          "text": [
            "Looking in indexes: https://pypi.org/simple, https://us-python.pkg.dev/colab-wheels/public/simple/\n",
            "Collecting pyreadstat\n",
            "  Downloading pyreadstat-1.2.1-cp39-cp39-manylinux_2_17_x86_64.manylinux2014_x86_64.whl (2.7 MB)\n",
            "\u001b[2K     \u001b[90m━━━━━━━━━━━━━━━━━━━━━━━━━━━━━━━━━━━━━━━━\u001b[0m \u001b[32m2.7/2.7 MB\u001b[0m \u001b[31m57.5 MB/s\u001b[0m eta \u001b[36m0:00:00\u001b[0m\n",
            "\u001b[?25hRequirement already satisfied: pandas>=1.2.0 in /usr/local/lib/python3.9/dist-packages (from pyreadstat) (1.4.4)\n",
            "Requirement already satisfied: pytz>=2020.1 in /usr/local/lib/python3.9/dist-packages (from pandas>=1.2.0->pyreadstat) (2022.7.1)\n",
            "Requirement already satisfied: numpy>=1.18.5 in /usr/local/lib/python3.9/dist-packages (from pandas>=1.2.0->pyreadstat) (1.22.4)\n",
            "Requirement already satisfied: python-dateutil>=2.8.1 in /usr/local/lib/python3.9/dist-packages (from pandas>=1.2.0->pyreadstat) (2.8.2)\n",
            "Requirement already satisfied: six>=1.5 in /usr/local/lib/python3.9/dist-packages (from python-dateutil>=2.8.1->pandas>=1.2.0->pyreadstat) (1.16.0)\n",
            "Installing collected packages: pyreadstat\n",
            "Successfully installed pyreadstat-1.2.1\n"
          ]
        }
      ]
    },
    {
      "cell_type": "code",
      "execution_count": 3,
      "metadata": {
        "id": "uXNM4_XdsTng"
      },
      "outputs": [],
      "source": [
        "import pandas as pd\n",
        "import numpy as np\n",
        "import pyreadstat "
      ]
    },
    {
      "cell_type": "markdown",
      "source": [
        "## Fuente de datos: \n"
      ],
      "metadata": {
        "id": "fDn4ySbACP-Y"
      }
    },
    {
      "cell_type": "markdown",
      "source": [
        "Los datos fueron adquiridos del banco de datos abiertos del INEC."
      ],
      "metadata": {
        "id": "D9s7GdzQCUfg"
      }
    },
    {
      "cell_type": "markdown",
      "source": [
        "## Características de los datos\n"
      ],
      "metadata": {
        "id": "sGIwL2h2Cb3A"
      }
    },
    {
      "cell_type": "markdown",
      "source": [
        "Los datos que se presentan indican información acerca de defunciones y nacimientos en el Ecuador. Los datos tanto de defunciones como de nacimientos son distintos, pero, ellos comparten algunas características de condiciones exteriores como lugar de nacimiento, establecimiento de atención, y condiciones más internas como por ejemplo la edad de la madre, número de chequeos prepartos, etc. Con estas características podemos hacer un marco de datos en el que se indiquen las características descritas y el fallecimiento o el nacimiento de un niño. "
      ],
      "metadata": {
        "id": "hwiJnmoSCgbg"
      }
    },
    {
      "cell_type": "markdown",
      "source": [
        "## Objetivo "
      ],
      "metadata": {
        "id": "xCr8bRGVDsrX"
      }
    },
    {
      "cell_type": "markdown",
      "source": [
        "El objetivo de este análisis de datos es que gracias a los datos obtenidos de nacimientos y defunciones fetales de los años 2012 a 2015, podemos investigar variables muy importantes claves que pueden intervenir en el nacimiento o fallecimiento de un ser humanno en el Ecuador. También queremos averiguar si el fallecimiento o no de un nuevo ser humano esta condicionado por su entorno. Considero que este estudio es muy importante a nivel Social. Esperamos tener resultados sorprendentes, o resultados que tal vez sean obvios sin embargo tener resultados cuantificados siempre es bueno a la hora de medir algo tan delicado como el nacimiento o fallecimiento de un nuevo ser humano."
      ],
      "metadata": {
        "id": "Dwtt4W5DDvrH"
      }
    },
    {
      "cell_type": "markdown",
      "source": [
        "## Adquisición de datos"
      ],
      "metadata": {
        "id": "_cTJZdvJFmib"
      }
    },
    {
      "cell_type": "markdown",
      "source": [
        "* Lectura de archivos defunciones"
      ],
      "metadata": {
        "id": "zNBKSNJ3E8RS"
      }
    },
    {
      "cell_type": "code",
      "source": [
        "#Datos defunciones fetales\n",
        "df1_1 = pd.read_csv(\"/content/drive/MyDrive/Codificación de Dojo/Proyecto2/defuncion_fetal/EDFetal_2012.dat\",sep='\\t')"
      ],
      "metadata": {
        "id": "fIdzt3MKE9p1"
      },
      "execution_count": 4,
      "outputs": []
    },
    {
      "cell_type": "code",
      "source": [
        "# Lee el archivo SAV\n",
        "df1_2, meta = pyreadstat.read_sav('/content/drive/MyDrive/Codificación de Dojo/Proyecto2/defuncion_fetal/Base_Defunciones_Fetales_2013.sav')\n",
        "\n",
        "# Convierte el archivo en un objeto de Pandas DataFrame\n",
        "df1_2 = pd.DataFrame(df1_2)"
      ],
      "metadata": {
        "id": "srzD-PK8gKYu"
      },
      "execution_count": 5,
      "outputs": []
    },
    {
      "cell_type": "code",
      "source": [
        "# Lee el archivo SAV\n",
        "df1_3, meta = pyreadstat.read_sav('/content/drive/MyDrive/Codificación de Dojo/Proyecto2/defuncion_fetal/EDF_2014.sav')\n",
        "\n",
        "# Convierte el archivo en un objeto de Pandas DataFrame\n",
        "df1_3 = pd.DataFrame(df1_3)"
      ],
      "metadata": {
        "id": "Nvcs5-e4gg2v"
      },
      "execution_count": 6,
      "outputs": []
    },
    {
      "cell_type": "code",
      "source": [
        "# Lee el archivo SAV\n",
        "df1_4, meta = pyreadstat.read_sav('/content/drive/MyDrive/Codificación de Dojo/Proyecto2/defuncion_fetal/EDF_2015.sav')\n",
        "\n",
        "# Convierte el archivo en un objeto de Pandas DataFrame\n",
        "df1_4 = pd.DataFrame(df1_4)"
      ],
      "metadata": {
        "id": "pQuz3MPzgsbX"
      },
      "execution_count": 7,
      "outputs": []
    },
    {
      "cell_type": "markdown",
      "source": [
        "* Igualación de nombres de columnas entre archivos de defunciones"
      ],
      "metadata": {
        "id": "Ffo_vrMLFCiL"
      }
    },
    {
      "cell_type": "code",
      "source": [
        "names1 = [\"sexo\",\"sem_gest\",\"anio_def\",\"mes_def\",\"asis_por\",\"p_emb\",\"lugar_ocur\",\"prov_fall\",\"cant_fall\",\"parr_fall\",\"area_fall\",\"edad_mad\",\"nac_mad\",\"con_pren\",\"hij_vivos\",\"hij_vivm\",\"hij_nacm\",\"p_etnica\",\"est_civil\",\"sabe_leer\",\"niv_inst\",\"prov_res\",\"cant_res\",\"parr_res\",\"area_res\"]\n",
        "df1_1 = df1_1.loc[:, names1]"
      ],
      "metadata": {
        "id": "CFkrPsBllF2_"
      },
      "execution_count": 8,
      "outputs": []
    },
    {
      "cell_type": "code",
      "source": [
        "df1_1 = df1_1.rename(columns={\"anio_def\":\"anio_fall\",\"mes_def\":\"mes_fall\",\"hij_vivos\":\"hij_viv\",\"p_etnica\":\"etnia\"})"
      ],
      "metadata": {
        "id": "h25oo88c9vZa"
      },
      "execution_count": 9,
      "outputs": []
    },
    {
      "cell_type": "code",
      "source": [
        "names2 = [\"sexo\",\"sem_gest\",\"anio_fall\",\"mes_fall\",\"asis_por\",\"p_emb\",\"lugar_ocur\",\"prov_fall\",\"cant_fall\",\"parr_fall\",\"area_fall\",\"edad_mad\",\"nac_mad\",\"con_pren\",\"hij_viv\",\"hij_vivm\",\"hij_nacm\",\"etnia\",\"est_civil\",\"sabe_leer\",\"niv_inst\",\"prov_res\",\"cant_res\",\"parr_res\",\"area_res\"]\n",
        "df1_2 = df1_2.loc[:, names2]"
      ],
      "metadata": {
        "id": "rA4J9yM03s_g"
      },
      "execution_count": 10,
      "outputs": []
    },
    {
      "cell_type": "code",
      "source": [
        "df1_3 = df1_3.loc[:, names2]"
      ],
      "metadata": {
        "id": "Y7Cxjzzk9MQa"
      },
      "execution_count": 11,
      "outputs": []
    },
    {
      "cell_type": "code",
      "source": [
        "df1_4 = df1_4.loc[:, names2]"
      ],
      "metadata": {
        "id": "z2T9iFH19hGS"
      },
      "execution_count": 12,
      "outputs": []
    },
    {
      "cell_type": "markdown",
      "source": [
        "* Unión de datos de defunciones"
      ],
      "metadata": {
        "id": "K7R9jlfLFKcD"
      }
    },
    {
      "cell_type": "code",
      "source": [
        "#Unión de datos de las defunciones fetales\n",
        "df_defunciones = pd.concat([df1_1, df1_2, df1_3, df1_4])"
      ],
      "metadata": {
        "id": "OXqHUJWW9pzt"
      },
      "execution_count": 140,
      "outputs": []
    },
    {
      "cell_type": "markdown",
      "source": [
        "* Extracción de datos de defunciones"
      ],
      "metadata": {
        "id": "WKIO5PGbFN0L"
      }
    },
    {
      "cell_type": "code",
      "source": [
        "#Guardamos el data frame de defunciones en un archivo\n",
        "df_defunciones.to_csv('defuncion.csv', index=False)"
      ],
      "metadata": {
        "id": "RpBaPE-C_nWT"
      },
      "execution_count": 14,
      "outputs": []
    },
    {
      "cell_type": "markdown",
      "source": [
        "* Lectura de datos de nacimientos"
      ],
      "metadata": {
        "id": "rDJc5ll6FSKb"
      }
    },
    {
      "cell_type": "code",
      "source": [
        "#datos nacimientos\n",
        "df1_1n = pd.read_csv(\"/content/drive/MyDrive/Codificación de Dojo/Proyecto2/nacimientos/Base_Nacimientos_2012.dat\",sep='\\t')"
      ],
      "metadata": {
        "id": "ZN_T8FfJ-i3W"
      },
      "execution_count": 15,
      "outputs": []
    },
    {
      "cell_type": "code",
      "source": [
        "# Lee el archivo SAV\n",
        "df1_2n, meta = pyreadstat.read_sav('/content/drive/MyDrive/Codificación de Dojo/Proyecto2/nacimientos/Base_Nacidos_Vivos_año_2013.sav')\n",
        "\n",
        "# Convierte el archivo en un objeto de Pandas DataFrame\n",
        "df1_2n = pd.DataFrame(df1_2n)"
      ],
      "metadata": {
        "id": "sYPzwyqMALla"
      },
      "execution_count": 16,
      "outputs": []
    },
    {
      "cell_type": "code",
      "source": [
        "# Lee el archivo SAV\n",
        "df1_3n, meta = pyreadstat.read_sav('/content/drive/MyDrive/Codificación de Dojo/Proyecto2/nacimientos/ENV_2014.sav')\n",
        "\n",
        "# Convierte el archivo en un objeto de Pandas DataFrame\n",
        "df1_3n = pd.DataFrame(df1_3n)"
      ],
      "metadata": {
        "id": "f7_Fr2OlAtpS"
      },
      "execution_count": 17,
      "outputs": []
    },
    {
      "cell_type": "code",
      "source": [
        "# Lee el archivo SAV\n",
        "df1_4n, meta = pyreadstat.read_sav('/content/drive/MyDrive/Codificación de Dojo/Proyecto2/nacimientos/ENV_2015.sav')\n",
        "\n",
        "# Convierte el archivo en un objeto de Pandas DataFrame\n",
        "df1_4n = pd.DataFrame(df1_4n)"
      ],
      "metadata": {
        "id": "2eV2c_YfBgaL"
      },
      "execution_count": 18,
      "outputs": []
    },
    {
      "cell_type": "markdown",
      "source": [
        "* Igualación de nombres de columnas de datos de nacimientos"
      ],
      "metadata": {
        "id": "tW2DNMUdFWHD"
      }
    },
    {
      "cell_type": "code",
      "source": [
        "names_n1 = [\"sexo\",\"sem_gest\",\"anio_nac\",\"mes_nac\",\"asis_por\",\"p_emb\",\"lugar_ocur\",\"prov_nac\",\"cant_nac\",\"parr_nac\",\"area_nac\",\"edad_mad\",\"nac_mad\",\"con_pren\",\"hij_vivos\",\"hij_vivm\",\"hij_nacm\",\"p_etnica\",\"est_civil\",\"sabe_leer\",\"niv_inst\",\"prov_res\",\"cant_res\",\"parr_res\",\"area_res\"]\n",
        "df1_1n = df1_1n.loc[:, names_n1]"
      ],
      "metadata": {
        "id": "H6U77Hu5B6DD"
      },
      "execution_count": 19,
      "outputs": []
    },
    {
      "cell_type": "code",
      "source": [
        "df1_1n = df1_1n.rename(columns={\"hij_vivos\":\"hij_viv\",\"p_etnica\":\"etnia\"})"
      ],
      "metadata": {
        "id": "o3ltcsh9ENS7"
      },
      "execution_count": 20,
      "outputs": []
    },
    {
      "cell_type": "code",
      "source": [
        "names_n2 = [\"sexo\",\"sem_gest\",\"anio_nac\",\"mes_nac\",\"asis_por\",\"p_emb\",\"lugar_ocur\",\"prov_nac\",\"cant_nac\",\"parr_nac\",\"area_nac\",\"edad_mad\",\"nac_mad\",\"con_pren\",\"hij_viv\",\"hij_vivm\",\"hij_nacm\",\"etnia\",\"est_civil\",\"sabe_leer\",\"niv_inst\",\"prov_res\",\"cant_res\",\"parr_res\",\"area_res\"]\n",
        "df1_2n = df1_2n.loc[:, names_n2]"
      ],
      "metadata": {
        "id": "oE4kHkFXC8WC"
      },
      "execution_count": 21,
      "outputs": []
    },
    {
      "cell_type": "code",
      "source": [
        "df1_3n = df1_3n.loc[:, names_n2]"
      ],
      "metadata": {
        "id": "dnieBuarDwMy"
      },
      "execution_count": 22,
      "outputs": []
    },
    {
      "cell_type": "code",
      "source": [
        "df1_4n = df1_4n.loc[:, names_n2]"
      ],
      "metadata": {
        "id": "V1yfWHlcEAVz"
      },
      "execution_count": 23,
      "outputs": []
    },
    {
      "cell_type": "markdown",
      "source": [
        "* Unión de datos de nacimientos"
      ],
      "metadata": {
        "id": "fd_ue9WFFaPz"
      }
    },
    {
      "cell_type": "code",
      "source": [
        "#Unión de datos de nacimientos\n",
        "df_nacimientos = pd.concat([df1_1n, df1_2n, df1_3n, df1_4n])"
      ],
      "metadata": {
        "id": "SGbIXNH7_ILF"
      },
      "execution_count": 141,
      "outputs": []
    },
    {
      "cell_type": "markdown",
      "source": [
        "* Extracción de datos de nacimientos"
      ],
      "metadata": {
        "id": "85z8snXFFdfL"
      }
    },
    {
      "cell_type": "code",
      "source": [
        "#Guardamos el data frame de defunciones en un archivo\n",
        "df_nacimientos.to_csv('nacimientos.csv', index=False)"
      ],
      "metadata": {
        "id": "veUt9rotEvL7"
      },
      "execution_count": 25,
      "outputs": []
    },
    {
      "cell_type": "markdown",
      "source": [
        "* Igualación de nombres de columnas de datos de defunciones y nacimientos"
      ],
      "metadata": {
        "id": "9IvR_JsPFsvW"
      }
    },
    {
      "cell_type": "code",
      "source": [
        "#primero vamos a renombrar las columnas de los datos de nacimiento\n",
        "renam_nac = {\"anio_nac\":\"anio\",\"mes_nac\":\"mes\",\"prov_nac\":\"provincia\",\"cant_nac\":\"canton\",\"parr_nac\":\"parroquia\",\"area_nac\":\"area\"}\n",
        "df_nacimientos = df_nacimientos.rename(columns=renam_nac)"
      ],
      "metadata": {
        "id": "A6GIVb8WF0LN"
      },
      "execution_count": 142,
      "outputs": []
    },
    {
      "cell_type": "code",
      "source": [
        "df_nacimientos.info()"
      ],
      "metadata": {
        "colab": {
          "base_uri": "https://localhost:8080/",
          "height": 0
        },
        "id": "xoAhiToXO1vE",
        "outputId": "81cd359a-9598-4d17-af4d-06c4367f5130"
      },
      "execution_count": 28,
      "outputs": [
        {
          "output_type": "stream",
          "name": "stdout",
          "text": [
            "<class 'pandas.core.frame.DataFrame'>\n",
            "Int64Index: 1339556 entries, 0 to 351010\n",
            "Data columns (total 25 columns):\n",
            " #   Column      Non-Null Count    Dtype  \n",
            "---  ------      --------------    -----  \n",
            " 0   sexo        1339556 non-null  float64\n",
            " 1   sem_gest    1307015 non-null  float64\n",
            " 2   anio        1339556 non-null  float64\n",
            " 3   mes         1339556 non-null  float64\n",
            " 4   asis_por    1265330 non-null  float64\n",
            " 5   p_emb       1265330 non-null  float64\n",
            " 6   lugar_ocur  1265330 non-null  float64\n",
            " 7   provincia   1339556 non-null  object \n",
            " 8   canton      1339556 non-null  object \n",
            " 9   parroquia   1339556 non-null  object \n",
            " 10  area        1265330 non-null  float64\n",
            " 11  edad_mad    1265330 non-null  float64\n",
            " 12  nac_mad     1265330 non-null  float64\n",
            " 13  con_pren    1265330 non-null  float64\n",
            " 14  hij_viv     1265330 non-null  float64\n",
            " 15  hij_vivm    1265330 non-null  float64\n",
            " 16  hij_nacm    1265330 non-null  float64\n",
            " 17  etnia       1265330 non-null  float64\n",
            " 18  est_civil   1265330 non-null  float64\n",
            " 19  sabe_leer   1265330 non-null  float64\n",
            " 20  niv_inst    1261554 non-null  float64\n",
            " 21  prov_res    1339556 non-null  object \n",
            " 22  cant_res    1339556 non-null  object \n",
            " 23  parr_res    1339556 non-null  object \n",
            " 24  area_res    1339556 non-null  float64\n",
            "dtypes: float64(19), object(6)\n",
            "memory usage: 265.7+ MB\n"
          ]
        }
      ]
    },
    {
      "cell_type": "markdown",
      "source": [
        "Las columnas escogidas en este paso, son las columnas que consideramos valiosas para el propósito"
      ],
      "metadata": {
        "id": "tvfrgykyCD4v"
      }
    },
    {
      "cell_type": "code",
      "source": [
        "#renombramos las columnas de los datos de defunciones\n",
        "renam_def = {\"anio_fall\":\"anio\",\"mes_fall\":\"mes\",\"prov_fall\":\"provincia\",\"cant_fall\":\"canton\",\"parr_fall\":\"parroquia\",\"area_fall\":\"area\"}\n",
        "df_defunciones = df_defunciones.rename(columns=renam_def)"
      ],
      "metadata": {
        "id": "cfHSHSKoHSBb"
      },
      "execution_count": 143,
      "outputs": []
    },
    {
      "cell_type": "code",
      "source": [
        "df_defunciones.info()"
      ],
      "metadata": {
        "colab": {
          "base_uri": "https://localhost:8080/",
          "height": 0
        },
        "id": "HAHDmH2wO6ub",
        "outputId": "243ae112-b7b4-4f3f-b44d-3330e50ad78f"
      },
      "execution_count": 30,
      "outputs": [
        {
          "output_type": "stream",
          "name": "stdout",
          "text": [
            "<class 'pandas.core.frame.DataFrame'>\n",
            "Int64Index: 6846 entries, 0 to 1856\n",
            "Data columns (total 25 columns):\n",
            " #   Column      Non-Null Count  Dtype  \n",
            "---  ------      --------------  -----  \n",
            " 0   sexo        6846 non-null   float64\n",
            " 1   sem_gest    6846 non-null   float64\n",
            " 2   anio        6846 non-null   float64\n",
            " 3   mes         6846 non-null   float64\n",
            " 4   asis_por    6846 non-null   float64\n",
            " 5   p_emb       6846 non-null   float64\n",
            " 6   lugar_ocur  6846 non-null   float64\n",
            " 7   provincia   6846 non-null   object \n",
            " 8   canton      6846 non-null   object \n",
            " 9   parroquia   6846 non-null   object \n",
            " 10  area        6846 non-null   float64\n",
            " 11  edad_mad    6846 non-null   float64\n",
            " 12  nac_mad     6846 non-null   float64\n",
            " 13  con_pren    6846 non-null   float64\n",
            " 14  hij_viv     6846 non-null   float64\n",
            " 15  hij_vivm    6846 non-null   float64\n",
            " 16  hij_nacm    6846 non-null   float64\n",
            " 17  etnia       6846 non-null   float64\n",
            " 18  est_civil   6846 non-null   float64\n",
            " 19  sabe_leer   6846 non-null   float64\n",
            " 20  niv_inst    6829 non-null   float64\n",
            " 21  prov_res    6846 non-null   object \n",
            " 22  cant_res    6846 non-null   object \n",
            " 23  parr_res    6846 non-null   object \n",
            " 24  area_res    6846 non-null   float64\n",
            "dtypes: float64(19), object(6)\n",
            "memory usage: 1.4+ MB\n"
          ]
        }
      ]
    },
    {
      "cell_type": "code",
      "source": [
        "# generamos nuevos data frame\n",
        "df_nac = df_nacimientos\n",
        "df_def = df_defunciones"
      ],
      "metadata": {
        "id": "5S1BRvSVQHKc"
      },
      "execution_count": 144,
      "outputs": []
    },
    {
      "cell_type": "markdown",
      "source": [
        "## Preparación de datos"
      ],
      "metadata": {
        "id": "fEwggmofBzF5"
      }
    },
    {
      "cell_type": "markdown",
      "source": [
        "Rellenamos los espacios vacios con 0, en las celdas de provincias, cantones y parroquias. Luego cambiamos las mismas columnas que son de tipo object a tipo flotante. Luego reemplazamos los codigos por sus respectivos nombres."
      ],
      "metadata": {
        "id": "7-hBIzc3CBeQ"
      }
    },
    {
      "cell_type": "markdown",
      "source": [
        "### Reemplazo de codigos a provincias, cantones y parroquias"
      ],
      "metadata": {
        "id": "NZO3HMGUDM3o"
      }
    },
    {
      "cell_type": "code",
      "source": [
        "df_nac[\"provincia\"] = df_nac[\"provincia\"].replace(\"\",0)"
      ],
      "metadata": {
        "id": "OgogQlqbTxS0"
      },
      "execution_count": 145,
      "outputs": []
    },
    {
      "cell_type": "code",
      "source": [
        "df_nac[\"provincia\"] = df_nac[\"provincia\"].astype(float) "
      ],
      "metadata": {
        "id": "52TOMg0VUVcs"
      },
      "execution_count": 146,
      "outputs": []
    },
    {
      "cell_type": "code",
      "source": [
        "df_nac[\"canton\"] = df_nac[\"canton\"].replace(\"\",0)"
      ],
      "metadata": {
        "id": "_hZ_iontCzJx"
      },
      "execution_count": 147,
      "outputs": []
    },
    {
      "cell_type": "code",
      "source": [
        "df_nac[\"canton\"] = df_nac[\"canton\"].astype(float) "
      ],
      "metadata": {
        "id": "Q9yN3rrkC70o"
      },
      "execution_count": 148,
      "outputs": []
    },
    {
      "cell_type": "code",
      "source": [
        "df_nac[\"parroquia\"] = df_nac[\"parroquia\"].replace(\"\",0)"
      ],
      "metadata": {
        "id": "hXpE-D-8C_7R"
      },
      "execution_count": 149,
      "outputs": []
    },
    {
      "cell_type": "code",
      "source": [
        "df_nac[\"parroquia\"] = df_nac[\"parroquia\"].astype(float) "
      ],
      "metadata": {
        "id": "Lo6-8ZwZDG9J"
      },
      "execution_count": 150,
      "outputs": []
    },
    {
      "cell_type": "code",
      "source": [
        "df_nac[\"prov_res\"] = df_nac[\"prov_res\"].astype(float) "
      ],
      "metadata": {
        "id": "FQK0QTIzDYsA"
      },
      "execution_count": 151,
      "outputs": []
    },
    {
      "cell_type": "code",
      "source": [
        "df_nac[\"cant_res\"] = df_nac[\"cant_res\"].astype(float)"
      ],
      "metadata": {
        "id": "Y7f9pqYADfzo"
      },
      "execution_count": 152,
      "outputs": []
    },
    {
      "cell_type": "code",
      "source": [
        "df_nac[\"parr_res\"] = df_nac[\"parr_res\"].astype(float)"
      ],
      "metadata": {
        "id": "TiS8DrdmDj-w"
      },
      "execution_count": 153,
      "outputs": []
    },
    {
      "cell_type": "code",
      "source": [
        "df_def[\"provincia\"] = df_def[\"provincia\"].astype(float) "
      ],
      "metadata": {
        "id": "rN_arNBKDS5A"
      },
      "execution_count": 154,
      "outputs": []
    },
    {
      "cell_type": "code",
      "source": [
        "df_def[\"canton\"] = df_def[\"canton\"].astype(float) "
      ],
      "metadata": {
        "id": "EQuX1U5cDv-B"
      },
      "execution_count": 155,
      "outputs": []
    },
    {
      "cell_type": "code",
      "source": [
        "df_def[\"parroquia\"] = df_def[\"parroquia\"].astype(float) "
      ],
      "metadata": {
        "id": "2euDwe2rD0nY"
      },
      "execution_count": 156,
      "outputs": []
    },
    {
      "cell_type": "code",
      "source": [
        "df_def[\"prov_res\"] = df_def[\"prov_res\"].astype(float) "
      ],
      "metadata": {
        "id": "h4ZoSUjYD4Gw"
      },
      "execution_count": 157,
      "outputs": []
    },
    {
      "cell_type": "code",
      "source": [
        "df_def[\"cant_res\"] = df_def[\"cant_res\"].astype(float) "
      ],
      "metadata": {
        "id": "Dcqoi7Q-D71o"
      },
      "execution_count": 158,
      "outputs": []
    },
    {
      "cell_type": "code",
      "source": [
        "df_def[\"parr_res\"] = df_def[\"parr_res\"].astype(float) "
      ],
      "metadata": {
        "id": "xjXZSB1XD9Ro"
      },
      "execution_count": 159,
      "outputs": []
    },
    {
      "cell_type": "markdown",
      "source": [
        "Reemplazo de códigos por características reales"
      ],
      "metadata": {
        "id": "3ni20mQzH2Lr"
      }
    },
    {
      "cell_type": "code",
      "source": [
        "provi = pd.read_excel(\"/content/drive/MyDrive/Codificación de Dojo/Proyecto2/provincia.xlsx\", index_col=False)"
      ],
      "metadata": {
        "id": "v18IX08xYQg_"
      },
      "execution_count": 160,
      "outputs": []
    },
    {
      "cell_type": "code",
      "source": [
        "provi = provi.set_index(\"codigo\")\n",
        "dicc_prov = provi.to_dict()['provincia']"
      ],
      "metadata": {
        "id": "1GA1E3YkberH"
      },
      "execution_count": 161,
      "outputs": []
    },
    {
      "cell_type": "code",
      "source": [
        "canto = pd.read_excel(\"/content/drive/MyDrive/Codificación de Dojo/Proyecto2/canton.xlsx\")"
      ],
      "metadata": {
        "id": "lW-or3r0ICIj"
      },
      "execution_count": 162,
      "outputs": []
    },
    {
      "cell_type": "code",
      "source": [
        "canto = canto.set_index(\"codigo\")\n",
        "dicc_canto = canto.to_dict()['canton']"
      ],
      "metadata": {
        "id": "jAVKPYyAERro"
      },
      "execution_count": 163,
      "outputs": []
    },
    {
      "cell_type": "code",
      "source": [
        "parro = pd.read_excel(\"/content/drive/MyDrive/Codificación de Dojo/Proyecto2/parroquia.xlsx\")"
      ],
      "metadata": {
        "id": "WaJ_Ebs-Nec0"
      },
      "execution_count": 164,
      "outputs": []
    },
    {
      "cell_type": "code",
      "source": [
        "parro = parro.set_index(\"codigo\")\n",
        "dicc_parro = parro.to_dict()['parroquia']"
      ],
      "metadata": {
        "id": "cxn50u0dEagI"
      },
      "execution_count": 165,
      "outputs": []
    },
    {
      "cell_type": "code",
      "source": [
        "df_nac[\"provincia\"] = df_nac[\"provincia\"].replace(dicc_prov)\n",
        "df_nac[\"prov_res\"] = df_nac[\"prov_res\"].replace(dicc_prov)\n",
        "df_def[\"provincia\"] = df_def[\"provincia\"].replace(dicc_prov)\n",
        "df_def[\"prov_res\"] = df_def[\"prov_res\"].replace(dicc_prov)"
      ],
      "metadata": {
        "id": "rWX5QSkBcIX3"
      },
      "execution_count": 166,
      "outputs": []
    },
    {
      "cell_type": "code",
      "source": [
        "df_nac[\"canton\"] = df_nac[\"canton\"].replace(dicc_canto)\n",
        "df_nac[\"cant_res\"] = df_nac[\"cant_res\"].replace(dicc_canto)\n",
        "df_def[\"canton\"] = df_def[\"canton\"].replace(dicc_canto)\n",
        "df_def[\"cant_res\"] = df_def[\"cant_res\"].replace(dicc_canto)"
      ],
      "metadata": {
        "id": "vEF15tFpFkDR"
      },
      "execution_count": 167,
      "outputs": []
    },
    {
      "cell_type": "code",
      "source": [
        "df_nac[\"parroquia\"] = df_nac[\"parroquia\"].replace(dicc_parro)\n",
        "df_nac[\"parr_res\"] = df_nac[\"parr_res\"].replace(dicc_parro)\n",
        "df_def[\"parroquia\"] = df_def[\"parroquia\"].replace(dicc_parro)\n",
        "df_def[\"parr_res\"] = df_def[\"parr_res\"].replace(dicc_parro)"
      ],
      "metadata": {
        "id": "CHp70E_oGE96"
      },
      "execution_count": 168,
      "outputs": []
    },
    {
      "cell_type": "markdown",
      "source": [
        "### Reemplazo de sexo y mes"
      ],
      "metadata": {
        "id": "Y1_GVSSfITQ5"
      }
    },
    {
      "cell_type": "code",
      "source": [
        "df_nac[\"sexo\"] = df_nac[\"sexo\"].replace({1:\"Hombre\",2:\"Mujer\"})\n",
        "df_def[\"sexo\"] = df_def[\"sexo\"].replace({1:\"Hombre\",2:\"Mujer\"})"
      ],
      "metadata": {
        "id": "zcSCXQv8IdNR"
      },
      "execution_count": 169,
      "outputs": []
    },
    {
      "cell_type": "code",
      "source": [
        "meses = {1:\"Enero\",2:\"Febrero\",3:\"Marzo\",4:\"Abril\",5:\"Mayo\",6:\"Junio\",7:\"Julio\",8:\"Agosto\",9:\"Septiembre\",10:\"Octubre\",11:\"Noviembre\",12:\"Diciembre\"}\n",
        "df_nac[\"mes\"] = df_nac[\"mes\"].replace(meses)\n",
        "df_def[\"mes\"] = df_def[\"mes\"].replace(meses)"
      ],
      "metadata": {
        "id": "v_UApCVoIwa4"
      },
      "execution_count": 170,
      "outputs": []
    },
    {
      "cell_type": "markdown",
      "source": [
        "### Reemplazo de asistido por, producto de embarazo y lugar de ocurrencia"
      ],
      "metadata": {
        "id": "O9nKgP5UJhjp"
      }
    },
    {
      "cell_type": "code",
      "source": [
        "asistencia = {1:\"Medico\",2:\"Obstetra\",3:\"Enfermero_a\",4:\"Auxiliar_enfermeria\",5:\"Partero_a_calificad\",6:\"Partero_a_no_calificado\",7:\"Otro\",9:\"Ignorado\"}\n",
        "df_nac[\"asis_por\"] = df_nac[\"asis_por\"].replace(asistencia)\n",
        "df_def[\"asis_por\"] = df_def[\"asis_por\"].replace(asistencia)"
      ],
      "metadata": {
        "id": "6znenfx2J0l5"
      },
      "execution_count": 171,
      "outputs": []
    },
    {
      "cell_type": "code",
      "source": [
        "prod_embar = {1:\"Simple\", 2:\"Doble\",3:\"Triple\",4:\"Cuadruple_o_mas\"}\n",
        "df_nac[\"p_emb\"] = df_nac[\"p_emb\"].replace(prod_embar)\n",
        "df_def[\"p_emb\"] = df_def[\"p_emb\"].replace(prod_embar)"
      ],
      "metadata": {
        "id": "V8JiwDgtKxfB"
      },
      "execution_count": 172,
      "outputs": []
    },
    {
      "cell_type": "code",
      "source": [
        "lug_oc = {1:\"Establecimiento_ministerio_de_salud\",2:\"Establecimiento_IESS\",3:\"Establecimiento_junta_beneficiaria\",4:\"Otro_establecimiento_publico\",5:\"Hospital_clinica_consultorio_privado\",6:\"Casa\",7:\"Otro\"}\n",
        "df_nac[\"lugar_ocur\"] = df_nac[\"lugar_ocur\"].replace(lug_oc)\n",
        "df_def[\"lugar_ocur\"] = df_def[\"lugar_ocur\"].replace(lug_oc)"
      ],
      "metadata": {
        "id": "Dz2LXh8fLLjY"
      },
      "execution_count": 173,
      "outputs": []
    },
    {
      "cell_type": "markdown",
      "source": [
        "### Reemplazo de area,nacionalidad de la madre, etnia, estado civil, sabe leer y nivel de instrucción "
      ],
      "metadata": {
        "id": "dZiVO9iIMD7L"
      }
    },
    {
      "cell_type": "code",
      "source": [
        "df_nac[\"area\"] = df_nac[\"area\"].replace({1:\"Urbana\",2:\"Rural\"})\n",
        "df_def[\"area\"] = df_def[\"area\"].replace({1:\"Urbana\",2:\"Rural\"})\n",
        "df_nac[\"area_res\"] = df_nac[\"area_res\"].replace({1:\"Urbana\",2:\"Rural\"})\n",
        "df_def[\"area_res\"] = df_def[\"area_res\"].replace({1:\"Urbana\",2:\"Rural\"})"
      ],
      "metadata": {
        "id": "WdVXdyDpMlWJ"
      },
      "execution_count": 174,
      "outputs": []
    },
    {
      "cell_type": "code",
      "source": [
        "df_nac[\"nac_mad\"] = df_nac[\"nac_mad\"].replace({1:\"Ecuatoriana\",2:\"Extranjera\",9:\"Ignorado\"})\n",
        "df_def[\"nac_mad\"] = df_def[\"nac_mad\"].replace({1:\"Ecuatoriana\",2:\"Extranjera\",9:\"Ignorado\"})"
      ],
      "metadata": {
        "id": "JxMLOm8sNG4h"
      },
      "execution_count": 175,
      "outputs": []
    },
    {
      "cell_type": "code",
      "source": [
        "df_nac[\"etnia\"] = df_nac[\"etnia\"].replace({1:\"Indigena\",2:\"Afro_ecuatoriana\",3:\"Negra\",4:\"Mulata\",5:\"Montubia\",6:\"Mestiza\",7:\"Blanca\",8:\"Otra\",9:\"Ignorado\"})\n",
        "df_def[\"etnia\"] = df_def[\"etnia\"].replace({1:\"Indigena\",2:\"Afro_ecuatoriana\",3:\"Negra\",4:\"Mulata\",5:\"Montubia\",6:\"Mestiza\",7:\"Blanca\",8:\"Otra\",9:\"Ignorado\"})"
      ],
      "metadata": {
        "id": "0R0GKb7gNfKZ"
      },
      "execution_count": 176,
      "outputs": []
    },
    {
      "cell_type": "code",
      "source": [
        "df_nac[\"est_civil\"] = df_nac[\"est_civil\"].replace({1:\"Unida\",2:\"Soltera\",3:\"Casada\",4:\"Divorciada\",5:\"Separada\",6:\"Viuda\",9:\"Se ignora\"})\n",
        "df_def[\"est_civil\"] = df_def[\"est_civil\"].replace({1:\"Unida\",2:\"Soltera\",3:\"Casada\",4:\"Divorciada\",5:\"Separada\",6:\"Viuda\",9:\"Se ignora\"})"
      ],
      "metadata": {
        "id": "3UpwnGCuXIT7"
      },
      "execution_count": 177,
      "outputs": []
    },
    {
      "cell_type": "code",
      "source": [
        "df_nac[\"sabe_leer\"] = df_nac[\"sabe_leer\"].replace({1:\"Si\",2:\"No\",9:\"Ignorado\"})\n",
        "df_def[\"sabe_leer\"] = df_def[\"sabe_leer\"].replace({1:\"Si\",2:\"No\",9:\"Ignorado\"})"
      ],
      "metadata": {
        "id": "NeRrx0wZXqj7"
      },
      "execution_count": 178,
      "outputs": []
    },
    {
      "cell_type": "code",
      "source": [
        "df_nac[\"niv_inst\"] = df_nac[\"niv_inst\"].replace({0:\"Ninguno\",1:\"Centro_de_alfabetizacion\",2:\"Primaria\",3:\"Secundaria\",4:\"Educacion_basica\",5:\"Educacion_media\",6:\"Ciclo_post_bachillerato\",7:\"Superior\",8:\"Postgrado\",9:\"Se_ignora\"})\n",
        "df_def[\"niv_inst\"] = df_def[\"niv_inst\"].replace({0:\"Ninguno\",1:\"Centro_de_alfabetizacion\",2:\"Primaria\",3:\"Secundaria\",4:\"Educacion_basica\",5:\"Educacion_media\",6:\"Ciclo_post_bachillerato\",7:\"Superior\",8:\"Postgrado\",9:\"Se_ignora\"})"
      ],
      "metadata": {
        "id": "AvgcoxkIX8jT"
      },
      "execution_count": 179,
      "outputs": []
    },
    {
      "cell_type": "code",
      "source": [
        "pd.options.display.max_columns = None"
      ],
      "metadata": {
        "id": "2D_RVD19Ytsz"
      },
      "execution_count": 180,
      "outputs": []
    },
    {
      "cell_type": "code",
      "source": [
        "df_nac.head()"
      ],
      "metadata": {
        "colab": {
          "base_uri": "https://localhost:8080/",
          "height": 270
        },
        "id": "m5puZinhY58D",
        "outputId": "ae073ab8-bd93-4994-e254-00d73b5ab03c"
      },
      "execution_count": 181,
      "outputs": [
        {
          "output_type": "execute_result",
          "data": {
            "text/plain": [
              "     sexo  sem_gest    anio         mes asis_por   p_emb  \\\n",
              "0   Mujer      99.0  2011.0     Octubre   Medico  Simple   \n",
              "1  Hombre      39.0  2011.0       Marzo   Medico  Simple   \n",
              "2   Mujer      33.0  2011.0   Diciembre   Medico  Simple   \n",
              "3  Hombre      40.0  2011.0  Septiembre   Medico  Simple   \n",
              "4   Mujer      99.0  2011.0     Octubre   Medico  Simple   \n",
              "\n",
              "                            lugar_ocur provincia   canton parroquia    area  \\\n",
              "0  Establecimiento_ministerio_de_salud    Azuay   Cuenca    Cuenca   Urbana   \n",
              "1  Establecimiento_ministerio_de_salud    Azuay   Cuenca    Cuenca   Urbana   \n",
              "2         Otro_establecimiento_publico    Azuay   Cuenca    Cuenca   Urbana   \n",
              "3  Establecimiento_ministerio_de_salud    Azuay   Cuenca    Cuenca   Urbana   \n",
              "4  Establecimiento_ministerio_de_salud    Azuay   Cuenca    Cuenca   Urbana   \n",
              "\n",
              "   edad_mad      nac_mad  con_pren  hij_viv  hij_vivm  hij_nacm    etnia  \\\n",
              "0      30.0  Ecuatoriana      99.0      2.0      99.0      99.0  Mestiza   \n",
              "1      19.0  Ecuatoriana      99.0      2.0      99.0      99.0  Mestiza   \n",
              "2      33.0  Ecuatoriana      99.0      1.0      99.0      99.0  Mestiza   \n",
              "3      31.0  Ecuatoriana      99.0      6.0      99.0      99.0  Mestiza   \n",
              "4      19.0  Ecuatoriana      99.0      2.0      99.0       1.0  Mestiza   \n",
              "\n",
              "  est_civil sabe_leer    niv_inst prov_res cant_res parr_res area_res  \n",
              "0   Soltera        Si    Primaria   Azuay   Cuenca   Cuenca    Urbana  \n",
              "1   Soltera        Si  Secundaria   Azuay   Cuenca   Cuenca    Urbana  \n",
              "2   Soltera        Si    Superior   Azuay   Cuenca   Cuenca    Urbana  \n",
              "3    Casada        Si  Secundaria   Azuay   Cuenca   Cuenca    Urbana  \n",
              "4     Unida        Si  Secundaria   Azuay   Cuenca   Cuenca    Urbana  "
            ],
            "text/html": [
              "\n",
              "  <div id=\"df-7318001c-4ac6-42f5-b949-55685eb97381\">\n",
              "    <div class=\"colab-df-container\">\n",
              "      <div>\n",
              "<style scoped>\n",
              "    .dataframe tbody tr th:only-of-type {\n",
              "        vertical-align: middle;\n",
              "    }\n",
              "\n",
              "    .dataframe tbody tr th {\n",
              "        vertical-align: top;\n",
              "    }\n",
              "\n",
              "    .dataframe thead th {\n",
              "        text-align: right;\n",
              "    }\n",
              "</style>\n",
              "<table border=\"1\" class=\"dataframe\">\n",
              "  <thead>\n",
              "    <tr style=\"text-align: right;\">\n",
              "      <th></th>\n",
              "      <th>sexo</th>\n",
              "      <th>sem_gest</th>\n",
              "      <th>anio</th>\n",
              "      <th>mes</th>\n",
              "      <th>asis_por</th>\n",
              "      <th>p_emb</th>\n",
              "      <th>lugar_ocur</th>\n",
              "      <th>provincia</th>\n",
              "      <th>canton</th>\n",
              "      <th>parroquia</th>\n",
              "      <th>area</th>\n",
              "      <th>edad_mad</th>\n",
              "      <th>nac_mad</th>\n",
              "      <th>con_pren</th>\n",
              "      <th>hij_viv</th>\n",
              "      <th>hij_vivm</th>\n",
              "      <th>hij_nacm</th>\n",
              "      <th>etnia</th>\n",
              "      <th>est_civil</th>\n",
              "      <th>sabe_leer</th>\n",
              "      <th>niv_inst</th>\n",
              "      <th>prov_res</th>\n",
              "      <th>cant_res</th>\n",
              "      <th>parr_res</th>\n",
              "      <th>area_res</th>\n",
              "    </tr>\n",
              "  </thead>\n",
              "  <tbody>\n",
              "    <tr>\n",
              "      <th>0</th>\n",
              "      <td>Mujer</td>\n",
              "      <td>99.0</td>\n",
              "      <td>2011.0</td>\n",
              "      <td>Octubre</td>\n",
              "      <td>Medico</td>\n",
              "      <td>Simple</td>\n",
              "      <td>Establecimiento_ministerio_de_salud</td>\n",
              "      <td>Azuay</td>\n",
              "      <td>Cuenca</td>\n",
              "      <td>Cuenca</td>\n",
              "      <td>Urbana</td>\n",
              "      <td>30.0</td>\n",
              "      <td>Ecuatoriana</td>\n",
              "      <td>99.0</td>\n",
              "      <td>2.0</td>\n",
              "      <td>99.0</td>\n",
              "      <td>99.0</td>\n",
              "      <td>Mestiza</td>\n",
              "      <td>Soltera</td>\n",
              "      <td>Si</td>\n",
              "      <td>Primaria</td>\n",
              "      <td>Azuay</td>\n",
              "      <td>Cuenca</td>\n",
              "      <td>Cuenca</td>\n",
              "      <td>Urbana</td>\n",
              "    </tr>\n",
              "    <tr>\n",
              "      <th>1</th>\n",
              "      <td>Hombre</td>\n",
              "      <td>39.0</td>\n",
              "      <td>2011.0</td>\n",
              "      <td>Marzo</td>\n",
              "      <td>Medico</td>\n",
              "      <td>Simple</td>\n",
              "      <td>Establecimiento_ministerio_de_salud</td>\n",
              "      <td>Azuay</td>\n",
              "      <td>Cuenca</td>\n",
              "      <td>Cuenca</td>\n",
              "      <td>Urbana</td>\n",
              "      <td>19.0</td>\n",
              "      <td>Ecuatoriana</td>\n",
              "      <td>99.0</td>\n",
              "      <td>2.0</td>\n",
              "      <td>99.0</td>\n",
              "      <td>99.0</td>\n",
              "      <td>Mestiza</td>\n",
              "      <td>Soltera</td>\n",
              "      <td>Si</td>\n",
              "      <td>Secundaria</td>\n",
              "      <td>Azuay</td>\n",
              "      <td>Cuenca</td>\n",
              "      <td>Cuenca</td>\n",
              "      <td>Urbana</td>\n",
              "    </tr>\n",
              "    <tr>\n",
              "      <th>2</th>\n",
              "      <td>Mujer</td>\n",
              "      <td>33.0</td>\n",
              "      <td>2011.0</td>\n",
              "      <td>Diciembre</td>\n",
              "      <td>Medico</td>\n",
              "      <td>Simple</td>\n",
              "      <td>Otro_establecimiento_publico</td>\n",
              "      <td>Azuay</td>\n",
              "      <td>Cuenca</td>\n",
              "      <td>Cuenca</td>\n",
              "      <td>Urbana</td>\n",
              "      <td>33.0</td>\n",
              "      <td>Ecuatoriana</td>\n",
              "      <td>99.0</td>\n",
              "      <td>1.0</td>\n",
              "      <td>99.0</td>\n",
              "      <td>99.0</td>\n",
              "      <td>Mestiza</td>\n",
              "      <td>Soltera</td>\n",
              "      <td>Si</td>\n",
              "      <td>Superior</td>\n",
              "      <td>Azuay</td>\n",
              "      <td>Cuenca</td>\n",
              "      <td>Cuenca</td>\n",
              "      <td>Urbana</td>\n",
              "    </tr>\n",
              "    <tr>\n",
              "      <th>3</th>\n",
              "      <td>Hombre</td>\n",
              "      <td>40.0</td>\n",
              "      <td>2011.0</td>\n",
              "      <td>Septiembre</td>\n",
              "      <td>Medico</td>\n",
              "      <td>Simple</td>\n",
              "      <td>Establecimiento_ministerio_de_salud</td>\n",
              "      <td>Azuay</td>\n",
              "      <td>Cuenca</td>\n",
              "      <td>Cuenca</td>\n",
              "      <td>Urbana</td>\n",
              "      <td>31.0</td>\n",
              "      <td>Ecuatoriana</td>\n",
              "      <td>99.0</td>\n",
              "      <td>6.0</td>\n",
              "      <td>99.0</td>\n",
              "      <td>99.0</td>\n",
              "      <td>Mestiza</td>\n",
              "      <td>Casada</td>\n",
              "      <td>Si</td>\n",
              "      <td>Secundaria</td>\n",
              "      <td>Azuay</td>\n",
              "      <td>Cuenca</td>\n",
              "      <td>Cuenca</td>\n",
              "      <td>Urbana</td>\n",
              "    </tr>\n",
              "    <tr>\n",
              "      <th>4</th>\n",
              "      <td>Mujer</td>\n",
              "      <td>99.0</td>\n",
              "      <td>2011.0</td>\n",
              "      <td>Octubre</td>\n",
              "      <td>Medico</td>\n",
              "      <td>Simple</td>\n",
              "      <td>Establecimiento_ministerio_de_salud</td>\n",
              "      <td>Azuay</td>\n",
              "      <td>Cuenca</td>\n",
              "      <td>Cuenca</td>\n",
              "      <td>Urbana</td>\n",
              "      <td>19.0</td>\n",
              "      <td>Ecuatoriana</td>\n",
              "      <td>99.0</td>\n",
              "      <td>2.0</td>\n",
              "      <td>99.0</td>\n",
              "      <td>1.0</td>\n",
              "      <td>Mestiza</td>\n",
              "      <td>Unida</td>\n",
              "      <td>Si</td>\n",
              "      <td>Secundaria</td>\n",
              "      <td>Azuay</td>\n",
              "      <td>Cuenca</td>\n",
              "      <td>Cuenca</td>\n",
              "      <td>Urbana</td>\n",
              "    </tr>\n",
              "  </tbody>\n",
              "</table>\n",
              "</div>\n",
              "      <button class=\"colab-df-convert\" onclick=\"convertToInteractive('df-7318001c-4ac6-42f5-b949-55685eb97381')\"\n",
              "              title=\"Convert this dataframe to an interactive table.\"\n",
              "              style=\"display:none;\">\n",
              "        \n",
              "  <svg xmlns=\"http://www.w3.org/2000/svg\" height=\"24px\"viewBox=\"0 0 24 24\"\n",
              "       width=\"24px\">\n",
              "    <path d=\"M0 0h24v24H0V0z\" fill=\"none\"/>\n",
              "    <path d=\"M18.56 5.44l.94 2.06.94-2.06 2.06-.94-2.06-.94-.94-2.06-.94 2.06-2.06.94zm-11 1L8.5 8.5l.94-2.06 2.06-.94-2.06-.94L8.5 2.5l-.94 2.06-2.06.94zm10 10l.94 2.06.94-2.06 2.06-.94-2.06-.94-.94-2.06-.94 2.06-2.06.94z\"/><path d=\"M17.41 7.96l-1.37-1.37c-.4-.4-.92-.59-1.43-.59-.52 0-1.04.2-1.43.59L10.3 9.45l-7.72 7.72c-.78.78-.78 2.05 0 2.83L4 21.41c.39.39.9.59 1.41.59.51 0 1.02-.2 1.41-.59l7.78-7.78 2.81-2.81c.8-.78.8-2.07 0-2.86zM5.41 20L4 18.59l7.72-7.72 1.47 1.35L5.41 20z\"/>\n",
              "  </svg>\n",
              "      </button>\n",
              "      \n",
              "  <style>\n",
              "    .colab-df-container {\n",
              "      display:flex;\n",
              "      flex-wrap:wrap;\n",
              "      gap: 12px;\n",
              "    }\n",
              "\n",
              "    .colab-df-convert {\n",
              "      background-color: #E8F0FE;\n",
              "      border: none;\n",
              "      border-radius: 50%;\n",
              "      cursor: pointer;\n",
              "      display: none;\n",
              "      fill: #1967D2;\n",
              "      height: 32px;\n",
              "      padding: 0 0 0 0;\n",
              "      width: 32px;\n",
              "    }\n",
              "\n",
              "    .colab-df-convert:hover {\n",
              "      background-color: #E2EBFA;\n",
              "      box-shadow: 0px 1px 2px rgba(60, 64, 67, 0.3), 0px 1px 3px 1px rgba(60, 64, 67, 0.15);\n",
              "      fill: #174EA6;\n",
              "    }\n",
              "\n",
              "    [theme=dark] .colab-df-convert {\n",
              "      background-color: #3B4455;\n",
              "      fill: #D2E3FC;\n",
              "    }\n",
              "\n",
              "    [theme=dark] .colab-df-convert:hover {\n",
              "      background-color: #434B5C;\n",
              "      box-shadow: 0px 1px 3px 1px rgba(0, 0, 0, 0.15);\n",
              "      filter: drop-shadow(0px 1px 2px rgba(0, 0, 0, 0.3));\n",
              "      fill: #FFFFFF;\n",
              "    }\n",
              "  </style>\n",
              "\n",
              "      <script>\n",
              "        const buttonEl =\n",
              "          document.querySelector('#df-7318001c-4ac6-42f5-b949-55685eb97381 button.colab-df-convert');\n",
              "        buttonEl.style.display =\n",
              "          google.colab.kernel.accessAllowed ? 'block' : 'none';\n",
              "\n",
              "        async function convertToInteractive(key) {\n",
              "          const element = document.querySelector('#df-7318001c-4ac6-42f5-b949-55685eb97381');\n",
              "          const dataTable =\n",
              "            await google.colab.kernel.invokeFunction('convertToInteractive',\n",
              "                                                     [key], {});\n",
              "          if (!dataTable) return;\n",
              "\n",
              "          const docLinkHtml = 'Like what you see? Visit the ' +\n",
              "            '<a target=\"_blank\" href=https://colab.research.google.com/notebooks/data_table.ipynb>data table notebook</a>'\n",
              "            + ' to learn more about interactive tables.';\n",
              "          element.innerHTML = '';\n",
              "          dataTable['output_type'] = 'display_data';\n",
              "          await google.colab.output.renderOutput(dataTable, element);\n",
              "          const docLink = document.createElement('div');\n",
              "          docLink.innerHTML = docLinkHtml;\n",
              "          element.appendChild(docLink);\n",
              "        }\n",
              "      </script>\n",
              "    </div>\n",
              "  </div>\n",
              "  "
            ]
          },
          "metadata": {},
          "execution_count": 181
        }
      ]
    },
    {
      "cell_type": "code",
      "source": [
        "df_def.head()"
      ],
      "metadata": {
        "colab": {
          "base_uri": "https://localhost:8080/",
          "height": 270
        },
        "id": "Y_BPMUbIY_bL",
        "outputId": "556023b6-4119-4f73-9517-f1b180437e0d"
      },
      "execution_count": 109,
      "outputs": [
        {
          "output_type": "execute_result",
          "data": {
            "text/plain": [
              "    sexo  sem_gest    anio         mes asis_por   p_emb  \\\n",
              "0  Mujer      36.0  2012.0  Septiembre   Medico  Simple   \n",
              "1  Mujer      38.0  2012.0   Diciembre   Medico  Simple   \n",
              "2  Mujer      33.0  2012.0     Octubre   Medico  Simple   \n",
              "3  Mujer      30.0  2012.0        Mayo   Medico  Simple   \n",
              "4  Mujer      34.0  2012.0       Junio   Medico  Simple   \n",
              "\n",
              "                             lugar_ocur provincia     canton  parroquia  \\\n",
              "0                                  Casa    Azuay   Gualaceo   Gualaceo    \n",
              "1   Establecimiento_ministerio_de_salud    Azuay     Cuenca     Cuenca    \n",
              "2  Hospital_clinica_consultorio_privado    Azuay     Cuenca     Cuenca    \n",
              "3   Establecimiento_ministerio_de_salud    Azuay     Cuenca     Cuenca    \n",
              "4   Establecimiento_ministerio_de_salud    Azuay     Cuenca     Cuenca    \n",
              "\n",
              "     area  edad_mad      nac_mad  con_pren  hij_viv  hij_vivm  hij_nacm  \\\n",
              "0  Urbana      14.0  Ecuatoriana       3.0      0.0       0.0       1.0   \n",
              "1  Urbana      24.0  Ecuatoriana       2.0      3.0       1.0       6.0   \n",
              "2  Urbana      31.0  Ecuatoriana       8.0      3.0       0.0       1.0   \n",
              "3  Urbana      33.0  Ecuatoriana       0.0      0.0       0.0       1.0   \n",
              "4  Urbana      23.0  Ecuatoriana       8.0      2.0       0.0       1.0   \n",
              "\n",
              "      etnia est_civil sabe_leer    niv_inst prov_res    cant_res   parr_res  \\\n",
              "0  Indigena     Unida        Si    Primaria   Azuay   Chordeleg   La Union    \n",
              "1  Indigena     Unida        No   Se_ignora   Azuay      Cuenca     Cuenca    \n",
              "2   Mestiza    Casada        Si  Secundaria   Azuay    Gualaceo   Gualaceo    \n",
              "3   Mestiza     Unida        Si    Primaria   Azuay      Cuenca     Cuenca    \n",
              "4   Mestiza     Unida        Si    Primaria   Azuay      Cuenca     Cuenca    \n",
              "\n",
              "  area_res  \n",
              "0    Rural  \n",
              "1   Urbana  \n",
              "2   Urbana  \n",
              "3   Urbana  \n",
              "4   Urbana  "
            ],
            "text/html": [
              "\n",
              "  <div id=\"df-33b285a3-2077-4ae5-a900-ff5b08299f85\">\n",
              "    <div class=\"colab-df-container\">\n",
              "      <div>\n",
              "<style scoped>\n",
              "    .dataframe tbody tr th:only-of-type {\n",
              "        vertical-align: middle;\n",
              "    }\n",
              "\n",
              "    .dataframe tbody tr th {\n",
              "        vertical-align: top;\n",
              "    }\n",
              "\n",
              "    .dataframe thead th {\n",
              "        text-align: right;\n",
              "    }\n",
              "</style>\n",
              "<table border=\"1\" class=\"dataframe\">\n",
              "  <thead>\n",
              "    <tr style=\"text-align: right;\">\n",
              "      <th></th>\n",
              "      <th>sexo</th>\n",
              "      <th>sem_gest</th>\n",
              "      <th>anio</th>\n",
              "      <th>mes</th>\n",
              "      <th>asis_por</th>\n",
              "      <th>p_emb</th>\n",
              "      <th>lugar_ocur</th>\n",
              "      <th>provincia</th>\n",
              "      <th>canton</th>\n",
              "      <th>parroquia</th>\n",
              "      <th>area</th>\n",
              "      <th>edad_mad</th>\n",
              "      <th>nac_mad</th>\n",
              "      <th>con_pren</th>\n",
              "      <th>hij_viv</th>\n",
              "      <th>hij_vivm</th>\n",
              "      <th>hij_nacm</th>\n",
              "      <th>etnia</th>\n",
              "      <th>est_civil</th>\n",
              "      <th>sabe_leer</th>\n",
              "      <th>niv_inst</th>\n",
              "      <th>prov_res</th>\n",
              "      <th>cant_res</th>\n",
              "      <th>parr_res</th>\n",
              "      <th>area_res</th>\n",
              "    </tr>\n",
              "  </thead>\n",
              "  <tbody>\n",
              "    <tr>\n",
              "      <th>0</th>\n",
              "      <td>Mujer</td>\n",
              "      <td>36.0</td>\n",
              "      <td>2012.0</td>\n",
              "      <td>Septiembre</td>\n",
              "      <td>Medico</td>\n",
              "      <td>Simple</td>\n",
              "      <td>Casa</td>\n",
              "      <td>Azuay</td>\n",
              "      <td>Gualaceo</td>\n",
              "      <td>Gualaceo</td>\n",
              "      <td>Urbana</td>\n",
              "      <td>14.0</td>\n",
              "      <td>Ecuatoriana</td>\n",
              "      <td>3.0</td>\n",
              "      <td>0.0</td>\n",
              "      <td>0.0</td>\n",
              "      <td>1.0</td>\n",
              "      <td>Indigena</td>\n",
              "      <td>Unida</td>\n",
              "      <td>Si</td>\n",
              "      <td>Primaria</td>\n",
              "      <td>Azuay</td>\n",
              "      <td>Chordeleg</td>\n",
              "      <td>La Union</td>\n",
              "      <td>Rural</td>\n",
              "    </tr>\n",
              "    <tr>\n",
              "      <th>1</th>\n",
              "      <td>Mujer</td>\n",
              "      <td>38.0</td>\n",
              "      <td>2012.0</td>\n",
              "      <td>Diciembre</td>\n",
              "      <td>Medico</td>\n",
              "      <td>Simple</td>\n",
              "      <td>Establecimiento_ministerio_de_salud</td>\n",
              "      <td>Azuay</td>\n",
              "      <td>Cuenca</td>\n",
              "      <td>Cuenca</td>\n",
              "      <td>Urbana</td>\n",
              "      <td>24.0</td>\n",
              "      <td>Ecuatoriana</td>\n",
              "      <td>2.0</td>\n",
              "      <td>3.0</td>\n",
              "      <td>1.0</td>\n",
              "      <td>6.0</td>\n",
              "      <td>Indigena</td>\n",
              "      <td>Unida</td>\n",
              "      <td>No</td>\n",
              "      <td>Se_ignora</td>\n",
              "      <td>Azuay</td>\n",
              "      <td>Cuenca</td>\n",
              "      <td>Cuenca</td>\n",
              "      <td>Urbana</td>\n",
              "    </tr>\n",
              "    <tr>\n",
              "      <th>2</th>\n",
              "      <td>Mujer</td>\n",
              "      <td>33.0</td>\n",
              "      <td>2012.0</td>\n",
              "      <td>Octubre</td>\n",
              "      <td>Medico</td>\n",
              "      <td>Simple</td>\n",
              "      <td>Hospital_clinica_consultorio_privado</td>\n",
              "      <td>Azuay</td>\n",
              "      <td>Cuenca</td>\n",
              "      <td>Cuenca</td>\n",
              "      <td>Urbana</td>\n",
              "      <td>31.0</td>\n",
              "      <td>Ecuatoriana</td>\n",
              "      <td>8.0</td>\n",
              "      <td>3.0</td>\n",
              "      <td>0.0</td>\n",
              "      <td>1.0</td>\n",
              "      <td>Mestiza</td>\n",
              "      <td>Casada</td>\n",
              "      <td>Si</td>\n",
              "      <td>Secundaria</td>\n",
              "      <td>Azuay</td>\n",
              "      <td>Gualaceo</td>\n",
              "      <td>Gualaceo</td>\n",
              "      <td>Urbana</td>\n",
              "    </tr>\n",
              "    <tr>\n",
              "      <th>3</th>\n",
              "      <td>Mujer</td>\n",
              "      <td>30.0</td>\n",
              "      <td>2012.0</td>\n",
              "      <td>Mayo</td>\n",
              "      <td>Medico</td>\n",
              "      <td>Simple</td>\n",
              "      <td>Establecimiento_ministerio_de_salud</td>\n",
              "      <td>Azuay</td>\n",
              "      <td>Cuenca</td>\n",
              "      <td>Cuenca</td>\n",
              "      <td>Urbana</td>\n",
              "      <td>33.0</td>\n",
              "      <td>Ecuatoriana</td>\n",
              "      <td>0.0</td>\n",
              "      <td>0.0</td>\n",
              "      <td>0.0</td>\n",
              "      <td>1.0</td>\n",
              "      <td>Mestiza</td>\n",
              "      <td>Unida</td>\n",
              "      <td>Si</td>\n",
              "      <td>Primaria</td>\n",
              "      <td>Azuay</td>\n",
              "      <td>Cuenca</td>\n",
              "      <td>Cuenca</td>\n",
              "      <td>Urbana</td>\n",
              "    </tr>\n",
              "    <tr>\n",
              "      <th>4</th>\n",
              "      <td>Mujer</td>\n",
              "      <td>34.0</td>\n",
              "      <td>2012.0</td>\n",
              "      <td>Junio</td>\n",
              "      <td>Medico</td>\n",
              "      <td>Simple</td>\n",
              "      <td>Establecimiento_ministerio_de_salud</td>\n",
              "      <td>Azuay</td>\n",
              "      <td>Cuenca</td>\n",
              "      <td>Cuenca</td>\n",
              "      <td>Urbana</td>\n",
              "      <td>23.0</td>\n",
              "      <td>Ecuatoriana</td>\n",
              "      <td>8.0</td>\n",
              "      <td>2.0</td>\n",
              "      <td>0.0</td>\n",
              "      <td>1.0</td>\n",
              "      <td>Mestiza</td>\n",
              "      <td>Unida</td>\n",
              "      <td>Si</td>\n",
              "      <td>Primaria</td>\n",
              "      <td>Azuay</td>\n",
              "      <td>Cuenca</td>\n",
              "      <td>Cuenca</td>\n",
              "      <td>Urbana</td>\n",
              "    </tr>\n",
              "  </tbody>\n",
              "</table>\n",
              "</div>\n",
              "      <button class=\"colab-df-convert\" onclick=\"convertToInteractive('df-33b285a3-2077-4ae5-a900-ff5b08299f85')\"\n",
              "              title=\"Convert this dataframe to an interactive table.\"\n",
              "              style=\"display:none;\">\n",
              "        \n",
              "  <svg xmlns=\"http://www.w3.org/2000/svg\" height=\"24px\"viewBox=\"0 0 24 24\"\n",
              "       width=\"24px\">\n",
              "    <path d=\"M0 0h24v24H0V0z\" fill=\"none\"/>\n",
              "    <path d=\"M18.56 5.44l.94 2.06.94-2.06 2.06-.94-2.06-.94-.94-2.06-.94 2.06-2.06.94zm-11 1L8.5 8.5l.94-2.06 2.06-.94-2.06-.94L8.5 2.5l-.94 2.06-2.06.94zm10 10l.94 2.06.94-2.06 2.06-.94-2.06-.94-.94-2.06-.94 2.06-2.06.94z\"/><path d=\"M17.41 7.96l-1.37-1.37c-.4-.4-.92-.59-1.43-.59-.52 0-1.04.2-1.43.59L10.3 9.45l-7.72 7.72c-.78.78-.78 2.05 0 2.83L4 21.41c.39.39.9.59 1.41.59.51 0 1.02-.2 1.41-.59l7.78-7.78 2.81-2.81c.8-.78.8-2.07 0-2.86zM5.41 20L4 18.59l7.72-7.72 1.47 1.35L5.41 20z\"/>\n",
              "  </svg>\n",
              "      </button>\n",
              "      \n",
              "  <style>\n",
              "    .colab-df-container {\n",
              "      display:flex;\n",
              "      flex-wrap:wrap;\n",
              "      gap: 12px;\n",
              "    }\n",
              "\n",
              "    .colab-df-convert {\n",
              "      background-color: #E8F0FE;\n",
              "      border: none;\n",
              "      border-radius: 50%;\n",
              "      cursor: pointer;\n",
              "      display: none;\n",
              "      fill: #1967D2;\n",
              "      height: 32px;\n",
              "      padding: 0 0 0 0;\n",
              "      width: 32px;\n",
              "    }\n",
              "\n",
              "    .colab-df-convert:hover {\n",
              "      background-color: #E2EBFA;\n",
              "      box-shadow: 0px 1px 2px rgba(60, 64, 67, 0.3), 0px 1px 3px 1px rgba(60, 64, 67, 0.15);\n",
              "      fill: #174EA6;\n",
              "    }\n",
              "\n",
              "    [theme=dark] .colab-df-convert {\n",
              "      background-color: #3B4455;\n",
              "      fill: #D2E3FC;\n",
              "    }\n",
              "\n",
              "    [theme=dark] .colab-df-convert:hover {\n",
              "      background-color: #434B5C;\n",
              "      box-shadow: 0px 1px 3px 1px rgba(0, 0, 0, 0.15);\n",
              "      filter: drop-shadow(0px 1px 2px rgba(0, 0, 0, 0.3));\n",
              "      fill: #FFFFFF;\n",
              "    }\n",
              "  </style>\n",
              "\n",
              "      <script>\n",
              "        const buttonEl =\n",
              "          document.querySelector('#df-33b285a3-2077-4ae5-a900-ff5b08299f85 button.colab-df-convert');\n",
              "        buttonEl.style.display =\n",
              "          google.colab.kernel.accessAllowed ? 'block' : 'none';\n",
              "\n",
              "        async function convertToInteractive(key) {\n",
              "          const element = document.querySelector('#df-33b285a3-2077-4ae5-a900-ff5b08299f85');\n",
              "          const dataTable =\n",
              "            await google.colab.kernel.invokeFunction('convertToInteractive',\n",
              "                                                     [key], {});\n",
              "          if (!dataTable) return;\n",
              "\n",
              "          const docLinkHtml = 'Like what you see? Visit the ' +\n",
              "            '<a target=\"_blank\" href=https://colab.research.google.com/notebooks/data_table.ipynb>data table notebook</a>'\n",
              "            + ' to learn more about interactive tables.';\n",
              "          element.innerHTML = '';\n",
              "          dataTable['output_type'] = 'display_data';\n",
              "          await google.colab.output.renderOutput(dataTable, element);\n",
              "          const docLink = document.createElement('div');\n",
              "          docLink.innerHTML = docLinkHtml;\n",
              "          element.appendChild(docLink);\n",
              "        }\n",
              "      </script>\n",
              "    </div>\n",
              "  </div>\n",
              "  "
            ]
          },
          "metadata": {},
          "execution_count": 109
        }
      ]
    },
    {
      "cell_type": "markdown",
      "source": [
        "## Unión de ambos datos"
      ],
      "metadata": {
        "id": "M3hxdbUzAIGl"
      }
    },
    {
      "cell_type": "code",
      "source": [
        "#antes de unirlos debemos aumentar una columna en el que debe constar el estado del ser vivo: vivo=1, defunción=0  \n",
        "df_nac = df_nac.assign(Estado=[1]*len(df_nac))\n",
        "df_def = df_def.assign(Estado=[0]*len(df_def))"
      ],
      "metadata": {
        "id": "pRmBJcw2AGAN"
      },
      "execution_count": 182,
      "outputs": []
    },
    {
      "cell_type": "code",
      "source": [
        "#Unimos ambos conjuntos de datos\n",
        "df = pd.concat([df_nac, df_def])"
      ],
      "metadata": {
        "id": "MUSGKU18CHSN"
      },
      "execution_count": 183,
      "outputs": []
    },
    {
      "cell_type": "code",
      "source": [
        "df.head()"
      ],
      "metadata": {
        "colab": {
          "base_uri": "https://localhost:8080/",
          "height": 270
        },
        "id": "Gn-q5jQiZzv7",
        "outputId": "79e4ef35-cb77-4f8f-eb2c-e64ccb15ce38"
      },
      "execution_count": 184,
      "outputs": [
        {
          "output_type": "execute_result",
          "data": {
            "text/plain": [
              "     sexo  sem_gest    anio         mes asis_por   p_emb  \\\n",
              "0   Mujer      99.0  2011.0     Octubre   Medico  Simple   \n",
              "1  Hombre      39.0  2011.0       Marzo   Medico  Simple   \n",
              "2   Mujer      33.0  2011.0   Diciembre   Medico  Simple   \n",
              "3  Hombre      40.0  2011.0  Septiembre   Medico  Simple   \n",
              "4   Mujer      99.0  2011.0     Octubre   Medico  Simple   \n",
              "\n",
              "                            lugar_ocur provincia   canton parroquia    area  \\\n",
              "0  Establecimiento_ministerio_de_salud    Azuay   Cuenca    Cuenca   Urbana   \n",
              "1  Establecimiento_ministerio_de_salud    Azuay   Cuenca    Cuenca   Urbana   \n",
              "2         Otro_establecimiento_publico    Azuay   Cuenca    Cuenca   Urbana   \n",
              "3  Establecimiento_ministerio_de_salud    Azuay   Cuenca    Cuenca   Urbana   \n",
              "4  Establecimiento_ministerio_de_salud    Azuay   Cuenca    Cuenca   Urbana   \n",
              "\n",
              "   edad_mad      nac_mad  con_pren  hij_viv  hij_vivm  hij_nacm    etnia  \\\n",
              "0      30.0  Ecuatoriana      99.0      2.0      99.0      99.0  Mestiza   \n",
              "1      19.0  Ecuatoriana      99.0      2.0      99.0      99.0  Mestiza   \n",
              "2      33.0  Ecuatoriana      99.0      1.0      99.0      99.0  Mestiza   \n",
              "3      31.0  Ecuatoriana      99.0      6.0      99.0      99.0  Mestiza   \n",
              "4      19.0  Ecuatoriana      99.0      2.0      99.0       1.0  Mestiza   \n",
              "\n",
              "  est_civil sabe_leer    niv_inst prov_res cant_res parr_res area_res  Estado  \n",
              "0   Soltera        Si    Primaria   Azuay   Cuenca   Cuenca    Urbana       1  \n",
              "1   Soltera        Si  Secundaria   Azuay   Cuenca   Cuenca    Urbana       1  \n",
              "2   Soltera        Si    Superior   Azuay   Cuenca   Cuenca    Urbana       1  \n",
              "3    Casada        Si  Secundaria   Azuay   Cuenca   Cuenca    Urbana       1  \n",
              "4     Unida        Si  Secundaria   Azuay   Cuenca   Cuenca    Urbana       1  "
            ],
            "text/html": [
              "\n",
              "  <div id=\"df-554c2a43-b60b-4c00-8d9a-80d2d632b4ad\">\n",
              "    <div class=\"colab-df-container\">\n",
              "      <div>\n",
              "<style scoped>\n",
              "    .dataframe tbody tr th:only-of-type {\n",
              "        vertical-align: middle;\n",
              "    }\n",
              "\n",
              "    .dataframe tbody tr th {\n",
              "        vertical-align: top;\n",
              "    }\n",
              "\n",
              "    .dataframe thead th {\n",
              "        text-align: right;\n",
              "    }\n",
              "</style>\n",
              "<table border=\"1\" class=\"dataframe\">\n",
              "  <thead>\n",
              "    <tr style=\"text-align: right;\">\n",
              "      <th></th>\n",
              "      <th>sexo</th>\n",
              "      <th>sem_gest</th>\n",
              "      <th>anio</th>\n",
              "      <th>mes</th>\n",
              "      <th>asis_por</th>\n",
              "      <th>p_emb</th>\n",
              "      <th>lugar_ocur</th>\n",
              "      <th>provincia</th>\n",
              "      <th>canton</th>\n",
              "      <th>parroquia</th>\n",
              "      <th>area</th>\n",
              "      <th>edad_mad</th>\n",
              "      <th>nac_mad</th>\n",
              "      <th>con_pren</th>\n",
              "      <th>hij_viv</th>\n",
              "      <th>hij_vivm</th>\n",
              "      <th>hij_nacm</th>\n",
              "      <th>etnia</th>\n",
              "      <th>est_civil</th>\n",
              "      <th>sabe_leer</th>\n",
              "      <th>niv_inst</th>\n",
              "      <th>prov_res</th>\n",
              "      <th>cant_res</th>\n",
              "      <th>parr_res</th>\n",
              "      <th>area_res</th>\n",
              "      <th>Estado</th>\n",
              "    </tr>\n",
              "  </thead>\n",
              "  <tbody>\n",
              "    <tr>\n",
              "      <th>0</th>\n",
              "      <td>Mujer</td>\n",
              "      <td>99.0</td>\n",
              "      <td>2011.0</td>\n",
              "      <td>Octubre</td>\n",
              "      <td>Medico</td>\n",
              "      <td>Simple</td>\n",
              "      <td>Establecimiento_ministerio_de_salud</td>\n",
              "      <td>Azuay</td>\n",
              "      <td>Cuenca</td>\n",
              "      <td>Cuenca</td>\n",
              "      <td>Urbana</td>\n",
              "      <td>30.0</td>\n",
              "      <td>Ecuatoriana</td>\n",
              "      <td>99.0</td>\n",
              "      <td>2.0</td>\n",
              "      <td>99.0</td>\n",
              "      <td>99.0</td>\n",
              "      <td>Mestiza</td>\n",
              "      <td>Soltera</td>\n",
              "      <td>Si</td>\n",
              "      <td>Primaria</td>\n",
              "      <td>Azuay</td>\n",
              "      <td>Cuenca</td>\n",
              "      <td>Cuenca</td>\n",
              "      <td>Urbana</td>\n",
              "      <td>1</td>\n",
              "    </tr>\n",
              "    <tr>\n",
              "      <th>1</th>\n",
              "      <td>Hombre</td>\n",
              "      <td>39.0</td>\n",
              "      <td>2011.0</td>\n",
              "      <td>Marzo</td>\n",
              "      <td>Medico</td>\n",
              "      <td>Simple</td>\n",
              "      <td>Establecimiento_ministerio_de_salud</td>\n",
              "      <td>Azuay</td>\n",
              "      <td>Cuenca</td>\n",
              "      <td>Cuenca</td>\n",
              "      <td>Urbana</td>\n",
              "      <td>19.0</td>\n",
              "      <td>Ecuatoriana</td>\n",
              "      <td>99.0</td>\n",
              "      <td>2.0</td>\n",
              "      <td>99.0</td>\n",
              "      <td>99.0</td>\n",
              "      <td>Mestiza</td>\n",
              "      <td>Soltera</td>\n",
              "      <td>Si</td>\n",
              "      <td>Secundaria</td>\n",
              "      <td>Azuay</td>\n",
              "      <td>Cuenca</td>\n",
              "      <td>Cuenca</td>\n",
              "      <td>Urbana</td>\n",
              "      <td>1</td>\n",
              "    </tr>\n",
              "    <tr>\n",
              "      <th>2</th>\n",
              "      <td>Mujer</td>\n",
              "      <td>33.0</td>\n",
              "      <td>2011.0</td>\n",
              "      <td>Diciembre</td>\n",
              "      <td>Medico</td>\n",
              "      <td>Simple</td>\n",
              "      <td>Otro_establecimiento_publico</td>\n",
              "      <td>Azuay</td>\n",
              "      <td>Cuenca</td>\n",
              "      <td>Cuenca</td>\n",
              "      <td>Urbana</td>\n",
              "      <td>33.0</td>\n",
              "      <td>Ecuatoriana</td>\n",
              "      <td>99.0</td>\n",
              "      <td>1.0</td>\n",
              "      <td>99.0</td>\n",
              "      <td>99.0</td>\n",
              "      <td>Mestiza</td>\n",
              "      <td>Soltera</td>\n",
              "      <td>Si</td>\n",
              "      <td>Superior</td>\n",
              "      <td>Azuay</td>\n",
              "      <td>Cuenca</td>\n",
              "      <td>Cuenca</td>\n",
              "      <td>Urbana</td>\n",
              "      <td>1</td>\n",
              "    </tr>\n",
              "    <tr>\n",
              "      <th>3</th>\n",
              "      <td>Hombre</td>\n",
              "      <td>40.0</td>\n",
              "      <td>2011.0</td>\n",
              "      <td>Septiembre</td>\n",
              "      <td>Medico</td>\n",
              "      <td>Simple</td>\n",
              "      <td>Establecimiento_ministerio_de_salud</td>\n",
              "      <td>Azuay</td>\n",
              "      <td>Cuenca</td>\n",
              "      <td>Cuenca</td>\n",
              "      <td>Urbana</td>\n",
              "      <td>31.0</td>\n",
              "      <td>Ecuatoriana</td>\n",
              "      <td>99.0</td>\n",
              "      <td>6.0</td>\n",
              "      <td>99.0</td>\n",
              "      <td>99.0</td>\n",
              "      <td>Mestiza</td>\n",
              "      <td>Casada</td>\n",
              "      <td>Si</td>\n",
              "      <td>Secundaria</td>\n",
              "      <td>Azuay</td>\n",
              "      <td>Cuenca</td>\n",
              "      <td>Cuenca</td>\n",
              "      <td>Urbana</td>\n",
              "      <td>1</td>\n",
              "    </tr>\n",
              "    <tr>\n",
              "      <th>4</th>\n",
              "      <td>Mujer</td>\n",
              "      <td>99.0</td>\n",
              "      <td>2011.0</td>\n",
              "      <td>Octubre</td>\n",
              "      <td>Medico</td>\n",
              "      <td>Simple</td>\n",
              "      <td>Establecimiento_ministerio_de_salud</td>\n",
              "      <td>Azuay</td>\n",
              "      <td>Cuenca</td>\n",
              "      <td>Cuenca</td>\n",
              "      <td>Urbana</td>\n",
              "      <td>19.0</td>\n",
              "      <td>Ecuatoriana</td>\n",
              "      <td>99.0</td>\n",
              "      <td>2.0</td>\n",
              "      <td>99.0</td>\n",
              "      <td>1.0</td>\n",
              "      <td>Mestiza</td>\n",
              "      <td>Unida</td>\n",
              "      <td>Si</td>\n",
              "      <td>Secundaria</td>\n",
              "      <td>Azuay</td>\n",
              "      <td>Cuenca</td>\n",
              "      <td>Cuenca</td>\n",
              "      <td>Urbana</td>\n",
              "      <td>1</td>\n",
              "    </tr>\n",
              "  </tbody>\n",
              "</table>\n",
              "</div>\n",
              "      <button class=\"colab-df-convert\" onclick=\"convertToInteractive('df-554c2a43-b60b-4c00-8d9a-80d2d632b4ad')\"\n",
              "              title=\"Convert this dataframe to an interactive table.\"\n",
              "              style=\"display:none;\">\n",
              "        \n",
              "  <svg xmlns=\"http://www.w3.org/2000/svg\" height=\"24px\"viewBox=\"0 0 24 24\"\n",
              "       width=\"24px\">\n",
              "    <path d=\"M0 0h24v24H0V0z\" fill=\"none\"/>\n",
              "    <path d=\"M18.56 5.44l.94 2.06.94-2.06 2.06-.94-2.06-.94-.94-2.06-.94 2.06-2.06.94zm-11 1L8.5 8.5l.94-2.06 2.06-.94-2.06-.94L8.5 2.5l-.94 2.06-2.06.94zm10 10l.94 2.06.94-2.06 2.06-.94-2.06-.94-.94-2.06-.94 2.06-2.06.94z\"/><path d=\"M17.41 7.96l-1.37-1.37c-.4-.4-.92-.59-1.43-.59-.52 0-1.04.2-1.43.59L10.3 9.45l-7.72 7.72c-.78.78-.78 2.05 0 2.83L4 21.41c.39.39.9.59 1.41.59.51 0 1.02-.2 1.41-.59l7.78-7.78 2.81-2.81c.8-.78.8-2.07 0-2.86zM5.41 20L4 18.59l7.72-7.72 1.47 1.35L5.41 20z\"/>\n",
              "  </svg>\n",
              "      </button>\n",
              "      \n",
              "  <style>\n",
              "    .colab-df-container {\n",
              "      display:flex;\n",
              "      flex-wrap:wrap;\n",
              "      gap: 12px;\n",
              "    }\n",
              "\n",
              "    .colab-df-convert {\n",
              "      background-color: #E8F0FE;\n",
              "      border: none;\n",
              "      border-radius: 50%;\n",
              "      cursor: pointer;\n",
              "      display: none;\n",
              "      fill: #1967D2;\n",
              "      height: 32px;\n",
              "      padding: 0 0 0 0;\n",
              "      width: 32px;\n",
              "    }\n",
              "\n",
              "    .colab-df-convert:hover {\n",
              "      background-color: #E2EBFA;\n",
              "      box-shadow: 0px 1px 2px rgba(60, 64, 67, 0.3), 0px 1px 3px 1px rgba(60, 64, 67, 0.15);\n",
              "      fill: #174EA6;\n",
              "    }\n",
              "\n",
              "    [theme=dark] .colab-df-convert {\n",
              "      background-color: #3B4455;\n",
              "      fill: #D2E3FC;\n",
              "    }\n",
              "\n",
              "    [theme=dark] .colab-df-convert:hover {\n",
              "      background-color: #434B5C;\n",
              "      box-shadow: 0px 1px 3px 1px rgba(0, 0, 0, 0.15);\n",
              "      filter: drop-shadow(0px 1px 2px rgba(0, 0, 0, 0.3));\n",
              "      fill: #FFFFFF;\n",
              "    }\n",
              "  </style>\n",
              "\n",
              "      <script>\n",
              "        const buttonEl =\n",
              "          document.querySelector('#df-554c2a43-b60b-4c00-8d9a-80d2d632b4ad button.colab-df-convert');\n",
              "        buttonEl.style.display =\n",
              "          google.colab.kernel.accessAllowed ? 'block' : 'none';\n",
              "\n",
              "        async function convertToInteractive(key) {\n",
              "          const element = document.querySelector('#df-554c2a43-b60b-4c00-8d9a-80d2d632b4ad');\n",
              "          const dataTable =\n",
              "            await google.colab.kernel.invokeFunction('convertToInteractive',\n",
              "                                                     [key], {});\n",
              "          if (!dataTable) return;\n",
              "\n",
              "          const docLinkHtml = 'Like what you see? Visit the ' +\n",
              "            '<a target=\"_blank\" href=https://colab.research.google.com/notebooks/data_table.ipynb>data table notebook</a>'\n",
              "            + ' to learn more about interactive tables.';\n",
              "          element.innerHTML = '';\n",
              "          dataTable['output_type'] = 'display_data';\n",
              "          await google.colab.output.renderOutput(dataTable, element);\n",
              "          const docLink = document.createElement('div');\n",
              "          docLink.innerHTML = docLinkHtml;\n",
              "          element.appendChild(docLink);\n",
              "        }\n",
              "      </script>\n",
              "    </div>\n",
              "  </div>\n",
              "  "
            ]
          },
          "metadata": {},
          "execution_count": 184
        }
      ]
    },
    {
      "cell_type": "code",
      "source": [
        "#Guardamos el data frame con el que vamos a trabajar\n",
        "df.to_csv('defuncion_nacimientos.csv', index=False)"
      ],
      "metadata": {
        "id": "BOjs5nAYWfJl"
      },
      "execution_count": 115,
      "outputs": []
    },
    {
      "cell_type": "markdown",
      "source": [
        "## Limpieza de datos"
      ],
      "metadata": {
        "id": "eEyPEmsaWyS8"
      }
    },
    {
      "cell_type": "code",
      "source": [
        "df.info()"
      ],
      "metadata": {
        "colab": {
          "base_uri": "https://localhost:8080/"
        },
        "id": "SHCLZzfceyu8",
        "outputId": "05313153-e1da-4e86-a269-12e4ee15b1ce"
      },
      "execution_count": 123,
      "outputs": [
        {
          "output_type": "stream",
          "name": "stdout",
          "text": [
            "<class 'pandas.core.frame.DataFrame'>\n",
            "Int64Index: 1346388 entries, 0 to 1856\n",
            "Data columns (total 26 columns):\n",
            " #   Column      Non-Null Count    Dtype  \n",
            "---  ------      --------------    -----  \n",
            " 0   sexo        1346388 non-null  object \n",
            " 1   sem_gest    1313847 non-null  float64\n",
            " 2   anio        1346388 non-null  float64\n",
            " 3   mes         1346388 non-null  object \n",
            " 4   asis_por    1272162 non-null  object \n",
            " 5   p_emb       1272162 non-null  object \n",
            " 6   lugar_ocur  1272162 non-null  object \n",
            " 7   provincia   1346388 non-null  object \n",
            " 8   canton      1346388 non-null  object \n",
            " 9   parroquia   1346388 non-null  object \n",
            " 10  area        1272162 non-null  object \n",
            " 11  edad_mad    1272162 non-null  float64\n",
            " 12  nac_mad     1272162 non-null  object \n",
            " 13  con_pren    1272162 non-null  float64\n",
            " 14  hij_viv     1272162 non-null  float64\n",
            " 15  hij_vivm    1272162 non-null  float64\n",
            " 16  hij_nacm    1272162 non-null  float64\n",
            " 17  etnia       1272162 non-null  object \n",
            " 18  est_civil   1272162 non-null  object \n",
            " 19  sabe_leer   1272162 non-null  object \n",
            " 20  niv_inst    1268369 non-null  object \n",
            " 21  prov_res    1346388 non-null  object \n",
            " 22  cant_res    1346388 non-null  object \n",
            " 23  parr_res    1346388 non-null  object \n",
            " 24  area_res    1346388 non-null  object \n",
            " 25  Estado      1346388 non-null  int64  \n",
            "dtypes: float64(7), int64(1), object(18)\n",
            "memory usage: 277.3+ MB\n"
          ]
        }
      ]
    },
    {
      "cell_type": "code",
      "source": [
        "df.isna().sum()"
      ],
      "metadata": {
        "colab": {
          "base_uri": "https://localhost:8080/"
        },
        "id": "Bb_ZGxfYagYr",
        "outputId": "6a8d585e-d8a7-4ac5-fd47-c1532753d74f"
      },
      "execution_count": 117,
      "outputs": [
        {
          "output_type": "execute_result",
          "data": {
            "text/plain": [
              "sexo              0\n",
              "sem_gest      32541\n",
              "anio              0\n",
              "mes               0\n",
              "asis_por      74226\n",
              "p_emb         74226\n",
              "lugar_ocur    74226\n",
              "provincia         0\n",
              "canton            0\n",
              "parroquia         0\n",
              "area          74226\n",
              "edad_mad      74226\n",
              "nac_mad       74226\n",
              "con_pren      74226\n",
              "hij_viv       74226\n",
              "hij_vivm      74226\n",
              "hij_nacm      74226\n",
              "etnia         74226\n",
              "est_civil     74226\n",
              "sabe_leer     74226\n",
              "niv_inst      78019\n",
              "prov_res          0\n",
              "cant_res          0\n",
              "parr_res          0\n",
              "area_res          0\n",
              "Estado            0\n",
              "dtype: int64"
            ]
          },
          "metadata": {},
          "execution_count": 117
        }
      ]
    },
    {
      "cell_type": "markdown",
      "source": [
        "### 1) Variables categóricas"
      ],
      "metadata": {
        "id": "1MisLbeeej_D"
      }
    },
    {
      "cell_type": "markdown",
      "source": [
        "Tenemos algunas celdas vacías en las siguientes columnas, vamos a analizar cada una de ellas\n",
        "\n"
      ],
      "metadata": {
        "id": "B5aORMa-anvK"
      }
    },
    {
      "cell_type": "code",
      "source": [
        "df[\"sexo\"].value_counts()"
      ],
      "metadata": {
        "colab": {
          "base_uri": "https://localhost:8080/"
        },
        "id": "f2wJGxy1amlj",
        "outputId": "333a9a60-3471-420e-af13-5d5157d2b30f"
      },
      "execution_count": 185,
      "outputs": [
        {
          "output_type": "execute_result",
          "data": {
            "text/plain": [
              "Hombre    689476\n",
              "Mujer     656912\n",
              "3.0           14\n",
              "Name: sexo, dtype: int64"
            ]
          },
          "metadata": {},
          "execution_count": 185
        }
      ]
    },
    {
      "cell_type": "markdown",
      "source": [
        "Hay un codigo en sexo que vale 3, debido a que no se sabe que significa este número en el diccionario de los datos y debido a la pequeña cantidad de estos, los vamos a eliminar."
      ],
      "metadata": {
        "id": "YSeGhAUbcbpr"
      }
    },
    {
      "cell_type": "code",
      "source": [
        "df = df.loc[df[\"sexo\"] != 3,:]"
      ],
      "metadata": {
        "id": "rQN9bdgKbXQz"
      },
      "execution_count": 186,
      "outputs": []
    },
    {
      "cell_type": "code",
      "source": [
        "df[\"sexo\"].value_counts()"
      ],
      "metadata": {
        "colab": {
          "base_uri": "https://localhost:8080/"
        },
        "id": "8fBbNxc8eLID",
        "outputId": "bc02b85c-55f5-4268-d699-5b2533a87fce"
      },
      "execution_count": 187,
      "outputs": [
        {
          "output_type": "execute_result",
          "data": {
            "text/plain": [
              "Hombre    689476\n",
              "Mujer     656912\n",
              "Name: sexo, dtype: int64"
            ]
          },
          "metadata": {},
          "execution_count": 187
        }
      ]
    },
    {
      "cell_type": "code",
      "source": [
        "df[\"mes\"].value_counts()"
      ],
      "metadata": {
        "colab": {
          "base_uri": "https://localhost:8080/"
        },
        "id": "zKhO8HZzeesk",
        "outputId": "d6c26813-f27f-47b5-ded0-425101846efc"
      },
      "execution_count": 188,
      "outputs": [
        {
          "output_type": "execute_result",
          "data": {
            "text/plain": [
              "Diciembre     119864\n",
              "Octubre       115768\n",
              "Mayo          115527\n",
              "Septiembre    115379\n",
              "Julio         115308\n",
              "Agosto        115228\n",
              "Marzo         111834\n",
              "Noviembre     111468\n",
              "Junio         110513\n",
              "Abril         110131\n",
              "Enero         106032\n",
              "Febrero        99336\n",
              "Name: mes, dtype: int64"
            ]
          },
          "metadata": {},
          "execution_count": 188
        }
      ]
    },
    {
      "cell_type": "markdown",
      "source": [
        "La columna mes no tiene ningun problema"
      ],
      "metadata": {
        "id": "HJ_di3mEfErD"
      }
    },
    {
      "cell_type": "code",
      "source": [
        "df[\"asis_por\"].value_counts()"
      ],
      "metadata": {
        "colab": {
          "base_uri": "https://localhost:8080/"
        },
        "id": "TW1X916xe6Vr",
        "outputId": "57af6859-82ad-4b7e-a190-6ef8da01cb98"
      },
      "execution_count": 189,
      "outputs": [
        {
          "output_type": "execute_result",
          "data": {
            "text/plain": [
              "Medico                     989304\n",
              "Obstetra                   150513\n",
              "Otro                        58981\n",
              "Ignorado                    38588\n",
              "Partero_a_no_calificado     29590\n",
              "Partero_a_calificad          4111\n",
              "Auxiliar_enfermeria           600\n",
              "Enfermero_a                   475\n",
              "Name: asis_por, dtype: int64"
            ]
          },
          "metadata": {},
          "execution_count": 189
        }
      ]
    },
    {
      "cell_type": "code",
      "source": [
        "df.loc[df[\"asis_por\"].isna(),:]"
      ],
      "metadata": {
        "colab": {
          "base_uri": "https://localhost:8080/",
          "height": 487
        },
        "id": "3-iz3o_QjyPs",
        "outputId": "51c5ac61-eb50-4d86-af80-2da42c951e9e"
      },
      "execution_count": 197,
      "outputs": [
        {
          "output_type": "execute_result",
          "data": {
            "text/plain": [
              "          sexo  sem_gest    anio         mes asis_por p_emb lugar_ocur  \\\n",
              "282968   Mujer      40.0  2010.0     Octubre      NaN   NaN        NaN   \n",
              "282969  Hombre      99.0  2010.0       Marzo      NaN   NaN        NaN   \n",
              "282970   Mujer      39.0  2011.0   Noviembre      NaN   NaN        NaN   \n",
              "282971  Hombre      38.0  2011.0   Noviembre      NaN   NaN        NaN   \n",
              "282972  Hombre      38.0  2011.0     Octubre      NaN   NaN        NaN   \n",
              "...        ...       ...     ...         ...      ...   ...        ...   \n",
              "304377  Hombre       NaN  2012.0       Julio      NaN   NaN        NaN   \n",
              "304378  Hombre       NaN  2012.0  Septiembre      NaN   NaN        NaN   \n",
              "304379  Hombre       NaN  2011.0       Abril      NaN   NaN        NaN   \n",
              "304380   Mujer       NaN  2006.0   Noviembre      NaN   NaN        NaN   \n",
              "304381  Hombre       NaN  2010.0       Abril      NaN   NaN        NaN   \n",
              "\n",
              "       provincia canton parroquia area  edad_mad nac_mad  con_pren  hij_viv  \\\n",
              "282968       0.0    0.0       0.0  NaN       NaN     NaN       NaN      NaN   \n",
              "282969       0.0    0.0       0.0  NaN       NaN     NaN       NaN      NaN   \n",
              "282970       0.0    0.0       0.0  NaN       NaN     NaN       NaN      NaN   \n",
              "282971       0.0    0.0       0.0  NaN       NaN     NaN       NaN      NaN   \n",
              "282972       0.0    0.0       0.0  NaN       NaN     NaN       NaN      NaN   \n",
              "...          ...    ...       ...  ...       ...     ...       ...      ...   \n",
              "304377       0.0    0.0       0.0  NaN       NaN     NaN       NaN      NaN   \n",
              "304378       0.0    0.0       0.0  NaN       NaN     NaN       NaN      NaN   \n",
              "304379       0.0    0.0       0.0  NaN       NaN     NaN       NaN      NaN   \n",
              "304380       0.0    0.0       0.0  NaN       NaN     NaN       NaN      NaN   \n",
              "304381       0.0    0.0       0.0  NaN       NaN     NaN       NaN      NaN   \n",
              "\n",
              "        hij_vivm  hij_nacm etnia est_civil sabe_leer niv_inst   prov_res  \\\n",
              "282968       NaN       NaN   NaN       NaN       NaN      NaN     Canar    \n",
              "282969       NaN       NaN   NaN       NaN       NaN      NaN     Azuay    \n",
              "282970       NaN       NaN   NaN       NaN       NaN      NaN     Azuay    \n",
              "282971       NaN       NaN   NaN       NaN       NaN      NaN     Azuay    \n",
              "282972       NaN       NaN   NaN       NaN       NaN      NaN     Azuay    \n",
              "...          ...       ...   ...       ...       ...      ...        ...   \n",
              "304377       NaN       NaN   NaN       NaN       NaN      NaN    Manabi    \n",
              "304378       NaN       NaN   NaN       NaN       NaN      NaN  Los Rios    \n",
              "304379       NaN       NaN   NaN       NaN       NaN      NaN  Los Rios    \n",
              "304380       NaN       NaN   NaN       NaN       NaN      NaN    Manabi    \n",
              "304381       NaN       NaN   NaN       NaN       NaN      NaN    Manabi    \n",
              "\n",
              "            cant_res      parr_res area_res  Estado  \n",
              "282968        Canar         Canar    Urbana       1  \n",
              "282969       Cuenca       Sayausi     Rural       1  \n",
              "282970       Cuenca        10105.0   Urbana       1  \n",
              "282971       Cuenca        10110.0   Urbana       1  \n",
              "282972       Cuenca        Cuenca    Urbana       1  \n",
              "...              ...           ...      ...     ...  \n",
              "304377        Manta       130801.0   Urbana       1  \n",
              "304378         Baba          Baba    Urbana       1  \n",
              "304379         Baba          Baba    Urbana       1  \n",
              "304380  Montecristi   Montecristi    Urbana       1  \n",
              "304381        Manta       130801.0   Urbana       1  \n",
              "\n",
              "[74226 rows x 26 columns]"
            ],
            "text/html": [
              "\n",
              "  <div id=\"df-ce0b223b-7224-4822-8165-e95a7bf9e843\">\n",
              "    <div class=\"colab-df-container\">\n",
              "      <div>\n",
              "<style scoped>\n",
              "    .dataframe tbody tr th:only-of-type {\n",
              "        vertical-align: middle;\n",
              "    }\n",
              "\n",
              "    .dataframe tbody tr th {\n",
              "        vertical-align: top;\n",
              "    }\n",
              "\n",
              "    .dataframe thead th {\n",
              "        text-align: right;\n",
              "    }\n",
              "</style>\n",
              "<table border=\"1\" class=\"dataframe\">\n",
              "  <thead>\n",
              "    <tr style=\"text-align: right;\">\n",
              "      <th></th>\n",
              "      <th>sexo</th>\n",
              "      <th>sem_gest</th>\n",
              "      <th>anio</th>\n",
              "      <th>mes</th>\n",
              "      <th>asis_por</th>\n",
              "      <th>p_emb</th>\n",
              "      <th>lugar_ocur</th>\n",
              "      <th>provincia</th>\n",
              "      <th>canton</th>\n",
              "      <th>parroquia</th>\n",
              "      <th>area</th>\n",
              "      <th>edad_mad</th>\n",
              "      <th>nac_mad</th>\n",
              "      <th>con_pren</th>\n",
              "      <th>hij_viv</th>\n",
              "      <th>hij_vivm</th>\n",
              "      <th>hij_nacm</th>\n",
              "      <th>etnia</th>\n",
              "      <th>est_civil</th>\n",
              "      <th>sabe_leer</th>\n",
              "      <th>niv_inst</th>\n",
              "      <th>prov_res</th>\n",
              "      <th>cant_res</th>\n",
              "      <th>parr_res</th>\n",
              "      <th>area_res</th>\n",
              "      <th>Estado</th>\n",
              "    </tr>\n",
              "  </thead>\n",
              "  <tbody>\n",
              "    <tr>\n",
              "      <th>282968</th>\n",
              "      <td>Mujer</td>\n",
              "      <td>40.0</td>\n",
              "      <td>2010.0</td>\n",
              "      <td>Octubre</td>\n",
              "      <td>NaN</td>\n",
              "      <td>NaN</td>\n",
              "      <td>NaN</td>\n",
              "      <td>0.0</td>\n",
              "      <td>0.0</td>\n",
              "      <td>0.0</td>\n",
              "      <td>NaN</td>\n",
              "      <td>NaN</td>\n",
              "      <td>NaN</td>\n",
              "      <td>NaN</td>\n",
              "      <td>NaN</td>\n",
              "      <td>NaN</td>\n",
              "      <td>NaN</td>\n",
              "      <td>NaN</td>\n",
              "      <td>NaN</td>\n",
              "      <td>NaN</td>\n",
              "      <td>NaN</td>\n",
              "      <td>Canar</td>\n",
              "      <td>Canar</td>\n",
              "      <td>Canar</td>\n",
              "      <td>Urbana</td>\n",
              "      <td>1</td>\n",
              "    </tr>\n",
              "    <tr>\n",
              "      <th>282969</th>\n",
              "      <td>Hombre</td>\n",
              "      <td>99.0</td>\n",
              "      <td>2010.0</td>\n",
              "      <td>Marzo</td>\n",
              "      <td>NaN</td>\n",
              "      <td>NaN</td>\n",
              "      <td>NaN</td>\n",
              "      <td>0.0</td>\n",
              "      <td>0.0</td>\n",
              "      <td>0.0</td>\n",
              "      <td>NaN</td>\n",
              "      <td>NaN</td>\n",
              "      <td>NaN</td>\n",
              "      <td>NaN</td>\n",
              "      <td>NaN</td>\n",
              "      <td>NaN</td>\n",
              "      <td>NaN</td>\n",
              "      <td>NaN</td>\n",
              "      <td>NaN</td>\n",
              "      <td>NaN</td>\n",
              "      <td>NaN</td>\n",
              "      <td>Azuay</td>\n",
              "      <td>Cuenca</td>\n",
              "      <td>Sayausi</td>\n",
              "      <td>Rural</td>\n",
              "      <td>1</td>\n",
              "    </tr>\n",
              "    <tr>\n",
              "      <th>282970</th>\n",
              "      <td>Mujer</td>\n",
              "      <td>39.0</td>\n",
              "      <td>2011.0</td>\n",
              "      <td>Noviembre</td>\n",
              "      <td>NaN</td>\n",
              "      <td>NaN</td>\n",
              "      <td>NaN</td>\n",
              "      <td>0.0</td>\n",
              "      <td>0.0</td>\n",
              "      <td>0.0</td>\n",
              "      <td>NaN</td>\n",
              "      <td>NaN</td>\n",
              "      <td>NaN</td>\n",
              "      <td>NaN</td>\n",
              "      <td>NaN</td>\n",
              "      <td>NaN</td>\n",
              "      <td>NaN</td>\n",
              "      <td>NaN</td>\n",
              "      <td>NaN</td>\n",
              "      <td>NaN</td>\n",
              "      <td>NaN</td>\n",
              "      <td>Azuay</td>\n",
              "      <td>Cuenca</td>\n",
              "      <td>10105.0</td>\n",
              "      <td>Urbana</td>\n",
              "      <td>1</td>\n",
              "    </tr>\n",
              "    <tr>\n",
              "      <th>282971</th>\n",
              "      <td>Hombre</td>\n",
              "      <td>38.0</td>\n",
              "      <td>2011.0</td>\n",
              "      <td>Noviembre</td>\n",
              "      <td>NaN</td>\n",
              "      <td>NaN</td>\n",
              "      <td>NaN</td>\n",
              "      <td>0.0</td>\n",
              "      <td>0.0</td>\n",
              "      <td>0.0</td>\n",
              "      <td>NaN</td>\n",
              "      <td>NaN</td>\n",
              "      <td>NaN</td>\n",
              "      <td>NaN</td>\n",
              "      <td>NaN</td>\n",
              "      <td>NaN</td>\n",
              "      <td>NaN</td>\n",
              "      <td>NaN</td>\n",
              "      <td>NaN</td>\n",
              "      <td>NaN</td>\n",
              "      <td>NaN</td>\n",
              "      <td>Azuay</td>\n",
              "      <td>Cuenca</td>\n",
              "      <td>10110.0</td>\n",
              "      <td>Urbana</td>\n",
              "      <td>1</td>\n",
              "    </tr>\n",
              "    <tr>\n",
              "      <th>282972</th>\n",
              "      <td>Hombre</td>\n",
              "      <td>38.0</td>\n",
              "      <td>2011.0</td>\n",
              "      <td>Octubre</td>\n",
              "      <td>NaN</td>\n",
              "      <td>NaN</td>\n",
              "      <td>NaN</td>\n",
              "      <td>0.0</td>\n",
              "      <td>0.0</td>\n",
              "      <td>0.0</td>\n",
              "      <td>NaN</td>\n",
              "      <td>NaN</td>\n",
              "      <td>NaN</td>\n",
              "      <td>NaN</td>\n",
              "      <td>NaN</td>\n",
              "      <td>NaN</td>\n",
              "      <td>NaN</td>\n",
              "      <td>NaN</td>\n",
              "      <td>NaN</td>\n",
              "      <td>NaN</td>\n",
              "      <td>NaN</td>\n",
              "      <td>Azuay</td>\n",
              "      <td>Cuenca</td>\n",
              "      <td>Cuenca</td>\n",
              "      <td>Urbana</td>\n",
              "      <td>1</td>\n",
              "    </tr>\n",
              "    <tr>\n",
              "      <th>...</th>\n",
              "      <td>...</td>\n",
              "      <td>...</td>\n",
              "      <td>...</td>\n",
              "      <td>...</td>\n",
              "      <td>...</td>\n",
              "      <td>...</td>\n",
              "      <td>...</td>\n",
              "      <td>...</td>\n",
              "      <td>...</td>\n",
              "      <td>...</td>\n",
              "      <td>...</td>\n",
              "      <td>...</td>\n",
              "      <td>...</td>\n",
              "      <td>...</td>\n",
              "      <td>...</td>\n",
              "      <td>...</td>\n",
              "      <td>...</td>\n",
              "      <td>...</td>\n",
              "      <td>...</td>\n",
              "      <td>...</td>\n",
              "      <td>...</td>\n",
              "      <td>...</td>\n",
              "      <td>...</td>\n",
              "      <td>...</td>\n",
              "      <td>...</td>\n",
              "      <td>...</td>\n",
              "    </tr>\n",
              "    <tr>\n",
              "      <th>304377</th>\n",
              "      <td>Hombre</td>\n",
              "      <td>NaN</td>\n",
              "      <td>2012.0</td>\n",
              "      <td>Julio</td>\n",
              "      <td>NaN</td>\n",
              "      <td>NaN</td>\n",
              "      <td>NaN</td>\n",
              "      <td>0.0</td>\n",
              "      <td>0.0</td>\n",
              "      <td>0.0</td>\n",
              "      <td>NaN</td>\n",
              "      <td>NaN</td>\n",
              "      <td>NaN</td>\n",
              "      <td>NaN</td>\n",
              "      <td>NaN</td>\n",
              "      <td>NaN</td>\n",
              "      <td>NaN</td>\n",
              "      <td>NaN</td>\n",
              "      <td>NaN</td>\n",
              "      <td>NaN</td>\n",
              "      <td>NaN</td>\n",
              "      <td>Manabi</td>\n",
              "      <td>Manta</td>\n",
              "      <td>130801.0</td>\n",
              "      <td>Urbana</td>\n",
              "      <td>1</td>\n",
              "    </tr>\n",
              "    <tr>\n",
              "      <th>304378</th>\n",
              "      <td>Hombre</td>\n",
              "      <td>NaN</td>\n",
              "      <td>2012.0</td>\n",
              "      <td>Septiembre</td>\n",
              "      <td>NaN</td>\n",
              "      <td>NaN</td>\n",
              "      <td>NaN</td>\n",
              "      <td>0.0</td>\n",
              "      <td>0.0</td>\n",
              "      <td>0.0</td>\n",
              "      <td>NaN</td>\n",
              "      <td>NaN</td>\n",
              "      <td>NaN</td>\n",
              "      <td>NaN</td>\n",
              "      <td>NaN</td>\n",
              "      <td>NaN</td>\n",
              "      <td>NaN</td>\n",
              "      <td>NaN</td>\n",
              "      <td>NaN</td>\n",
              "      <td>NaN</td>\n",
              "      <td>NaN</td>\n",
              "      <td>Los Rios</td>\n",
              "      <td>Baba</td>\n",
              "      <td>Baba</td>\n",
              "      <td>Urbana</td>\n",
              "      <td>1</td>\n",
              "    </tr>\n",
              "    <tr>\n",
              "      <th>304379</th>\n",
              "      <td>Hombre</td>\n",
              "      <td>NaN</td>\n",
              "      <td>2011.0</td>\n",
              "      <td>Abril</td>\n",
              "      <td>NaN</td>\n",
              "      <td>NaN</td>\n",
              "      <td>NaN</td>\n",
              "      <td>0.0</td>\n",
              "      <td>0.0</td>\n",
              "      <td>0.0</td>\n",
              "      <td>NaN</td>\n",
              "      <td>NaN</td>\n",
              "      <td>NaN</td>\n",
              "      <td>NaN</td>\n",
              "      <td>NaN</td>\n",
              "      <td>NaN</td>\n",
              "      <td>NaN</td>\n",
              "      <td>NaN</td>\n",
              "      <td>NaN</td>\n",
              "      <td>NaN</td>\n",
              "      <td>NaN</td>\n",
              "      <td>Los Rios</td>\n",
              "      <td>Baba</td>\n",
              "      <td>Baba</td>\n",
              "      <td>Urbana</td>\n",
              "      <td>1</td>\n",
              "    </tr>\n",
              "    <tr>\n",
              "      <th>304380</th>\n",
              "      <td>Mujer</td>\n",
              "      <td>NaN</td>\n",
              "      <td>2006.0</td>\n",
              "      <td>Noviembre</td>\n",
              "      <td>NaN</td>\n",
              "      <td>NaN</td>\n",
              "      <td>NaN</td>\n",
              "      <td>0.0</td>\n",
              "      <td>0.0</td>\n",
              "      <td>0.0</td>\n",
              "      <td>NaN</td>\n",
              "      <td>NaN</td>\n",
              "      <td>NaN</td>\n",
              "      <td>NaN</td>\n",
              "      <td>NaN</td>\n",
              "      <td>NaN</td>\n",
              "      <td>NaN</td>\n",
              "      <td>NaN</td>\n",
              "      <td>NaN</td>\n",
              "      <td>NaN</td>\n",
              "      <td>NaN</td>\n",
              "      <td>Manabi</td>\n",
              "      <td>Montecristi</td>\n",
              "      <td>Montecristi</td>\n",
              "      <td>Urbana</td>\n",
              "      <td>1</td>\n",
              "    </tr>\n",
              "    <tr>\n",
              "      <th>304381</th>\n",
              "      <td>Hombre</td>\n",
              "      <td>NaN</td>\n",
              "      <td>2010.0</td>\n",
              "      <td>Abril</td>\n",
              "      <td>NaN</td>\n",
              "      <td>NaN</td>\n",
              "      <td>NaN</td>\n",
              "      <td>0.0</td>\n",
              "      <td>0.0</td>\n",
              "      <td>0.0</td>\n",
              "      <td>NaN</td>\n",
              "      <td>NaN</td>\n",
              "      <td>NaN</td>\n",
              "      <td>NaN</td>\n",
              "      <td>NaN</td>\n",
              "      <td>NaN</td>\n",
              "      <td>NaN</td>\n",
              "      <td>NaN</td>\n",
              "      <td>NaN</td>\n",
              "      <td>NaN</td>\n",
              "      <td>NaN</td>\n",
              "      <td>Manabi</td>\n",
              "      <td>Manta</td>\n",
              "      <td>130801.0</td>\n",
              "      <td>Urbana</td>\n",
              "      <td>1</td>\n",
              "    </tr>\n",
              "  </tbody>\n",
              "</table>\n",
              "<p>74226 rows × 26 columns</p>\n",
              "</div>\n",
              "      <button class=\"colab-df-convert\" onclick=\"convertToInteractive('df-ce0b223b-7224-4822-8165-e95a7bf9e843')\"\n",
              "              title=\"Convert this dataframe to an interactive table.\"\n",
              "              style=\"display:none;\">\n",
              "        \n",
              "  <svg xmlns=\"http://www.w3.org/2000/svg\" height=\"24px\"viewBox=\"0 0 24 24\"\n",
              "       width=\"24px\">\n",
              "    <path d=\"M0 0h24v24H0V0z\" fill=\"none\"/>\n",
              "    <path d=\"M18.56 5.44l.94 2.06.94-2.06 2.06-.94-2.06-.94-.94-2.06-.94 2.06-2.06.94zm-11 1L8.5 8.5l.94-2.06 2.06-.94-2.06-.94L8.5 2.5l-.94 2.06-2.06.94zm10 10l.94 2.06.94-2.06 2.06-.94-2.06-.94-.94-2.06-.94 2.06-2.06.94z\"/><path d=\"M17.41 7.96l-1.37-1.37c-.4-.4-.92-.59-1.43-.59-.52 0-1.04.2-1.43.59L10.3 9.45l-7.72 7.72c-.78.78-.78 2.05 0 2.83L4 21.41c.39.39.9.59 1.41.59.51 0 1.02-.2 1.41-.59l7.78-7.78 2.81-2.81c.8-.78.8-2.07 0-2.86zM5.41 20L4 18.59l7.72-7.72 1.47 1.35L5.41 20z\"/>\n",
              "  </svg>\n",
              "      </button>\n",
              "      \n",
              "  <style>\n",
              "    .colab-df-container {\n",
              "      display:flex;\n",
              "      flex-wrap:wrap;\n",
              "      gap: 12px;\n",
              "    }\n",
              "\n",
              "    .colab-df-convert {\n",
              "      background-color: #E8F0FE;\n",
              "      border: none;\n",
              "      border-radius: 50%;\n",
              "      cursor: pointer;\n",
              "      display: none;\n",
              "      fill: #1967D2;\n",
              "      height: 32px;\n",
              "      padding: 0 0 0 0;\n",
              "      width: 32px;\n",
              "    }\n",
              "\n",
              "    .colab-df-convert:hover {\n",
              "      background-color: #E2EBFA;\n",
              "      box-shadow: 0px 1px 2px rgba(60, 64, 67, 0.3), 0px 1px 3px 1px rgba(60, 64, 67, 0.15);\n",
              "      fill: #174EA6;\n",
              "    }\n",
              "\n",
              "    [theme=dark] .colab-df-convert {\n",
              "      background-color: #3B4455;\n",
              "      fill: #D2E3FC;\n",
              "    }\n",
              "\n",
              "    [theme=dark] .colab-df-convert:hover {\n",
              "      background-color: #434B5C;\n",
              "      box-shadow: 0px 1px 3px 1px rgba(0, 0, 0, 0.15);\n",
              "      filter: drop-shadow(0px 1px 2px rgba(0, 0, 0, 0.3));\n",
              "      fill: #FFFFFF;\n",
              "    }\n",
              "  </style>\n",
              "\n",
              "      <script>\n",
              "        const buttonEl =\n",
              "          document.querySelector('#df-ce0b223b-7224-4822-8165-e95a7bf9e843 button.colab-df-convert');\n",
              "        buttonEl.style.display =\n",
              "          google.colab.kernel.accessAllowed ? 'block' : 'none';\n",
              "\n",
              "        async function convertToInteractive(key) {\n",
              "          const element = document.querySelector('#df-ce0b223b-7224-4822-8165-e95a7bf9e843');\n",
              "          const dataTable =\n",
              "            await google.colab.kernel.invokeFunction('convertToInteractive',\n",
              "                                                     [key], {});\n",
              "          if (!dataTable) return;\n",
              "\n",
              "          const docLinkHtml = 'Like what you see? Visit the ' +\n",
              "            '<a target=\"_blank\" href=https://colab.research.google.com/notebooks/data_table.ipynb>data table notebook</a>'\n",
              "            + ' to learn more about interactive tables.';\n",
              "          element.innerHTML = '';\n",
              "          dataTable['output_type'] = 'display_data';\n",
              "          await google.colab.output.renderOutput(dataTable, element);\n",
              "          const docLink = document.createElement('div');\n",
              "          docLink.innerHTML = docLinkHtml;\n",
              "          element.appendChild(docLink);\n",
              "        }\n",
              "      </script>\n",
              "    </div>\n",
              "  </div>\n",
              "  "
            ]
          },
          "metadata": {},
          "execution_count": 197
        }
      ]
    },
    {
      "cell_type": "code",
      "source": [
        "df.loc[df[\"asis_por\"].isna(),:][\"Estado\"].value_counts()"
      ],
      "metadata": {
        "colab": {
          "base_uri": "https://localhost:8080/"
        },
        "id": "1pyTih3Vi6r8",
        "outputId": "27fb150d-03c5-40e7-af3c-89aae2814a0f"
      },
      "execution_count": 196,
      "outputs": [
        {
          "output_type": "execute_result",
          "data": {
            "text/plain": [
              "1    74226\n",
              "Name: Estado, dtype: int64"
            ]
          },
          "metadata": {},
          "execution_count": 196
        }
      ]
    },
    {
      "cell_type": "markdown",
      "source": [
        "La columna asistido por no tiene problemas, pero contiene mucho datos vacíos según el .isna aplicado anteriormente. Además vemos que casi toda la columna tiene datos vacios en muchas columnas, todas estas filas, pertenecen al grupo de nacidos. Debido a la cantidad de columnas vacías lo vamos a eliminar"
      ],
      "metadata": {
        "id": "GOxDNC4uhRcM"
      }
    },
    {
      "cell_type": "code",
      "source": [
        "# eliminamos las filas en las que la columna asis no contiene datos\n",
        "df = df.dropna(subset=[\"asis_por\"])"
      ],
      "metadata": {
        "id": "Tp51NgPKj0QF"
      },
      "execution_count": 198,
      "outputs": []
    },
    {
      "cell_type": "code",
      "source": [
        "# con esto, veamos como queda nuestro data frame\n",
        "df.isna().sum()"
      ],
      "metadata": {
        "colab": {
          "base_uri": "https://localhost:8080/"
        },
        "id": "Ca3XIIrhktAM",
        "outputId": "0523744d-20b7-4dc9-f259-47f3ac4a1eae"
      },
      "execution_count": 199,
      "outputs": [
        {
          "output_type": "execute_result",
          "data": {
            "text/plain": [
              "sexo             0\n",
              "sem_gest         0\n",
              "anio             0\n",
              "mes              0\n",
              "asis_por         0\n",
              "p_emb            0\n",
              "lugar_ocur       0\n",
              "provincia        0\n",
              "canton           0\n",
              "parroquia        0\n",
              "area             0\n",
              "edad_mad         0\n",
              "nac_mad          0\n",
              "con_pren         0\n",
              "hij_viv          0\n",
              "hij_vivm         0\n",
              "hij_nacm         0\n",
              "etnia            0\n",
              "est_civil        0\n",
              "sabe_leer        0\n",
              "niv_inst      3793\n",
              "prov_res         0\n",
              "cant_res         0\n",
              "parr_res         0\n",
              "area_res         0\n",
              "Estado           0\n",
              "dtype: int64"
            ]
          },
          "metadata": {},
          "execution_count": 199
        }
      ]
    },
    {
      "cell_type": "code",
      "source": [
        "df[\"p_emb\"].value_counts()"
      ],
      "metadata": {
        "colab": {
          "base_uri": "https://localhost:8080/"
        },
        "id": "9bSmma-AhXRL",
        "outputId": "45fd0f17-1283-4b98-d941-9077de2705dd"
      },
      "execution_count": 200,
      "outputs": [
        {
          "output_type": "execute_result",
          "data": {
            "text/plain": [
              "Simple             1254855\n",
              "Doble                16534\n",
              "Triple                 586\n",
              "Cuadruple_o_mas        187\n",
              "Name: p_emb, dtype: int64"
            ]
          },
          "metadata": {},
          "execution_count": 200
        }
      ]
    },
    {
      "cell_type": "markdown",
      "source": [
        "la columna p_emb, no tiene ningun inconveniente"
      ],
      "metadata": {
        "id": "Kncs9bXIlIa7"
      }
    },
    {
      "cell_type": "code",
      "source": [
        "df[\"lugar_ocur\"].value_counts()"
      ],
      "metadata": {
        "colab": {
          "base_uri": "https://localhost:8080/"
        },
        "id": "e2Q_oJbblQuW",
        "outputId": "c301258b-86bb-47ce-b47d-cc48b04e4c12"
      },
      "execution_count": 201,
      "outputs": [
        {
          "output_type": "execute_result",
          "data": {
            "text/plain": [
              "Establecimiento_ministerio_de_salud     597507\n",
              "Hospital_clinica_consultorio_privado    319630\n",
              "Establecimiento_junta_beneficiaria       99237\n",
              "Casa                                     95622\n",
              "Establecimiento_IESS                     76970\n",
              "9.0                                      38588\n",
              "Otro_establecimiento_publico             33540\n",
              "Otro                                     11068\n",
              "Name: lugar_ocur, dtype: int64"
            ]
          },
          "metadata": {},
          "execution_count": 201
        }
      ]
    },
    {
      "cell_type": "code",
      "source": [
        "df[\"provincia\"].value_counts()"
      ],
      "metadata": {
        "colab": {
          "base_uri": "https://localhost:8080/"
        },
        "id": "-Xwctwuclvo7",
        "outputId": "8935533d-65dc-4e06-f560-748ebc89ea32"
      },
      "execution_count": 203,
      "outputs": [
        {
          "output_type": "execute_result",
          "data": {
            "text/plain": [
              "Guayas                             317564\n",
              "Pichincha                          206382\n",
              "Manabi                             101518\n",
              "Los Rios                            67357\n",
              "Azuay                               62113\n",
              "El Oro                              52617\n",
              "Esmeraldas                          44375\n",
              "Santo Domingo de los Tsachilas      43439\n",
              "Tungurahua                          40552\n",
              "0.0                                 38588\n",
              "Loja                                37001\n",
              "Imbabura                            36079\n",
              "Chimborazo                          35332\n",
              "Cotopaxi                            33271\n",
              "Santa Elena                         27913\n",
              "Sucumbios                           19328\n",
              "Morona Santiago                     18667\n",
              "Canar                               17484\n",
              "Orellana                            16399\n",
              "Bolivar                             12685\n",
              "Napo                                12325\n",
              "Carchi                              11510\n",
              "Pastaza                             10155\n",
              "Zamora Chinchipe                     7922\n",
              "Galapagos                            1454\n",
              "Zona no delimitada                    132\n",
              "Name: provincia, dtype: int64"
            ]
          },
          "metadata": {},
          "execution_count": 203
        }
      ]
    },
    {
      "cell_type": "code",
      "source": [
        "df[\"canton\"].value_counts()"
      ],
      "metadata": {
        "colab": {
          "base_uri": "https://localhost:8080/"
        },
        "id": "RbNu72URl9lb",
        "outputId": "1badb6a4-6b88-4cdb-9685-f016d3d960d4"
      },
      "execution_count": 204,
      "outputs": [
        {
          "output_type": "execute_result",
          "data": {
            "text/plain": [
              "Guayaquil         250477\n",
              "Quito             188823\n",
              "Cuenca             50877\n",
              "Santo Domingo      41383\n",
              "0.0                38588\n",
              "                   ...  \n",
              "Cevallos              15\n",
              "Tisaleo               12\n",
              "Atahualpa              8\n",
              "El Pan                 8\n",
              "Guachapala             4\n",
              "Name: canton, Length: 224, dtype: int64"
            ]
          },
          "metadata": {},
          "execution_count": 204
        }
      ]
    },
    {
      "cell_type": "code",
      "source": [
        "df[\"parroquia\"].value_counts()"
      ],
      "metadata": {
        "colab": {
          "base_uri": "https://localhost:8080/"
        },
        "id": "7HxLs9E3mA6j",
        "outputId": "598a92fc-c319-4fb7-f2de-3aeca429c5b6"
      },
      "execution_count": 205,
      "outputs": [
        {
          "output_type": "execute_result",
          "data": {
            "text/plain": [
              "Guayaquil                          225250\n",
              "Quito                              150621\n",
              "Cuenca                              43896\n",
              "0.0                                 38588\n",
              "Santo Domingo de los Colorados      35177\n",
              "                                    ...  \n",
              "El Chorro                               1\n",
              "Saracay                                 1\n",
              "Marcos Espinel (Chacata)                1\n",
              "30104.0                                 1\n",
              "Panguintza                              1\n",
              "Name: parroquia, Length: 1167, dtype: int64"
            ]
          },
          "metadata": {},
          "execution_count": 205
        }
      ]
    },
    {
      "cell_type": "markdown",
      "source": [
        "Se puede ver que todas las columnas revisadas, provincia, canton, y parroquia contienen un 0 en la data, asi como en el de lugar de ocurrencia. veamo como estám relacionados estos."
      ],
      "metadata": {
        "id": "FHMEQA7ymK9s"
      }
    },
    {
      "cell_type": "code",
      "source": [
        "df.loc[df[\"lugar_ocur\"]==9,:]"
      ],
      "metadata": {
        "colab": {
          "base_uri": "https://localhost:8080/",
          "height": 574
        },
        "id": "CB0YCHLgmW48",
        "outputId": "e0a9360a-d272-4ac3-bb44-9f31f841841a"
      },
      "execution_count": 207,
      "outputs": [
        {
          "output_type": "execute_result",
          "data": {
            "text/plain": [
              "          sexo  sem_gest    anio         mes  asis_por   p_emb lugar_ocur  \\\n",
              "16       Mujer      99.0  2009.0       Abril  Ignorado  Simple        9.0   \n",
              "22      Hombre      38.0  2009.0     Octubre  Ignorado  Simple        9.0   \n",
              "23      Hombre      40.0  2010.0   Noviembre  Ignorado  Simple        9.0   \n",
              "42       Mujer      40.0  2008.0   Diciembre  Ignorado  Simple        9.0   \n",
              "60       Mujer      99.0  2009.0  Septiembre  Ignorado  Simple        9.0   \n",
              "...        ...       ...     ...         ...       ...     ...        ...   \n",
              "345108   Mujer      99.0  2010.0     Octubre  Ignorado  Simple        9.0   \n",
              "345111   Mujer      99.0  2010.0     Octubre  Ignorado  Simple        9.0   \n",
              "345121   Mujer      39.0  2009.0  Septiembre  Ignorado  Simple        9.0   \n",
              "345138   Mujer      99.0  2010.0   Noviembre  Ignorado  Simple        9.0   \n",
              "345140   Mujer      99.0  2009.0   Diciembre  Ignorado  Simple        9.0   \n",
              "\n",
              "       provincia canton parroquia area  edad_mad   nac_mad  con_pren  hij_viv  \\\n",
              "16           0.0    0.0       0.0  9.0      99.0  Ignorado       0.0      1.0   \n",
              "22           0.0    0.0       0.0  9.0      99.0  Ignorado       0.0      1.0   \n",
              "23           0.0    0.0       0.0  9.0      99.0  Ignorado       0.0      1.0   \n",
              "42           0.0    0.0       0.0  9.0      99.0  Ignorado       0.0      1.0   \n",
              "60           0.0    0.0       0.0  9.0      99.0  Ignorado       0.0      1.0   \n",
              "...          ...    ...       ...  ...       ...       ...       ...      ...   \n",
              "345108       0.0    0.0       0.0  9.0      99.0  Ignorado       0.0      1.0   \n",
              "345111       0.0    0.0       0.0  9.0      99.0  Ignorado       0.0      1.0   \n",
              "345121       0.0    0.0       0.0  9.0      99.0  Ignorado       0.0      1.0   \n",
              "345138       0.0    0.0       0.0  9.0      99.0  Ignorado       0.0      1.0   \n",
              "345140       0.0    0.0       0.0  9.0      99.0  Ignorado       0.0      1.0   \n",
              "\n",
              "        hij_vivm  hij_nacm     etnia  est_civil sabe_leer   niv_inst  \\\n",
              "16           0.0       0.0  Ignorado  Se ignora  Ignorado  Se_ignora   \n",
              "22           0.0       0.0  Ignorado  Se ignora  Ignorado  Se_ignora   \n",
              "23           0.0       0.0  Ignorado  Se ignora  Ignorado  Se_ignora   \n",
              "42           0.0       0.0  Ignorado  Se ignora  Ignorado  Se_ignora   \n",
              "60           0.0       0.0  Ignorado  Se ignora  Ignorado  Se_ignora   \n",
              "...          ...       ...       ...        ...       ...        ...   \n",
              "345108       0.0       0.0  Ignorado  Se ignora  Ignorado  Se_ignora   \n",
              "345111       0.0       0.0  Ignorado  Se ignora  Ignorado  Se_ignora   \n",
              "345121       0.0       0.0  Ignorado  Se ignora  Ignorado  Se_ignora   \n",
              "345138       0.0       0.0  Ignorado  Se ignora  Ignorado  Se_ignora   \n",
              "345140       0.0       0.0  Ignorado  Se ignora  Ignorado  Se_ignora   \n",
              "\n",
              "                     prov_res      cant_res      parr_res area_res  Estado  \n",
              "16                     Azuay        Cuenca        Cuenca    Urbana       1  \n",
              "22                     Azuay        Cuenca       Sayausi     Rural       1  \n",
              "23                     Azuay        Cuenca        Cuenca    Urbana       1  \n",
              "42                     Azuay        Cuenca        Cuenca    Urbana       1  \n",
              "60                     Azuay        Cuenca        Cuenca    Urbana       1  \n",
              "...                       ...           ...           ...      ...     ...  \n",
              "345108  Santa Elena            La Libertad   La Libertad    Urbana       1  \n",
              "345111  Santa Elena            Santa Elena   Santa Elena    Urbana       1  \n",
              "345121  Santa Elena            La Libertad   La Libertad    Urbana       1  \n",
              "345138  Santa Elena                Salinas     Anconcito     Rural       1  \n",
              "345140  Santa Elena                Salinas     Anconcito     Rural       1  \n",
              "\n",
              "[38588 rows x 26 columns]"
            ],
            "text/html": [
              "\n",
              "  <div id=\"df-3d8f7b94-10fb-41b7-842d-020c48da6af0\">\n",
              "    <div class=\"colab-df-container\">\n",
              "      <div>\n",
              "<style scoped>\n",
              "    .dataframe tbody tr th:only-of-type {\n",
              "        vertical-align: middle;\n",
              "    }\n",
              "\n",
              "    .dataframe tbody tr th {\n",
              "        vertical-align: top;\n",
              "    }\n",
              "\n",
              "    .dataframe thead th {\n",
              "        text-align: right;\n",
              "    }\n",
              "</style>\n",
              "<table border=\"1\" class=\"dataframe\">\n",
              "  <thead>\n",
              "    <tr style=\"text-align: right;\">\n",
              "      <th></th>\n",
              "      <th>sexo</th>\n",
              "      <th>sem_gest</th>\n",
              "      <th>anio</th>\n",
              "      <th>mes</th>\n",
              "      <th>asis_por</th>\n",
              "      <th>p_emb</th>\n",
              "      <th>lugar_ocur</th>\n",
              "      <th>provincia</th>\n",
              "      <th>canton</th>\n",
              "      <th>parroquia</th>\n",
              "      <th>area</th>\n",
              "      <th>edad_mad</th>\n",
              "      <th>nac_mad</th>\n",
              "      <th>con_pren</th>\n",
              "      <th>hij_viv</th>\n",
              "      <th>hij_vivm</th>\n",
              "      <th>hij_nacm</th>\n",
              "      <th>etnia</th>\n",
              "      <th>est_civil</th>\n",
              "      <th>sabe_leer</th>\n",
              "      <th>niv_inst</th>\n",
              "      <th>prov_res</th>\n",
              "      <th>cant_res</th>\n",
              "      <th>parr_res</th>\n",
              "      <th>area_res</th>\n",
              "      <th>Estado</th>\n",
              "    </tr>\n",
              "  </thead>\n",
              "  <tbody>\n",
              "    <tr>\n",
              "      <th>16</th>\n",
              "      <td>Mujer</td>\n",
              "      <td>99.0</td>\n",
              "      <td>2009.0</td>\n",
              "      <td>Abril</td>\n",
              "      <td>Ignorado</td>\n",
              "      <td>Simple</td>\n",
              "      <td>9.0</td>\n",
              "      <td>0.0</td>\n",
              "      <td>0.0</td>\n",
              "      <td>0.0</td>\n",
              "      <td>9.0</td>\n",
              "      <td>99.0</td>\n",
              "      <td>Ignorado</td>\n",
              "      <td>0.0</td>\n",
              "      <td>1.0</td>\n",
              "      <td>0.0</td>\n",
              "      <td>0.0</td>\n",
              "      <td>Ignorado</td>\n",
              "      <td>Se ignora</td>\n",
              "      <td>Ignorado</td>\n",
              "      <td>Se_ignora</td>\n",
              "      <td>Azuay</td>\n",
              "      <td>Cuenca</td>\n",
              "      <td>Cuenca</td>\n",
              "      <td>Urbana</td>\n",
              "      <td>1</td>\n",
              "    </tr>\n",
              "    <tr>\n",
              "      <th>22</th>\n",
              "      <td>Hombre</td>\n",
              "      <td>38.0</td>\n",
              "      <td>2009.0</td>\n",
              "      <td>Octubre</td>\n",
              "      <td>Ignorado</td>\n",
              "      <td>Simple</td>\n",
              "      <td>9.0</td>\n",
              "      <td>0.0</td>\n",
              "      <td>0.0</td>\n",
              "      <td>0.0</td>\n",
              "      <td>9.0</td>\n",
              "      <td>99.0</td>\n",
              "      <td>Ignorado</td>\n",
              "      <td>0.0</td>\n",
              "      <td>1.0</td>\n",
              "      <td>0.0</td>\n",
              "      <td>0.0</td>\n",
              "      <td>Ignorado</td>\n",
              "      <td>Se ignora</td>\n",
              "      <td>Ignorado</td>\n",
              "      <td>Se_ignora</td>\n",
              "      <td>Azuay</td>\n",
              "      <td>Cuenca</td>\n",
              "      <td>Sayausi</td>\n",
              "      <td>Rural</td>\n",
              "      <td>1</td>\n",
              "    </tr>\n",
              "    <tr>\n",
              "      <th>23</th>\n",
              "      <td>Hombre</td>\n",
              "      <td>40.0</td>\n",
              "      <td>2010.0</td>\n",
              "      <td>Noviembre</td>\n",
              "      <td>Ignorado</td>\n",
              "      <td>Simple</td>\n",
              "      <td>9.0</td>\n",
              "      <td>0.0</td>\n",
              "      <td>0.0</td>\n",
              "      <td>0.0</td>\n",
              "      <td>9.0</td>\n",
              "      <td>99.0</td>\n",
              "      <td>Ignorado</td>\n",
              "      <td>0.0</td>\n",
              "      <td>1.0</td>\n",
              "      <td>0.0</td>\n",
              "      <td>0.0</td>\n",
              "      <td>Ignorado</td>\n",
              "      <td>Se ignora</td>\n",
              "      <td>Ignorado</td>\n",
              "      <td>Se_ignora</td>\n",
              "      <td>Azuay</td>\n",
              "      <td>Cuenca</td>\n",
              "      <td>Cuenca</td>\n",
              "      <td>Urbana</td>\n",
              "      <td>1</td>\n",
              "    </tr>\n",
              "    <tr>\n",
              "      <th>42</th>\n",
              "      <td>Mujer</td>\n",
              "      <td>40.0</td>\n",
              "      <td>2008.0</td>\n",
              "      <td>Diciembre</td>\n",
              "      <td>Ignorado</td>\n",
              "      <td>Simple</td>\n",
              "      <td>9.0</td>\n",
              "      <td>0.0</td>\n",
              "      <td>0.0</td>\n",
              "      <td>0.0</td>\n",
              "      <td>9.0</td>\n",
              "      <td>99.0</td>\n",
              "      <td>Ignorado</td>\n",
              "      <td>0.0</td>\n",
              "      <td>1.0</td>\n",
              "      <td>0.0</td>\n",
              "      <td>0.0</td>\n",
              "      <td>Ignorado</td>\n",
              "      <td>Se ignora</td>\n",
              "      <td>Ignorado</td>\n",
              "      <td>Se_ignora</td>\n",
              "      <td>Azuay</td>\n",
              "      <td>Cuenca</td>\n",
              "      <td>Cuenca</td>\n",
              "      <td>Urbana</td>\n",
              "      <td>1</td>\n",
              "    </tr>\n",
              "    <tr>\n",
              "      <th>60</th>\n",
              "      <td>Mujer</td>\n",
              "      <td>99.0</td>\n",
              "      <td>2009.0</td>\n",
              "      <td>Septiembre</td>\n",
              "      <td>Ignorado</td>\n",
              "      <td>Simple</td>\n",
              "      <td>9.0</td>\n",
              "      <td>0.0</td>\n",
              "      <td>0.0</td>\n",
              "      <td>0.0</td>\n",
              "      <td>9.0</td>\n",
              "      <td>99.0</td>\n",
              "      <td>Ignorado</td>\n",
              "      <td>0.0</td>\n",
              "      <td>1.0</td>\n",
              "      <td>0.0</td>\n",
              "      <td>0.0</td>\n",
              "      <td>Ignorado</td>\n",
              "      <td>Se ignora</td>\n",
              "      <td>Ignorado</td>\n",
              "      <td>Se_ignora</td>\n",
              "      <td>Azuay</td>\n",
              "      <td>Cuenca</td>\n",
              "      <td>Cuenca</td>\n",
              "      <td>Urbana</td>\n",
              "      <td>1</td>\n",
              "    </tr>\n",
              "    <tr>\n",
              "      <th>...</th>\n",
              "      <td>...</td>\n",
              "      <td>...</td>\n",
              "      <td>...</td>\n",
              "      <td>...</td>\n",
              "      <td>...</td>\n",
              "      <td>...</td>\n",
              "      <td>...</td>\n",
              "      <td>...</td>\n",
              "      <td>...</td>\n",
              "      <td>...</td>\n",
              "      <td>...</td>\n",
              "      <td>...</td>\n",
              "      <td>...</td>\n",
              "      <td>...</td>\n",
              "      <td>...</td>\n",
              "      <td>...</td>\n",
              "      <td>...</td>\n",
              "      <td>...</td>\n",
              "      <td>...</td>\n",
              "      <td>...</td>\n",
              "      <td>...</td>\n",
              "      <td>...</td>\n",
              "      <td>...</td>\n",
              "      <td>...</td>\n",
              "      <td>...</td>\n",
              "      <td>...</td>\n",
              "    </tr>\n",
              "    <tr>\n",
              "      <th>345108</th>\n",
              "      <td>Mujer</td>\n",
              "      <td>99.0</td>\n",
              "      <td>2010.0</td>\n",
              "      <td>Octubre</td>\n",
              "      <td>Ignorado</td>\n",
              "      <td>Simple</td>\n",
              "      <td>9.0</td>\n",
              "      <td>0.0</td>\n",
              "      <td>0.0</td>\n",
              "      <td>0.0</td>\n",
              "      <td>9.0</td>\n",
              "      <td>99.0</td>\n",
              "      <td>Ignorado</td>\n",
              "      <td>0.0</td>\n",
              "      <td>1.0</td>\n",
              "      <td>0.0</td>\n",
              "      <td>0.0</td>\n",
              "      <td>Ignorado</td>\n",
              "      <td>Se ignora</td>\n",
              "      <td>Ignorado</td>\n",
              "      <td>Se_ignora</td>\n",
              "      <td>Santa Elena</td>\n",
              "      <td>La Libertad</td>\n",
              "      <td>La Libertad</td>\n",
              "      <td>Urbana</td>\n",
              "      <td>1</td>\n",
              "    </tr>\n",
              "    <tr>\n",
              "      <th>345111</th>\n",
              "      <td>Mujer</td>\n",
              "      <td>99.0</td>\n",
              "      <td>2010.0</td>\n",
              "      <td>Octubre</td>\n",
              "      <td>Ignorado</td>\n",
              "      <td>Simple</td>\n",
              "      <td>9.0</td>\n",
              "      <td>0.0</td>\n",
              "      <td>0.0</td>\n",
              "      <td>0.0</td>\n",
              "      <td>9.0</td>\n",
              "      <td>99.0</td>\n",
              "      <td>Ignorado</td>\n",
              "      <td>0.0</td>\n",
              "      <td>1.0</td>\n",
              "      <td>0.0</td>\n",
              "      <td>0.0</td>\n",
              "      <td>Ignorado</td>\n",
              "      <td>Se ignora</td>\n",
              "      <td>Ignorado</td>\n",
              "      <td>Se_ignora</td>\n",
              "      <td>Santa Elena</td>\n",
              "      <td>Santa Elena</td>\n",
              "      <td>Santa Elena</td>\n",
              "      <td>Urbana</td>\n",
              "      <td>1</td>\n",
              "    </tr>\n",
              "    <tr>\n",
              "      <th>345121</th>\n",
              "      <td>Mujer</td>\n",
              "      <td>39.0</td>\n",
              "      <td>2009.0</td>\n",
              "      <td>Septiembre</td>\n",
              "      <td>Ignorado</td>\n",
              "      <td>Simple</td>\n",
              "      <td>9.0</td>\n",
              "      <td>0.0</td>\n",
              "      <td>0.0</td>\n",
              "      <td>0.0</td>\n",
              "      <td>9.0</td>\n",
              "      <td>99.0</td>\n",
              "      <td>Ignorado</td>\n",
              "      <td>0.0</td>\n",
              "      <td>1.0</td>\n",
              "      <td>0.0</td>\n",
              "      <td>0.0</td>\n",
              "      <td>Ignorado</td>\n",
              "      <td>Se ignora</td>\n",
              "      <td>Ignorado</td>\n",
              "      <td>Se_ignora</td>\n",
              "      <td>Santa Elena</td>\n",
              "      <td>La Libertad</td>\n",
              "      <td>La Libertad</td>\n",
              "      <td>Urbana</td>\n",
              "      <td>1</td>\n",
              "    </tr>\n",
              "    <tr>\n",
              "      <th>345138</th>\n",
              "      <td>Mujer</td>\n",
              "      <td>99.0</td>\n",
              "      <td>2010.0</td>\n",
              "      <td>Noviembre</td>\n",
              "      <td>Ignorado</td>\n",
              "      <td>Simple</td>\n",
              "      <td>9.0</td>\n",
              "      <td>0.0</td>\n",
              "      <td>0.0</td>\n",
              "      <td>0.0</td>\n",
              "      <td>9.0</td>\n",
              "      <td>99.0</td>\n",
              "      <td>Ignorado</td>\n",
              "      <td>0.0</td>\n",
              "      <td>1.0</td>\n",
              "      <td>0.0</td>\n",
              "      <td>0.0</td>\n",
              "      <td>Ignorado</td>\n",
              "      <td>Se ignora</td>\n",
              "      <td>Ignorado</td>\n",
              "      <td>Se_ignora</td>\n",
              "      <td>Santa Elena</td>\n",
              "      <td>Salinas</td>\n",
              "      <td>Anconcito</td>\n",
              "      <td>Rural</td>\n",
              "      <td>1</td>\n",
              "    </tr>\n",
              "    <tr>\n",
              "      <th>345140</th>\n",
              "      <td>Mujer</td>\n",
              "      <td>99.0</td>\n",
              "      <td>2009.0</td>\n",
              "      <td>Diciembre</td>\n",
              "      <td>Ignorado</td>\n",
              "      <td>Simple</td>\n",
              "      <td>9.0</td>\n",
              "      <td>0.0</td>\n",
              "      <td>0.0</td>\n",
              "      <td>0.0</td>\n",
              "      <td>9.0</td>\n",
              "      <td>99.0</td>\n",
              "      <td>Ignorado</td>\n",
              "      <td>0.0</td>\n",
              "      <td>1.0</td>\n",
              "      <td>0.0</td>\n",
              "      <td>0.0</td>\n",
              "      <td>Ignorado</td>\n",
              "      <td>Se ignora</td>\n",
              "      <td>Ignorado</td>\n",
              "      <td>Se_ignora</td>\n",
              "      <td>Santa Elena</td>\n",
              "      <td>Salinas</td>\n",
              "      <td>Anconcito</td>\n",
              "      <td>Rural</td>\n",
              "      <td>1</td>\n",
              "    </tr>\n",
              "  </tbody>\n",
              "</table>\n",
              "<p>38588 rows × 26 columns</p>\n",
              "</div>\n",
              "      <button class=\"colab-df-convert\" onclick=\"convertToInteractive('df-3d8f7b94-10fb-41b7-842d-020c48da6af0')\"\n",
              "              title=\"Convert this dataframe to an interactive table.\"\n",
              "              style=\"display:none;\">\n",
              "        \n",
              "  <svg xmlns=\"http://www.w3.org/2000/svg\" height=\"24px\"viewBox=\"0 0 24 24\"\n",
              "       width=\"24px\">\n",
              "    <path d=\"M0 0h24v24H0V0z\" fill=\"none\"/>\n",
              "    <path d=\"M18.56 5.44l.94 2.06.94-2.06 2.06-.94-2.06-.94-.94-2.06-.94 2.06-2.06.94zm-11 1L8.5 8.5l.94-2.06 2.06-.94-2.06-.94L8.5 2.5l-.94 2.06-2.06.94zm10 10l.94 2.06.94-2.06 2.06-.94-2.06-.94-.94-2.06-.94 2.06-2.06.94z\"/><path d=\"M17.41 7.96l-1.37-1.37c-.4-.4-.92-.59-1.43-.59-.52 0-1.04.2-1.43.59L10.3 9.45l-7.72 7.72c-.78.78-.78 2.05 0 2.83L4 21.41c.39.39.9.59 1.41.59.51 0 1.02-.2 1.41-.59l7.78-7.78 2.81-2.81c.8-.78.8-2.07 0-2.86zM5.41 20L4 18.59l7.72-7.72 1.47 1.35L5.41 20z\"/>\n",
              "  </svg>\n",
              "      </button>\n",
              "      \n",
              "  <style>\n",
              "    .colab-df-container {\n",
              "      display:flex;\n",
              "      flex-wrap:wrap;\n",
              "      gap: 12px;\n",
              "    }\n",
              "\n",
              "    .colab-df-convert {\n",
              "      background-color: #E8F0FE;\n",
              "      border: none;\n",
              "      border-radius: 50%;\n",
              "      cursor: pointer;\n",
              "      display: none;\n",
              "      fill: #1967D2;\n",
              "      height: 32px;\n",
              "      padding: 0 0 0 0;\n",
              "      width: 32px;\n",
              "    }\n",
              "\n",
              "    .colab-df-convert:hover {\n",
              "      background-color: #E2EBFA;\n",
              "      box-shadow: 0px 1px 2px rgba(60, 64, 67, 0.3), 0px 1px 3px 1px rgba(60, 64, 67, 0.15);\n",
              "      fill: #174EA6;\n",
              "    }\n",
              "\n",
              "    [theme=dark] .colab-df-convert {\n",
              "      background-color: #3B4455;\n",
              "      fill: #D2E3FC;\n",
              "    }\n",
              "\n",
              "    [theme=dark] .colab-df-convert:hover {\n",
              "      background-color: #434B5C;\n",
              "      box-shadow: 0px 1px 3px 1px rgba(0, 0, 0, 0.15);\n",
              "      filter: drop-shadow(0px 1px 2px rgba(0, 0, 0, 0.3));\n",
              "      fill: #FFFFFF;\n",
              "    }\n",
              "  </style>\n",
              "\n",
              "      <script>\n",
              "        const buttonEl =\n",
              "          document.querySelector('#df-3d8f7b94-10fb-41b7-842d-020c48da6af0 button.colab-df-convert');\n",
              "        buttonEl.style.display =\n",
              "          google.colab.kernel.accessAllowed ? 'block' : 'none';\n",
              "\n",
              "        async function convertToInteractive(key) {\n",
              "          const element = document.querySelector('#df-3d8f7b94-10fb-41b7-842d-020c48da6af0');\n",
              "          const dataTable =\n",
              "            await google.colab.kernel.invokeFunction('convertToInteractive',\n",
              "                                                     [key], {});\n",
              "          if (!dataTable) return;\n",
              "\n",
              "          const docLinkHtml = 'Like what you see? Visit the ' +\n",
              "            '<a target=\"_blank\" href=https://colab.research.google.com/notebooks/data_table.ipynb>data table notebook</a>'\n",
              "            + ' to learn more about interactive tables.';\n",
              "          element.innerHTML = '';\n",
              "          dataTable['output_type'] = 'display_data';\n",
              "          await google.colab.output.renderOutput(dataTable, element);\n",
              "          const docLink = document.createElement('div');\n",
              "          docLink.innerHTML = docLinkHtml;\n",
              "          element.appendChild(docLink);\n",
              "        }\n",
              "      </script>\n",
              "    </div>\n",
              "  </div>\n",
              "  "
            ]
          },
          "metadata": {},
          "execution_count": 207
        }
      ]
    },
    {
      "cell_type": "markdown",
      "source": [
        "Se puede ver que, justamente todas estas columnas estan correlacionadas, no contienen datos coherentes. debido a q representan un 3 % de la data los vamos a eliminar."
      ],
      "metadata": {
        "id": "b9fYkhBEmlSk"
      }
    },
    {
      "cell_type": "code",
      "source": [
        "df = df.loc[df[\"lugar_ocur\"] != 9,:]"
      ],
      "metadata": {
        "id": "Rpvd872dmj-s"
      },
      "execution_count": 208,
      "outputs": []
    },
    {
      "cell_type": "code",
      "source": [
        "#verificamos\n",
        "df[\"lugar_ocur\"].value_counts()"
      ],
      "metadata": {
        "colab": {
          "base_uri": "https://localhost:8080/"
        },
        "id": "IT8_je-MnFEz",
        "outputId": "70c6fd47-d839-4597-f3fe-bc9ac6560f75"
      },
      "execution_count": 209,
      "outputs": [
        {
          "output_type": "execute_result",
          "data": {
            "text/plain": [
              "Establecimiento_ministerio_de_salud     597507\n",
              "Hospital_clinica_consultorio_privado    319630\n",
              "Establecimiento_junta_beneficiaria       99237\n",
              "Casa                                     95622\n",
              "Establecimiento_IESS                     76970\n",
              "Otro_establecimiento_publico             33540\n",
              "Otro                                     11068\n",
              "Name: lugar_ocur, dtype: int64"
            ]
          },
          "metadata": {},
          "execution_count": 209
        }
      ]
    },
    {
      "cell_type": "code",
      "source": [
        "#veamos como va quedando nuestro data frame\n",
        "df.info()"
      ],
      "metadata": {
        "colab": {
          "base_uri": "https://localhost:8080/"
        },
        "id": "ArNzn9KMnVGk",
        "outputId": "23cd8edc-e533-447a-f816-48b88815e7f9"
      },
      "execution_count": 211,
      "outputs": [
        {
          "output_type": "stream",
          "name": "stdout",
          "text": [
            "<class 'pandas.core.frame.DataFrame'>\n",
            "Int64Index: 1233574 entries, 0 to 1856\n",
            "Data columns (total 26 columns):\n",
            " #   Column      Non-Null Count    Dtype  \n",
            "---  ------      --------------    -----  \n",
            " 0   sexo        1233574 non-null  object \n",
            " 1   sem_gest    1233574 non-null  float64\n",
            " 2   anio        1233574 non-null  float64\n",
            " 3   mes         1233574 non-null  object \n",
            " 4   asis_por    1233574 non-null  object \n",
            " 5   p_emb       1233574 non-null  object \n",
            " 6   lugar_ocur  1233574 non-null  object \n",
            " 7   provincia   1233574 non-null  object \n",
            " 8   canton      1233574 non-null  object \n",
            " 9   parroquia   1233574 non-null  object \n",
            " 10  area        1233574 non-null  object \n",
            " 11  edad_mad    1233574 non-null  float64\n",
            " 12  nac_mad     1233574 non-null  object \n",
            " 13  con_pren    1233574 non-null  float64\n",
            " 14  hij_viv     1233574 non-null  float64\n",
            " 15  hij_vivm    1233574 non-null  float64\n",
            " 16  hij_nacm    1233574 non-null  float64\n",
            " 17  etnia       1233574 non-null  object \n",
            " 18  est_civil   1233574 non-null  object \n",
            " 19  sabe_leer   1233574 non-null  object \n",
            " 20  niv_inst    1229781 non-null  object \n",
            " 21  prov_res    1233574 non-null  object \n",
            " 22  cant_res    1233574 non-null  object \n",
            " 23  parr_res    1233574 non-null  object \n",
            " 24  area_res    1233574 non-null  object \n",
            " 25  Estado      1233574 non-null  int64  \n",
            "dtypes: float64(7), int64(1), object(18)\n",
            "memory usage: 254.1+ MB\n"
          ]
        }
      ]
    },
    {
      "cell_type": "markdown",
      "source": [
        "Se puede ve que no hay datos faltantes"
      ],
      "metadata": {
        "id": "cp6SO1sRndhs"
      }
    },
    {
      "cell_type": "code",
      "source": [
        "df[\"area\"].value_counts()"
      ],
      "metadata": {
        "colab": {
          "base_uri": "https://localhost:8080/"
        },
        "id": "ecHOMl7AnNdL",
        "outputId": "3b3aa8e3-8724-4339-d090-4affd3a685c0"
      },
      "execution_count": 210,
      "outputs": [
        {
          "output_type": "execute_result",
          "data": {
            "text/plain": [
              "Urbana    1151182\n",
              "Rural       82392\n",
              "Name: area, dtype: int64"
            ]
          },
          "metadata": {},
          "execution_count": 210
        }
      ]
    },
    {
      "cell_type": "markdown",
      "source": [
        "la columna de area no tiene variables extrañas"
      ],
      "metadata": {
        "id": "ZCAzhS28nTsa"
      }
    },
    {
      "cell_type": "code",
      "source": [
        "df[\"nac_mad\"].value_counts()"
      ],
      "metadata": {
        "colab": {
          "base_uri": "https://localhost:8080/"
        },
        "id": "AWdDpSuXnkDk",
        "outputId": "f8a4ff6d-e0f4-4b22-f826-1a930284d531"
      },
      "execution_count": 212,
      "outputs": [
        {
          "output_type": "execute_result",
          "data": {
            "text/plain": [
              "Ecuatoriana    1148335\n",
              "Ignorado         70107\n",
              "Extranjera       15132\n",
              "Name: nac_mad, dtype: int64"
            ]
          },
          "metadata": {},
          "execution_count": 212
        }
      ]
    },
    {
      "cell_type": "markdown",
      "source": [
        "la columna de nacinoalidad de la madre tampoco contiene variables extrañas\n"
      ],
      "metadata": {
        "id": "IZgxdgTqnrGM"
      }
    },
    {
      "cell_type": "code",
      "source": [
        "df[\"etnia\"].value_counts()"
      ],
      "metadata": {
        "colab": {
          "base_uri": "https://localhost:8080/"
        },
        "id": "hCt-Pf4InwV0",
        "outputId": "b6ef0786-231b-468e-9041-8a141dca3ec8"
      },
      "execution_count": 213,
      "outputs": [
        {
          "output_type": "execute_result",
          "data": {
            "text/plain": [
              "Mestiza             1021299\n",
              "Indigena              92753\n",
              "Ignorado              53840\n",
              "Blanca                16766\n",
              "Afro_ecuatoriana      13572\n",
              "Negra                 12470\n",
              "Mulata                 9671\n",
              "Montubia               7035\n",
              "Otra                   6168\n",
              "Name: etnia, dtype: int64"
            ]
          },
          "metadata": {},
          "execution_count": 213
        }
      ]
    },
    {
      "cell_type": "markdown",
      "source": [
        "La columna de etnia tampoco tiene variables extrañas"
      ],
      "metadata": {
        "id": "JymZcSyIn3Gc"
      }
    },
    {
      "cell_type": "code",
      "source": [
        "df[\"est_civil\"].value_counts()"
      ],
      "metadata": {
        "colab": {
          "base_uri": "https://localhost:8080/"
        },
        "id": "8K5wcqlsn1g8",
        "outputId": "e2b346e5-6ba0-404a-fb7a-fe0e17ed1024"
      },
      "execution_count": 214,
      "outputs": [
        {
          "output_type": "execute_result",
          "data": {
            "text/plain": [
              "Unida         511800\n",
              "Casada        393077\n",
              "Soltera       249511\n",
              "Se ignora      61967\n",
              "Divorciada      9190\n",
              "Separada        3565\n",
              "7.0             2391\n",
              "Viuda           2073\n",
              "Name: est_civil, dtype: int64"
            ]
          },
          "metadata": {},
          "execution_count": 214
        }
      ]
    },
    {
      "cell_type": "markdown",
      "source": [
        "La columna de estado civil contiene una variable de 7, esta variables es extraña asi que lo podemos añadir al grupo de se ignora"
      ],
      "metadata": {
        "id": "bovs4VXrqHhs"
      }
    },
    {
      "cell_type": "code",
      "source": [
        "df[\"est_civil\"] = df[\"est_civil\"].replace(7,\"Se ignora\")"
      ],
      "metadata": {
        "id": "hw26EnqHqpbc"
      },
      "execution_count": 217,
      "outputs": []
    },
    {
      "cell_type": "code",
      "source": [
        "df[\"est_civil\"].value_counts()"
      ],
      "metadata": {
        "colab": {
          "base_uri": "https://localhost:8080/"
        },
        "id": "J3PajKR9qwc8",
        "outputId": "ee85f8f5-462d-41d0-fdb0-9b695a116a75"
      },
      "execution_count": 218,
      "outputs": [
        {
          "output_type": "execute_result",
          "data": {
            "text/plain": [
              "Unida         511800\n",
              "Casada        393077\n",
              "Soltera       249511\n",
              "Se ignora      64358\n",
              "Divorciada      9190\n",
              "Separada        3565\n",
              "Viuda           2073\n",
              "Name: est_civil, dtype: int64"
            ]
          },
          "metadata": {},
          "execution_count": 218
        }
      ]
    },
    {
      "cell_type": "code",
      "source": [
        "df[\"sabe_leer\"].value_counts()"
      ],
      "metadata": {
        "colab": {
          "base_uri": "https://localhost:8080/"
        },
        "id": "kI7icUhkqUP1",
        "outputId": "3b728815-8b32-4025-c343-4faecb985f4c"
      },
      "execution_count": 215,
      "outputs": [
        {
          "output_type": "execute_result",
          "data": {
            "text/plain": [
              "Si          1183201\n",
              "Ignorado      34150\n",
              "No            16223\n",
              "Name: sabe_leer, dtype: int64"
            ]
          },
          "metadata": {},
          "execution_count": 215
        }
      ]
    },
    {
      "cell_type": "code",
      "source": [
        "df[\"niv_inst\"].value_counts()"
      ],
      "metadata": {
        "colab": {
          "base_uri": "https://localhost:8080/"
        },
        "id": "4jZoEBHtqba1",
        "outputId": "b494651e-c730-4d0b-aa7c-88aac6280ac1"
      },
      "execution_count": 216,
      "outputs": [
        {
          "output_type": "execute_result",
          "data": {
            "text/plain": [
              "Secundaria                  411910\n",
              "Primaria                    339944\n",
              "Superior                    188338\n",
              "Educacion_media              90681\n",
              "Se_ignora                    89864\n",
              "Educacion_basica             69741\n",
              "Ciclo_post_bachillerato      20218\n",
              "Ninguno                      10563\n",
              "Centro_de_alfabetizacion      4910\n",
              "Postgrado                     3612\n",
              "Name: niv_inst, dtype: int64"
            ]
          },
          "metadata": {},
          "execution_count": 216
        }
      ]
    },
    {
      "cell_type": "markdown",
      "source": [
        "Las columnas de estado civil, sabe leer y nivel de instruccion no tienen inconvenientes."
      ],
      "metadata": {
        "id": "PrbNI8Znq0X1"
      }
    },
    {
      "cell_type": "markdown",
      "source": [
        "### Variables numéricas"
      ],
      "metadata": {
        "id": "KyKq-y2vtJ4U"
      }
    },
    {
      "cell_type": "code",
      "source": [
        "df.describe()"
      ],
      "metadata": {
        "colab": {
          "base_uri": "https://localhost:8080/",
          "height": 364
        },
        "id": "9Trvu3ZJtMes",
        "outputId": "6dc2690e-0a01-40dd-f2ea-ffb2045a5dcd"
      },
      "execution_count": 219,
      "outputs": [
        {
          "output_type": "execute_result",
          "data": {
            "text/plain": [
              "           sem_gest          anio      edad_mad      con_pren       hij_viv  \\\n",
              "count  1.233574e+06  1.233574e+06  1.233574e+06  1.233574e+06  1.233574e+06   \n",
              "mean   4.691960e+01  2.013209e+03  2.637851e+01  2.568914e+01  2.212121e+00   \n",
              "std    2.097549e+01  2.349776e+00  1.003603e+01  3.757725e+01  2.876801e+00   \n",
              "min    1.200000e+01  1.900000e+03  1.000000e+01  0.000000e+00  0.000000e+00   \n",
              "25%    3.800000e+01  2.012000e+03  2.000000e+01  5.000000e+00  1.000000e+00   \n",
              "50%    3.900000e+01  2.013000e+03  2.500000e+01  8.000000e+00  2.000000e+00   \n",
              "75%    4.000000e+01  2.014000e+03  3.100000e+01  1.000000e+01  3.000000e+00   \n",
              "max    9.900000e+01  2.015000e+03  9.900000e+01  9.900000e+01  9.900000e+01   \n",
              "\n",
              "           hij_vivm      hij_nacm        Estado  \n",
              "count  1.233574e+06  1.233574e+06  1.233574e+06  \n",
              "mean   2.750035e+01  2.738531e+01  9.944616e-01  \n",
              "std    4.430139e+01  4.423618e+01  7.421394e-02  \n",
              "min    0.000000e+00  0.000000e+00  0.000000e+00  \n",
              "25%    0.000000e+00  0.000000e+00  1.000000e+00  \n",
              "50%    0.000000e+00  0.000000e+00  1.000000e+00  \n",
              "75%    9.900000e+01  9.900000e+01  1.000000e+00  \n",
              "max    9.900000e+01  9.900000e+01  1.000000e+00  "
            ],
            "text/html": [
              "\n",
              "  <div id=\"df-afcd97e6-670e-408c-b710-ca679cdbc4f4\">\n",
              "    <div class=\"colab-df-container\">\n",
              "      <div>\n",
              "<style scoped>\n",
              "    .dataframe tbody tr th:only-of-type {\n",
              "        vertical-align: middle;\n",
              "    }\n",
              "\n",
              "    .dataframe tbody tr th {\n",
              "        vertical-align: top;\n",
              "    }\n",
              "\n",
              "    .dataframe thead th {\n",
              "        text-align: right;\n",
              "    }\n",
              "</style>\n",
              "<table border=\"1\" class=\"dataframe\">\n",
              "  <thead>\n",
              "    <tr style=\"text-align: right;\">\n",
              "      <th></th>\n",
              "      <th>sem_gest</th>\n",
              "      <th>anio</th>\n",
              "      <th>edad_mad</th>\n",
              "      <th>con_pren</th>\n",
              "      <th>hij_viv</th>\n",
              "      <th>hij_vivm</th>\n",
              "      <th>hij_nacm</th>\n",
              "      <th>Estado</th>\n",
              "    </tr>\n",
              "  </thead>\n",
              "  <tbody>\n",
              "    <tr>\n",
              "      <th>count</th>\n",
              "      <td>1.233574e+06</td>\n",
              "      <td>1.233574e+06</td>\n",
              "      <td>1.233574e+06</td>\n",
              "      <td>1.233574e+06</td>\n",
              "      <td>1.233574e+06</td>\n",
              "      <td>1.233574e+06</td>\n",
              "      <td>1.233574e+06</td>\n",
              "      <td>1.233574e+06</td>\n",
              "    </tr>\n",
              "    <tr>\n",
              "      <th>mean</th>\n",
              "      <td>4.691960e+01</td>\n",
              "      <td>2.013209e+03</td>\n",
              "      <td>2.637851e+01</td>\n",
              "      <td>2.568914e+01</td>\n",
              "      <td>2.212121e+00</td>\n",
              "      <td>2.750035e+01</td>\n",
              "      <td>2.738531e+01</td>\n",
              "      <td>9.944616e-01</td>\n",
              "    </tr>\n",
              "    <tr>\n",
              "      <th>std</th>\n",
              "      <td>2.097549e+01</td>\n",
              "      <td>2.349776e+00</td>\n",
              "      <td>1.003603e+01</td>\n",
              "      <td>3.757725e+01</td>\n",
              "      <td>2.876801e+00</td>\n",
              "      <td>4.430139e+01</td>\n",
              "      <td>4.423618e+01</td>\n",
              "      <td>7.421394e-02</td>\n",
              "    </tr>\n",
              "    <tr>\n",
              "      <th>min</th>\n",
              "      <td>1.200000e+01</td>\n",
              "      <td>1.900000e+03</td>\n",
              "      <td>1.000000e+01</td>\n",
              "      <td>0.000000e+00</td>\n",
              "      <td>0.000000e+00</td>\n",
              "      <td>0.000000e+00</td>\n",
              "      <td>0.000000e+00</td>\n",
              "      <td>0.000000e+00</td>\n",
              "    </tr>\n",
              "    <tr>\n",
              "      <th>25%</th>\n",
              "      <td>3.800000e+01</td>\n",
              "      <td>2.012000e+03</td>\n",
              "      <td>2.000000e+01</td>\n",
              "      <td>5.000000e+00</td>\n",
              "      <td>1.000000e+00</td>\n",
              "      <td>0.000000e+00</td>\n",
              "      <td>0.000000e+00</td>\n",
              "      <td>1.000000e+00</td>\n",
              "    </tr>\n",
              "    <tr>\n",
              "      <th>50%</th>\n",
              "      <td>3.900000e+01</td>\n",
              "      <td>2.013000e+03</td>\n",
              "      <td>2.500000e+01</td>\n",
              "      <td>8.000000e+00</td>\n",
              "      <td>2.000000e+00</td>\n",
              "      <td>0.000000e+00</td>\n",
              "      <td>0.000000e+00</td>\n",
              "      <td>1.000000e+00</td>\n",
              "    </tr>\n",
              "    <tr>\n",
              "      <th>75%</th>\n",
              "      <td>4.000000e+01</td>\n",
              "      <td>2.014000e+03</td>\n",
              "      <td>3.100000e+01</td>\n",
              "      <td>1.000000e+01</td>\n",
              "      <td>3.000000e+00</td>\n",
              "      <td>9.900000e+01</td>\n",
              "      <td>9.900000e+01</td>\n",
              "      <td>1.000000e+00</td>\n",
              "    </tr>\n",
              "    <tr>\n",
              "      <th>max</th>\n",
              "      <td>9.900000e+01</td>\n",
              "      <td>2.015000e+03</td>\n",
              "      <td>9.900000e+01</td>\n",
              "      <td>9.900000e+01</td>\n",
              "      <td>9.900000e+01</td>\n",
              "      <td>9.900000e+01</td>\n",
              "      <td>9.900000e+01</td>\n",
              "      <td>1.000000e+00</td>\n",
              "    </tr>\n",
              "  </tbody>\n",
              "</table>\n",
              "</div>\n",
              "      <button class=\"colab-df-convert\" onclick=\"convertToInteractive('df-afcd97e6-670e-408c-b710-ca679cdbc4f4')\"\n",
              "              title=\"Convert this dataframe to an interactive table.\"\n",
              "              style=\"display:none;\">\n",
              "        \n",
              "  <svg xmlns=\"http://www.w3.org/2000/svg\" height=\"24px\"viewBox=\"0 0 24 24\"\n",
              "       width=\"24px\">\n",
              "    <path d=\"M0 0h24v24H0V0z\" fill=\"none\"/>\n",
              "    <path d=\"M18.56 5.44l.94 2.06.94-2.06 2.06-.94-2.06-.94-.94-2.06-.94 2.06-2.06.94zm-11 1L8.5 8.5l.94-2.06 2.06-.94-2.06-.94L8.5 2.5l-.94 2.06-2.06.94zm10 10l.94 2.06.94-2.06 2.06-.94-2.06-.94-.94-2.06-.94 2.06-2.06.94z\"/><path d=\"M17.41 7.96l-1.37-1.37c-.4-.4-.92-.59-1.43-.59-.52 0-1.04.2-1.43.59L10.3 9.45l-7.72 7.72c-.78.78-.78 2.05 0 2.83L4 21.41c.39.39.9.59 1.41.59.51 0 1.02-.2 1.41-.59l7.78-7.78 2.81-2.81c.8-.78.8-2.07 0-2.86zM5.41 20L4 18.59l7.72-7.72 1.47 1.35L5.41 20z\"/>\n",
              "  </svg>\n",
              "      </button>\n",
              "      \n",
              "  <style>\n",
              "    .colab-df-container {\n",
              "      display:flex;\n",
              "      flex-wrap:wrap;\n",
              "      gap: 12px;\n",
              "    }\n",
              "\n",
              "    .colab-df-convert {\n",
              "      background-color: #E8F0FE;\n",
              "      border: none;\n",
              "      border-radius: 50%;\n",
              "      cursor: pointer;\n",
              "      display: none;\n",
              "      fill: #1967D2;\n",
              "      height: 32px;\n",
              "      padding: 0 0 0 0;\n",
              "      width: 32px;\n",
              "    }\n",
              "\n",
              "    .colab-df-convert:hover {\n",
              "      background-color: #E2EBFA;\n",
              "      box-shadow: 0px 1px 2px rgba(60, 64, 67, 0.3), 0px 1px 3px 1px rgba(60, 64, 67, 0.15);\n",
              "      fill: #174EA6;\n",
              "    }\n",
              "\n",
              "    [theme=dark] .colab-df-convert {\n",
              "      background-color: #3B4455;\n",
              "      fill: #D2E3FC;\n",
              "    }\n",
              "\n",
              "    [theme=dark] .colab-df-convert:hover {\n",
              "      background-color: #434B5C;\n",
              "      box-shadow: 0px 1px 3px 1px rgba(0, 0, 0, 0.15);\n",
              "      filter: drop-shadow(0px 1px 2px rgba(0, 0, 0, 0.3));\n",
              "      fill: #FFFFFF;\n",
              "    }\n",
              "  </style>\n",
              "\n",
              "      <script>\n",
              "        const buttonEl =\n",
              "          document.querySelector('#df-afcd97e6-670e-408c-b710-ca679cdbc4f4 button.colab-df-convert');\n",
              "        buttonEl.style.display =\n",
              "          google.colab.kernel.accessAllowed ? 'block' : 'none';\n",
              "\n",
              "        async function convertToInteractive(key) {\n",
              "          const element = document.querySelector('#df-afcd97e6-670e-408c-b710-ca679cdbc4f4');\n",
              "          const dataTable =\n",
              "            await google.colab.kernel.invokeFunction('convertToInteractive',\n",
              "                                                     [key], {});\n",
              "          if (!dataTable) return;\n",
              "\n",
              "          const docLinkHtml = 'Like what you see? Visit the ' +\n",
              "            '<a target=\"_blank\" href=https://colab.research.google.com/notebooks/data_table.ipynb>data table notebook</a>'\n",
              "            + ' to learn more about interactive tables.';\n",
              "          element.innerHTML = '';\n",
              "          dataTable['output_type'] = 'display_data';\n",
              "          await google.colab.output.renderOutput(dataTable, element);\n",
              "          const docLink = document.createElement('div');\n",
              "          docLink.innerHTML = docLinkHtml;\n",
              "          element.appendChild(docLink);\n",
              "        }\n",
              "      </script>\n",
              "    </div>\n",
              "  </div>\n",
              "  "
            ]
          },
          "metadata": {},
          "execution_count": 219
        }
      ]
    },
    {
      "cell_type": "markdown",
      "source": [
        "Se puede observar que en semana de gestación hay un máximo de 99, eso es incoherente, lo vamos a eliminar"
      ],
      "metadata": {
        "id": "6bRWF0RIt0tU"
      }
    },
    {
      "cell_type": "code",
      "source": [
        "df = df.loc[df[\"sem_gest\"] != 99,:]"
      ],
      "metadata": {
        "id": "EnZnDZ03t9K0"
      },
      "execution_count": 220,
      "outputs": []
    },
    {
      "cell_type": "code",
      "source": [
        "df[\"sem_gest\"].describe()"
      ],
      "metadata": {
        "colab": {
          "base_uri": "https://localhost:8080/"
        },
        "id": "KikF0C9KuIts",
        "outputId": "60374db9-4225-432b-b308-f90d33710cea"
      },
      "execution_count": 221,
      "outputs": [
        {
          "output_type": "execute_result",
          "data": {
            "text/plain": [
              "count    1.062436e+06\n",
              "mean     3.853045e+01\n",
              "std      1.885100e+00\n",
              "min      1.200000e+01\n",
              "25%      3.800000e+01\n",
              "50%      3.900000e+01\n",
              "75%      4.000000e+01\n",
              "max      4.200000e+01\n",
              "Name: sem_gest, dtype: float64"
            ]
          },
          "metadata": {},
          "execution_count": 221
        }
      ]
    },
    {
      "cell_type": "markdown",
      "source": [
        "Ahora las semanas de gestación máxima es de 43 lo cual es razonable."
      ],
      "metadata": {
        "id": "WVjii0CQuOPE"
      }
    },
    {
      "cell_type": "code",
      "source": [
        "df[\"anio\"].describe()"
      ],
      "metadata": {
        "colab": {
          "base_uri": "https://localhost:8080/"
        },
        "id": "m_FKGsLIJw7j",
        "outputId": "b1a5171d-6930-4982-b1f7-d3a0181a202f"
      },
      "execution_count": 263,
      "outputs": [
        {
          "output_type": "execute_result",
          "data": {
            "text/plain": [
              "count    1.046864e+06\n",
              "mean     2.013382e+03\n",
              "std      1.293617e+00\n",
              "min      1.930000e+03\n",
              "25%      2.012000e+03\n",
              "50%      2.013000e+03\n",
              "75%      2.014000e+03\n",
              "max      2.015000e+03\n",
              "Name: anio, dtype: float64"
            ]
          },
          "metadata": {},
          "execution_count": 263
        }
      ]
    },
    {
      "cell_type": "markdown",
      "source": [
        "La columna de año también tiene rangos raros, se supone que los datos obtenidos son desde el año 2012 hasta el año 2015. "
      ],
      "metadata": {
        "id": "DmoCzuoAJ4UP"
      }
    },
    {
      "cell_type": "markdown",
      "source": [
        "* Revisemos los datos de defunción"
      ],
      "metadata": {
        "id": "6_BGVfXhLxa3"
      }
    },
    {
      "cell_type": "code",
      "source": [
        "df1_1[\"anio_fall\"].value_counts()"
      ],
      "metadata": {
        "colab": {
          "base_uri": "https://localhost:8080/"
        },
        "id": "Grvp0K1vJ10f",
        "outputId": "fc22ad4d-34c8-4aaa-8cc6-ea8691cf0d78"
      },
      "execution_count": 270,
      "outputs": [
        {
          "output_type": "execute_result",
          "data": {
            "text/plain": [
              "2012    1717\n",
              "Name: anio_fall, dtype: int64"
            ]
          },
          "metadata": {},
          "execution_count": 270
        }
      ]
    },
    {
      "cell_type": "code",
      "source": [
        "df1_2[\"anio_fall\"].value_counts()"
      ],
      "metadata": {
        "colab": {
          "base_uri": "https://localhost:8080/"
        },
        "id": "2MHpH07DK5Lf",
        "outputId": "e52e7a7a-5dcc-48d7-a2b6-964c4671a7ed"
      },
      "execution_count": 271,
      "outputs": [
        {
          "output_type": "execute_result",
          "data": {
            "text/plain": [
              "2013.0    1643\n",
              "Name: anio_fall, dtype: int64"
            ]
          },
          "metadata": {},
          "execution_count": 271
        }
      ]
    },
    {
      "cell_type": "code",
      "source": [
        "df1_3[\"anio_fall\"].value_counts()"
      ],
      "metadata": {
        "colab": {
          "base_uri": "https://localhost:8080/"
        },
        "id": "EIl1uEJFK_kv",
        "outputId": "90aaa5b8-c3e8-43b5-b633-35548b7f5878"
      },
      "execution_count": 273,
      "outputs": [
        {
          "output_type": "execute_result",
          "data": {
            "text/plain": [
              "2014.0    1613\n",
              "2013.0      16\n",
              "Name: anio_fall, dtype: int64"
            ]
          },
          "metadata": {},
          "execution_count": 273
        }
      ]
    },
    {
      "cell_type": "code",
      "source": [
        "df1_4[\"anio_fall\"].value_counts()"
      ],
      "metadata": {
        "colab": {
          "base_uri": "https://localhost:8080/"
        },
        "id": "gt-3pp-wLXgX",
        "outputId": "bb443a3e-db29-438e-834c-84564ceb9f10"
      },
      "execution_count": 274,
      "outputs": [
        {
          "output_type": "execute_result",
          "data": {
            "text/plain": [
              "2015.0    1829\n",
              "2014.0      24\n",
              "2009.0       2\n",
              "2013.0       1\n",
              "2011.0       1\n",
              "Name: anio_fall, dtype: int64"
            ]
          },
          "metadata": {},
          "execution_count": 274
        }
      ]
    },
    {
      "cell_type": "markdown",
      "source": [
        "* Revisemos los datos de nacimientos"
      ],
      "metadata": {
        "id": "bEf4DjWbMAu_"
      }
    },
    {
      "cell_type": "code",
      "source": [
        "df1_1n[\"anio_nac\"].value_counts()"
      ],
      "metadata": {
        "colab": {
          "base_uri": "https://localhost:8080/"
        },
        "id": "p6B8wipuMD5X",
        "outputId": "cbfc3941-84a5-45f5-de0a-4750e905c7ab"
      },
      "execution_count": 275,
      "outputs": [
        {
          "output_type": "execute_result",
          "data": {
            "text/plain": [
              "2012    235237\n",
              "2011     71326\n",
              "2010     12779\n",
              "2009      7387\n",
              "2008      4850\n",
              "         ...  \n",
              "1969        10\n",
              "1919         8\n",
              "1913         7\n",
              "1915         7\n",
              "1916         6\n",
              "Name: anio_nac, Length: 101, dtype: int64"
            ]
          },
          "metadata": {},
          "execution_count": 275
        }
      ]
    },
    {
      "cell_type": "code",
      "source": [
        "df1_2n[\"anio_nac\"].value_counts()"
      ],
      "metadata": {
        "colab": {
          "base_uri": "https://localhost:8080/"
        },
        "id": "q-8LIcwGMNbH",
        "outputId": "1bcee34d-cc3b-4d56-bf31-a7ffe697ac86"
      },
      "execution_count": 276,
      "outputs": [
        {
          "output_type": "execute_result",
          "data": {
            "text/plain": [
              "2013.0    220896\n",
              "2012.0     62072\n",
              "2011.0     14316\n",
              "2010.0      7855\n",
              "2009.0      5807\n",
              "           ...  \n",
              "1919.0         6\n",
              "1915.0         6\n",
              "1916.0         4\n",
              "1914.0         3\n",
              "1913.0         2\n",
              "Name: anio_nac, Length: 102, dtype: int64"
            ]
          },
          "metadata": {},
          "execution_count": 276
        }
      ]
    },
    {
      "cell_type": "code",
      "source": [
        "df1_3n[\"anio_nac\"].value_counts()"
      ],
      "metadata": {
        "colab": {
          "base_uri": "https://localhost:8080/"
        },
        "id": "50wnY8NDMPLn",
        "outputId": "ca2a130c-7767-4677-bdbc-92d7883f867b"
      },
      "execution_count": 277,
      "outputs": [
        {
          "output_type": "execute_result",
          "data": {
            "text/plain": [
              "2014.0    229476\n",
              "2013.0     56724\n",
              "2012.0     11073\n",
              "2011.0      6579\n",
              "2010.0      4416\n",
              "           ...  \n",
              "1915.0         1\n",
              "1912.0         1\n",
              "1909.0         1\n",
              "1907.0         1\n",
              "1916.0         1\n",
              "Name: anio_nac, Length: 109, dtype: int64"
            ]
          },
          "metadata": {},
          "execution_count": 277
        }
      ]
    },
    {
      "cell_type": "code",
      "source": [
        "df1_3n[\"anio_nac\"].value_counts()"
      ],
      "metadata": {
        "colab": {
          "base_uri": "https://localhost:8080/"
        },
        "id": "SaUyjjNoMRDf",
        "outputId": "4f8f5bc9-d673-4122-814c-47333559b34a"
      },
      "execution_count": 278,
      "outputs": [
        {
          "output_type": "execute_result",
          "data": {
            "text/plain": [
              "2014.0    229476\n",
              "2013.0     56724\n",
              "2012.0     11073\n",
              "2011.0      6579\n",
              "2010.0      4416\n",
              "           ...  \n",
              "1915.0         1\n",
              "1912.0         1\n",
              "1909.0         1\n",
              "1907.0         1\n",
              "1916.0         1\n",
              "Name: anio_nac, Length: 109, dtype: int64"
            ]
          },
          "metadata": {},
          "execution_count": 278
        }
      ]
    },
    {
      "cell_type": "markdown",
      "source": [
        "Al parecer el problema con los años en el que se registró el nacimiento solo los tiene los datos de nacimientos. para evitar confuciones, vamos a eliminar cualquier registro por debajo del año 2011 "
      ],
      "metadata": {
        "id": "EXJ9LuhhMVSP"
      }
    },
    {
      "cell_type": "code",
      "source": [
        "df = df.loc[df[\"anio\"] > 2011,:]"
      ],
      "metadata": {
        "id": "A-KGM2-GMpIH"
      },
      "execution_count": 280,
      "outputs": []
    },
    {
      "cell_type": "code",
      "source": [
        "# vamos a confirmar \n",
        "df[\"anio\"].value_counts()"
      ],
      "metadata": {
        "colab": {
          "base_uri": "https://localhost:8080/"
        },
        "id": "T7-gz48UNFj3",
        "outputId": "48ed2ce0-3450-420b-9a75-99b30f2df8ba"
      },
      "execution_count": 281,
      "outputs": [
        {
          "output_type": "execute_result",
          "data": {
            "text/plain": [
              "2015.0    254522\n",
              "2014.0    252990\n",
              "2013.0    246143\n",
              "2012.0    236936\n",
              "Name: anio, dtype: int64"
            ]
          },
          "metadata": {},
          "execution_count": 281
        }
      ]
    },
    {
      "cell_type": "code",
      "source": [
        "df[\"edad_mad\"].describe()"
      ],
      "metadata": {
        "colab": {
          "base_uri": "https://localhost:8080/"
        },
        "id": "B48OiDQOuYdk",
        "outputId": "37230164-5907-4f77-ed0e-ed6dfaa769c4"
      },
      "execution_count": 222,
      "outputs": [
        {
          "output_type": "execute_result",
          "data": {
            "text/plain": [
              "count    1.062436e+06\n",
              "mean     2.602786e+01\n",
              "std      8.623584e+00\n",
              "min      1.000000e+01\n",
              "25%      2.000000e+01\n",
              "50%      2.500000e+01\n",
              "75%      3.000000e+01\n",
              "max      9.900000e+01\n",
              "Name: edad_mad, dtype: float64"
            ]
          },
          "metadata": {},
          "execution_count": 222
        }
      ]
    },
    {
      "cell_type": "markdown",
      "source": [
        "Dentro de la edad de la madre hay una edad incoherente de 99, también vamos a eliminarlo"
      ],
      "metadata": {
        "id": "DAFYiatwubtE"
      }
    },
    {
      "cell_type": "code",
      "source": [
        "df = df.loc[df[\"edad_mad\"] != 99,:]"
      ],
      "metadata": {
        "id": "vdF3uXW4ujhd"
      },
      "execution_count": 223,
      "outputs": []
    },
    {
      "cell_type": "code",
      "source": [
        "df[\"edad_mad\"].describe()"
      ],
      "metadata": {
        "colab": {
          "base_uri": "https://localhost:8080/"
        },
        "id": "ODFh2Zg-umt9",
        "outputId": "936d3c75-388f-44ec-b0fe-15fdb85be5ae"
      },
      "execution_count": 224,
      "outputs": [
        {
          "output_type": "execute_result",
          "data": {
            "text/plain": [
              "count    1.056463e+06\n",
              "mean     2.561530e+01\n",
              "std      6.671616e+00\n",
              "min      1.000000e+01\n",
              "25%      2.000000e+01\n",
              "50%      2.500000e+01\n",
              "75%      3.000000e+01\n",
              "max      4.900000e+01\n",
              "Name: edad_mad, dtype: float64"
            ]
          },
          "metadata": {},
          "execution_count": 224
        }
      ]
    },
    {
      "cell_type": "markdown",
      "source": [
        "Ahora, la edad máxima es de 49, lo cual es más razonable"
      ],
      "metadata": {
        "id": "bZV8GNhgupi1"
      }
    },
    {
      "cell_type": "code",
      "source": [
        "df[\"con_pren\"].describe()"
      ],
      "metadata": {
        "colab": {
          "base_uri": "https://localhost:8080/"
        },
        "id": "pYVNmGTyuyV8",
        "outputId": "f38f0d9b-0270-43a4-ea37-02646faa8618"
      },
      "execution_count": 226,
      "outputs": [
        {
          "output_type": "execute_result",
          "data": {
            "text/plain": [
              "count    1.056463e+06\n",
              "mean     2.367609e+01\n",
              "std      3.580000e+01\n",
              "min      0.000000e+00\n",
              "25%      6.000000e+00\n",
              "50%      8.000000e+00\n",
              "75%      1.000000e+01\n",
              "max      9.900000e+01\n",
              "Name: con_pren, dtype: float64"
            ]
          },
          "metadata": {},
          "execution_count": 226
        }
      ]
    },
    {
      "cell_type": "markdown",
      "source": [
        "Dentro de control prenatal hay un valor de 99, ahondemos un poco mas en esta columna"
      ],
      "metadata": {
        "id": "c7ykVhVtu9Is"
      }
    },
    {
      "cell_type": "code",
      "source": [
        "df.loc[df[\"con_pren\"]>80,:]"
      ],
      "metadata": {
        "colab": {
          "base_uri": "https://localhost:8080/",
          "height": 591
        },
        "id": "jO1dmFG9vFjE",
        "outputId": "f32ba3a8-5236-44ed-d99b-b15ff1898751"
      },
      "execution_count": 230,
      "outputs": [
        {
          "output_type": "execute_result",
          "data": {
            "text/plain": [
              "        sexo  sem_gest    anio         mes  asis_por   p_emb  \\\n",
              "1     Hombre      39.0  2011.0       Marzo    Medico  Simple   \n",
              "2      Mujer      33.0  2011.0   Diciembre    Medico  Simple   \n",
              "3     Hombre      40.0  2011.0  Septiembre    Medico  Simple   \n",
              "5     Hombre      38.0  2011.0     Octubre    Medico  Simple   \n",
              "6     Hombre      41.0  2011.0   Noviembre    Medico  Simple   \n",
              "...      ...       ...     ...         ...       ...     ...   \n",
              "1831  Hombre      37.0  2015.0     Octubre    Medico  Simple   \n",
              "1844   Mujer      37.0  2015.0       Marzo    Medico  Simple   \n",
              "1848  Hombre      38.0  2015.0        Mayo    Medico  Simple   \n",
              "1850  Hombre      34.0  2015.0       Marzo  Obstetra  Simple   \n",
              "1851  Hombre      37.0  2015.0   Diciembre    Medico  Simple   \n",
              "\n",
              "                                lugar_ocur              provincia  \\\n",
              "1      Establecimiento_ministerio_de_salud                 Azuay    \n",
              "2             Otro_establecimiento_publico                 Azuay    \n",
              "3      Establecimiento_ministerio_de_salud                 Azuay    \n",
              "5             Otro_establecimiento_publico                 Azuay    \n",
              "6             Otro_establecimiento_publico                 Azuay    \n",
              "...                                    ...                    ...   \n",
              "1831   Establecimiento_ministerio_de_salud  Santa Elena             \n",
              "1844  Hospital_clinica_consultorio_privado  Santa Elena             \n",
              "1848   Establecimiento_ministerio_de_salud  Santa Elena             \n",
              "1850   Establecimiento_ministerio_de_salud  Santa Elena             \n",
              "1851  Hospital_clinica_consultorio_privado  Santa Elena             \n",
              "\n",
              "            canton     parroquia    area  edad_mad      nac_mad  con_pren  \\\n",
              "1          Cuenca        Cuenca   Urbana      19.0  Ecuatoriana      99.0   \n",
              "2          Cuenca        Cuenca   Urbana      33.0  Ecuatoriana      99.0   \n",
              "3          Cuenca        Cuenca   Urbana      31.0  Ecuatoriana      99.0   \n",
              "5          Cuenca        Cuenca   Urbana      21.0  Ecuatoriana      99.0   \n",
              "6          Cuenca        Cuenca   Urbana      23.0     Ignorado      99.0   \n",
              "...            ...           ...     ...       ...          ...       ...   \n",
              "1831  Santa Elena   Santa Elena   Urbana      14.0  Ecuatoriana      99.0   \n",
              "1844      Salinas       Salinas   Urbana      27.0  Ecuatoriana      99.0   \n",
              "1848  Santa Elena   Santa Elena   Urbana      34.0  Ecuatoriana      99.0   \n",
              "1850  Santa Elena   Santa Elena   Urbana      35.0  Ecuatoriana      99.0   \n",
              "1851  Santa Elena   Santa Elena   Urbana      36.0  Ecuatoriana      99.0   \n",
              "\n",
              "      hij_viv  hij_vivm  hij_nacm    etnia est_civil sabe_leer  \\\n",
              "1         2.0      99.0      99.0  Mestiza   Soltera        Si   \n",
              "2         1.0      99.0      99.0  Mestiza   Soltera        Si   \n",
              "3         6.0      99.0      99.0  Mestiza    Casada        Si   \n",
              "5         1.0      99.0      99.0  Mestiza    Casada        Si   \n",
              "6         2.0      99.0      99.0  Mestiza     Unida        Si   \n",
              "...       ...       ...       ...      ...       ...       ...   \n",
              "1831      0.0       0.0       1.0  Mestiza    Casada        Si   \n",
              "1844     99.0       1.0       1.0  Mestiza    Casada        Si   \n",
              "1848      5.0       0.0       1.0   Mulata     Unida        Si   \n",
              "1850      1.0       0.0       1.0  Mestiza     Unida        Si   \n",
              "1851      5.0      99.0       1.0  Mestiza     Unida        Si   \n",
              "\n",
              "              niv_inst               prov_res      cant_res  \\\n",
              "1           Secundaria                 Azuay        Cuenca    \n",
              "2             Superior                 Azuay        Cuenca    \n",
              "3           Secundaria                 Azuay        Cuenca    \n",
              "5             Primaria                 Azuay        Cuenca    \n",
              "6             Primaria                 Azuay        Cuenca    \n",
              "...                ...                    ...           ...   \n",
              "1831  Educacion_basica  Santa Elena            La Libertad    \n",
              "1844   Educacion_media  Santa Elena            La Libertad    \n",
              "1848        Secundaria  Santa Elena                Salinas    \n",
              "1850  Educacion_basica  Santa Elena            La Libertad    \n",
              "1851  Educacion_basica  Santa Elena            La Libertad    \n",
              "\n",
              "                      parr_res area_res  Estado  \n",
              "1                      Cuenca    Urbana       1  \n",
              "2                      Cuenca    Urbana       1  \n",
              "3                      Cuenca    Urbana       1  \n",
              "5                      Cuenca    Urbana       1  \n",
              "6                      Cuenca    Urbana       1  \n",
              "...                        ...      ...     ...  \n",
              "1831              La Libertad    Urbana       0  \n",
              "1844              La Libertad    Urbana       0  \n",
              "1848  Jose Luis Tamayo (Muey)     Rural       0  \n",
              "1850              La Libertad    Urbana       0  \n",
              "1851              La Libertad    Urbana       0  \n",
              "\n",
              "[193826 rows x 26 columns]"
            ],
            "text/html": [
              "\n",
              "  <div id=\"df-ee97e4d7-bb98-47e2-8ac7-9cc4c1805a65\">\n",
              "    <div class=\"colab-df-container\">\n",
              "      <div>\n",
              "<style scoped>\n",
              "    .dataframe tbody tr th:only-of-type {\n",
              "        vertical-align: middle;\n",
              "    }\n",
              "\n",
              "    .dataframe tbody tr th {\n",
              "        vertical-align: top;\n",
              "    }\n",
              "\n",
              "    .dataframe thead th {\n",
              "        text-align: right;\n",
              "    }\n",
              "</style>\n",
              "<table border=\"1\" class=\"dataframe\">\n",
              "  <thead>\n",
              "    <tr style=\"text-align: right;\">\n",
              "      <th></th>\n",
              "      <th>sexo</th>\n",
              "      <th>sem_gest</th>\n",
              "      <th>anio</th>\n",
              "      <th>mes</th>\n",
              "      <th>asis_por</th>\n",
              "      <th>p_emb</th>\n",
              "      <th>lugar_ocur</th>\n",
              "      <th>provincia</th>\n",
              "      <th>canton</th>\n",
              "      <th>parroquia</th>\n",
              "      <th>area</th>\n",
              "      <th>edad_mad</th>\n",
              "      <th>nac_mad</th>\n",
              "      <th>con_pren</th>\n",
              "      <th>hij_viv</th>\n",
              "      <th>hij_vivm</th>\n",
              "      <th>hij_nacm</th>\n",
              "      <th>etnia</th>\n",
              "      <th>est_civil</th>\n",
              "      <th>sabe_leer</th>\n",
              "      <th>niv_inst</th>\n",
              "      <th>prov_res</th>\n",
              "      <th>cant_res</th>\n",
              "      <th>parr_res</th>\n",
              "      <th>area_res</th>\n",
              "      <th>Estado</th>\n",
              "    </tr>\n",
              "  </thead>\n",
              "  <tbody>\n",
              "    <tr>\n",
              "      <th>1</th>\n",
              "      <td>Hombre</td>\n",
              "      <td>39.0</td>\n",
              "      <td>2011.0</td>\n",
              "      <td>Marzo</td>\n",
              "      <td>Medico</td>\n",
              "      <td>Simple</td>\n",
              "      <td>Establecimiento_ministerio_de_salud</td>\n",
              "      <td>Azuay</td>\n",
              "      <td>Cuenca</td>\n",
              "      <td>Cuenca</td>\n",
              "      <td>Urbana</td>\n",
              "      <td>19.0</td>\n",
              "      <td>Ecuatoriana</td>\n",
              "      <td>99.0</td>\n",
              "      <td>2.0</td>\n",
              "      <td>99.0</td>\n",
              "      <td>99.0</td>\n",
              "      <td>Mestiza</td>\n",
              "      <td>Soltera</td>\n",
              "      <td>Si</td>\n",
              "      <td>Secundaria</td>\n",
              "      <td>Azuay</td>\n",
              "      <td>Cuenca</td>\n",
              "      <td>Cuenca</td>\n",
              "      <td>Urbana</td>\n",
              "      <td>1</td>\n",
              "    </tr>\n",
              "    <tr>\n",
              "      <th>2</th>\n",
              "      <td>Mujer</td>\n",
              "      <td>33.0</td>\n",
              "      <td>2011.0</td>\n",
              "      <td>Diciembre</td>\n",
              "      <td>Medico</td>\n",
              "      <td>Simple</td>\n",
              "      <td>Otro_establecimiento_publico</td>\n",
              "      <td>Azuay</td>\n",
              "      <td>Cuenca</td>\n",
              "      <td>Cuenca</td>\n",
              "      <td>Urbana</td>\n",
              "      <td>33.0</td>\n",
              "      <td>Ecuatoriana</td>\n",
              "      <td>99.0</td>\n",
              "      <td>1.0</td>\n",
              "      <td>99.0</td>\n",
              "      <td>99.0</td>\n",
              "      <td>Mestiza</td>\n",
              "      <td>Soltera</td>\n",
              "      <td>Si</td>\n",
              "      <td>Superior</td>\n",
              "      <td>Azuay</td>\n",
              "      <td>Cuenca</td>\n",
              "      <td>Cuenca</td>\n",
              "      <td>Urbana</td>\n",
              "      <td>1</td>\n",
              "    </tr>\n",
              "    <tr>\n",
              "      <th>3</th>\n",
              "      <td>Hombre</td>\n",
              "      <td>40.0</td>\n",
              "      <td>2011.0</td>\n",
              "      <td>Septiembre</td>\n",
              "      <td>Medico</td>\n",
              "      <td>Simple</td>\n",
              "      <td>Establecimiento_ministerio_de_salud</td>\n",
              "      <td>Azuay</td>\n",
              "      <td>Cuenca</td>\n",
              "      <td>Cuenca</td>\n",
              "      <td>Urbana</td>\n",
              "      <td>31.0</td>\n",
              "      <td>Ecuatoriana</td>\n",
              "      <td>99.0</td>\n",
              "      <td>6.0</td>\n",
              "      <td>99.0</td>\n",
              "      <td>99.0</td>\n",
              "      <td>Mestiza</td>\n",
              "      <td>Casada</td>\n",
              "      <td>Si</td>\n",
              "      <td>Secundaria</td>\n",
              "      <td>Azuay</td>\n",
              "      <td>Cuenca</td>\n",
              "      <td>Cuenca</td>\n",
              "      <td>Urbana</td>\n",
              "      <td>1</td>\n",
              "    </tr>\n",
              "    <tr>\n",
              "      <th>5</th>\n",
              "      <td>Hombre</td>\n",
              "      <td>38.0</td>\n",
              "      <td>2011.0</td>\n",
              "      <td>Octubre</td>\n",
              "      <td>Medico</td>\n",
              "      <td>Simple</td>\n",
              "      <td>Otro_establecimiento_publico</td>\n",
              "      <td>Azuay</td>\n",
              "      <td>Cuenca</td>\n",
              "      <td>Cuenca</td>\n",
              "      <td>Urbana</td>\n",
              "      <td>21.0</td>\n",
              "      <td>Ecuatoriana</td>\n",
              "      <td>99.0</td>\n",
              "      <td>1.0</td>\n",
              "      <td>99.0</td>\n",
              "      <td>99.0</td>\n",
              "      <td>Mestiza</td>\n",
              "      <td>Casada</td>\n",
              "      <td>Si</td>\n",
              "      <td>Primaria</td>\n",
              "      <td>Azuay</td>\n",
              "      <td>Cuenca</td>\n",
              "      <td>Cuenca</td>\n",
              "      <td>Urbana</td>\n",
              "      <td>1</td>\n",
              "    </tr>\n",
              "    <tr>\n",
              "      <th>6</th>\n",
              "      <td>Hombre</td>\n",
              "      <td>41.0</td>\n",
              "      <td>2011.0</td>\n",
              "      <td>Noviembre</td>\n",
              "      <td>Medico</td>\n",
              "      <td>Simple</td>\n",
              "      <td>Otro_establecimiento_publico</td>\n",
              "      <td>Azuay</td>\n",
              "      <td>Cuenca</td>\n",
              "      <td>Cuenca</td>\n",
              "      <td>Urbana</td>\n",
              "      <td>23.0</td>\n",
              "      <td>Ignorado</td>\n",
              "      <td>99.0</td>\n",
              "      <td>2.0</td>\n",
              "      <td>99.0</td>\n",
              "      <td>99.0</td>\n",
              "      <td>Mestiza</td>\n",
              "      <td>Unida</td>\n",
              "      <td>Si</td>\n",
              "      <td>Primaria</td>\n",
              "      <td>Azuay</td>\n",
              "      <td>Cuenca</td>\n",
              "      <td>Cuenca</td>\n",
              "      <td>Urbana</td>\n",
              "      <td>1</td>\n",
              "    </tr>\n",
              "    <tr>\n",
              "      <th>...</th>\n",
              "      <td>...</td>\n",
              "      <td>...</td>\n",
              "      <td>...</td>\n",
              "      <td>...</td>\n",
              "      <td>...</td>\n",
              "      <td>...</td>\n",
              "      <td>...</td>\n",
              "      <td>...</td>\n",
              "      <td>...</td>\n",
              "      <td>...</td>\n",
              "      <td>...</td>\n",
              "      <td>...</td>\n",
              "      <td>...</td>\n",
              "      <td>...</td>\n",
              "      <td>...</td>\n",
              "      <td>...</td>\n",
              "      <td>...</td>\n",
              "      <td>...</td>\n",
              "      <td>...</td>\n",
              "      <td>...</td>\n",
              "      <td>...</td>\n",
              "      <td>...</td>\n",
              "      <td>...</td>\n",
              "      <td>...</td>\n",
              "      <td>...</td>\n",
              "      <td>...</td>\n",
              "    </tr>\n",
              "    <tr>\n",
              "      <th>1831</th>\n",
              "      <td>Hombre</td>\n",
              "      <td>37.0</td>\n",
              "      <td>2015.0</td>\n",
              "      <td>Octubre</td>\n",
              "      <td>Medico</td>\n",
              "      <td>Simple</td>\n",
              "      <td>Establecimiento_ministerio_de_salud</td>\n",
              "      <td>Santa Elena</td>\n",
              "      <td>Santa Elena</td>\n",
              "      <td>Santa Elena</td>\n",
              "      <td>Urbana</td>\n",
              "      <td>14.0</td>\n",
              "      <td>Ecuatoriana</td>\n",
              "      <td>99.0</td>\n",
              "      <td>0.0</td>\n",
              "      <td>0.0</td>\n",
              "      <td>1.0</td>\n",
              "      <td>Mestiza</td>\n",
              "      <td>Casada</td>\n",
              "      <td>Si</td>\n",
              "      <td>Educacion_basica</td>\n",
              "      <td>Santa Elena</td>\n",
              "      <td>La Libertad</td>\n",
              "      <td>La Libertad</td>\n",
              "      <td>Urbana</td>\n",
              "      <td>0</td>\n",
              "    </tr>\n",
              "    <tr>\n",
              "      <th>1844</th>\n",
              "      <td>Mujer</td>\n",
              "      <td>37.0</td>\n",
              "      <td>2015.0</td>\n",
              "      <td>Marzo</td>\n",
              "      <td>Medico</td>\n",
              "      <td>Simple</td>\n",
              "      <td>Hospital_clinica_consultorio_privado</td>\n",
              "      <td>Santa Elena</td>\n",
              "      <td>Salinas</td>\n",
              "      <td>Salinas</td>\n",
              "      <td>Urbana</td>\n",
              "      <td>27.0</td>\n",
              "      <td>Ecuatoriana</td>\n",
              "      <td>99.0</td>\n",
              "      <td>99.0</td>\n",
              "      <td>1.0</td>\n",
              "      <td>1.0</td>\n",
              "      <td>Mestiza</td>\n",
              "      <td>Casada</td>\n",
              "      <td>Si</td>\n",
              "      <td>Educacion_media</td>\n",
              "      <td>Santa Elena</td>\n",
              "      <td>La Libertad</td>\n",
              "      <td>La Libertad</td>\n",
              "      <td>Urbana</td>\n",
              "      <td>0</td>\n",
              "    </tr>\n",
              "    <tr>\n",
              "      <th>1848</th>\n",
              "      <td>Hombre</td>\n",
              "      <td>38.0</td>\n",
              "      <td>2015.0</td>\n",
              "      <td>Mayo</td>\n",
              "      <td>Medico</td>\n",
              "      <td>Simple</td>\n",
              "      <td>Establecimiento_ministerio_de_salud</td>\n",
              "      <td>Santa Elena</td>\n",
              "      <td>Santa Elena</td>\n",
              "      <td>Santa Elena</td>\n",
              "      <td>Urbana</td>\n",
              "      <td>34.0</td>\n",
              "      <td>Ecuatoriana</td>\n",
              "      <td>99.0</td>\n",
              "      <td>5.0</td>\n",
              "      <td>0.0</td>\n",
              "      <td>1.0</td>\n",
              "      <td>Mulata</td>\n",
              "      <td>Unida</td>\n",
              "      <td>Si</td>\n",
              "      <td>Secundaria</td>\n",
              "      <td>Santa Elena</td>\n",
              "      <td>Salinas</td>\n",
              "      <td>Jose Luis Tamayo (Muey)</td>\n",
              "      <td>Rural</td>\n",
              "      <td>0</td>\n",
              "    </tr>\n",
              "    <tr>\n",
              "      <th>1850</th>\n",
              "      <td>Hombre</td>\n",
              "      <td>34.0</td>\n",
              "      <td>2015.0</td>\n",
              "      <td>Marzo</td>\n",
              "      <td>Obstetra</td>\n",
              "      <td>Simple</td>\n",
              "      <td>Establecimiento_ministerio_de_salud</td>\n",
              "      <td>Santa Elena</td>\n",
              "      <td>Santa Elena</td>\n",
              "      <td>Santa Elena</td>\n",
              "      <td>Urbana</td>\n",
              "      <td>35.0</td>\n",
              "      <td>Ecuatoriana</td>\n",
              "      <td>99.0</td>\n",
              "      <td>1.0</td>\n",
              "      <td>0.0</td>\n",
              "      <td>1.0</td>\n",
              "      <td>Mestiza</td>\n",
              "      <td>Unida</td>\n",
              "      <td>Si</td>\n",
              "      <td>Educacion_basica</td>\n",
              "      <td>Santa Elena</td>\n",
              "      <td>La Libertad</td>\n",
              "      <td>La Libertad</td>\n",
              "      <td>Urbana</td>\n",
              "      <td>0</td>\n",
              "    </tr>\n",
              "    <tr>\n",
              "      <th>1851</th>\n",
              "      <td>Hombre</td>\n",
              "      <td>37.0</td>\n",
              "      <td>2015.0</td>\n",
              "      <td>Diciembre</td>\n",
              "      <td>Medico</td>\n",
              "      <td>Simple</td>\n",
              "      <td>Hospital_clinica_consultorio_privado</td>\n",
              "      <td>Santa Elena</td>\n",
              "      <td>Santa Elena</td>\n",
              "      <td>Santa Elena</td>\n",
              "      <td>Urbana</td>\n",
              "      <td>36.0</td>\n",
              "      <td>Ecuatoriana</td>\n",
              "      <td>99.0</td>\n",
              "      <td>5.0</td>\n",
              "      <td>99.0</td>\n",
              "      <td>1.0</td>\n",
              "      <td>Mestiza</td>\n",
              "      <td>Unida</td>\n",
              "      <td>Si</td>\n",
              "      <td>Educacion_basica</td>\n",
              "      <td>Santa Elena</td>\n",
              "      <td>La Libertad</td>\n",
              "      <td>La Libertad</td>\n",
              "      <td>Urbana</td>\n",
              "      <td>0</td>\n",
              "    </tr>\n",
              "  </tbody>\n",
              "</table>\n",
              "<p>193826 rows × 26 columns</p>\n",
              "</div>\n",
              "      <button class=\"colab-df-convert\" onclick=\"convertToInteractive('df-ee97e4d7-bb98-47e2-8ac7-9cc4c1805a65')\"\n",
              "              title=\"Convert this dataframe to an interactive table.\"\n",
              "              style=\"display:none;\">\n",
              "        \n",
              "  <svg xmlns=\"http://www.w3.org/2000/svg\" height=\"24px\"viewBox=\"0 0 24 24\"\n",
              "       width=\"24px\">\n",
              "    <path d=\"M0 0h24v24H0V0z\" fill=\"none\"/>\n",
              "    <path d=\"M18.56 5.44l.94 2.06.94-2.06 2.06-.94-2.06-.94-.94-2.06-.94 2.06-2.06.94zm-11 1L8.5 8.5l.94-2.06 2.06-.94-2.06-.94L8.5 2.5l-.94 2.06-2.06.94zm10 10l.94 2.06.94-2.06 2.06-.94-2.06-.94-.94-2.06-.94 2.06-2.06.94z\"/><path d=\"M17.41 7.96l-1.37-1.37c-.4-.4-.92-.59-1.43-.59-.52 0-1.04.2-1.43.59L10.3 9.45l-7.72 7.72c-.78.78-.78 2.05 0 2.83L4 21.41c.39.39.9.59 1.41.59.51 0 1.02-.2 1.41-.59l7.78-7.78 2.81-2.81c.8-.78.8-2.07 0-2.86zM5.41 20L4 18.59l7.72-7.72 1.47 1.35L5.41 20z\"/>\n",
              "  </svg>\n",
              "      </button>\n",
              "      \n",
              "  <style>\n",
              "    .colab-df-container {\n",
              "      display:flex;\n",
              "      flex-wrap:wrap;\n",
              "      gap: 12px;\n",
              "    }\n",
              "\n",
              "    .colab-df-convert {\n",
              "      background-color: #E8F0FE;\n",
              "      border: none;\n",
              "      border-radius: 50%;\n",
              "      cursor: pointer;\n",
              "      display: none;\n",
              "      fill: #1967D2;\n",
              "      height: 32px;\n",
              "      padding: 0 0 0 0;\n",
              "      width: 32px;\n",
              "    }\n",
              "\n",
              "    .colab-df-convert:hover {\n",
              "      background-color: #E2EBFA;\n",
              "      box-shadow: 0px 1px 2px rgba(60, 64, 67, 0.3), 0px 1px 3px 1px rgba(60, 64, 67, 0.15);\n",
              "      fill: #174EA6;\n",
              "    }\n",
              "\n",
              "    [theme=dark] .colab-df-convert {\n",
              "      background-color: #3B4455;\n",
              "      fill: #D2E3FC;\n",
              "    }\n",
              "\n",
              "    [theme=dark] .colab-df-convert:hover {\n",
              "      background-color: #434B5C;\n",
              "      box-shadow: 0px 1px 3px 1px rgba(0, 0, 0, 0.15);\n",
              "      filter: drop-shadow(0px 1px 2px rgba(0, 0, 0, 0.3));\n",
              "      fill: #FFFFFF;\n",
              "    }\n",
              "  </style>\n",
              "\n",
              "      <script>\n",
              "        const buttonEl =\n",
              "          document.querySelector('#df-ee97e4d7-bb98-47e2-8ac7-9cc4c1805a65 button.colab-df-convert');\n",
              "        buttonEl.style.display =\n",
              "          google.colab.kernel.accessAllowed ? 'block' : 'none';\n",
              "\n",
              "        async function convertToInteractive(key) {\n",
              "          const element = document.querySelector('#df-ee97e4d7-bb98-47e2-8ac7-9cc4c1805a65');\n",
              "          const dataTable =\n",
              "            await google.colab.kernel.invokeFunction('convertToInteractive',\n",
              "                                                     [key], {});\n",
              "          if (!dataTable) return;\n",
              "\n",
              "          const docLinkHtml = 'Like what you see? Visit the ' +\n",
              "            '<a target=\"_blank\" href=https://colab.research.google.com/notebooks/data_table.ipynb>data table notebook</a>'\n",
              "            + ' to learn more about interactive tables.';\n",
              "          element.innerHTML = '';\n",
              "          dataTable['output_type'] = 'display_data';\n",
              "          await google.colab.output.renderOutput(dataTable, element);\n",
              "          const docLink = document.createElement('div');\n",
              "          docLink.innerHTML = docLinkHtml;\n",
              "          element.appendChild(docLink);\n",
              "        }\n",
              "      </script>\n",
              "    </div>\n",
              "  </div>\n",
              "  "
            ]
          },
          "metadata": {},
          "execution_count": 230
        }
      ]
    },
    {
      "cell_type": "markdown",
      "source": [
        "Hay muchos valores mayores a 80 controles"
      ],
      "metadata": {
        "id": "JdygYRsrvpcV"
      }
    },
    {
      "cell_type": "code",
      "source": [
        "df[\"con_pren\"].value_counts()"
      ],
      "metadata": {
        "colab": {
          "base_uri": "https://localhost:8080/"
        },
        "id": "9ED0VC1fviiE",
        "outputId": "05fac86c-01a7-464b-bdb4-487c2368cacd"
      },
      "execution_count": 231,
      "outputs": [
        {
          "output_type": "execute_result",
          "data": {
            "text/plain": [
              "99.0    193826\n",
              "9.0     135737\n",
              "8.0     134343\n",
              "6.0     123388\n",
              "7.0     114575\n",
              "5.0      90433\n",
              "4.0      59461\n",
              "10.0     54792\n",
              "3.0      37736\n",
              "1.0      26645\n",
              "2.0      22516\n",
              "12.0     21056\n",
              "0.0      20404\n",
              "11.0      6580\n",
              "15.0      6265\n",
              "13.0      2494\n",
              "14.0      2024\n",
              "20.0      1604\n",
              "16.0       676\n",
              "18.0       674\n",
              "25.0       670\n",
              "17.0       204\n",
              "19.0       148\n",
              "21.0        59\n",
              "22.0        56\n",
              "24.0        53\n",
              "23.0        44\n",
              "Name: con_pren, dtype: int64"
            ]
          },
          "metadata": {},
          "execution_count": 231
        }
      ]
    },
    {
      "cell_type": "markdown",
      "source": [
        "Podemos decir con mucha seguridad que hubo un error en digitación, seguramente los 99 controles fueron en realidad 9 controles, ya que este número es muy común, vamos a corregir esto"
      ],
      "metadata": {
        "id": "b7QpcITbvuOd"
      }
    },
    {
      "cell_type": "code",
      "source": [
        "df[\"con_pren\"] = df[\"con_pren\"].replace(99, 9)"
      ],
      "metadata": {
        "id": "sX4-IGIBv3Kd"
      },
      "execution_count": 232,
      "outputs": []
    },
    {
      "cell_type": "code",
      "source": [
        "#verificamos \n",
        "df[\"con_pren\"].value_counts()"
      ],
      "metadata": {
        "colab": {
          "base_uri": "https://localhost:8080/"
        },
        "id": "B4a3m5kYv-9l",
        "outputId": "6b52e012-fef1-4d54-c5d6-dbcb77204537"
      },
      "execution_count": 234,
      "outputs": [
        {
          "output_type": "execute_result",
          "data": {
            "text/plain": [
              "9.0     329563\n",
              "8.0     134343\n",
              "6.0     123388\n",
              "7.0     114575\n",
              "5.0      90433\n",
              "4.0      59461\n",
              "10.0     54792\n",
              "3.0      37736\n",
              "1.0      26645\n",
              "2.0      22516\n",
              "12.0     21056\n",
              "0.0      20404\n",
              "11.0      6580\n",
              "15.0      6265\n",
              "13.0      2494\n",
              "14.0      2024\n",
              "20.0      1604\n",
              "16.0       676\n",
              "18.0       674\n",
              "25.0       670\n",
              "17.0       204\n",
              "19.0       148\n",
              "21.0        59\n",
              "22.0        56\n",
              "24.0        53\n",
              "23.0        44\n",
              "Name: con_pren, dtype: int64"
            ]
          },
          "metadata": {},
          "execution_count": 234
        }
      ]
    },
    {
      "cell_type": "code",
      "source": [
        "df[\"hij_viv\"].describe()"
      ],
      "metadata": {
        "colab": {
          "base_uri": "https://localhost:8080/"
        },
        "id": "JWwB7L-mwbRV",
        "outputId": "cf4bdb3a-a3c4-4fcd-dd54-c272df0e6077"
      },
      "execution_count": 235,
      "outputs": [
        {
          "output_type": "execute_result",
          "data": {
            "text/plain": [
              "count    1.056463e+06\n",
              "mean     2.160995e+00\n",
              "std      2.979646e+00\n",
              "min      0.000000e+00\n",
              "25%      1.000000e+00\n",
              "50%      2.000000e+00\n",
              "75%      3.000000e+00\n",
              "max      9.900000e+01\n",
              "Name: hij_viv, dtype: float64"
            ]
          },
          "metadata": {},
          "execution_count": 235
        }
      ]
    },
    {
      "cell_type": "markdown",
      "source": [
        "aqui también tenemos una incoherencia, ahondemos"
      ],
      "metadata": {
        "id": "MPUr5OPpwgUc"
      }
    },
    {
      "cell_type": "code",
      "source": [
        "df[\"hij_viv\"].value_counts()"
      ],
      "metadata": {
        "colab": {
          "base_uri": "https://localhost:8080/"
        },
        "id": "ML_U2s9MwlR9",
        "outputId": "7f3c4cd9-e335-4c56-af1f-79f8e54f9c5a"
      },
      "execution_count": 236,
      "outputs": [
        {
          "output_type": "execute_result",
          "data": {
            "text/plain": [
              "1.0     438565\n",
              "2.0     311734\n",
              "3.0     176964\n",
              "4.0      72164\n",
              "5.0      28832\n",
              "6.0      13064\n",
              "7.0       6118\n",
              "8.0       3053\n",
              "0.0       1928\n",
              "9.0       1608\n",
              "10.0       861\n",
              "99.0       803\n",
              "11.0       395\n",
              "12.0       230\n",
              "13.0        95\n",
              "14.0        32\n",
              "15.0        10\n",
              "16.0         3\n",
              "17.0         2\n",
              "18.0         1\n",
              "19.0         1\n",
              "Name: hij_viv, dtype: int64"
            ]
          },
          "metadata": {},
          "execution_count": 236
        }
      ]
    },
    {
      "cell_type": "markdown",
      "source": [
        "Lo más probable es que también hubo un error de digitación, seguramente el 99 debió haber sido 9. esto lo podemos verificar ya que podemos seguir la lógica de la cantidad de hijos fijandonos en el número 8 y la cantidad de personas que tienen 8 hijos vivos."
      ],
      "metadata": {
        "id": "n4LaxESrw20d"
      }
    },
    {
      "cell_type": "code",
      "source": [
        "df[\"hij_viv\"] = df[\"hij_viv\"].replace(99, 9)"
      ],
      "metadata": {
        "id": "y4mmLwmRxYrM"
      },
      "execution_count": 237,
      "outputs": []
    },
    {
      "cell_type": "code",
      "source": [
        "#verificamos\n",
        "df[\"hij_viv\"].value_counts()"
      ],
      "metadata": {
        "colab": {
          "base_uri": "https://localhost:8080/"
        },
        "id": "kqvvw6GNxdPN",
        "outputId": "7ee050ae-88f9-4e1f-9c65-9f45f8c4873b"
      },
      "execution_count": 238,
      "outputs": [
        {
          "output_type": "execute_result",
          "data": {
            "text/plain": [
              "1.0     438565\n",
              "2.0     311734\n",
              "3.0     176964\n",
              "4.0      72164\n",
              "5.0      28832\n",
              "6.0      13064\n",
              "7.0       6118\n",
              "8.0       3053\n",
              "9.0       2411\n",
              "0.0       1928\n",
              "10.0       861\n",
              "11.0       395\n",
              "12.0       230\n",
              "13.0        95\n",
              "14.0        32\n",
              "15.0        10\n",
              "16.0         3\n",
              "17.0         2\n",
              "18.0         1\n",
              "19.0         1\n",
              "Name: hij_viv, dtype: int64"
            ]
          },
          "metadata": {},
          "execution_count": 238
        }
      ]
    },
    {
      "cell_type": "code",
      "source": [
        "df[\"hij_vivm\"].describe()"
      ],
      "metadata": {
        "colab": {
          "base_uri": "https://localhost:8080/"
        },
        "id": "towqfUxqxktN",
        "outputId": "ebe0bbde-cae4-40de-ad21-6ec78a219934"
      },
      "execution_count": 239,
      "outputs": [
        {
          "output_type": "execute_result",
          "data": {
            "text/plain": [
              "count    1.056463e+06\n",
              "mean     2.472677e+01\n",
              "std      4.281621e+01\n",
              "min      0.000000e+00\n",
              "25%      0.000000e+00\n",
              "50%      0.000000e+00\n",
              "75%      3.000000e+00\n",
              "max      9.900000e+01\n",
              "Name: hij_vivm, dtype: float64"
            ]
          },
          "metadata": {},
          "execution_count": 239
        }
      ]
    },
    {
      "cell_type": "markdown",
      "source": [
        "Aquí también hay incoherencias"
      ],
      "metadata": {
        "id": "bHYaGQQgxq9k"
      }
    },
    {
      "cell_type": "code",
      "source": [
        "df[\"hij_vivm\"].value_counts()"
      ],
      "metadata": {
        "colab": {
          "base_uri": "https://localhost:8080/"
        },
        "id": "eBsJk6Fqxvdk",
        "outputId": "27bbf508-f01b-4df4-8e79-5313bc1e73c7"
      },
      "execution_count": 240,
      "outputs": [
        {
          "output_type": "execute_result",
          "data": {
            "text/plain": [
              "0.0     763757\n",
              "99.0    263505\n",
              "1.0      24764\n",
              "2.0       3196\n",
              "3.0        753\n",
              "4.0        240\n",
              "6.0        100\n",
              "5.0         93\n",
              "9.0         20\n",
              "7.0         14\n",
              "10.0        14\n",
              "8.0          6\n",
              "12.0         1\n",
              "Name: hij_vivm, dtype: int64"
            ]
          },
          "metadata": {},
          "execution_count": 240
        }
      ]
    },
    {
      "cell_type": "markdown",
      "source": [
        "En este caso, la cifra de cantidad de hijos muertos 99, en realidad debe haber sido 0."
      ],
      "metadata": {
        "id": "pg2mNjNBy5Z8"
      }
    },
    {
      "cell_type": "code",
      "source": [
        "df[\"hij_vivm\"] = df[\"hij_vivm\"].replace(99, 0)"
      ],
      "metadata": {
        "id": "ZlukVEQZzMaF"
      },
      "execution_count": 241,
      "outputs": []
    },
    {
      "cell_type": "code",
      "source": [
        "#verificamos\n",
        "df[\"hij_vivm\"].value_counts()"
      ],
      "metadata": {
        "colab": {
          "base_uri": "https://localhost:8080/"
        },
        "id": "GTNjIFEJzRmE",
        "outputId": "1ac9f321-91c6-4381-d45c-4f4f3529d368"
      },
      "execution_count": 242,
      "outputs": [
        {
          "output_type": "execute_result",
          "data": {
            "text/plain": [
              "0.0     1027262\n",
              "1.0       24764\n",
              "2.0        3196\n",
              "3.0         753\n",
              "4.0         240\n",
              "6.0         100\n",
              "5.0          93\n",
              "9.0          20\n",
              "7.0          14\n",
              "10.0         14\n",
              "8.0           6\n",
              "12.0          1\n",
              "Name: hij_vivm, dtype: int64"
            ]
          },
          "metadata": {},
          "execution_count": 242
        }
      ]
    },
    {
      "cell_type": "code",
      "source": [
        "df[\"hij_nacm\"].value_counts()"
      ],
      "metadata": {
        "colab": {
          "base_uri": "https://localhost:8080/"
        },
        "id": "L0_f-KFFzbXc",
        "outputId": "1c018c14-8385-428c-c22d-4c144535ec0a"
      },
      "execution_count": 244,
      "outputs": [
        {
          "output_type": "execute_result",
          "data": {
            "text/plain": [
              "0.0     757748\n",
              "99.0    261420\n",
              "1.0      31295\n",
              "2.0       4635\n",
              "3.0        834\n",
              "4.0        212\n",
              "6.0        135\n",
              "5.0         82\n",
              "9.0         39\n",
              "7.0         20\n",
              "10.0        18\n",
              "8.0         12\n",
              "11.0         6\n",
              "12.0         3\n",
              "16.0         2\n",
              "13.0         2\n",
              "Name: hij_nacm, dtype: int64"
            ]
          },
          "metadata": {},
          "execution_count": 244
        }
      ]
    },
    {
      "cell_type": "markdown",
      "source": [
        "En el caso de hijos nacidos muertos pasa lo mismo que en el caso anterior, la cantidad de 99 seguramente era 0, siguiendo la lógica anterior."
      ],
      "metadata": {
        "id": "FU01EaPxzjCN"
      }
    },
    {
      "cell_type": "code",
      "source": [
        "df[\"hij_nacm\"] = df[\"hij_nacm\"].replace(99, 0)"
      ],
      "metadata": {
        "id": "5Vx_EkpYziiN"
      },
      "execution_count": 245,
      "outputs": []
    },
    {
      "cell_type": "code",
      "source": [
        "df[\"hij_nacm\"].value_counts()"
      ],
      "metadata": {
        "colab": {
          "base_uri": "https://localhost:8080/"
        },
        "id": "5ky7MQ7ezypm",
        "outputId": "8716cfe3-b256-489f-9a0b-27938e5f9245"
      },
      "execution_count": 246,
      "outputs": [
        {
          "output_type": "execute_result",
          "data": {
            "text/plain": [
              "0.0     1019168\n",
              "1.0       31295\n",
              "2.0        4635\n",
              "3.0         834\n",
              "4.0         212\n",
              "6.0         135\n",
              "5.0          82\n",
              "9.0          39\n",
              "7.0          20\n",
              "10.0         18\n",
              "8.0          12\n",
              "11.0          6\n",
              "12.0          3\n",
              "16.0          2\n",
              "13.0          2\n",
              "Name: hij_nacm, dtype: int64"
            ]
          },
          "metadata": {},
          "execution_count": 246
        }
      ]
    },
    {
      "cell_type": "code",
      "source": [
        "#Guardamos el data frame con el que vamos a trabajar\n",
        "df.to_csv('datos_limpios_nac_def.csv', index=False)"
      ],
      "metadata": {
        "id": "TtI26wZmz9B0"
      },
      "execution_count": 247,
      "outputs": []
    },
    {
      "cell_type": "code",
      "source": [
        "# datos duplicados\n",
        "df.duplicated().sum()"
      ],
      "metadata": {
        "colab": {
          "base_uri": "https://localhost:8080/"
        },
        "id": "fhUg8jAoBJkm",
        "outputId": "5ab772e3-cc47-4965-f03b-84592fc6ca24"
      },
      "execution_count": 248,
      "outputs": [
        {
          "output_type": "execute_result",
          "data": {
            "text/plain": [
              "9599"
            ]
          },
          "metadata": {},
          "execution_count": 248
        }
      ]
    },
    {
      "cell_type": "code",
      "source": [
        "#Eliminamos los datos duplicados\n",
        "df = df.drop_duplicates()"
      ],
      "metadata": {
        "id": "eYYDBQn5Bgzd"
      },
      "execution_count": 249,
      "outputs": []
    },
    {
      "cell_type": "markdown",
      "source": [
        "## Visuales"
      ],
      "metadata": {
        "id": "5hsmO2grEzgW"
      }
    },
    {
      "cell_type": "code",
      "source": [
        "import matplotlib.pyplot as plt\n",
        "import seaborn as sns\n",
        "import numpy as np"
      ],
      "metadata": {
        "id": "2HRcrfhvFtJu"
      },
      "execution_count": 253,
      "outputs": []
    },
    {
      "cell_type": "code",
      "source": [
        "df.head()"
      ],
      "metadata": {
        "colab": {
          "base_uri": "https://localhost:8080/",
          "height": 270
        },
        "id": "odAvh5PDG0l-",
        "outputId": "0752b7aa-9f5a-4882-ddaf-3bef61d9b8e0"
      },
      "execution_count": 282,
      "outputs": [
        {
          "output_type": "execute_result",
          "data": {
            "text/plain": [
              "       sexo  sem_gest    anio    mes asis_por   p_emb  \\\n",
              "27    Mujer      39.0  2012.0  Enero   Medico  Simple   \n",
              "75   Hombre      40.0  2012.0  Enero   Medico  Simple   \n",
              "118  Hombre      39.0  2012.0  Enero   Medico  Simple   \n",
              "119   Mujer      41.0  2012.0  Enero   Medico  Simple   \n",
              "136  Hombre      38.0  2012.0  Enero   Medico  Simple   \n",
              "\n",
              "                               lugar_ocur provincia   canton parroquia  \\\n",
              "27                   Establecimiento_IESS    Azuay   Cuenca    Cuenca    \n",
              "75   Hospital_clinica_consultorio_privado    Azuay   Cuenca    Cuenca    \n",
              "118  Hospital_clinica_consultorio_privado    Azuay   Cuenca    Cuenca    \n",
              "119  Hospital_clinica_consultorio_privado    Azuay   Cuenca    Cuenca    \n",
              "136  Hospital_clinica_consultorio_privado    Azuay   Cuenca    Cuenca    \n",
              "\n",
              "       area  edad_mad      nac_mad  con_pren  hij_viv  hij_vivm  hij_nacm  \\\n",
              "27   Urbana      33.0  Ecuatoriana       9.0      1.0       0.0       0.0   \n",
              "75   Urbana      25.0  Ecuatoriana       9.0      1.0       0.0       0.0   \n",
              "118  Urbana      32.0  Ecuatoriana       9.0      2.0       0.0       0.0   \n",
              "119  Urbana      26.0  Ecuatoriana       9.0      1.0       0.0       0.0   \n",
              "136  Urbana      33.0  Ecuatoriana       9.0      3.0       0.0       0.0   \n",
              "\n",
              "       etnia  est_civil sabe_leer  niv_inst prov_res  cant_res  parr_res  \\\n",
              "27   Mestiza    Soltera        Si  Superior   Azuay    Cuenca    Cuenca    \n",
              "75   Mestiza     Casada        Si  Superior   Azuay    Cuenca    Cuenca    \n",
              "118  Mestiza     Casada        Si  Superior   Azuay    Cuenca    Cuenca    \n",
              "119  Mestiza  Se ignora        Si  Superior   Azuay    Cuenca    Cuenca    \n",
              "136  Mestiza     Casada        Si  Superior   Canar   Azoques   Azogues    \n",
              "\n",
              "    area_res  Estado  \n",
              "27    Urbana       1  \n",
              "75    Urbana       1  \n",
              "118   Urbana       1  \n",
              "119   Urbana       1  \n",
              "136   Urbana       1  "
            ],
            "text/html": [
              "\n",
              "  <div id=\"df-6b890503-60e4-4352-8784-e49cd9bf5fd8\">\n",
              "    <div class=\"colab-df-container\">\n",
              "      <div>\n",
              "<style scoped>\n",
              "    .dataframe tbody tr th:only-of-type {\n",
              "        vertical-align: middle;\n",
              "    }\n",
              "\n",
              "    .dataframe tbody tr th {\n",
              "        vertical-align: top;\n",
              "    }\n",
              "\n",
              "    .dataframe thead th {\n",
              "        text-align: right;\n",
              "    }\n",
              "</style>\n",
              "<table border=\"1\" class=\"dataframe\">\n",
              "  <thead>\n",
              "    <tr style=\"text-align: right;\">\n",
              "      <th></th>\n",
              "      <th>sexo</th>\n",
              "      <th>sem_gest</th>\n",
              "      <th>anio</th>\n",
              "      <th>mes</th>\n",
              "      <th>asis_por</th>\n",
              "      <th>p_emb</th>\n",
              "      <th>lugar_ocur</th>\n",
              "      <th>provincia</th>\n",
              "      <th>canton</th>\n",
              "      <th>parroquia</th>\n",
              "      <th>area</th>\n",
              "      <th>edad_mad</th>\n",
              "      <th>nac_mad</th>\n",
              "      <th>con_pren</th>\n",
              "      <th>hij_viv</th>\n",
              "      <th>hij_vivm</th>\n",
              "      <th>hij_nacm</th>\n",
              "      <th>etnia</th>\n",
              "      <th>est_civil</th>\n",
              "      <th>sabe_leer</th>\n",
              "      <th>niv_inst</th>\n",
              "      <th>prov_res</th>\n",
              "      <th>cant_res</th>\n",
              "      <th>parr_res</th>\n",
              "      <th>area_res</th>\n",
              "      <th>Estado</th>\n",
              "    </tr>\n",
              "  </thead>\n",
              "  <tbody>\n",
              "    <tr>\n",
              "      <th>27</th>\n",
              "      <td>Mujer</td>\n",
              "      <td>39.0</td>\n",
              "      <td>2012.0</td>\n",
              "      <td>Enero</td>\n",
              "      <td>Medico</td>\n",
              "      <td>Simple</td>\n",
              "      <td>Establecimiento_IESS</td>\n",
              "      <td>Azuay</td>\n",
              "      <td>Cuenca</td>\n",
              "      <td>Cuenca</td>\n",
              "      <td>Urbana</td>\n",
              "      <td>33.0</td>\n",
              "      <td>Ecuatoriana</td>\n",
              "      <td>9.0</td>\n",
              "      <td>1.0</td>\n",
              "      <td>0.0</td>\n",
              "      <td>0.0</td>\n",
              "      <td>Mestiza</td>\n",
              "      <td>Soltera</td>\n",
              "      <td>Si</td>\n",
              "      <td>Superior</td>\n",
              "      <td>Azuay</td>\n",
              "      <td>Cuenca</td>\n",
              "      <td>Cuenca</td>\n",
              "      <td>Urbana</td>\n",
              "      <td>1</td>\n",
              "    </tr>\n",
              "    <tr>\n",
              "      <th>75</th>\n",
              "      <td>Hombre</td>\n",
              "      <td>40.0</td>\n",
              "      <td>2012.0</td>\n",
              "      <td>Enero</td>\n",
              "      <td>Medico</td>\n",
              "      <td>Simple</td>\n",
              "      <td>Hospital_clinica_consultorio_privado</td>\n",
              "      <td>Azuay</td>\n",
              "      <td>Cuenca</td>\n",
              "      <td>Cuenca</td>\n",
              "      <td>Urbana</td>\n",
              "      <td>25.0</td>\n",
              "      <td>Ecuatoriana</td>\n",
              "      <td>9.0</td>\n",
              "      <td>1.0</td>\n",
              "      <td>0.0</td>\n",
              "      <td>0.0</td>\n",
              "      <td>Mestiza</td>\n",
              "      <td>Casada</td>\n",
              "      <td>Si</td>\n",
              "      <td>Superior</td>\n",
              "      <td>Azuay</td>\n",
              "      <td>Cuenca</td>\n",
              "      <td>Cuenca</td>\n",
              "      <td>Urbana</td>\n",
              "      <td>1</td>\n",
              "    </tr>\n",
              "    <tr>\n",
              "      <th>118</th>\n",
              "      <td>Hombre</td>\n",
              "      <td>39.0</td>\n",
              "      <td>2012.0</td>\n",
              "      <td>Enero</td>\n",
              "      <td>Medico</td>\n",
              "      <td>Simple</td>\n",
              "      <td>Hospital_clinica_consultorio_privado</td>\n",
              "      <td>Azuay</td>\n",
              "      <td>Cuenca</td>\n",
              "      <td>Cuenca</td>\n",
              "      <td>Urbana</td>\n",
              "      <td>32.0</td>\n",
              "      <td>Ecuatoriana</td>\n",
              "      <td>9.0</td>\n",
              "      <td>2.0</td>\n",
              "      <td>0.0</td>\n",
              "      <td>0.0</td>\n",
              "      <td>Mestiza</td>\n",
              "      <td>Casada</td>\n",
              "      <td>Si</td>\n",
              "      <td>Superior</td>\n",
              "      <td>Azuay</td>\n",
              "      <td>Cuenca</td>\n",
              "      <td>Cuenca</td>\n",
              "      <td>Urbana</td>\n",
              "      <td>1</td>\n",
              "    </tr>\n",
              "    <tr>\n",
              "      <th>119</th>\n",
              "      <td>Mujer</td>\n",
              "      <td>41.0</td>\n",
              "      <td>2012.0</td>\n",
              "      <td>Enero</td>\n",
              "      <td>Medico</td>\n",
              "      <td>Simple</td>\n",
              "      <td>Hospital_clinica_consultorio_privado</td>\n",
              "      <td>Azuay</td>\n",
              "      <td>Cuenca</td>\n",
              "      <td>Cuenca</td>\n",
              "      <td>Urbana</td>\n",
              "      <td>26.0</td>\n",
              "      <td>Ecuatoriana</td>\n",
              "      <td>9.0</td>\n",
              "      <td>1.0</td>\n",
              "      <td>0.0</td>\n",
              "      <td>0.0</td>\n",
              "      <td>Mestiza</td>\n",
              "      <td>Se ignora</td>\n",
              "      <td>Si</td>\n",
              "      <td>Superior</td>\n",
              "      <td>Azuay</td>\n",
              "      <td>Cuenca</td>\n",
              "      <td>Cuenca</td>\n",
              "      <td>Urbana</td>\n",
              "      <td>1</td>\n",
              "    </tr>\n",
              "    <tr>\n",
              "      <th>136</th>\n",
              "      <td>Hombre</td>\n",
              "      <td>38.0</td>\n",
              "      <td>2012.0</td>\n",
              "      <td>Enero</td>\n",
              "      <td>Medico</td>\n",
              "      <td>Simple</td>\n",
              "      <td>Hospital_clinica_consultorio_privado</td>\n",
              "      <td>Azuay</td>\n",
              "      <td>Cuenca</td>\n",
              "      <td>Cuenca</td>\n",
              "      <td>Urbana</td>\n",
              "      <td>33.0</td>\n",
              "      <td>Ecuatoriana</td>\n",
              "      <td>9.0</td>\n",
              "      <td>3.0</td>\n",
              "      <td>0.0</td>\n",
              "      <td>0.0</td>\n",
              "      <td>Mestiza</td>\n",
              "      <td>Casada</td>\n",
              "      <td>Si</td>\n",
              "      <td>Superior</td>\n",
              "      <td>Canar</td>\n",
              "      <td>Azoques</td>\n",
              "      <td>Azogues</td>\n",
              "      <td>Urbana</td>\n",
              "      <td>1</td>\n",
              "    </tr>\n",
              "  </tbody>\n",
              "</table>\n",
              "</div>\n",
              "      <button class=\"colab-df-convert\" onclick=\"convertToInteractive('df-6b890503-60e4-4352-8784-e49cd9bf5fd8')\"\n",
              "              title=\"Convert this dataframe to an interactive table.\"\n",
              "              style=\"display:none;\">\n",
              "        \n",
              "  <svg xmlns=\"http://www.w3.org/2000/svg\" height=\"24px\"viewBox=\"0 0 24 24\"\n",
              "       width=\"24px\">\n",
              "    <path d=\"M0 0h24v24H0V0z\" fill=\"none\"/>\n",
              "    <path d=\"M18.56 5.44l.94 2.06.94-2.06 2.06-.94-2.06-.94-.94-2.06-.94 2.06-2.06.94zm-11 1L8.5 8.5l.94-2.06 2.06-.94-2.06-.94L8.5 2.5l-.94 2.06-2.06.94zm10 10l.94 2.06.94-2.06 2.06-.94-2.06-.94-.94-2.06-.94 2.06-2.06.94z\"/><path d=\"M17.41 7.96l-1.37-1.37c-.4-.4-.92-.59-1.43-.59-.52 0-1.04.2-1.43.59L10.3 9.45l-7.72 7.72c-.78.78-.78 2.05 0 2.83L4 21.41c.39.39.9.59 1.41.59.51 0 1.02-.2 1.41-.59l7.78-7.78 2.81-2.81c.8-.78.8-2.07 0-2.86zM5.41 20L4 18.59l7.72-7.72 1.47 1.35L5.41 20z\"/>\n",
              "  </svg>\n",
              "      </button>\n",
              "      \n",
              "  <style>\n",
              "    .colab-df-container {\n",
              "      display:flex;\n",
              "      flex-wrap:wrap;\n",
              "      gap: 12px;\n",
              "    }\n",
              "\n",
              "    .colab-df-convert {\n",
              "      background-color: #E8F0FE;\n",
              "      border: none;\n",
              "      border-radius: 50%;\n",
              "      cursor: pointer;\n",
              "      display: none;\n",
              "      fill: #1967D2;\n",
              "      height: 32px;\n",
              "      padding: 0 0 0 0;\n",
              "      width: 32px;\n",
              "    }\n",
              "\n",
              "    .colab-df-convert:hover {\n",
              "      background-color: #E2EBFA;\n",
              "      box-shadow: 0px 1px 2px rgba(60, 64, 67, 0.3), 0px 1px 3px 1px rgba(60, 64, 67, 0.15);\n",
              "      fill: #174EA6;\n",
              "    }\n",
              "\n",
              "    [theme=dark] .colab-df-convert {\n",
              "      background-color: #3B4455;\n",
              "      fill: #D2E3FC;\n",
              "    }\n",
              "\n",
              "    [theme=dark] .colab-df-convert:hover {\n",
              "      background-color: #434B5C;\n",
              "      box-shadow: 0px 1px 3px 1px rgba(0, 0, 0, 0.15);\n",
              "      filter: drop-shadow(0px 1px 2px rgba(0, 0, 0, 0.3));\n",
              "      fill: #FFFFFF;\n",
              "    }\n",
              "  </style>\n",
              "\n",
              "      <script>\n",
              "        const buttonEl =\n",
              "          document.querySelector('#df-6b890503-60e4-4352-8784-e49cd9bf5fd8 button.colab-df-convert');\n",
              "        buttonEl.style.display =\n",
              "          google.colab.kernel.accessAllowed ? 'block' : 'none';\n",
              "\n",
              "        async function convertToInteractive(key) {\n",
              "          const element = document.querySelector('#df-6b890503-60e4-4352-8784-e49cd9bf5fd8');\n",
              "          const dataTable =\n",
              "            await google.colab.kernel.invokeFunction('convertToInteractive',\n",
              "                                                     [key], {});\n",
              "          if (!dataTable) return;\n",
              "\n",
              "          const docLinkHtml = 'Like what you see? Visit the ' +\n",
              "            '<a target=\"_blank\" href=https://colab.research.google.com/notebooks/data_table.ipynb>data table notebook</a>'\n",
              "            + ' to learn more about interactive tables.';\n",
              "          element.innerHTML = '';\n",
              "          dataTable['output_type'] = 'display_data';\n",
              "          await google.colab.output.renderOutput(dataTable, element);\n",
              "          const docLink = document.createElement('div');\n",
              "          docLink.innerHTML = docLinkHtml;\n",
              "          element.appendChild(docLink);\n",
              "        }\n",
              "      </script>\n",
              "    </div>\n",
              "  </div>\n",
              "  "
            ]
          },
          "metadata": {},
          "execution_count": 282
        }
      ]
    },
    {
      "cell_type": "code",
      "source": [
        "dfDefunc = df.loc[df[\"Estado\"] == 0,:]\n",
        "dfNac = df.loc[df[\"Estado\"] == 1,:]"
      ],
      "metadata": {
        "id": "HL6h6VTKGnm-"
      },
      "execution_count": 283,
      "outputs": []
    },
    {
      "cell_type": "code",
      "source": [
        "plt.hist(dfDefunc[\"anio\"], label = \"Defuncón\", bins=20, edgecolor = \"black\" , alpha = 0.5, density = True)\n",
        "plt.hist(dfNac[\"anio\"], label= \"Nacimientos\", bins=20, edgecolor = \"black\" , alpha=0.5, density = True)\n",
        "plt.title(\"Nacimientos y Defunciones\")\n",
        "plt.xlabel(\"Año\")\n",
        "plt.ylabel(\"Frecuencia\")\n",
        "plt.xlim(left=2011, right=2016)\n",
        "plt.legend(loc=(1.02, 0));"
      ],
      "metadata": {
        "colab": {
          "base_uri": "https://localhost:8080/",
          "height": 472
        },
        "id": "4SfDM03BGlrG",
        "outputId": "43940ae6-6008-4903-eebe-c4dac756c56c"
      },
      "execution_count": 290,
      "outputs": [
        {
          "output_type": "display_data",
          "data": {
            "text/plain": [
              "<Figure size 640x480 with 1 Axes>"
            ],
            "image/png": "[encoded data removed]"
          },
          "metadata": {}
        }
      ]
    },
    {
      "cell_type": "markdown",
      "source": [
        "En este gráfico se puede observar la distribución de Nacimientos y Defunciones fetales. Se puede observar que la tasa de nacimientos tiende al aumento "
      ],
      "metadata": {
        "id": "V_ErfeZ0N27n"
      }
    },
    {
      "cell_type": "code",
      "source": [
        "plt.hist(dfDefunc[\"edad_mad\"], label = \"Defuncón\", bins=20, edgecolor = \"black\" , alpha = 0.5, density = True)\n",
        "plt.hist(dfNac[\"edad_mad\"], label= \"Nacimientos\", bins=20, edgecolor = \"black\" , alpha=0.5, density = True)\n",
        "plt.title(\"Distribución de la edad de las madres\")\n",
        "plt.xlabel(\"Edad de las madres\")\n",
        "plt.ylabel(\"Frecuencia\")\n",
        "#plt.xlim(left=2011, right=2016)\n",
        "plt.legend(loc=(1.02, 0));"
      ],
      "metadata": {
        "colab": {
          "base_uri": "https://localhost:8080/",
          "height": 472
        },
        "id": "um83QuxgON7f",
        "outputId": "927d59e2-9c4e-4b3c-97c2-57cfb13c49d0"
      },
      "execution_count": 292,
      "outputs": [
        {
          "output_type": "display_data",
          "data": {
            "text/plain": [
              "<Figure size 640x480 with 1 Axes>"
            ],
            "image/png": "[encoded data removed]"
          },
          "metadata": {}
        }
      ]
    },
    {
      "cell_type": "markdown",
      "source": [
        "Se puede observar que las edades de las madres de niños nacidos tienen su mayor frecuencia entre 18 y 28 años de edad aproximadamente. Algo muy interesante es que la distribución de edades de las madres de niños nacidos y niños fallecidos son muy parecidos, sin embargo hay una diferencia muy marcada en la distribución de las defunciones, se puede ver que hay pocos registros de defunciones cerca a los 25 años de edad. Se podría decir que es la edad en la que menos defunciones fetales se registan."
      ],
      "metadata": {
        "id": "9MUnm2j9Ofxn"
      }
    },
    {
      "cell_type": "code",
      "source": [
        "dfDefunc[\"provincia\"].value_counts().plot(kind=\"bar\")\n",
        "plt.xlabel(\"Provincia\")\n",
        "plt.title(\"Cantidad de defunciones por provincia\")\n",
        "plt.xticks(rotation=90)\n",
        "plt.ylabel(\"Count\")\n",
        "plt.show()"
      ],
      "metadata": {
        "colab": {
          "base_uri": "https://localhost:8080/",
          "height": 681
        },
        "id": "mSC1e4MCPkuq",
        "outputId": "4c46f9d4-9fbe-4c48-b084-938c3a16b47f"
      },
      "execution_count": 296,
      "outputs": [
        {
          "output_type": "display_data",
          "data": {
            "text/plain": [
              "<Figure size 640x480 with 1 Axes>"
            ],
            "image/png": "[encoded data removed]"
          },
          "metadata": {}
        }
      ]
    },
    {
      "cell_type": "code",
      "source": [
        "dfNac[\"provincia\"].value_counts().plot(kind=\"bar\")\n",
        "plt.xlabel(\"Provincia\")\n",
        "plt.title(\"Cantidad de nacimientos por provincia\")\n",
        "plt.xticks(rotation=90)\n",
        "plt.ylabel(\"Count\")\n",
        "plt.show()"
      ],
      "metadata": {
        "colab": {
          "base_uri": "https://localhost:8080/",
          "height": 681
        },
        "id": "xeQVz7x6QwNP",
        "outputId": "14cbd1fc-c20f-49f3-9356-3b819c87ea13"
      },
      "execution_count": 297,
      "outputs": [
        {
          "output_type": "display_data",
          "data": {
            "text/plain": [
              "<Figure size 640x480 with 1 Axes>"
            ],
            "image/png": "[encoded data removed]"
          },
          "metadata": {}
        }
      ]
    },
    {
      "cell_type": "markdown",
      "source": [
        "Se puede observar que Pichincha y Guayas registran la mayor cantidad de defunciones y nacimientos. Las provincias con menor defunción se registran en la región oriental Napo Sucumbíos y Galápagos"
      ],
      "metadata": {
        "id": "QpXiRow-RTT3"
      }
    },
    {
      "cell_type": "code",
      "source": [
        "dfDefunc[\"est_civil\"].value_counts().plot(kind=\"bar\")\n",
        "plt.xlabel(\"Estado civil\")\n",
        "plt.title(\"Cantidad de defunciones por estado civil\")\n",
        "plt.xticks(rotation=90)\n",
        "plt.ylabel(\"Count\")\n",
        "plt.show()"
      ],
      "metadata": {
        "colab": {
          "base_uri": "https://localhost:8080/",
          "height": 532
        },
        "id": "lbVlAjVNR46P",
        "outputId": "dbfebac9-0644-4a65-ef65-aaeca05da910"
      },
      "execution_count": 299,
      "outputs": [
        {
          "output_type": "display_data",
          "data": {
            "text/plain": [
              "<Figure size 640x480 with 1 Axes>"
            ],
            "image/png": "[encoded data removed]"
          },
          "metadata": {}
        }
      ]
    },
    {
      "cell_type": "markdown",
      "source": [
        "La mayor cantidad de registros de defunción lo tienen las personas unidas."
      ],
      "metadata": {
        "id": "AavlyBmhSQwY"
      }
    },
    {
      "cell_type": "code",
      "source": [
        "dfDefunc[\"etnia\"].value_counts().plot(kind=\"bar\")\n",
        "plt.xlabel(\"Etnia\")\n",
        "plt.title(\"Cantidad de defunciones por etnia\")\n",
        "plt.xticks(rotation=90)\n",
        "plt.ylabel(\"Count\")\n",
        "plt.show()"
      ],
      "metadata": {
        "colab": {
          "base_uri": "https://localhost:8080/",
          "height": 576
        },
        "id": "LV8AGp76SZNg",
        "outputId": "7ac5c3b7-8de2-476f-ab59-ddcc5ce7a080"
      },
      "execution_count": 300,
      "outputs": [
        {
          "output_type": "display_data",
          "data": {
            "text/plain": [
              "<Figure size 640x480 with 1 Axes>"
            ],
            "image/png": "[encoded data removed]"
          },
          "metadata": {}
        }
      ]
    },
    {
      "cell_type": "markdown",
      "source": [
        "Es razonable encontrar una gran cantidad de defunciones de la etnia mestiza, ya que son mayoría en el país"
      ],
      "metadata": {
        "id": "mGJbmAgJShXf"
      }
    },
    {
      "cell_type": "code",
      "source": [
        "dfDefunc[\"niv_inst\"].value_counts().plot(kind=\"bar\")\n",
        "plt.xlabel(\"Nivel de instrucción\")\n",
        "plt.title(\"Cantidad de defunciones por nivel de instrucción\")\n",
        "plt.xticks(rotation=90)\n",
        "plt.ylabel(\"Count\")\n",
        "plt.show()"
      ],
      "metadata": {
        "colab": {
          "base_uri": "https://localhost:8080/",
          "height": 634
        },
        "id": "xxwQYX_bSqiP",
        "outputId": "76ccfb1a-0879-46ee-d635-c29c936d8f22"
      },
      "execution_count": 301,
      "outputs": [
        {
          "output_type": "display_data",
          "data": {
            "text/plain": [
              "<Figure size 640x480 with 1 Axes>"
            ],
            "image/png": "[encoded data removed]"
          },
          "metadata": {}
        }
      ]
    },
    {
      "cell_type": "markdown",
      "source": [
        "Se puede observar que hay una mayoría de madres con instrucción secundaria y primaria que han perdido un bebé."
      ],
      "metadata": {
        "id": "0RhYxzNWS3Vn"
      }
    },
    {
      "cell_type": "code",
      "source": [
        "df.head()"
      ],
      "metadata": {
        "colab": {
          "base_uri": "https://localhost:8080/",
          "height": 270
        },
        "id": "-iGtla_AR9wH",
        "outputId": "6f194c12-50af-4436-b68f-243738e69168"
      },
      "execution_count": 298,
      "outputs": [
        {
          "output_type": "execute_result",
          "data": {
            "text/plain": [
              "       sexo  sem_gest    anio    mes asis_por   p_emb  \\\n",
              "27    Mujer      39.0  2012.0  Enero   Medico  Simple   \n",
              "75   Hombre      40.0  2012.0  Enero   Medico  Simple   \n",
              "118  Hombre      39.0  2012.0  Enero   Medico  Simple   \n",
              "119   Mujer      41.0  2012.0  Enero   Medico  Simple   \n",
              "136  Hombre      38.0  2012.0  Enero   Medico  Simple   \n",
              "\n",
              "                               lugar_ocur provincia   canton parroquia  \\\n",
              "27                   Establecimiento_IESS    Azuay   Cuenca    Cuenca    \n",
              "75   Hospital_clinica_consultorio_privado    Azuay   Cuenca    Cuenca    \n",
              "118  Hospital_clinica_consultorio_privado    Azuay   Cuenca    Cuenca    \n",
              "119  Hospital_clinica_consultorio_privado    Azuay   Cuenca    Cuenca    \n",
              "136  Hospital_clinica_consultorio_privado    Azuay   Cuenca    Cuenca    \n",
              "\n",
              "       area  edad_mad      nac_mad  con_pren  hij_viv  hij_vivm  hij_nacm  \\\n",
              "27   Urbana      33.0  Ecuatoriana       9.0      1.0       0.0       0.0   \n",
              "75   Urbana      25.0  Ecuatoriana       9.0      1.0       0.0       0.0   \n",
              "118  Urbana      32.0  Ecuatoriana       9.0      2.0       0.0       0.0   \n",
              "119  Urbana      26.0  Ecuatoriana       9.0      1.0       0.0       0.0   \n",
              "136  Urbana      33.0  Ecuatoriana       9.0      3.0       0.0       0.0   \n",
              "\n",
              "       etnia  est_civil sabe_leer  niv_inst prov_res  cant_res  parr_res  \\\n",
              "27   Mestiza    Soltera        Si  Superior   Azuay    Cuenca    Cuenca    \n",
              "75   Mestiza     Casada        Si  Superior   Azuay    Cuenca    Cuenca    \n",
              "118  Mestiza     Casada        Si  Superior   Azuay    Cuenca    Cuenca    \n",
              "119  Mestiza  Se ignora        Si  Superior   Azuay    Cuenca    Cuenca    \n",
              "136  Mestiza     Casada        Si  Superior   Canar   Azoques   Azogues    \n",
              "\n",
              "    area_res  Estado  \n",
              "27    Urbana       1  \n",
              "75    Urbana       1  \n",
              "118   Urbana       1  \n",
              "119   Urbana       1  \n",
              "136   Urbana       1  "
            ],
            "text/html": [
              "\n",
              "  <div id=\"df-bd4cca82-cf33-4aaf-992d-df5b24d12d7d\">\n",
              "    <div class=\"colab-df-container\">\n",
              "      <div>\n",
              "<style scoped>\n",
              "    .dataframe tbody tr th:only-of-type {\n",
              "        vertical-align: middle;\n",
              "    }\n",
              "\n",
              "    .dataframe tbody tr th {\n",
              "        vertical-align: top;\n",
              "    }\n",
              "\n",
              "    .dataframe thead th {\n",
              "        text-align: right;\n",
              "    }\n",
              "</style>\n",
              "<table border=\"1\" class=\"dataframe\">\n",
              "  <thead>\n",
              "    <tr style=\"text-align: right;\">\n",
              "      <th></th>\n",
              "      <th>sexo</th>\n",
              "      <th>sem_gest</th>\n",
              "      <th>anio</th>\n",
              "      <th>mes</th>\n",
              "      <th>asis_por</th>\n",
              "      <th>p_emb</th>\n",
              "      <th>lugar_ocur</th>\n",
              "      <th>provincia</th>\n",
              "      <th>canton</th>\n",
              "      <th>parroquia</th>\n",
              "      <th>area</th>\n",
              "      <th>edad_mad</th>\n",
              "      <th>nac_mad</th>\n",
              "      <th>con_pren</th>\n",
              "      <th>hij_viv</th>\n",
              "      <th>hij_vivm</th>\n",
              "      <th>hij_nacm</th>\n",
              "      <th>etnia</th>\n",
              "      <th>est_civil</th>\n",
              "      <th>sabe_leer</th>\n",
              "      <th>niv_inst</th>\n",
              "      <th>prov_res</th>\n",
              "      <th>cant_res</th>\n",
              "      <th>parr_res</th>\n",
              "      <th>area_res</th>\n",
              "      <th>Estado</th>\n",
              "    </tr>\n",
              "  </thead>\n",
              "  <tbody>\n",
              "    <tr>\n",
              "      <th>27</th>\n",
              "      <td>Mujer</td>\n",
              "      <td>39.0</td>\n",
              "      <td>2012.0</td>\n",
              "      <td>Enero</td>\n",
              "      <td>Medico</td>\n",
              "      <td>Simple</td>\n",
              "      <td>Establecimiento_IESS</td>\n",
              "      <td>Azuay</td>\n",
              "      <td>Cuenca</td>\n",
              "      <td>Cuenca</td>\n",
              "      <td>Urbana</td>\n",
              "      <td>33.0</td>\n",
              "      <td>Ecuatoriana</td>\n",
              "      <td>9.0</td>\n",
              "      <td>1.0</td>\n",
              "      <td>0.0</td>\n",
              "      <td>0.0</td>\n",
              "      <td>Mestiza</td>\n",
              "      <td>Soltera</td>\n",
              "      <td>Si</td>\n",
              "      <td>Superior</td>\n",
              "      <td>Azuay</td>\n",
              "      <td>Cuenca</td>\n",
              "      <td>Cuenca</td>\n",
              "      <td>Urbana</td>\n",
              "      <td>1</td>\n",
              "    </tr>\n",
              "    <tr>\n",
              "      <th>75</th>\n",
              "      <td>Hombre</td>\n",
              "      <td>40.0</td>\n",
              "      <td>2012.0</td>\n",
              "      <td>Enero</td>\n",
              "      <td>Medico</td>\n",
              "      <td>Simple</td>\n",
              "      <td>Hospital_clinica_consultorio_privado</td>\n",
              "      <td>Azuay</td>\n",
              "      <td>Cuenca</td>\n",
              "      <td>Cuenca</td>\n",
              "      <td>Urbana</td>\n",
              "      <td>25.0</td>\n",
              "      <td>Ecuatoriana</td>\n",
              "      <td>9.0</td>\n",
              "      <td>1.0</td>\n",
              "      <td>0.0</td>\n",
              "      <td>0.0</td>\n",
              "      <td>Mestiza</td>\n",
              "      <td>Casada</td>\n",
              "      <td>Si</td>\n",
              "      <td>Superior</td>\n",
              "      <td>Azuay</td>\n",
              "      <td>Cuenca</td>\n",
              "      <td>Cuenca</td>\n",
              "      <td>Urbana</td>\n",
              "      <td>1</td>\n",
              "    </tr>\n",
              "    <tr>\n",
              "      <th>118</th>\n",
              "      <td>Hombre</td>\n",
              "      <td>39.0</td>\n",
              "      <td>2012.0</td>\n",
              "      <td>Enero</td>\n",
              "      <td>Medico</td>\n",
              "      <td>Simple</td>\n",
              "      <td>Hospital_clinica_consultorio_privado</td>\n",
              "      <td>Azuay</td>\n",
              "      <td>Cuenca</td>\n",
              "      <td>Cuenca</td>\n",
              "      <td>Urbana</td>\n",
              "      <td>32.0</td>\n",
              "      <td>Ecuatoriana</td>\n",
              "      <td>9.0</td>\n",
              "      <td>2.0</td>\n",
              "      <td>0.0</td>\n",
              "      <td>0.0</td>\n",
              "      <td>Mestiza</td>\n",
              "      <td>Casada</td>\n",
              "      <td>Si</td>\n",
              "      <td>Superior</td>\n",
              "      <td>Azuay</td>\n",
              "      <td>Cuenca</td>\n",
              "      <td>Cuenca</td>\n",
              "      <td>Urbana</td>\n",
              "      <td>1</td>\n",
              "    </tr>\n",
              "    <tr>\n",
              "      <th>119</th>\n",
              "      <td>Mujer</td>\n",
              "      <td>41.0</td>\n",
              "      <td>2012.0</td>\n",
              "      <td>Enero</td>\n",
              "      <td>Medico</td>\n",
              "      <td>Simple</td>\n",
              "      <td>Hospital_clinica_consultorio_privado</td>\n",
              "      <td>Azuay</td>\n",
              "      <td>Cuenca</td>\n",
              "      <td>Cuenca</td>\n",
              "      <td>Urbana</td>\n",
              "      <td>26.0</td>\n",
              "      <td>Ecuatoriana</td>\n",
              "      <td>9.0</td>\n",
              "      <td>1.0</td>\n",
              "      <td>0.0</td>\n",
              "      <td>0.0</td>\n",
              "      <td>Mestiza</td>\n",
              "      <td>Se ignora</td>\n",
              "      <td>Si</td>\n",
              "      <td>Superior</td>\n",
              "      <td>Azuay</td>\n",
              "      <td>Cuenca</td>\n",
              "      <td>Cuenca</td>\n",
              "      <td>Urbana</td>\n",
              "      <td>1</td>\n",
              "    </tr>\n",
              "    <tr>\n",
              "      <th>136</th>\n",
              "      <td>Hombre</td>\n",
              "      <td>38.0</td>\n",
              "      <td>2012.0</td>\n",
              "      <td>Enero</td>\n",
              "      <td>Medico</td>\n",
              "      <td>Simple</td>\n",
              "      <td>Hospital_clinica_consultorio_privado</td>\n",
              "      <td>Azuay</td>\n",
              "      <td>Cuenca</td>\n",
              "      <td>Cuenca</td>\n",
              "      <td>Urbana</td>\n",
              "      <td>33.0</td>\n",
              "      <td>Ecuatoriana</td>\n",
              "      <td>9.0</td>\n",
              "      <td>3.0</td>\n",
              "      <td>0.0</td>\n",
              "      <td>0.0</td>\n",
              "      <td>Mestiza</td>\n",
              "      <td>Casada</td>\n",
              "      <td>Si</td>\n",
              "      <td>Superior</td>\n",
              "      <td>Canar</td>\n",
              "      <td>Azoques</td>\n",
              "      <td>Azogues</td>\n",
              "      <td>Urbana</td>\n",
              "      <td>1</td>\n",
              "    </tr>\n",
              "  </tbody>\n",
              "</table>\n",
              "</div>\n",
              "      <button class=\"colab-df-convert\" onclick=\"convertToInteractive('df-bd4cca82-cf33-4aaf-992d-df5b24d12d7d')\"\n",
              "              title=\"Convert this dataframe to an interactive table.\"\n",
              "              style=\"display:none;\">\n",
              "        \n",
              "  <svg xmlns=\"http://www.w3.org/2000/svg\" height=\"24px\"viewBox=\"0 0 24 24\"\n",
              "       width=\"24px\">\n",
              "    <path d=\"M0 0h24v24H0V0z\" fill=\"none\"/>\n",
              "    <path d=\"M18.56 5.44l.94 2.06.94-2.06 2.06-.94-2.06-.94-.94-2.06-.94 2.06-2.06.94zm-11 1L8.5 8.5l.94-2.06 2.06-.94-2.06-.94L8.5 2.5l-.94 2.06-2.06.94zm10 10l.94 2.06.94-2.06 2.06-.94-2.06-.94-.94-2.06-.94 2.06-2.06.94z\"/><path d=\"M17.41 7.96l-1.37-1.37c-.4-.4-.92-.59-1.43-.59-.52 0-1.04.2-1.43.59L10.3 9.45l-7.72 7.72c-.78.78-.78 2.05 0 2.83L4 21.41c.39.39.9.59 1.41.59.51 0 1.02-.2 1.41-.59l7.78-7.78 2.81-2.81c.8-.78.8-2.07 0-2.86zM5.41 20L4 18.59l7.72-7.72 1.47 1.35L5.41 20z\"/>\n",
              "  </svg>\n",
              "      </button>\n",
              "      \n",
              "  <style>\n",
              "    .colab-df-container {\n",
              "      display:flex;\n",
              "      flex-wrap:wrap;\n",
              "      gap: 12px;\n",
              "    }\n",
              "\n",
              "    .colab-df-convert {\n",
              "      background-color: #E8F0FE;\n",
              "      border: none;\n",
              "      border-radius: 50%;\n",
              "      cursor: pointer;\n",
              "      display: none;\n",
              "      fill: #1967D2;\n",
              "      height: 32px;\n",
              "      padding: 0 0 0 0;\n",
              "      width: 32px;\n",
              "    }\n",
              "\n",
              "    .colab-df-convert:hover {\n",
              "      background-color: #E2EBFA;\n",
              "      box-shadow: 0px 1px 2px rgba(60, 64, 67, 0.3), 0px 1px 3px 1px rgba(60, 64, 67, 0.15);\n",
              "      fill: #174EA6;\n",
              "    }\n",
              "\n",
              "    [theme=dark] .colab-df-convert {\n",
              "      background-color: #3B4455;\n",
              "      fill: #D2E3FC;\n",
              "    }\n",
              "\n",
              "    [theme=dark] .colab-df-convert:hover {\n",
              "      background-color: #434B5C;\n",
              "      box-shadow: 0px 1px 3px 1px rgba(0, 0, 0, 0.15);\n",
              "      filter: drop-shadow(0px 1px 2px rgba(0, 0, 0, 0.3));\n",
              "      fill: #FFFFFF;\n",
              "    }\n",
              "  </style>\n",
              "\n",
              "      <script>\n",
              "        const buttonEl =\n",
              "          document.querySelector('#df-bd4cca82-cf33-4aaf-992d-df5b24d12d7d button.colab-df-convert');\n",
              "        buttonEl.style.display =\n",
              "          google.colab.kernel.accessAllowed ? 'block' : 'none';\n",
              "\n",
              "        async function convertToInteractive(key) {\n",
              "          const element = document.querySelector('#df-bd4cca82-cf33-4aaf-992d-df5b24d12d7d');\n",
              "          const dataTable =\n",
              "            await google.colab.kernel.invokeFunction('convertToInteractive',\n",
              "                                                     [key], {});\n",
              "          if (!dataTable) return;\n",
              "\n",
              "          const docLinkHtml = 'Like what you see? Visit the ' +\n",
              "            '<a target=\"_blank\" href=https://colab.research.google.com/notebooks/data_table.ipynb>data table notebook</a>'\n",
              "            + ' to learn more about interactive tables.';\n",
              "          element.innerHTML = '';\n",
              "          dataTable['output_type'] = 'display_data';\n",
              "          await google.colab.output.renderOutput(dataTable, element);\n",
              "          const docLink = document.createElement('div');\n",
              "          docLink.innerHTML = docLinkHtml;\n",
              "          element.appendChild(docLink);\n",
              "        }\n",
              "      </script>\n",
              "    </div>\n",
              "  </div>\n",
              "  "
            ]
          },
          "metadata": {},
          "execution_count": 298
        }
      ]
    },
    {
      "cell_type": "code",
      "source": [
        "fig, axes = plt.subplots(nrows = 1, ncols = 1, figsize = (8,5))\n",
        "boxplots = axes.boxplot([dfDefunc[\"sem_gest\"],dfNac[\"sem_gest\"]],\n",
        "           notch = True,\n",
        "           labels=['Defunción', 'Nacimientos'],\n",
        "           widths = .7,\n",
        "           patch_artist=True,\n",
        "           medianprops = dict(linestyle='-', linewidth=2, color='Yellow'),\n",
        "           boxprops = dict(linestyle='--', linewidth=2, color='Black', facecolor = 'blue', alpha = .4)\n",
        "          );\n",
        "# The more you understand any library, the more you can do\n",
        "boxplot1 = boxplots['boxes'][0]\n",
        "boxplot1.set_facecolor('red')\n",
        "#plt.xlabel('diagnosis', fontsize = 20);\n",
        "plt.ylabel('Semanas de gestación', fontsize = 15);\n",
        "plt.xticks(fontsize = 16);\n",
        "plt.yticks(fontsize = 16);"
      ],
      "metadata": {
        "colab": {
          "base_uri": "https://localhost:8080/",
          "height": 451
        },
        "id": "yRuXhu5nTSIX",
        "outputId": "20165596-1c35-419b-966d-8ccd0d559f06"
      },
      "execution_count": 302,
      "outputs": [
        {
          "output_type": "display_data",
          "data": {
            "text/plain": [
              "<Figure size 800x500 with 1 Axes>"
            ],
            "image/png": "[encoded data removed]"
          },
          "metadata": {}
        }
      ]
    },
    {
      "cell_type": "markdown",
      "source": [
        "Aquí se puede ver los nacimientos se registran al rededor de 40 semanas de gestación lo cual es bastante obvio. En el caso de las defunciones hay un rango bastante grande de semanas de gestación. "
      ],
      "metadata": {
        "id": "hoYxlZs6Ttpv"
      }
    },
    {
      "cell_type": "code",
      "source": [
        "fig, axes = plt.subplots(nrows = 1, ncols = 1, figsize = (8,5))\n",
        "boxplots = axes.boxplot([dfDefunc[\"con_pren\"],dfNac[\"con_pren\"]],\n",
        "           notch = True,\n",
        "           labels=['Defunción', 'Nacimientos'],\n",
        "           widths = .7,\n",
        "           patch_artist=True,\n",
        "           medianprops = dict(linestyle='-', linewidth=2, color='Yellow'),\n",
        "           boxprops = dict(linestyle='--', linewidth=2, color='Black', facecolor = 'blue', alpha = .4)\n",
        "          );\n",
        "# The more you understand any library, the more you can do\n",
        "boxplot1 = boxplots['boxes'][0]\n",
        "boxplot1.set_facecolor('red')\n",
        "#plt.xlabel('diagnosis', fontsize = 20);\n",
        "plt.ylabel('Veces de control prenatal', fontsize = 15);\n",
        "plt.xticks(fontsize = 16);\n",
        "plt.yticks(fontsize = 16);"
      ],
      "metadata": {
        "colab": {
          "base_uri": "https://localhost:8080/",
          "height": 451
        },
        "id": "5nSWMNAnTsrH",
        "outputId": "32b6cbeb-e81a-42a7-8f48-87ca559a9648"
      },
      "execution_count": 303,
      "outputs": [
        {
          "output_type": "display_data",
          "data": {
            "text/plain": [
              "<Figure size 800x500 with 1 Axes>"
            ],
            "image/png": "[encoded data removed]"
          },
          "metadata": {}
        }
      ]
    },
    {
      "cell_type": "markdown",
      "source": [
        "Se puede observar que en general en el caso de las defunciones se ve que las madres acuden a los centros médicos para un control menos veces que en el caso de los nacimientos, y de hecho se puede ver que en primer quintil de ambos grupos tiene una gran diferencia."
      ],
      "metadata": {
        "id": "tzXoJBauUj-o"
      }
    },
    {
      "cell_type": "code",
      "source": [
        "#mapa de calor\n",
        "corr = df.corr()\n",
        "sns.heatmap(corr, cmap = 'Greens', annot = True)"
      ],
      "metadata": {
        "colab": {
          "base_uri": "https://localhost:8080/",
          "height": 512
        },
        "id": "73Wx066BUjoQ",
        "outputId": "30e0c2f7-bf18-445e-c5bf-22c18a208bad"
      },
      "execution_count": 304,
      "outputs": [
        {
          "output_type": "execute_result",
          "data": {
            "text/plain": [
              "<Axes: >"
            ]
          },
          "metadata": {},
          "execution_count": 304
        },
        {
          "output_type": "display_data",
          "data": {
            "text/plain": [
              "<Figure size 640x480 with 2 Axes>"
            ],
            "image/png": "[encoded data removed]"
          },
          "metadata": {}
        }
      ]
    },
    {
      "cell_type": "markdown",
      "source": [
        "Dentro de los parámetros de correlación podemos ver que las semanas de gestación están muy correlacionadas con elnacimiento del niño, lo cual es muy obvio. También hay una buena correlación entre las variables de edad de la madre y la cantidad de hijos vivos, lo cual es bastante obvio también. Hay una correlación negativa entre la cantidad de hijos nacidos muertos y el estado, lo cual es razonable, al parecer la muerte de un recien nacido también puede deverse a un antescedente de la cantidad de hijos nacidos muertos de la madre. "
      ],
      "metadata": {
        "id": "tpCmZDmpVckI"
      }
    }
  ]
}